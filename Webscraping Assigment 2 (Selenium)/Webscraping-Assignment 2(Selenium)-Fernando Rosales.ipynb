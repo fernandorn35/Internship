{
 "cells": [
  {
   "cell_type": "markdown",
   "id": "1f0028a4",
   "metadata": {},
   "source": [
    "These resources were very helpful:\n",
    "* https://www.youtube.com/watch?v=iT2iMkPou0M (Webscraping with Selenium a very popular Latin American E-commerce website using xpath elements, very helpful!)\n"
   ]
  },
  {
   "cell_type": "markdown",
   "id": "24765961",
   "metadata": {},
   "source": [
    "### Q1: Write a python program to scrape data for “Data Analyst” Job position in “Bangalore” location. \n",
    "You have to scrape the job-title, job-location, company_name, experience_required. You have to scrape first 10 jobs data."
   ]
  },
  {
   "cell_type": "code",
   "execution_count": null,
   "id": "3c1ea440",
   "metadata": {},
   "outputs": [],
   "source": [
    "list_1 = [['Data Analyst', 'Bangalore']]\n",
    "from selenium import webdriver\n",
    "from selenium.webdriver.common.keys import Keys\n",
    "from selenium.webdriver.chrome.options import Options\n",
    "from time import sleep"
   ]
  },
  {
   "cell_type": "markdown",
   "id": "c9000e97",
   "metadata": {},
   "source": [
    "These resources were valuable to finally access the website to simulate what a normal browser would do:\n",
    "* https://stackoverflow.com/questions/64180441/access-denied-page-with-selenium (Post:\"Access Denied Page with selenium\", Answer by Prayson W. Daniel)\n",
    "* https://stackoverflow.com/questions/63972523/selenium-access-denied"
   ]
  },
  {
   "cell_type": "markdown",
   "id": "87b287e6",
   "metadata": {},
   "source": [
    "*****************************************************************************************************"
   ]
  },
  {
   "cell_type": "code",
   "execution_count": null,
   "id": "7bbb0bc7",
   "metadata": {},
   "outputs": [],
   "source": [
    "opts = Options()\n",
    "\n",
    "# Add headers\n",
    "user_agent =  ('Mozilla/5.0 (Windows NT 10.0; Win64; x64) AppleWebKit/537.36 (KHTML, like Gecko) Chrome/96.0.4664.45 Safari/537.36')"
   ]
  },
  {
   "cell_type": "code",
   "execution_count": null,
   "id": "3281234f",
   "metadata": {},
   "outputs": [],
   "source": [
    "opts.add_argument(f'user-agent={user_agent}')\n",
    "opts.add_argument('--disable-blink-features=AutomationControlled')\n",
    "opts.add_experimental_option('useAutomationExtension', False)\n",
    "opts.add_experimental_option(\"excludeSwitches\", [\"enable-automation\"])"
   ]
  },
  {
   "cell_type": "markdown",
   "id": "7b56017e",
   "metadata": {},
   "source": [
    "*****************************************************************************************************"
   ]
  },
  {
   "cell_type": "markdown",
   "id": "febc071f",
   "metadata": {},
   "source": [
    "This specific solution was HEAVILY influenced on the answer of the user Bisbot in the following publication:\n",
    "https://stackoverflow.com/questions/53415918/how-to-iterably-enter-multiple-list-of-strings-into-multiple-search-boxes-with-s\n",
    "(How to iterably enter multiple list of strings into multiple search boxes with selenium?) "
   ]
  },
  {
   "cell_type": "code",
   "execution_count": null,
   "id": "2d8d8098",
   "metadata": {},
   "outputs": [],
   "source": [
    "driver = webdriver.Chrome('C:/Users/Usuario/Downloads/chromedriver_win32/chromedriver.exe', chrome_options=opts)\n",
    "driver.get(\"https://www.naukri.com/\")\n",
    "for query in list_1:\n",
    "    driver.find_element_by_xpath(\"//div[@class='qsbWrapper']//div[@class='qsb']//div[@class='keywordSugg']//div//div[@class='suggestor-wrapper active ']//div[@class='suggestor-box flex-row flex-wrap bottom ']//input[@class='suggestor-input ']\").send_keys(query[0])\n",
    "    driver.find_element_by_xpath(\"//div[@class='qsbWrapper']//div[@class='qsb']//div[@class='locationSugg']//div//div[@class='suggestor-wrapper active ']//div[@class='suggestor-box flex-row flex-wrap bottom ']//input[@class='suggestor-input ']\").send_keys(query[1])\n",
    "\n",
    "driver.find_element_by_xpath(\"//div[@class='qsbWrapper']//div[@class='qsb']//div[@class='qsbSubmit']\").click()\n",
    "\n",
    "#job_title = driver.find_elements_by_xpath(\"//div[@class='list']//div[@class='jobTupleHeader']//div[@class='info fleft']//a[@class='title fw500 ellipsis']\")\n",
    "#job_title = [    title.text for title in job_title   ]\n",
    "#print(job_title)\n",
    "\n",
    "sleep(10)\n",
    "#driver.back()\n",
    "#driver.refresh()\n",
    "sleep(2)\n",
    "#driver.quit()"
   ]
  },
  {
   "cell_type": "code",
   "execution_count": null,
   "id": "d601bd8a",
   "metadata": {},
   "outputs": [],
   "source": [
    "job_title = driver.find_elements_by_xpath(\"//div[@class='list']//div[@class='jobTupleHeader']//div[@class='info fleft']//a[@class='title fw500 ellipsis']\")\n",
    "job_title = [    title.text for title in job_title   ]\n",
    "print(job_title)"
   ]
  },
  {
   "cell_type": "code",
   "execution_count": null,
   "id": "6af57c5b",
   "metadata": {},
   "outputs": [],
   "source": [
    "job_company = driver.find_elements_by_xpath(\"//div[@class='list']//div[@class='jobTupleHeader']//div[@class='info fleft']//div[@class='mt-7 companyInfo subheading lh16']//a[@class='subTitle ellipsis fleft']\")\n",
    "job_company = [    title.text for title in job_company   ]\n",
    "print(job_company)"
   ]
  },
  {
   "cell_type": "code",
   "execution_count": null,
   "id": "fc5ef097",
   "metadata": {},
   "outputs": [],
   "source": [
    "job_location = driver.find_elements_by_xpath(\"//div[@class='list']//div[@class='jobTupleHeader']//div[@class='info fleft']//ul[@class='mt-7']//li[@class='fleft grey-text br2 placeHolderLi location']\")\n",
    "job_location = [    title.text for title in job_location   ]\n",
    "print(job_location)"
   ]
  },
  {
   "cell_type": "code",
   "execution_count": null,
   "id": "5d809b64",
   "metadata": {},
   "outputs": [],
   "source": [
    "data_analyst_b = {\n",
    "    \"job_title\":job_title,\n",
    "    \"job_company\":job_company,\n",
    "    \"job_location\":job_location\n",
    "    \n",
    "}"
   ]
  },
  {
   "cell_type": "code",
   "execution_count": null,
   "id": "dc90337c",
   "metadata": {},
   "outputs": [],
   "source": [
    "import pandas as pd"
   ]
  },
  {
   "cell_type": "code",
   "execution_count": null,
   "id": "e328b27b",
   "metadata": {},
   "outputs": [],
   "source": [
    "df = pd.DataFrame(data_analyst_b)"
   ]
  },
  {
   "cell_type": "code",
   "execution_count": null,
   "id": "65a7b4dd",
   "metadata": {},
   "outputs": [],
   "source": [
    "df.to_csv(\"Jobs Bangalore.csv\")"
   ]
  },
  {
   "cell_type": "code",
   "execution_count": null,
   "id": "9513d868",
   "metadata": {},
   "outputs": [],
   "source": [
    "sleep(4)"
   ]
  },
  {
   "cell_type": "code",
   "execution_count": null,
   "id": "6055d013",
   "metadata": {},
   "outputs": [],
   "source": [
    "driver.close()"
   ]
  },
  {
   "cell_type": "markdown",
   "id": "88630eda",
   "metadata": {},
   "source": [
    "*****************************************************************************************************"
   ]
  },
  {
   "cell_type": "markdown",
   "id": "3e742e5d",
   "metadata": {},
   "source": [
    "### Q2: Write a python program to scrape data for “Data Scientist” Job position in “Bangalore” location. \n",
    "You have to scrape the job-title, job-location, company_name. You have to scrape first 10 jobs data."
   ]
  },
  {
   "cell_type": "code",
   "execution_count": 4,
   "id": "68c8b313",
   "metadata": {},
   "outputs": [],
   "source": [
    "list_2 = [['Data Scientist', 'Bangalore']]\n",
    "from selenium import webdriver\n",
    "from selenium.webdriver.common.keys import Keys\n",
    "from selenium.webdriver.chrome.options import Options\n",
    "from time import sleep"
   ]
  },
  {
   "cell_type": "code",
   "execution_count": 5,
   "id": "49bbe5d6",
   "metadata": {},
   "outputs": [],
   "source": [
    "opts = Options()\n",
    "\n",
    "# Add headers\n",
    "user_agent =  ('Mozilla/5.0 (Windows NT 10.0; Win64; x64) AppleWebKit/537.36 (KHTML, like Gecko) Chrome/96.0.4664.45 Safari/537.36')"
   ]
  },
  {
   "cell_type": "code",
   "execution_count": 6,
   "id": "bae56d11",
   "metadata": {},
   "outputs": [],
   "source": [
    "opts.add_argument(f'user-agent={user_agent}')\n",
    "opts.add_argument('--disable-blink-features=AutomationControlled')\n",
    "opts.add_experimental_option('useAutomationExtension', False)\n",
    "opts.add_experimental_option(\"excludeSwitches\", [\"enable-automation\"])"
   ]
  },
  {
   "cell_type": "code",
   "execution_count": 8,
   "id": "fa86be88",
   "metadata": {},
   "outputs": [
    {
     "name": "stderr",
     "output_type": "stream",
     "text": [
      "C:\\Users\\Usuario\\AppData\\Local\\Temp/ipykernel_14344/4134229184.py:1: DeprecationWarning: use options instead of chrome_options\n",
      "  driver = webdriver.Chrome('C:/Users/Usuario/Downloads/chromedriver_win32/chromedriver.exe', chrome_options=opts)\n"
     ]
    }
   ],
   "source": [
    "driver = webdriver.Chrome('C:/Users/Usuario/Downloads/chromedriver_win32/chromedriver.exe', chrome_options=opts)\n",
    "driver.get(\"https://www.naukri.com/\")\n",
    "for query in list_2:\n",
    "    driver.find_element_by_xpath(\"//div[@class='qsbWrapper']//div[@class='qsb']//div[@class='keywordSugg']//div//div[@class='suggestor-wrapper active ']//div[@class='suggestor-box flex-row flex-wrap bottom ']//input[@class='suggestor-input ']\").send_keys(query[0])\n",
    "    driver.find_element_by_xpath(\"//div[@class='qsbWrapper']//div[@class='qsb']//div[@class='locationSugg']//div//div[@class='suggestor-wrapper active ']//div[@class='suggestor-box flex-row flex-wrap bottom ']//input[@class='suggestor-input ']\").send_keys(query[1])\n",
    "\n",
    "driver.find_element_by_xpath(\"//div[@class='qsbWrapper']//div[@class='qsb']//div[@class='qsbSubmit']\").click()\n",
    "\n",
    "sleep(2)\n",
    "#driver.back()\n",
    "#driver.refresh()\n",
    "#sleep(2)\n",
    "#driver.quit()"
   ]
  },
  {
   "cell_type": "code",
   "execution_count": 9,
   "id": "a22f3790",
   "metadata": {},
   "outputs": [
    {
     "name": "stdout",
     "output_type": "stream",
     "text": [
      "['Senior Data Scientist', 'Data Science - Engineering Manager', 'AI Technologist Vacancy', 'Job Opening with Wipro For Data Scientist position', 'DATA Scientist with Fraud Analytics Experience', 'Data Scientist', 'Data Scientist', 'Data Scientist', 'Data Scientist', 'Principal - Data Scientist', 'Data Scientist', 'Data Scientist', 'Specialist - Data Scientist', 'Looking For Data Scientist ( Exp in R OR R Shiny)', 'Data Scientist', 'Data Scientist- AI/ML- R&D', 'Urgent Hiring For AI Data Scientist', 'Data Scientist', 'Data Scientist', 'Data Scientist']\n"
     ]
    }
   ],
   "source": [
    "job_title = driver.find_elements_by_xpath(\"//div[@class='list']//div[@class='jobTupleHeader']//div[@class='info fleft']//a[@class='title fw500 ellipsis']\")\n",
    "job_title = [    title.text for title in job_title   ]\n",
    "print(job_title)"
   ]
  },
  {
   "cell_type": "code",
   "execution_count": 10,
   "id": "dd929da8",
   "metadata": {},
   "outputs": [
    {
     "name": "stdout",
     "output_type": "stream",
     "text": [
      "['Baker Hughes', 'Paytm', 'Wipro', 'Wipro', 'Concentrix Daksh Services', 'Applied Materials', 'Applied Materials', 'Applied Materials', 'Applied Materials', 'Schneider Electric', 'Applied Materials', 'Applied Materials', 'AT and T Global Business Services India P. Ltd.', 'Evalueserve', 'Genpact', 'EXL', 'Ashkom Media India Private Limited', 'UPL', 'UPL', 'Jacobs']\n"
     ]
    }
   ],
   "source": [
    "job_company = driver.find_elements_by_xpath(\"//div[@class='list']//div[@class='jobTupleHeader']//div[@class='info fleft']//div[@class='mt-7 companyInfo subheading lh16']//a[@class='subTitle ellipsis fleft']\")\n",
    "job_company = [    title.text for title in job_company   ]\n",
    "print(job_company)"
   ]
  },
  {
   "cell_type": "code",
   "execution_count": 11,
   "id": "68a03d1d",
   "metadata": {},
   "outputs": [
    {
     "name": "stdout",
     "output_type": "stream",
     "text": [
      "['Mumbai, Bangalore/Bengaluru', 'Noida, Mumbai, Bangalore/Bengaluru', 'Kolkata, Hyderabad/Secunderabad, Pune, Ahmedabad, Chennai, Bangalore/Bengaluru, Delhi / NCR, Mumbai (All Areas)', 'Kolkata, Hyderabad/Secunderabad, Chennai, Bangalore/Bengaluru, Delhi / NCR, Mumbai (All Areas)', 'Bangalore/Bengaluru', 'Bangalore/Bengaluru', 'Bangalore/Bengaluru', 'Bangalore/Bengaluru', 'Bangalore/Bengaluru', 'Bangalore/Bengaluru', 'Bangalore/Bengaluru', 'Bangalore/Bengaluru', 'Bangalore/Bengaluru', 'Bangalore/Bengaluru', 'Bangalore/Bengaluru', 'Noida, Hyderabad/Secunderabad, Pune, Gurgaon/Gurugram, Chennai, Bangalore/Bengaluru, Delhi / NCR', 'New Delhi, Bangalore/Bengaluru, Mumbai (All Areas)\\n(WFH during Covid)', 'Mumbai, Bangalore/Bengaluru', 'Bangalore/Bengaluru, Mumbai (All Areas)', 'Bangalore/Bengaluru, Delhi / NCR, Mumbai (All Areas)']\n"
     ]
    }
   ],
   "source": [
    "job_location = driver.find_elements_by_xpath(\"//div[@class='list']//div[@class='jobTupleHeader']//div[@class='info fleft']//ul[@class='mt-7']//li[@class='fleft grey-text br2 placeHolderLi location']\")\n",
    "job_location = [    title.text for title in job_location   ]\n",
    "print(job_location)"
   ]
  },
  {
   "cell_type": "code",
   "execution_count": 12,
   "id": "64388f64",
   "metadata": {},
   "outputs": [],
   "source": [
    "data_scientist_b = {\n",
    "    \"job_title\":job_title,\n",
    "    \"job_company\":job_company,\n",
    "    \"job_location\":job_location\n",
    "    \n",
    "}"
   ]
  },
  {
   "cell_type": "code",
   "execution_count": 13,
   "id": "0052b92f",
   "metadata": {},
   "outputs": [],
   "source": [
    "import pandas as pd"
   ]
  },
  {
   "cell_type": "code",
   "execution_count": 14,
   "id": "be2c7152",
   "metadata": {},
   "outputs": [],
   "source": [
    "df = pd.DataFrame(data_scientist_b)"
   ]
  },
  {
   "cell_type": "code",
   "execution_count": 15,
   "id": "c2489850",
   "metadata": {},
   "outputs": [],
   "source": [
    "df.to_csv(\"Jobs Bangalore2.csv\")"
   ]
  },
  {
   "cell_type": "code",
   "execution_count": 16,
   "id": "c7e35a6b",
   "metadata": {},
   "outputs": [],
   "source": [
    "sleep(4)"
   ]
  },
  {
   "cell_type": "code",
   "execution_count": 17,
   "id": "85b97356",
   "metadata": {},
   "outputs": [],
   "source": [
    "driver.close()"
   ]
  },
  {
   "cell_type": "markdown",
   "id": "ab781b1b",
   "metadata": {},
   "source": [
    "### Q3: In this question you have to scrape data using the filters available on the webpage as shown below:\n",
    "*You have to use the location and salary filter.\n",
    "*You have to scrape data for “Data Scientist” designation for first 10 job results.\n",
    "*You have to scrape the job-title, job-location, company name, experience required.\n",
    "*The location filter to be used is “Delhi/NCR”. The salary filter to be used is “3-6” lakhs"
   ]
  },
  {
   "cell_type": "code",
   "execution_count": 17,
   "id": "914e0919",
   "metadata": {},
   "outputs": [],
   "source": [
    "from pprint import pprint\n",
    "from selenium import webdriver\n",
    "from selenium.webdriver.common.keys import Keys\n",
    "from selenium.webdriver.support.ui import WebDriverWait\n",
    "from selenium.webdriver.support import expected_conditions as EC\n",
    "from selenium.webdriver.common.by import By\n",
    "from selenium.common.exceptions import TimeoutException\n",
    "from selenium.webdriver.common.keys import Keys\n",
    "from selenium.webdriver.chrome.options import Options"
   ]
  },
  {
   "cell_type": "code",
   "execution_count": 18,
   "id": "964252ce",
   "metadata": {},
   "outputs": [],
   "source": [
    "opts = Options()\n",
    "\n",
    "# Add headers\n",
    "user_agent =  ('Mozilla/5.0 (Windows NT 10.0; Win64; x64) AppleWebKit/537.36 (KHTML, like Gecko) Chrome/96.0.4664.45 Safari/537.36')"
   ]
  },
  {
   "cell_type": "code",
   "execution_count": 19,
   "id": "5635d56f",
   "metadata": {},
   "outputs": [],
   "source": [
    "opts.add_argument(f'user-agent={user_agent}')\n",
    "opts.add_argument('--disable-blink-features=AutomationControlled')\n",
    "opts.add_experimental_option('useAutomationExtension', False)\n",
    "opts.add_experimental_option(\"excludeSwitches\", [\"enable-automation\"])"
   ]
  },
  {
   "cell_type": "markdown",
   "id": "59c19bd4",
   "metadata": {},
   "source": [
    "More ideas on how to solve the problem of Access denied: \n",
    "https://stackoverflow.com/questions/63503773/access-denied-to-website-using-webdriver-with-selenium"
   ]
  },
  {
   "cell_type": "code",
   "execution_count": 20,
   "id": "d5e838ec",
   "metadata": {},
   "outputs": [],
   "source": [
    "driver = webdriver.Chrome(r\"C:/Users/Usuario/Downloads/chromedriver_win32/chromedriver.exe\", options = opts)\n",
    "driver.get(\"https://www.naukri.com/\")"
   ]
  },
  {
   "cell_type": "code",
   "execution_count": 21,
   "id": "0be6774b",
   "metadata": {},
   "outputs": [],
   "source": [
    "search_bar = driver.find_element_by_xpath(\"//div[@class='qsbWrapper']//div[@class='qsb']//div[@class='keywordSugg']//div//div[@class='suggestor-wrapper active ']//div[@class='suggestor-box flex-row flex-wrap bottom ']//input[@class='suggestor-input ']\")"
   ]
  },
  {
   "cell_type": "code",
   "execution_count": 22,
   "id": "e1635b65",
   "metadata": {},
   "outputs": [],
   "source": [
    "from time import sleep"
   ]
  },
  {
   "cell_type": "code",
   "execution_count": 23,
   "id": "f77581a8",
   "metadata": {},
   "outputs": [],
   "source": [
    "sleep(2)"
   ]
  },
  {
   "cell_type": "code",
   "execution_count": 24,
   "id": "401138b4",
   "metadata": {},
   "outputs": [],
   "source": [
    "#search_bar.clear()"
   ]
  },
  {
   "cell_type": "code",
   "execution_count": 25,
   "id": "b63fa364",
   "metadata": {},
   "outputs": [],
   "source": [
    "search_bar.send_keys(\"Data Scientist\")"
   ]
  },
  {
   "cell_type": "code",
   "execution_count": 26,
   "id": "5d333beb",
   "metadata": {},
   "outputs": [],
   "source": [
    "driver.find_element_by_xpath(\"//div[@class='qsbWrapper']//div[@class='qsb']//div[@class='qsbSubmit']\").click()"
   ]
  },
  {
   "cell_type": "code",
   "execution_count": 45,
   "id": "b8e61bf9",
   "metadata": {},
   "outputs": [
    {
     "ename": "InvalidSessionIdException",
     "evalue": "Message: invalid session id\n",
     "output_type": "error",
     "traceback": [
      "\u001b[1;31m---------------------------------------------------------------------------\u001b[0m",
      "\u001b[1;31mInvalidSessionIdException\u001b[0m                 Traceback (most recent call last)",
      "\u001b[1;32m~\\AppData\\Local\\Temp/ipykernel_17012/176293244.py\u001b[0m in \u001b[0;36m<module>\u001b[1;34m\u001b[0m\n\u001b[0;32m     11\u001b[0m \u001b[1;32mtry\u001b[0m\u001b[1;33m:\u001b[0m\u001b[1;33m\u001b[0m\u001b[1;33m\u001b[0m\u001b[0m\n\u001b[0;32m     12\u001b[0m     \u001b[0mwait\u001b[0m \u001b[1;33m=\u001b[0m \u001b[0mWebDriverWait\u001b[0m\u001b[1;33m(\u001b[0m\u001b[0mdriver\u001b[0m\u001b[1;33m,\u001b[0m \u001b[1;36m80\u001b[0m\u001b[1;33m)\u001b[0m\u001b[1;33m\u001b[0m\u001b[1;33m\u001b[0m\u001b[0m\n\u001b[1;32m---> 13\u001b[1;33m     \u001b[0melement\u001b[0m \u001b[1;33m=\u001b[0m \u001b[0mwait\u001b[0m\u001b[1;33m.\u001b[0m\u001b[0muntil\u001b[0m\u001b[1;33m(\u001b[0m\u001b[0mEC\u001b[0m\u001b[1;33m.\u001b[0m\u001b[0melement_to_be_clickable\u001b[0m\u001b[1;33m(\u001b[0m\u001b[1;33m(\u001b[0m\u001b[0mBy\u001b[0m\u001b[1;33m.\u001b[0m\u001b[0mXPATH\u001b[0m\u001b[1;33m,\u001b[0m\u001b[1;34m\"chk-Delhi / NCR-cityTypeGid-\"\u001b[0m\u001b[1;33m)\u001b[0m\u001b[1;33m)\u001b[0m\u001b[1;33m)\u001b[0m\u001b[1;33m\u001b[0m\u001b[1;33m\u001b[0m\u001b[0m\n\u001b[0m\u001b[0;32m     14\u001b[0m     \u001b[0melement\u001b[0m\u001b[1;33m.\u001b[0m\u001b[0mclick\u001b[0m\u001b[1;33m(\u001b[0m\u001b[1;33m)\u001b[0m\u001b[1;33m\u001b[0m\u001b[1;33m\u001b[0m\u001b[0m\n\u001b[0;32m     15\u001b[0m \u001b[1;32mfinally\u001b[0m\u001b[1;33m:\u001b[0m\u001b[1;33m\u001b[0m\u001b[1;33m\u001b[0m\u001b[0m\n",
      "\u001b[1;32m~\\anaconda3\\envs\\spyder1\\lib\\site-packages\\selenium\\webdriver\\support\\wait.py\u001b[0m in \u001b[0;36muntil\u001b[1;34m(self, method, message)\u001b[0m\n\u001b[0;32m     69\u001b[0m         \u001b[1;32mwhile\u001b[0m \u001b[1;32mTrue\u001b[0m\u001b[1;33m:\u001b[0m\u001b[1;33m\u001b[0m\u001b[1;33m\u001b[0m\u001b[0m\n\u001b[0;32m     70\u001b[0m             \u001b[1;32mtry\u001b[0m\u001b[1;33m:\u001b[0m\u001b[1;33m\u001b[0m\u001b[1;33m\u001b[0m\u001b[0m\n\u001b[1;32m---> 71\u001b[1;33m                 \u001b[0mvalue\u001b[0m \u001b[1;33m=\u001b[0m \u001b[0mmethod\u001b[0m\u001b[1;33m(\u001b[0m\u001b[0mself\u001b[0m\u001b[1;33m.\u001b[0m\u001b[0m_driver\u001b[0m\u001b[1;33m)\u001b[0m\u001b[1;33m\u001b[0m\u001b[1;33m\u001b[0m\u001b[0m\n\u001b[0m\u001b[0;32m     72\u001b[0m                 \u001b[1;32mif\u001b[0m \u001b[0mvalue\u001b[0m\u001b[1;33m:\u001b[0m\u001b[1;33m\u001b[0m\u001b[1;33m\u001b[0m\u001b[0m\n\u001b[0;32m     73\u001b[0m                     \u001b[1;32mreturn\u001b[0m \u001b[0mvalue\u001b[0m\u001b[1;33m\u001b[0m\u001b[1;33m\u001b[0m\u001b[0m\n",
      "\u001b[1;32m~\\anaconda3\\envs\\spyder1\\lib\\site-packages\\selenium\\webdriver\\support\\expected_conditions.py\u001b[0m in \u001b[0;36m__call__\u001b[1;34m(self, driver)\u001b[0m\n\u001b[0;32m    295\u001b[0m \u001b[1;33m\u001b[0m\u001b[0m\n\u001b[0;32m    296\u001b[0m     \u001b[1;32mdef\u001b[0m \u001b[0m__call__\u001b[0m\u001b[1;33m(\u001b[0m\u001b[0mself\u001b[0m\u001b[1;33m,\u001b[0m \u001b[0mdriver\u001b[0m\u001b[1;33m)\u001b[0m\u001b[1;33m:\u001b[0m\u001b[1;33m\u001b[0m\u001b[1;33m\u001b[0m\u001b[0m\n\u001b[1;32m--> 297\u001b[1;33m         \u001b[0melement\u001b[0m \u001b[1;33m=\u001b[0m \u001b[0mvisibility_of_element_located\u001b[0m\u001b[1;33m(\u001b[0m\u001b[0mself\u001b[0m\u001b[1;33m.\u001b[0m\u001b[0mlocator\u001b[0m\u001b[1;33m)\u001b[0m\u001b[1;33m(\u001b[0m\u001b[0mdriver\u001b[0m\u001b[1;33m)\u001b[0m\u001b[1;33m\u001b[0m\u001b[1;33m\u001b[0m\u001b[0m\n\u001b[0m\u001b[0;32m    298\u001b[0m         \u001b[1;32mif\u001b[0m \u001b[0melement\u001b[0m \u001b[1;32mand\u001b[0m \u001b[0melement\u001b[0m\u001b[1;33m.\u001b[0m\u001b[0mis_enabled\u001b[0m\u001b[1;33m(\u001b[0m\u001b[1;33m)\u001b[0m\u001b[1;33m:\u001b[0m\u001b[1;33m\u001b[0m\u001b[1;33m\u001b[0m\u001b[0m\n\u001b[0;32m    299\u001b[0m             \u001b[1;32mreturn\u001b[0m \u001b[0melement\u001b[0m\u001b[1;33m\u001b[0m\u001b[1;33m\u001b[0m\u001b[0m\n",
      "\u001b[1;32m~\\anaconda3\\envs\\spyder1\\lib\\site-packages\\selenium\\webdriver\\support\\expected_conditions.py\u001b[0m in \u001b[0;36m__call__\u001b[1;34m(self, driver)\u001b[0m\n\u001b[0;32m    126\u001b[0m     \u001b[1;32mdef\u001b[0m \u001b[0m__call__\u001b[0m\u001b[1;33m(\u001b[0m\u001b[0mself\u001b[0m\u001b[1;33m,\u001b[0m \u001b[0mdriver\u001b[0m\u001b[1;33m)\u001b[0m\u001b[1;33m:\u001b[0m\u001b[1;33m\u001b[0m\u001b[1;33m\u001b[0m\u001b[0m\n\u001b[0;32m    127\u001b[0m         \u001b[1;32mtry\u001b[0m\u001b[1;33m:\u001b[0m\u001b[1;33m\u001b[0m\u001b[1;33m\u001b[0m\u001b[0m\n\u001b[1;32m--> 128\u001b[1;33m             \u001b[1;32mreturn\u001b[0m \u001b[0m_element_if_visible\u001b[0m\u001b[1;33m(\u001b[0m\u001b[0m_find_element\u001b[0m\u001b[1;33m(\u001b[0m\u001b[0mdriver\u001b[0m\u001b[1;33m,\u001b[0m \u001b[0mself\u001b[0m\u001b[1;33m.\u001b[0m\u001b[0mlocator\u001b[0m\u001b[1;33m)\u001b[0m\u001b[1;33m)\u001b[0m\u001b[1;33m\u001b[0m\u001b[1;33m\u001b[0m\u001b[0m\n\u001b[0m\u001b[0;32m    129\u001b[0m         \u001b[1;32mexcept\u001b[0m \u001b[0mStaleElementReferenceException\u001b[0m\u001b[1;33m:\u001b[0m\u001b[1;33m\u001b[0m\u001b[1;33m\u001b[0m\u001b[0m\n\u001b[0;32m    130\u001b[0m             \u001b[1;32mreturn\u001b[0m \u001b[1;32mFalse\u001b[0m\u001b[1;33m\u001b[0m\u001b[1;33m\u001b[0m\u001b[0m\n",
      "\u001b[1;32m~\\anaconda3\\envs\\spyder1\\lib\\site-packages\\selenium\\webdriver\\support\\expected_conditions.py\u001b[0m in \u001b[0;36m_find_element\u001b[1;34m(driver, by)\u001b[0m\n\u001b[0;32m    413\u001b[0m         \u001b[1;32mraise\u001b[0m \u001b[0me\u001b[0m\u001b[1;33m\u001b[0m\u001b[1;33m\u001b[0m\u001b[0m\n\u001b[0;32m    414\u001b[0m     \u001b[1;32mexcept\u001b[0m \u001b[0mWebDriverException\u001b[0m \u001b[1;32mas\u001b[0m \u001b[0me\u001b[0m\u001b[1;33m:\u001b[0m\u001b[1;33m\u001b[0m\u001b[1;33m\u001b[0m\u001b[0m\n\u001b[1;32m--> 415\u001b[1;33m         \u001b[1;32mraise\u001b[0m \u001b[0me\u001b[0m\u001b[1;33m\u001b[0m\u001b[1;33m\u001b[0m\u001b[0m\n\u001b[0m\u001b[0;32m    416\u001b[0m \u001b[1;33m\u001b[0m\u001b[0m\n\u001b[0;32m    417\u001b[0m \u001b[1;33m\u001b[0m\u001b[0m\n",
      "\u001b[1;32m~\\anaconda3\\envs\\spyder1\\lib\\site-packages\\selenium\\webdriver\\support\\expected_conditions.py\u001b[0m in \u001b[0;36m_find_element\u001b[1;34m(driver, by)\u001b[0m\n\u001b[0;32m    409\u001b[0m     if thrown.\"\"\"\n\u001b[0;32m    410\u001b[0m     \u001b[1;32mtry\u001b[0m\u001b[1;33m:\u001b[0m\u001b[1;33m\u001b[0m\u001b[1;33m\u001b[0m\u001b[0m\n\u001b[1;32m--> 411\u001b[1;33m         \u001b[1;32mreturn\u001b[0m \u001b[0mdriver\u001b[0m\u001b[1;33m.\u001b[0m\u001b[0mfind_element\u001b[0m\u001b[1;33m(\u001b[0m\u001b[1;33m*\u001b[0m\u001b[0mby\u001b[0m\u001b[1;33m)\u001b[0m\u001b[1;33m\u001b[0m\u001b[1;33m\u001b[0m\u001b[0m\n\u001b[0m\u001b[0;32m    412\u001b[0m     \u001b[1;32mexcept\u001b[0m \u001b[0mNoSuchElementException\u001b[0m \u001b[1;32mas\u001b[0m \u001b[0me\u001b[0m\u001b[1;33m:\u001b[0m\u001b[1;33m\u001b[0m\u001b[1;33m\u001b[0m\u001b[0m\n\u001b[0;32m    413\u001b[0m         \u001b[1;32mraise\u001b[0m \u001b[0me\u001b[0m\u001b[1;33m\u001b[0m\u001b[1;33m\u001b[0m\u001b[0m\n",
      "\u001b[1;32m~\\anaconda3\\envs\\spyder1\\lib\\site-packages\\selenium\\webdriver\\remote\\webdriver.py\u001b[0m in \u001b[0;36mfind_element\u001b[1;34m(self, by, value)\u001b[0m\n\u001b[0;32m    974\u001b[0m                 \u001b[0mby\u001b[0m \u001b[1;33m=\u001b[0m \u001b[0mBy\u001b[0m\u001b[1;33m.\u001b[0m\u001b[0mCSS_SELECTOR\u001b[0m\u001b[1;33m\u001b[0m\u001b[1;33m\u001b[0m\u001b[0m\n\u001b[0;32m    975\u001b[0m                 \u001b[0mvalue\u001b[0m \u001b[1;33m=\u001b[0m \u001b[1;34m'[name=\"%s\"]'\u001b[0m \u001b[1;33m%\u001b[0m \u001b[0mvalue\u001b[0m\u001b[1;33m\u001b[0m\u001b[1;33m\u001b[0m\u001b[0m\n\u001b[1;32m--> 976\u001b[1;33m         return self.execute(Command.FIND_ELEMENT, {\n\u001b[0m\u001b[0;32m    977\u001b[0m             \u001b[1;34m'using'\u001b[0m\u001b[1;33m:\u001b[0m \u001b[0mby\u001b[0m\u001b[1;33m,\u001b[0m\u001b[1;33m\u001b[0m\u001b[1;33m\u001b[0m\u001b[0m\n\u001b[0;32m    978\u001b[0m             'value': value})['value']\n",
      "\u001b[1;32m~\\anaconda3\\envs\\spyder1\\lib\\site-packages\\selenium\\webdriver\\remote\\webdriver.py\u001b[0m in \u001b[0;36mexecute\u001b[1;34m(self, driver_command, params)\u001b[0m\n\u001b[0;32m    319\u001b[0m         \u001b[0mresponse\u001b[0m \u001b[1;33m=\u001b[0m \u001b[0mself\u001b[0m\u001b[1;33m.\u001b[0m\u001b[0mcommand_executor\u001b[0m\u001b[1;33m.\u001b[0m\u001b[0mexecute\u001b[0m\u001b[1;33m(\u001b[0m\u001b[0mdriver_command\u001b[0m\u001b[1;33m,\u001b[0m \u001b[0mparams\u001b[0m\u001b[1;33m)\u001b[0m\u001b[1;33m\u001b[0m\u001b[1;33m\u001b[0m\u001b[0m\n\u001b[0;32m    320\u001b[0m         \u001b[1;32mif\u001b[0m \u001b[0mresponse\u001b[0m\u001b[1;33m:\u001b[0m\u001b[1;33m\u001b[0m\u001b[1;33m\u001b[0m\u001b[0m\n\u001b[1;32m--> 321\u001b[1;33m             \u001b[0mself\u001b[0m\u001b[1;33m.\u001b[0m\u001b[0merror_handler\u001b[0m\u001b[1;33m.\u001b[0m\u001b[0mcheck_response\u001b[0m\u001b[1;33m(\u001b[0m\u001b[0mresponse\u001b[0m\u001b[1;33m)\u001b[0m\u001b[1;33m\u001b[0m\u001b[1;33m\u001b[0m\u001b[0m\n\u001b[0m\u001b[0;32m    322\u001b[0m             response['value'] = self._unwrap_value(\n\u001b[0;32m    323\u001b[0m                 response.get('value', None))\n",
      "\u001b[1;32m~\\anaconda3\\envs\\spyder1\\lib\\site-packages\\selenium\\webdriver\\remote\\errorhandler.py\u001b[0m in \u001b[0;36mcheck_response\u001b[1;34m(self, response)\u001b[0m\n\u001b[0;32m    240\u001b[0m                 \u001b[0malert_text\u001b[0m \u001b[1;33m=\u001b[0m \u001b[0mvalue\u001b[0m\u001b[1;33m[\u001b[0m\u001b[1;34m'alert'\u001b[0m\u001b[1;33m]\u001b[0m\u001b[1;33m.\u001b[0m\u001b[0mget\u001b[0m\u001b[1;33m(\u001b[0m\u001b[1;34m'text'\u001b[0m\u001b[1;33m)\u001b[0m\u001b[1;33m\u001b[0m\u001b[1;33m\u001b[0m\u001b[0m\n\u001b[0;32m    241\u001b[0m             \u001b[1;32mraise\u001b[0m \u001b[0mexception_class\u001b[0m\u001b[1;33m(\u001b[0m\u001b[0mmessage\u001b[0m\u001b[1;33m,\u001b[0m \u001b[0mscreen\u001b[0m\u001b[1;33m,\u001b[0m \u001b[0mstacktrace\u001b[0m\u001b[1;33m,\u001b[0m \u001b[0malert_text\u001b[0m\u001b[1;33m)\u001b[0m\u001b[1;33m\u001b[0m\u001b[1;33m\u001b[0m\u001b[0m\n\u001b[1;32m--> 242\u001b[1;33m         \u001b[1;32mraise\u001b[0m \u001b[0mexception_class\u001b[0m\u001b[1;33m(\u001b[0m\u001b[0mmessage\u001b[0m\u001b[1;33m,\u001b[0m \u001b[0mscreen\u001b[0m\u001b[1;33m,\u001b[0m \u001b[0mstacktrace\u001b[0m\u001b[1;33m)\u001b[0m\u001b[1;33m\u001b[0m\u001b[1;33m\u001b[0m\u001b[0m\n\u001b[0m\u001b[0;32m    243\u001b[0m \u001b[1;33m\u001b[0m\u001b[0m\n\u001b[0;32m    244\u001b[0m     \u001b[1;32mdef\u001b[0m \u001b[0m_value_or_default\u001b[0m\u001b[1;33m(\u001b[0m\u001b[0mself\u001b[0m\u001b[1;33m,\u001b[0m \u001b[0mobj\u001b[0m\u001b[1;33m,\u001b[0m \u001b[0mkey\u001b[0m\u001b[1;33m,\u001b[0m \u001b[0mdefault\u001b[0m\u001b[1;33m)\u001b[0m\u001b[1;33m:\u001b[0m\u001b[1;33m\u001b[0m\u001b[1;33m\u001b[0m\u001b[0m\n",
      "\u001b[1;31mInvalidSessionIdException\u001b[0m: Message: invalid session id\n"
     ]
    }
   ],
   "source": [
    "#button = WebDriverWait(driver, 40).until(EC.element_to_be_clickable((By.ID, 'chk-Delhi / NCR-cityTypeGid-')))\n",
    "#button.click()\n",
    "\n",
    "#try:\n",
    "#    Remain = WebDriverWait(driver, 10).until(EC.element_to_be_clickable((By.ID, \"chk-Delhi / NCR-cityTypeGid-\"))).click()\n",
    "#except TimeoutException: \n",
    "#    Remain = \"BLANK\"\n",
    "\n",
    "\n",
    "\n",
    "try:\n",
    "    wait = WebDriverWait(driver, 80)\n",
    "    element = wait.until(EC.element_to_be_clickable((By.XPATH,\"chk-Delhi / NCR-cityTypeGid-\")))\n",
    "    element.click()\n",
    "finally:\n",
    "    element = \"Blank\""
   ]
  },
  {
   "cell_type": "code",
   "execution_count": 15,
   "id": "fee3d073",
   "metadata": {},
   "outputs": [
    {
     "ename": "ElementNotInteractableException",
     "evalue": "Message: element not interactable\n  (Session info: chrome=102.0.5005.115)\n",
     "output_type": "error",
     "traceback": [
      "\u001b[1;31m---------------------------------------------------------------------------\u001b[0m",
      "\u001b[1;31mElementNotInteractableException\u001b[0m           Traceback (most recent call last)",
      "\u001b[1;32m~\\AppData\\Local\\Temp/ipykernel_4040/2664030606.py\u001b[0m in \u001b[0;36m<module>\u001b[1;34m\u001b[0m\n\u001b[1;32m----> 1\u001b[1;33m \u001b[0mdriver\u001b[0m\u001b[1;33m.\u001b[0m\u001b[0mfind_element_by_id\u001b[0m\u001b[1;33m(\u001b[0m\u001b[1;34m\"chk-Delhi / NCR-cityTypeGid-\"\u001b[0m\u001b[1;33m)\u001b[0m\u001b[1;33m.\u001b[0m\u001b[0mclick\u001b[0m\u001b[1;33m(\u001b[0m\u001b[1;33m)\u001b[0m\u001b[1;33m\u001b[0m\u001b[1;33m\u001b[0m\u001b[0m\n\u001b[0m",
      "\u001b[1;32m~\\anaconda3\\envs\\spyder1\\lib\\site-packages\\selenium\\webdriver\\remote\\webelement.py\u001b[0m in \u001b[0;36mclick\u001b[1;34m(self)\u001b[0m\n\u001b[0;32m     78\u001b[0m     \u001b[1;32mdef\u001b[0m \u001b[0mclick\u001b[0m\u001b[1;33m(\u001b[0m\u001b[0mself\u001b[0m\u001b[1;33m)\u001b[0m\u001b[1;33m:\u001b[0m\u001b[1;33m\u001b[0m\u001b[1;33m\u001b[0m\u001b[0m\n\u001b[0;32m     79\u001b[0m         \u001b[1;34m\"\"\"Clicks the element.\"\"\"\u001b[0m\u001b[1;33m\u001b[0m\u001b[1;33m\u001b[0m\u001b[0m\n\u001b[1;32m---> 80\u001b[1;33m         \u001b[0mself\u001b[0m\u001b[1;33m.\u001b[0m\u001b[0m_execute\u001b[0m\u001b[1;33m(\u001b[0m\u001b[0mCommand\u001b[0m\u001b[1;33m.\u001b[0m\u001b[0mCLICK_ELEMENT\u001b[0m\u001b[1;33m)\u001b[0m\u001b[1;33m\u001b[0m\u001b[1;33m\u001b[0m\u001b[0m\n\u001b[0m\u001b[0;32m     81\u001b[0m \u001b[1;33m\u001b[0m\u001b[0m\n\u001b[0;32m     82\u001b[0m     \u001b[1;32mdef\u001b[0m \u001b[0msubmit\u001b[0m\u001b[1;33m(\u001b[0m\u001b[0mself\u001b[0m\u001b[1;33m)\u001b[0m\u001b[1;33m:\u001b[0m\u001b[1;33m\u001b[0m\u001b[1;33m\u001b[0m\u001b[0m\n",
      "\u001b[1;32m~\\anaconda3\\envs\\spyder1\\lib\\site-packages\\selenium\\webdriver\\remote\\webelement.py\u001b[0m in \u001b[0;36m_execute\u001b[1;34m(self, command, params)\u001b[0m\n\u001b[0;32m    631\u001b[0m             \u001b[0mparams\u001b[0m \u001b[1;33m=\u001b[0m \u001b[1;33m{\u001b[0m\u001b[1;33m}\u001b[0m\u001b[1;33m\u001b[0m\u001b[1;33m\u001b[0m\u001b[0m\n\u001b[0;32m    632\u001b[0m         \u001b[0mparams\u001b[0m\u001b[1;33m[\u001b[0m\u001b[1;34m'id'\u001b[0m\u001b[1;33m]\u001b[0m \u001b[1;33m=\u001b[0m \u001b[0mself\u001b[0m\u001b[1;33m.\u001b[0m\u001b[0m_id\u001b[0m\u001b[1;33m\u001b[0m\u001b[1;33m\u001b[0m\u001b[0m\n\u001b[1;32m--> 633\u001b[1;33m         \u001b[1;32mreturn\u001b[0m \u001b[0mself\u001b[0m\u001b[1;33m.\u001b[0m\u001b[0m_parent\u001b[0m\u001b[1;33m.\u001b[0m\u001b[0mexecute\u001b[0m\u001b[1;33m(\u001b[0m\u001b[0mcommand\u001b[0m\u001b[1;33m,\u001b[0m \u001b[0mparams\u001b[0m\u001b[1;33m)\u001b[0m\u001b[1;33m\u001b[0m\u001b[1;33m\u001b[0m\u001b[0m\n\u001b[0m\u001b[0;32m    634\u001b[0m \u001b[1;33m\u001b[0m\u001b[0m\n\u001b[0;32m    635\u001b[0m     \u001b[1;32mdef\u001b[0m \u001b[0mfind_element\u001b[0m\u001b[1;33m(\u001b[0m\u001b[0mself\u001b[0m\u001b[1;33m,\u001b[0m \u001b[0mby\u001b[0m\u001b[1;33m=\u001b[0m\u001b[0mBy\u001b[0m\u001b[1;33m.\u001b[0m\u001b[0mID\u001b[0m\u001b[1;33m,\u001b[0m \u001b[0mvalue\u001b[0m\u001b[1;33m=\u001b[0m\u001b[1;32mNone\u001b[0m\u001b[1;33m)\u001b[0m\u001b[1;33m:\u001b[0m\u001b[1;33m\u001b[0m\u001b[1;33m\u001b[0m\u001b[0m\n",
      "\u001b[1;32m~\\anaconda3\\envs\\spyder1\\lib\\site-packages\\selenium\\webdriver\\remote\\webdriver.py\u001b[0m in \u001b[0;36mexecute\u001b[1;34m(self, driver_command, params)\u001b[0m\n\u001b[0;32m    319\u001b[0m         \u001b[0mresponse\u001b[0m \u001b[1;33m=\u001b[0m \u001b[0mself\u001b[0m\u001b[1;33m.\u001b[0m\u001b[0mcommand_executor\u001b[0m\u001b[1;33m.\u001b[0m\u001b[0mexecute\u001b[0m\u001b[1;33m(\u001b[0m\u001b[0mdriver_command\u001b[0m\u001b[1;33m,\u001b[0m \u001b[0mparams\u001b[0m\u001b[1;33m)\u001b[0m\u001b[1;33m\u001b[0m\u001b[1;33m\u001b[0m\u001b[0m\n\u001b[0;32m    320\u001b[0m         \u001b[1;32mif\u001b[0m \u001b[0mresponse\u001b[0m\u001b[1;33m:\u001b[0m\u001b[1;33m\u001b[0m\u001b[1;33m\u001b[0m\u001b[0m\n\u001b[1;32m--> 321\u001b[1;33m             \u001b[0mself\u001b[0m\u001b[1;33m.\u001b[0m\u001b[0merror_handler\u001b[0m\u001b[1;33m.\u001b[0m\u001b[0mcheck_response\u001b[0m\u001b[1;33m(\u001b[0m\u001b[0mresponse\u001b[0m\u001b[1;33m)\u001b[0m\u001b[1;33m\u001b[0m\u001b[1;33m\u001b[0m\u001b[0m\n\u001b[0m\u001b[0;32m    322\u001b[0m             response['value'] = self._unwrap_value(\n\u001b[0;32m    323\u001b[0m                 response.get('value', None))\n",
      "\u001b[1;32m~\\anaconda3\\envs\\spyder1\\lib\\site-packages\\selenium\\webdriver\\remote\\errorhandler.py\u001b[0m in \u001b[0;36mcheck_response\u001b[1;34m(self, response)\u001b[0m\n\u001b[0;32m    240\u001b[0m                 \u001b[0malert_text\u001b[0m \u001b[1;33m=\u001b[0m \u001b[0mvalue\u001b[0m\u001b[1;33m[\u001b[0m\u001b[1;34m'alert'\u001b[0m\u001b[1;33m]\u001b[0m\u001b[1;33m.\u001b[0m\u001b[0mget\u001b[0m\u001b[1;33m(\u001b[0m\u001b[1;34m'text'\u001b[0m\u001b[1;33m)\u001b[0m\u001b[1;33m\u001b[0m\u001b[1;33m\u001b[0m\u001b[0m\n\u001b[0;32m    241\u001b[0m             \u001b[1;32mraise\u001b[0m \u001b[0mexception_class\u001b[0m\u001b[1;33m(\u001b[0m\u001b[0mmessage\u001b[0m\u001b[1;33m,\u001b[0m \u001b[0mscreen\u001b[0m\u001b[1;33m,\u001b[0m \u001b[0mstacktrace\u001b[0m\u001b[1;33m,\u001b[0m \u001b[0malert_text\u001b[0m\u001b[1;33m)\u001b[0m\u001b[1;33m\u001b[0m\u001b[1;33m\u001b[0m\u001b[0m\n\u001b[1;32m--> 242\u001b[1;33m         \u001b[1;32mraise\u001b[0m \u001b[0mexception_class\u001b[0m\u001b[1;33m(\u001b[0m\u001b[0mmessage\u001b[0m\u001b[1;33m,\u001b[0m \u001b[0mscreen\u001b[0m\u001b[1;33m,\u001b[0m \u001b[0mstacktrace\u001b[0m\u001b[1;33m)\u001b[0m\u001b[1;33m\u001b[0m\u001b[1;33m\u001b[0m\u001b[0m\n\u001b[0m\u001b[0;32m    243\u001b[0m \u001b[1;33m\u001b[0m\u001b[0m\n\u001b[0;32m    244\u001b[0m     \u001b[1;32mdef\u001b[0m \u001b[0m_value_or_default\u001b[0m\u001b[1;33m(\u001b[0m\u001b[0mself\u001b[0m\u001b[1;33m,\u001b[0m \u001b[0mobj\u001b[0m\u001b[1;33m,\u001b[0m \u001b[0mkey\u001b[0m\u001b[1;33m,\u001b[0m \u001b[0mdefault\u001b[0m\u001b[1;33m)\u001b[0m\u001b[1;33m:\u001b[0m\u001b[1;33m\u001b[0m\u001b[1;33m\u001b[0m\u001b[0m\n",
      "\u001b[1;31mElementNotInteractableException\u001b[0m: Message: element not interactable\n  (Session info: chrome=102.0.5005.115)\n"
     ]
    }
   ],
   "source": [
    "driver.find_element_by_id(\"chk-Delhi / NCR-cityTypeGid-\").click()"
   ]
  },
  {
   "cell_type": "code",
   "execution_count": null,
   "id": "3d52459f",
   "metadata": {},
   "outputs": [],
   "source": []
  },
  {
   "cell_type": "code",
   "execution_count": 14,
   "id": "0cca5e95",
   "metadata": {},
   "outputs": [
    {
     "ename": "IndexError",
     "evalue": "list index out of range",
     "output_type": "error",
     "traceback": [
      "\u001b[1;31m---------------------------------------------------------------------------\u001b[0m",
      "\u001b[1;31mIndexError\u001b[0m                                Traceback (most recent call last)",
      "\u001b[1;32m~\\AppData\\Local\\Temp/ipykernel_14248/4168927625.py\u001b[0m in \u001b[0;36m<module>\u001b[1;34m\u001b[0m\n\u001b[1;32m----> 1\u001b[1;33m \u001b[0mcheckbox1\u001b[0m\u001b[1;33m[\u001b[0m\u001b[1;36m1\u001b[0m\u001b[1;33m]\u001b[0m\u001b[1;33m.\u001b[0m\u001b[0mclick\u001b[0m\u001b[1;33m(\u001b[0m\u001b[1;33m)\u001b[0m\u001b[1;33m\u001b[0m\u001b[1;33m\u001b[0m\u001b[0m\n\u001b[0m",
      "\u001b[1;31mIndexError\u001b[0m: list index out of range"
     ]
    }
   ],
   "source": [
    "checkbox1[1].click()"
   ]
  },
  {
   "cell_type": "code",
   "execution_count": 26,
   "id": "33f54686",
   "metadata": {},
   "outputs": [
    {
     "ename": "NoSuchElementException",
     "evalue": "Message: no such element: Unable to locate element: {\"method\":\"xpath\",\"selector\":\"//div[@class='qsbWrapper']//div[@class='qsb']//div[@class='qsbSubmit']\"}\n  (Session info: chrome=102.0.5005.115)\n",
     "output_type": "error",
     "traceback": [
      "\u001b[1;31m---------------------------------------------------------------------------\u001b[0m",
      "\u001b[1;31mNoSuchElementException\u001b[0m                    Traceback (most recent call last)",
      "\u001b[1;32m~\\AppData\\Local\\Temp/ipykernel_3416/587103315.py\u001b[0m in \u001b[0;36m<module>\u001b[1;34m\u001b[0m\n\u001b[1;32m----> 1\u001b[1;33m \u001b[0mdriver\u001b[0m\u001b[1;33m.\u001b[0m\u001b[0mfind_element_by_xpath\u001b[0m\u001b[1;33m(\u001b[0m\u001b[1;34m\"//div[@class='qsbWrapper']//div[@class='qsb']//div[@class='qsbSubmit']\"\u001b[0m\u001b[1;33m)\u001b[0m\u001b[1;33m.\u001b[0m\u001b[0mclick\u001b[0m\u001b[1;33m(\u001b[0m\u001b[1;33m)\u001b[0m\u001b[1;33m\u001b[0m\u001b[1;33m\u001b[0m\u001b[0m\n\u001b[0m",
      "\u001b[1;32m~\\anaconda3\\envs\\spyder1\\lib\\site-packages\\selenium\\webdriver\\remote\\webdriver.py\u001b[0m in \u001b[0;36mfind_element_by_xpath\u001b[1;34m(self, xpath)\u001b[0m\n\u001b[0;32m    392\u001b[0m             \u001b[0melement\u001b[0m \u001b[1;33m=\u001b[0m \u001b[0mdriver\u001b[0m\u001b[1;33m.\u001b[0m\u001b[0mfind_element_by_xpath\u001b[0m\u001b[1;33m(\u001b[0m\u001b[1;34m'//div/td[1]'\u001b[0m\u001b[1;33m)\u001b[0m\u001b[1;33m\u001b[0m\u001b[1;33m\u001b[0m\u001b[0m\n\u001b[0;32m    393\u001b[0m         \"\"\"\n\u001b[1;32m--> 394\u001b[1;33m         \u001b[1;32mreturn\u001b[0m \u001b[0mself\u001b[0m\u001b[1;33m.\u001b[0m\u001b[0mfind_element\u001b[0m\u001b[1;33m(\u001b[0m\u001b[0mby\u001b[0m\u001b[1;33m=\u001b[0m\u001b[0mBy\u001b[0m\u001b[1;33m.\u001b[0m\u001b[0mXPATH\u001b[0m\u001b[1;33m,\u001b[0m \u001b[0mvalue\u001b[0m\u001b[1;33m=\u001b[0m\u001b[0mxpath\u001b[0m\u001b[1;33m)\u001b[0m\u001b[1;33m\u001b[0m\u001b[1;33m\u001b[0m\u001b[0m\n\u001b[0m\u001b[0;32m    395\u001b[0m \u001b[1;33m\u001b[0m\u001b[0m\n\u001b[0;32m    396\u001b[0m     \u001b[1;32mdef\u001b[0m \u001b[0mfind_elements_by_xpath\u001b[0m\u001b[1;33m(\u001b[0m\u001b[0mself\u001b[0m\u001b[1;33m,\u001b[0m \u001b[0mxpath\u001b[0m\u001b[1;33m)\u001b[0m\u001b[1;33m:\u001b[0m\u001b[1;33m\u001b[0m\u001b[1;33m\u001b[0m\u001b[0m\n",
      "\u001b[1;32m~\\anaconda3\\envs\\spyder1\\lib\\site-packages\\selenium\\webdriver\\remote\\webdriver.py\u001b[0m in \u001b[0;36mfind_element\u001b[1;34m(self, by, value)\u001b[0m\n\u001b[0;32m    974\u001b[0m                 \u001b[0mby\u001b[0m \u001b[1;33m=\u001b[0m \u001b[0mBy\u001b[0m\u001b[1;33m.\u001b[0m\u001b[0mCSS_SELECTOR\u001b[0m\u001b[1;33m\u001b[0m\u001b[1;33m\u001b[0m\u001b[0m\n\u001b[0;32m    975\u001b[0m                 \u001b[0mvalue\u001b[0m \u001b[1;33m=\u001b[0m \u001b[1;34m'[name=\"%s\"]'\u001b[0m \u001b[1;33m%\u001b[0m \u001b[0mvalue\u001b[0m\u001b[1;33m\u001b[0m\u001b[1;33m\u001b[0m\u001b[0m\n\u001b[1;32m--> 976\u001b[1;33m         return self.execute(Command.FIND_ELEMENT, {\n\u001b[0m\u001b[0;32m    977\u001b[0m             \u001b[1;34m'using'\u001b[0m\u001b[1;33m:\u001b[0m \u001b[0mby\u001b[0m\u001b[1;33m,\u001b[0m\u001b[1;33m\u001b[0m\u001b[1;33m\u001b[0m\u001b[0m\n\u001b[0;32m    978\u001b[0m             'value': value})['value']\n",
      "\u001b[1;32m~\\anaconda3\\envs\\spyder1\\lib\\site-packages\\selenium\\webdriver\\remote\\webdriver.py\u001b[0m in \u001b[0;36mexecute\u001b[1;34m(self, driver_command, params)\u001b[0m\n\u001b[0;32m    319\u001b[0m         \u001b[0mresponse\u001b[0m \u001b[1;33m=\u001b[0m \u001b[0mself\u001b[0m\u001b[1;33m.\u001b[0m\u001b[0mcommand_executor\u001b[0m\u001b[1;33m.\u001b[0m\u001b[0mexecute\u001b[0m\u001b[1;33m(\u001b[0m\u001b[0mdriver_command\u001b[0m\u001b[1;33m,\u001b[0m \u001b[0mparams\u001b[0m\u001b[1;33m)\u001b[0m\u001b[1;33m\u001b[0m\u001b[1;33m\u001b[0m\u001b[0m\n\u001b[0;32m    320\u001b[0m         \u001b[1;32mif\u001b[0m \u001b[0mresponse\u001b[0m\u001b[1;33m:\u001b[0m\u001b[1;33m\u001b[0m\u001b[1;33m\u001b[0m\u001b[0m\n\u001b[1;32m--> 321\u001b[1;33m             \u001b[0mself\u001b[0m\u001b[1;33m.\u001b[0m\u001b[0merror_handler\u001b[0m\u001b[1;33m.\u001b[0m\u001b[0mcheck_response\u001b[0m\u001b[1;33m(\u001b[0m\u001b[0mresponse\u001b[0m\u001b[1;33m)\u001b[0m\u001b[1;33m\u001b[0m\u001b[1;33m\u001b[0m\u001b[0m\n\u001b[0m\u001b[0;32m    322\u001b[0m             response['value'] = self._unwrap_value(\n\u001b[0;32m    323\u001b[0m                 response.get('value', None))\n",
      "\u001b[1;32m~\\anaconda3\\envs\\spyder1\\lib\\site-packages\\selenium\\webdriver\\remote\\errorhandler.py\u001b[0m in \u001b[0;36mcheck_response\u001b[1;34m(self, response)\u001b[0m\n\u001b[0;32m    240\u001b[0m                 \u001b[0malert_text\u001b[0m \u001b[1;33m=\u001b[0m \u001b[0mvalue\u001b[0m\u001b[1;33m[\u001b[0m\u001b[1;34m'alert'\u001b[0m\u001b[1;33m]\u001b[0m\u001b[1;33m.\u001b[0m\u001b[0mget\u001b[0m\u001b[1;33m(\u001b[0m\u001b[1;34m'text'\u001b[0m\u001b[1;33m)\u001b[0m\u001b[1;33m\u001b[0m\u001b[1;33m\u001b[0m\u001b[0m\n\u001b[0;32m    241\u001b[0m             \u001b[1;32mraise\u001b[0m \u001b[0mexception_class\u001b[0m\u001b[1;33m(\u001b[0m\u001b[0mmessage\u001b[0m\u001b[1;33m,\u001b[0m \u001b[0mscreen\u001b[0m\u001b[1;33m,\u001b[0m \u001b[0mstacktrace\u001b[0m\u001b[1;33m,\u001b[0m \u001b[0malert_text\u001b[0m\u001b[1;33m)\u001b[0m\u001b[1;33m\u001b[0m\u001b[1;33m\u001b[0m\u001b[0m\n\u001b[1;32m--> 242\u001b[1;33m         \u001b[1;32mraise\u001b[0m \u001b[0mexception_class\u001b[0m\u001b[1;33m(\u001b[0m\u001b[0mmessage\u001b[0m\u001b[1;33m,\u001b[0m \u001b[0mscreen\u001b[0m\u001b[1;33m,\u001b[0m \u001b[0mstacktrace\u001b[0m\u001b[1;33m)\u001b[0m\u001b[1;33m\u001b[0m\u001b[1;33m\u001b[0m\u001b[0m\n\u001b[0m\u001b[0;32m    243\u001b[0m \u001b[1;33m\u001b[0m\u001b[0m\n\u001b[0;32m    244\u001b[0m     \u001b[1;32mdef\u001b[0m \u001b[0m_value_or_default\u001b[0m\u001b[1;33m(\u001b[0m\u001b[0mself\u001b[0m\u001b[1;33m,\u001b[0m \u001b[0mobj\u001b[0m\u001b[1;33m,\u001b[0m \u001b[0mkey\u001b[0m\u001b[1;33m,\u001b[0m \u001b[0mdefault\u001b[0m\u001b[1;33m)\u001b[0m\u001b[1;33m:\u001b[0m\u001b[1;33m\u001b[0m\u001b[1;33m\u001b[0m\u001b[0m\n",
      "\u001b[1;31mNoSuchElementException\u001b[0m: Message: no such element: Unable to locate element: {\"method\":\"xpath\",\"selector\":\"//div[@class='qsbWrapper']//div[@class='qsb']//div[@class='qsbSubmit']\"}\n  (Session info: chrome=102.0.5005.115)\n"
     ]
    }
   ],
   "source": [
    "#driver.find_element_by_xpath(\"//div[@class='qsbWrapper']//div[@class='qsb']//div[@class='qsbSubmit']\").click()"
   ]
  },
  {
   "cell_type": "code",
   "execution_count": null,
   "id": "a1a6f120",
   "metadata": {},
   "outputs": [],
   "source": []
  },
  {
   "cell_type": "code",
   "execution_count": null,
   "id": "d1835c53",
   "metadata": {},
   "outputs": [],
   "source": []
  },
  {
   "cell_type": "code",
   "execution_count": null,
   "id": "bcd05b11",
   "metadata": {},
   "outputs": [],
   "source": []
  },
  {
   "cell_type": "code",
   "execution_count": null,
   "id": "c796f5c1",
   "metadata": {},
   "outputs": [],
   "source": []
  },
  {
   "cell_type": "code",
   "execution_count": null,
   "id": "7ba98441",
   "metadata": {},
   "outputs": [],
   "source": []
  },
  {
   "cell_type": "code",
   "execution_count": null,
   "id": "f97f42eb",
   "metadata": {},
   "outputs": [],
   "source": []
  },
  {
   "cell_type": "code",
   "execution_count": null,
   "id": "992f5a42",
   "metadata": {},
   "outputs": [],
   "source": []
  },
  {
   "cell_type": "code",
   "execution_count": null,
   "id": "83216732",
   "metadata": {},
   "outputs": [],
   "source": []
  },
  {
   "cell_type": "code",
   "execution_count": null,
   "id": "ceb674f7",
   "metadata": {},
   "outputs": [],
   "source": []
  },
  {
   "cell_type": "code",
   "execution_count": null,
   "id": "32f4a2e0",
   "metadata": {},
   "outputs": [],
   "source": []
  },
  {
   "cell_type": "markdown",
   "id": "8068134f",
   "metadata": {},
   "source": [
    "### Q4: Scrape data of first 100 sunglasses listings on flipkart.com. You have to scrape four attributes:\n",
    "1. Brand\n",
    "2. Product Description\n",
    "3. Price"
   ]
  },
  {
   "cell_type": "code",
   "execution_count": null,
   "id": "d763c000",
   "metadata": {},
   "outputs": [],
   "source": [
    "from selenium import webdriver\n",
    "from selenium.webdriver.common.keys import Keys\n",
    "import pandas as pd\n",
    "import time"
   ]
  },
  {
   "cell_type": "code",
   "execution_count": null,
   "id": "53a4891c",
   "metadata": {},
   "outputs": [],
   "source": [
    "driver = webdriver.Chrome('C:/Users/Usuario/Downloads/chromedriver_win32/chromedriver.exe')"
   ]
  },
  {
   "cell_type": "code",
   "execution_count": null,
   "id": "bb6b50e0",
   "metadata": {},
   "outputs": [],
   "source": [
    "driver.get('https://www.flipkart.com/')"
   ]
  },
  {
   "cell_type": "code",
   "execution_count": null,
   "id": "75b07a92",
   "metadata": {},
   "outputs": [],
   "source": [
    "search_bar = driver.find_element_by_class_name(\"_3704LK\")"
   ]
  },
  {
   "cell_type": "code",
   "execution_count": null,
   "id": "e72a5052",
   "metadata": {},
   "outputs": [],
   "source": [
    "search_bar.clear()"
   ]
  },
  {
   "cell_type": "code",
   "execution_count": null,
   "id": "3475a49f",
   "metadata": {},
   "outputs": [],
   "source": [
    "search_bar.send_keys(\"sunglasses\")"
   ]
  },
  {
   "cell_type": "code",
   "execution_count": null,
   "id": "8328367d",
   "metadata": {},
   "outputs": [],
   "source": [
    "search_bar.send_keys(Keys.RETURN)"
   ]
  },
  {
   "cell_type": "code",
   "execution_count": null,
   "id": "02e4389a",
   "metadata": {},
   "outputs": [],
   "source": [
    "brand_sunglasses = driver.find_elements_by_class_name(\"_2WkVRV\")"
   ]
  },
  {
   "cell_type": "code",
   "execution_count": null,
   "id": "d6847f29",
   "metadata": {},
   "outputs": [],
   "source": [
    "brand_sunglasses = [    title.text for title in brand_sunglasses    ]"
   ]
  },
  {
   "cell_type": "code",
   "execution_count": null,
   "id": "28e6ff81",
   "metadata": {},
   "outputs": [],
   "source": [
    "print(brand_sunglasses)"
   ]
  },
  {
   "cell_type": "code",
   "execution_count": null,
   "id": "e050915e",
   "metadata": {},
   "outputs": [],
   "source": []
  },
  {
   "cell_type": "code",
   "execution_count": null,
   "id": "f8b1b8d2",
   "metadata": {},
   "outputs": [],
   "source": []
  },
  {
   "cell_type": "code",
   "execution_count": null,
   "id": "f71d66d7",
   "metadata": {},
   "outputs": [],
   "source": []
  },
  {
   "cell_type": "code",
   "execution_count": null,
   "id": "c23e5b76",
   "metadata": {},
   "outputs": [],
   "source": []
  },
  {
   "cell_type": "code",
   "execution_count": null,
   "id": "0358331d",
   "metadata": {},
   "outputs": [],
   "source": []
  },
  {
   "cell_type": "markdown",
   "id": "f9d712e5",
   "metadata": {},
   "source": [
    "### Q5: Scrape 100 reviews data from flipkart.com for iphone11 phone.\n",
    "This task will be done in following steps:\n",
    "1. First get the webpage https://www.flipkart.com/\n",
    "2. Enter “iphone 11” in “Search” field .\n",
    "3. Then click the search button."
   ]
  },
  {
   "cell_type": "code",
   "execution_count": 1,
   "id": "d7d7563f",
   "metadata": {},
   "outputs": [],
   "source": [
    "from pprint import pprint\n",
    "from selenium import webdriver\n",
    "from selenium.webdriver.common.keys import Keys\n",
    "from selenium.webdriver.support.ui import WebDriverWait\n",
    "from selenium.webdriver.support import expected_conditions as EC\n",
    "from selenium.webdriver.common.by import By\n",
    "from selenium.common.exceptions import TimeoutException"
   ]
  },
  {
   "cell_type": "code",
   "execution_count": 2,
   "id": "9f8508d4",
   "metadata": {},
   "outputs": [],
   "source": [
    "driver = webdriver.Chrome(r\"C:/Users/Usuario/Downloads/chromedriver_win32/chromedriver.exe\")\n",
    "driver.get('https://www.flipkart.com/')"
   ]
  },
  {
   "cell_type": "code",
   "execution_count": 3,
   "id": "fb7a5c5b",
   "metadata": {},
   "outputs": [],
   "source": [
    "search_bar = driver.find_element_by_class_name(\"_3704LK\")"
   ]
  },
  {
   "cell_type": "code",
   "execution_count": 4,
   "id": "815b16fd",
   "metadata": {},
   "outputs": [],
   "source": [
    "search_bar.clear()"
   ]
  },
  {
   "cell_type": "code",
   "execution_count": 5,
   "id": "c6c7c973",
   "metadata": {},
   "outputs": [],
   "source": [
    "search_bar.send_keys(\"iphone 11\")"
   ]
  },
  {
   "cell_type": "code",
   "execution_count": 6,
   "id": "eff51324",
   "metadata": {},
   "outputs": [],
   "source": [
    "search_bar.send_keys(Keys.RETURN)"
   ]
  },
  {
   "cell_type": "markdown",
   "id": "ed34da0c",
   "metadata": {},
   "source": [
    "Getting only 1 element back with Xpath find method problem solved:\n",
    "* https://stackoverflow.com/questions/67921583/xpath-i-only-get-1-element-back-even-the-inspector-tools-shows-7\n",
    "(Check answer and post shared by user Siebe Jongebloed: https://stackoverflow.com/questions/35606708/what-is-the-difference-between-and-in-xpath/35608304#35608304)   \n",
    "* https://stackoverflow.com/questions/71376268/findelementsby-xpath-finds-elements-only-when-given-full-path\n",
    "(Check answer by user cruisepandey, helped to remember how to use Xpath find method and how to make sure\n",
    "that the desired element or elements are highlighted)"
   ]
  },
  {
   "cell_type": "code",
   "execution_count": 7,
   "id": "7fd0ace2",
   "metadata": {},
   "outputs": [],
   "source": [
    "product_links_list = []"
   ]
  },
  {
   "cell_type": "code",
   "execution_count": 8,
   "id": "49206787",
   "metadata": {},
   "outputs": [
    {
     "name": "stdout",
     "output_type": "stream",
     "text": [
      "[<selenium.webdriver.remote.webelement.WebElement (session=\"0184fb2dc260377773f326bf51847b02\", element=\"aca6444c-5c60-49b5-a9d1-c323e425a191\")>, <selenium.webdriver.remote.webelement.WebElement (session=\"0184fb2dc260377773f326bf51847b02\", element=\"0a83b1d4-2bcd-4e30-82f1-c2cd704941ac\")>, <selenium.webdriver.remote.webelement.WebElement (session=\"0184fb2dc260377773f326bf51847b02\", element=\"fe93e677-db16-4c74-9669-490effc1ce37\")>, <selenium.webdriver.remote.webelement.WebElement (session=\"0184fb2dc260377773f326bf51847b02\", element=\"7e665391-6728-45c4-a95b-3c805969a5c9\")>, <selenium.webdriver.remote.webelement.WebElement (session=\"0184fb2dc260377773f326bf51847b02\", element=\"6f307b1f-8a84-4901-8d3c-6b26a58562ec\")>, <selenium.webdriver.remote.webelement.WebElement (session=\"0184fb2dc260377773f326bf51847b02\", element=\"a1052539-6219-47aa-8091-e9c87fa3cac2\")>, <selenium.webdriver.remote.webelement.WebElement (session=\"0184fb2dc260377773f326bf51847b02\", element=\"12a7a959-1c74-4093-9be5-97c201c56273\")>, <selenium.webdriver.remote.webelement.WebElement (session=\"0184fb2dc260377773f326bf51847b02\", element=\"2e7563f9-fff4-4a7d-af7f-ef195bc64352\")>, <selenium.webdriver.remote.webelement.WebElement (session=\"0184fb2dc260377773f326bf51847b02\", element=\"ec5d3018-5590-4db6-a85d-a740ee03c456\")>, <selenium.webdriver.remote.webelement.WebElement (session=\"0184fb2dc260377773f326bf51847b02\", element=\"2ed10137-e2df-41e6-a17a-7f6316ac2e05\")>, <selenium.webdriver.remote.webelement.WebElement (session=\"0184fb2dc260377773f326bf51847b02\", element=\"12bd9255-944f-4077-aa45-4fa465bf4eff\")>, <selenium.webdriver.remote.webelement.WebElement (session=\"0184fb2dc260377773f326bf51847b02\", element=\"12fd48e5-065e-4596-ba6e-8c008b7e950a\")>, <selenium.webdriver.remote.webelement.WebElement (session=\"0184fb2dc260377773f326bf51847b02\", element=\"cd389079-8bc1-44e6-b9f9-3b9cfca725a0\")>, <selenium.webdriver.remote.webelement.WebElement (session=\"0184fb2dc260377773f326bf51847b02\", element=\"9e29ff89-8b0f-4c89-ac1d-20592d3adf1b\")>, <selenium.webdriver.remote.webelement.WebElement (session=\"0184fb2dc260377773f326bf51847b02\", element=\"3fe0cb50-27ad-4efd-8528-9310d7898b07\")>, <selenium.webdriver.remote.webelement.WebElement (session=\"0184fb2dc260377773f326bf51847b02\", element=\"82d56ce0-4000-47f5-99c7-d1e4b6f238b4\")>, <selenium.webdriver.remote.webelement.WebElement (session=\"0184fb2dc260377773f326bf51847b02\", element=\"3d96b168-cf09-4921-8411-01113622ea3a\")>, <selenium.webdriver.remote.webelement.WebElement (session=\"0184fb2dc260377773f326bf51847b02\", element=\"fecc0a04-234d-41fd-b75b-263e4f701fa9\")>, <selenium.webdriver.remote.webelement.WebElement (session=\"0184fb2dc260377773f326bf51847b02\", element=\"c32e748d-4991-48ef-91af-8baf18ab0383\")>, <selenium.webdriver.remote.webelement.WebElement (session=\"0184fb2dc260377773f326bf51847b02\", element=\"2bc64cda-064a-4374-b0c0-1ac9c18c2db3\")>, <selenium.webdriver.remote.webelement.WebElement (session=\"0184fb2dc260377773f326bf51847b02\", element=\"34c223e6-acf7-46e6-a816-56066a530575\")>, <selenium.webdriver.remote.webelement.WebElement (session=\"0184fb2dc260377773f326bf51847b02\", element=\"f8174158-18b5-4273-b883-dc3493d412f0\")>, <selenium.webdriver.remote.webelement.WebElement (session=\"0184fb2dc260377773f326bf51847b02\", element=\"0ade4503-faf3-44ca-8113-82509bcb3a92\")>, <selenium.webdriver.remote.webelement.WebElement (session=\"0184fb2dc260377773f326bf51847b02\", element=\"d1693dbd-16ae-4ebc-92da-910e27487ac7\")>]\n"
     ]
    }
   ],
   "source": [
    "product_links = WebDriverWait(driver, 10).until(EC.visibility_of_all_elements_located((By.XPATH, \"//div[@id='container']//div//div[@class='_36fx1h _6t1WkM _3HqJxg']//div[@class='_1YokD2 _2GoDe3']//div[@class='_1YokD2 _3Mn1Gg']//div[@class='_1AtVbE col-12-12']//a[@class='_1fQZEK']\")))\n",
    "print(product_links)"
   ]
  },
  {
   "cell_type": "code",
   "execution_count": 9,
   "id": "74ae8cf4",
   "metadata": {},
   "outputs": [],
   "source": [
    "#i.get_attribute(\"href\") for i in product_links\n",
    "for i in product_links:\n",
    "    product_links_list.append(i.get_attribute(\"href\"))\n",
    "    "
   ]
  },
  {
   "cell_type": "code",
   "execution_count": 10,
   "id": "3417c59e",
   "metadata": {},
   "outputs": [
    {
     "data": {
      "text/plain": [
       "['https://www.flipkart.com/apple-iphone-11-white-64-gb/p/itmfc6a7091eb20b?pid=MOBFWQ6BVWVEH3XE&lid=LSTMOBFWQ6BVWVEH3XEB1SFMZ&marketplace=FLIPKART&q=iphone+11&store=tyy%2F4io&srno=s_1_1&otracker=search&otracker1=search&fm=organic&iid=f82eed90-9b12-47d4-bc0a-ddb303533d02.MOBFWQ6BVWVEH3XE.SEARCH&ppt=hp&ppn=homepage&ssid=g4bnxtryv40000001655637800742&qH=f6cdfdaa9f3c23f3',\n",
       " 'https://www.flipkart.com/apple-iphone-11-black-128-gb/p/itm8244e8d955aba?pid=MOBFWQ6BKRYBP5X8&lid=LSTMOBFWQ6BKRYBP5X8X0KYUG&marketplace=FLIPKART&q=iphone+11&store=tyy%2F4io&srno=s_1_2&otracker=search&otracker1=search&fm=organic&iid=f82eed90-9b12-47d4-bc0a-ddb303533d02.MOBFWQ6BKRYBP5X8.SEARCH&ppt=hp&ppn=homepage&ssid=g4bnxtryv40000001655637800742&qH=f6cdfdaa9f3c23f3',\n",
       " 'https://www.flipkart.com/apple-iphone-11-white-128-gb/p/itme32df47ea6742?pid=MOBFWQ6B7KKRXDDS&lid=LSTMOBFWQ6B7KKRXDDSMBIFYZ&marketplace=FLIPKART&q=iphone+11&store=tyy%2F4io&srno=s_1_3&otracker=search&otracker1=search&fm=organic&iid=f82eed90-9b12-47d4-bc0a-ddb303533d02.MOBFWQ6B7KKRXDDS.SEARCH&ppt=hp&ppn=homepage&ssid=g4bnxtryv40000001655637800742&qH=f6cdfdaa9f3c23f3',\n",
       " 'https://www.flipkart.com/apple-iphone-11-black-64-gb/p/itm4e5041ba101fd?pid=MOBFWQ6BXGJCEYNY&lid=LSTMOBFWQ6BXGJCEYNYL0BETT&marketplace=FLIPKART&q=iphone+11&store=tyy%2F4io&srno=s_1_4&otracker=search&otracker1=search&fm=organic&iid=f82eed90-9b12-47d4-bc0a-ddb303533d02.MOBFWQ6BXGJCEYNY.SEARCH&ppt=hp&ppn=homepage&ssid=g4bnxtryv40000001655637800742&qH=f6cdfdaa9f3c23f3',\n",
       " 'https://www.flipkart.com/apple-iphone-11-purple-128-gb/p/itmb7ca0b05522ff?pid=MOBFWQ6BEHFXGXGB&lid=LSTMOBFWQ6BEHFXGXGBMVHGLV&marketplace=FLIPKART&q=iphone+11&store=tyy%2F4io&srno=s_1_5&otracker=search&otracker1=search&fm=organic&iid=f82eed90-9b12-47d4-bc0a-ddb303533d02.MOBFWQ6BEHFXGXGB.SEARCH&ppt=hp&ppn=homepage&ssid=g4bnxtryv40000001655637800742&qH=f6cdfdaa9f3c23f3',\n",
       " 'https://www.flipkart.com/apple-iphone-11-purple-64-gb/p/itm2b8d03427ddac?pid=MOBFWQ6BTFFJKGKE&lid=LSTMOBFWQ6BTFFJKGKEPHMT2V&marketplace=FLIPKART&q=iphone+11&store=tyy%2F4io&srno=s_1_6&otracker=search&otracker1=search&fm=organic&iid=f82eed90-9b12-47d4-bc0a-ddb303533d02.MOBFWQ6BTFFJKGKE.SEARCH&ppt=hp&ppn=homepage&ssid=g4bnxtryv40000001655637800742&qH=f6cdfdaa9f3c23f3',\n",
       " 'https://www.flipkart.com/apple-iphone-11-red-64-gb/p/itmc3935326f2feb?pid=MOBFWQ6BYYV3FCU7&lid=LSTMOBFWQ6BYYV3FCU72AWLZZ&marketplace=FLIPKART&q=iphone+11&store=tyy%2F4io&srno=s_1_7&otracker=search&otracker1=search&fm=organic&iid=f82eed90-9b12-47d4-bc0a-ddb303533d02.MOBFWQ6BYYV3FCU7.SEARCH&ppt=hp&ppn=homepage&ssid=g4bnxtryv40000001655637800742&qH=f6cdfdaa9f3c23f3',\n",
       " 'https://www.flipkart.com/apple-iphone-11-red-128-gb/p/itm8d14bd0e33a1c?pid=MOBFWQ6BEZTNK59G&lid=LSTMOBFWQ6BEZTNK59G24ZQ2Y&marketplace=FLIPKART&q=iphone+11&store=tyy%2F4io&srno=s_1_8&otracker=search&otracker1=search&fm=organic&iid=f82eed90-9b12-47d4-bc0a-ddb303533d02.MOBFWQ6BEZTNK59G.SEARCH&ppt=hp&ppn=homepage&ssid=g4bnxtryv40000001655637800742&qH=f6cdfdaa9f3c23f3',\n",
       " 'https://www.flipkart.com/apple-iphone-11-green-64-gb/p/itm386a85013a3d1?pid=MOBFWQ6BHPMG29QM&lid=LSTMOBFWQ6BHPMG29QMSPPOYD&marketplace=FLIPKART&q=iphone+11&store=tyy%2F4io&srno=s_1_9&otracker=search&otracker1=search&fm=organic&iid=f82eed90-9b12-47d4-bc0a-ddb303533d02.MOBFWQ6BHPMG29QM.SEARCH&ppt=hp&ppn=homepage&ssid=g4bnxtryv40000001655637800742&qH=f6cdfdaa9f3c23f3',\n",
       " 'https://www.flipkart.com/apple-iphone-11-yellow-64-gb/p/itm39b1a0ba9ddcb?pid=MOBFWQ6BWGX9VRFS&lid=LSTMOBFWQ6BWGX9VRFSWACBGI&marketplace=FLIPKART&q=iphone+11&store=tyy%2F4io&srno=s_1_10&otracker=search&otracker1=search&fm=organic&iid=f82eed90-9b12-47d4-bc0a-ddb303533d02.MOBFWQ6BWGX9VRFS.SEARCH&ppt=hp&ppn=homepage&ssid=g4bnxtryv40000001655637800742&qH=f6cdfdaa9f3c23f3',\n",
       " 'https://www.flipkart.com/apple-iphone-11-yellow-128-gb/p/itm7030edc9e100e?pid=MOBFWQ6BWTSBJSHY&lid=LSTMOBFWQ6BWTSBJSHYXWKEX2&marketplace=FLIPKART&q=iphone+11&store=tyy%2F4io&srno=s_1_11&otracker=search&otracker1=search&fm=organic&iid=f82eed90-9b12-47d4-bc0a-ddb303533d02.MOBFWQ6BWTSBJSHY.SEARCH&ppt=hp&ppn=homepage&ssid=g4bnxtryv40000001655637800742&qH=f6cdfdaa9f3c23f3',\n",
       " 'https://www.flipkart.com/apple-iphone-11-green-128-gb/p/itm97529bbf640ca?pid=MOBFWQ6BHBKMH4BF&lid=LSTMOBFWQ6BHBKMH4BFPOHIFL&marketplace=FLIPKART&q=iphone+11&store=tyy%2F4io&srno=s_1_12&otracker=search&otracker1=search&fm=organic&iid=f82eed90-9b12-47d4-bc0a-ddb303533d02.MOBFWQ6BHBKMH4BF.SEARCH&ppt=hp&ppn=homepage&ssid=g4bnxtryv40000001655637800742&qH=f6cdfdaa9f3c23f3',\n",
       " 'https://www.flipkart.com/apple-iphone-6-gold-32-gb/p/itmewxhuufbzchrn?pid=MOBEWXHUSBXVJ7NZ&lid=LSTMOBEWXHUSBXVJ7NZVRFXNL&marketplace=FLIPKART&q=iphone+11&store=tyy%2F4io&srno=s_1_13&otracker=search&otracker1=search&fm=organic&iid=f82eed90-9b12-47d4-bc0a-ddb303533d02.MOBEWXHUSBXVJ7NZ.SEARCH&ppt=hp&ppn=homepage&ssid=g4bnxtryv40000001655637800742&qH=f6cdfdaa9f3c23f3',\n",
       " 'https://www.flipkart.com/apple-iphone-11-purple-64-gb-includes-earpods-power-adapter/p/itm0bc87f7f6d418?pid=MOBFKCTSBUSRZTQC&lid=LSTMOBFKCTSBUSRZTQCUVCBLN&marketplace=FLIPKART&q=iphone+11&store=tyy%2F4io&srno=s_1_14&otracker=search&otracker1=search&fm=organic&iid=f82eed90-9b12-47d4-bc0a-ddb303533d02.MOBFKCTSBUSRZTQC.SEARCH&ppt=hp&ppn=homepage&ssid=g4bnxtryv40000001655637800742&qH=f6cdfdaa9f3c23f3',\n",
       " 'https://www.flipkart.com/apple-iphone-11-red-64-gb-includes-earpods-power-adapter/p/itmc3e231769bc6f?pid=MOBFKCTSMSYH9YY8&lid=LSTMOBFKCTSMSYH9YY8TPE8O9&marketplace=FLIPKART&q=iphone+11&store=tyy%2F4io&srno=s_1_15&otracker=search&otracker1=search&fm=organic&iid=f82eed90-9b12-47d4-bc0a-ddb303533d02.MOBFKCTSMSYH9YY8.SEARCH&ppt=hp&ppn=homepage&ssid=g4bnxtryv40000001655637800742&qH=f6cdfdaa9f3c23f3',\n",
       " 'https://www.flipkart.com/apple-iphone-11-white-64-gb-includes-earpods-power-adapter/p/itm2644c3764fc54?pid=MOBFKCTSHAWGGFHM&lid=LSTMOBFKCTSHAWGGFHMNDVENT&marketplace=FLIPKART&q=iphone+11&store=tyy%2F4io&srno=s_1_16&otracker=search&otracker1=search&fm=organic&iid=f82eed90-9b12-47d4-bc0a-ddb303533d02.MOBFKCTSHAWGGFHM.SEARCH&ppt=hp&ppn=homepage&ssid=g4bnxtryv40000001655637800742&qH=f6cdfdaa9f3c23f3',\n",
       " 'https://www.flipkart.com/apple-iphone-11-yellow-128-gb-includes-earpods-power-adapter/p/itmc6f183ca66871?pid=MOBFKCTSDKHDNKZZ&lid=LSTMOBFKCTSDKHDNKZZX4DACK&marketplace=FLIPKART&q=iphone+11&store=tyy%2F4io&srno=s_1_17&otracker=search&otracker1=search&fm=organic&iid=f82eed90-9b12-47d4-bc0a-ddb303533d02.MOBFKCTSDKHDNKZZ.SEARCH&ppt=hp&ppn=homepage&ssid=g4bnxtryv40000001655637800742&qH=f6cdfdaa9f3c23f3',\n",
       " 'https://www.flipkart.com/apple-iphone-11-white-256-gb-includes-earpods-power-adapter/p/itm72c6a0329a687?pid=MOBFKCTSGGWXMCUN&lid=LSTMOBFKCTSGGWXMCUNQ61MHC&marketplace=FLIPKART&q=iphone+11&store=tyy%2F4io&srno=s_1_18&otracker=search&otracker1=search&fm=organic&iid=f82eed90-9b12-47d4-bc0a-ddb303533d02.MOBFKCTSGGWXMCUN.SEARCH&ppt=hp&ppn=homepage&ssid=g4bnxtryv40000001655637800742&qH=f6cdfdaa9f3c23f3',\n",
       " 'https://www.flipkart.com/apple-iphone-11-yellow-256-gb-includes-earpods-power-adapter/p/itm239975e8ef3b5?pid=MOBFKCTSH5TAPR6Z&lid=LSTMOBFKCTSH5TAPR6Z3J1NE3&marketplace=FLIPKART&q=iphone+11&store=tyy%2F4io&srno=s_1_19&otracker=search&otracker1=search&fm=organic&iid=f82eed90-9b12-47d4-bc0a-ddb303533d02.MOBFKCTSH5TAPR6Z.SEARCH&ppt=hp&ppn=homepage&ssid=g4bnxtryv40000001655637800742&qH=f6cdfdaa9f3c23f3',\n",
       " 'https://www.flipkart.com/apple-iphone-11-black-256-gb-includes-earpods-power-adapter/p/itmbd74993087f3f?pid=MOBFKCTSF9MFYANZ&lid=LSTMOBFKCTSF9MFYANZIR95PH&marketplace=FLIPKART&q=iphone+11&store=tyy%2F4io&srno=s_1_20&otracker=search&otracker1=search&fm=organic&iid=f82eed90-9b12-47d4-bc0a-ddb303533d02.MOBFKCTSF9MFYANZ.SEARCH&ppt=hp&ppn=homepage&ssid=g4bnxtryv40000001655637800742&qH=f6cdfdaa9f3c23f3',\n",
       " 'https://www.flipkart.com/apple-iphone-11-red-128-gb-includes-earpods-power-adapter/p/itmfb0dabc53df3f?pid=MOBFKCTS3ZVSZ3WP&lid=LSTMOBFKCTS3ZVSZ3WPLKGDHP&marketplace=FLIPKART&q=iphone+11&store=tyy%2F4io&srno=s_1_21&otracker=search&otracker1=search&fm=organic&iid=f82eed90-9b12-47d4-bc0a-ddb303533d02.MOBFKCTS3ZVSZ3WP.SEARCH&ppt=hp&ppn=homepage&ssid=g4bnxtryv40000001655637800742&qH=f6cdfdaa9f3c23f3',\n",
       " 'https://www.flipkart.com/apple-iphone-11-green-256-gb/p/itmc91772d48e32d?pid=MOBFWQ6BYGVZHTXN&lid=LSTMOBFWQ6BYGVZHTXNEX1PNO&marketplace=FLIPKART&q=iphone+11&store=tyy%2F4io&srno=s_1_22&otracker=search&otracker1=search&fm=organic&iid=f82eed90-9b12-47d4-bc0a-ddb303533d02.MOBFWQ6BYGVZHTXN.SEARCH&ppt=hp&ppn=homepage&ssid=g4bnxtryv40000001655637800742&qH=f6cdfdaa9f3c23f3',\n",
       " 'https://www.flipkart.com/apple-iphone-11-green-64-gb-includes-earpods-power-adapter/p/itmfdb5266c6e904?pid=MOBFKCTSKZQCYCWE&lid=LSTMOBFKCTSKZQCYCWEMDZQMV&marketplace=FLIPKART&q=iphone+11&store=tyy%2F4io&srno=s_1_23&otracker=search&otracker1=search&fm=organic&iid=f82eed90-9b12-47d4-bc0a-ddb303533d02.MOBFKCTSKZQCYCWE.SEARCH&ppt=hp&ppn=homepage&ssid=g4bnxtryv40000001655637800742&qH=f6cdfdaa9f3c23f3',\n",
       " 'https://www.flipkart.com/apple-iphone-11-green-128-gb-includes-earpods-power-adapter/p/itm3a51d53dbcc0c?pid=MOBFKCTSQTWRS7Q8&lid=LSTMOBFKCTSQTWRS7Q8HBC4II&marketplace=FLIPKART&q=iphone+11&store=tyy%2F4io&srno=s_1_24&otracker=search&otracker1=search&fm=organic&iid=f82eed90-9b12-47d4-bc0a-ddb303533d02.MOBFKCTSQTWRS7Q8.SEARCH&ppt=hp&ppn=homepage&ssid=g4bnxtryv40000001655637800742&qH=f6cdfdaa9f3c23f3']"
      ]
     },
     "execution_count": 10,
     "metadata": {},
     "output_type": "execute_result"
    }
   ],
   "source": [
    "product_links_list"
   ]
  },
  {
   "cell_type": "code",
   "execution_count": 11,
   "id": "f9f266e7",
   "metadata": {},
   "outputs": [
    {
     "data": {
      "text/plain": [
       "24"
      ]
     },
     "execution_count": 11,
     "metadata": {},
     "output_type": "execute_result"
    }
   ],
   "source": [
    "len(product_links_list)"
   ]
  },
  {
   "cell_type": "markdown",
   "id": "f2255641",
   "metadata": {},
   "source": [
    "Handling TimeOut exception when looping a list with URLs: \n",
    "* TimeoutException when looping an list with urls (Chech answer by user CEH): https://stackoverflow.com/questions/58940032/timeoutexception-when-looping-an-list-with-urls"
   ]
  },
  {
   "cell_type": "code",
   "execution_count": 12,
   "id": "4f3610fd",
   "metadata": {},
   "outputs": [],
   "source": [
    "iphone11list = []"
   ]
  },
  {
   "cell_type": "code",
   "execution_count": 15,
   "id": "b244572c",
   "metadata": {},
   "outputs": [
    {
     "ename": "SyntaxError",
     "evalue": "invalid syntax (Temp/ipykernel_3416/2408907166.py, line 14)",
     "output_type": "error",
     "traceback": [
      "\u001b[1;36m  File \u001b[1;32m\"C:\\Users\\Usuario\\AppData\\Local\\Temp/ipykernel_3416/2408907166.py\"\u001b[1;36m, line \u001b[1;32m14\u001b[0m\n\u001b[1;33m    iphone11list = iphone11list.append(review_value, review_summary, review_full)\u001b[0m\n\u001b[1;37m    ^\u001b[0m\n\u001b[1;31mSyntaxError\u001b[0m\u001b[1;31m:\u001b[0m invalid syntax\n"
     ]
    }
   ],
   "source": [
    "# move implicit wait outside of loop, we only need to set it once\n",
    "driver.implicitly_wait(5) #i made a wait so my browser can catch up\n",
    "\n",
    "for i in range(len(product_links_list)):\n",
    "    driver.get(product_links_list[i]) \n",
    "    \n",
    "    # get the text from every feature \n",
    "    try: \n",
    "        wait = WebDriverWait(driver, 10)\n",
    "        review_value = wait.until(EC.presence_of_element_located((By.XPATH, \"//div[@id='container']//div//div[@class='_2c7YLP UtUXW0 _6t1WkM _3HqJxg']//div[@class='_1YokD2 _2GoDe3']//div[@class='_1YokD2 _3Mn1Gg col-8-12']//div[@class='_1AtVbE col-12-12']//div[@class='col JOpGWq']//div[@class='_2c2kV-']//div//div//div//div//div[@class='_3LWZlK _1BLPMq']\"))).text\n",
    "        review_summary = wait.until(EC.presence_of_element_located((By.XPATH, \"//div[@id='container']//div//div[@class='_2c7YLP UtUXW0 _6t1WkM _3HqJxg']//div[@class='_1YokD2 _2GoDe3']//div[@class='_1YokD2 _3Mn1Gg col-8-12']//div[@class='_1AtVbE col-12-12']//div[@class='col JOpGWq']//div[@class='_2c2kV-']//div//div//div//div//p[@class='_2-N8zT']\"))).text\n",
    "        review_full = wait.until(EC.presence_of_element_located((By.XPATH, \"//div[@id='container']//div//div[@class='_2c7YLP UtUXW0 _6t1WkM _3HqJxg']//div[@class='_1YokD2 _2GoDe3']//div[@class='_1YokD2 _3Mn1Gg col-8-12']//div[@class='_1AtVbE col-12-12']//div[@class='col JOpGWq']//div[@class='_2c2kV-']//div//div//div//div//div//div//div']\"))).text\n",
    "        \n",
    "    # case: TimeOutException, so just move on to the next one\n",
    "    except TimeoutException:\n",
    "        continue\n",
    "        "
   ]
  },
  {
   "cell_type": "markdown",
   "id": "602264b9",
   "metadata": {},
   "source": [
    "##### TRIED DOZENS OF TIMES TO MAKE OUT OF THIS FOR LOOP A DICTIONARY WITH APPEND METHOD, A LIST, A LIST OF LISTS,\n",
    "##### COULD NOT FIND A WAY TO STORE THE DATA, COULD PRINT ALL OF THEM THOUGH\n"
   ]
  },
  {
   "cell_type": "code",
   "execution_count": null,
   "id": "31b92fdd",
   "metadata": {},
   "outputs": [],
   "source": [
    "import pandas as pd"
   ]
  },
  {
   "cell_type": "code",
   "execution_count": 14,
   "id": "7bdc2aa6",
   "metadata": {},
   "outputs": [
    {
     "data": {
      "text/plain": [
       "[]"
      ]
     },
     "execution_count": 14,
     "metadata": {},
     "output_type": "execute_result"
    }
   ],
   "source": [
    "iphone11list"
   ]
  },
  {
   "cell_type": "code",
   "execution_count": null,
   "id": "f8b6321d",
   "metadata": {},
   "outputs": [],
   "source": [
    "print(df.head(15))"
   ]
  },
  {
   "cell_type": "markdown",
   "id": "8478f563",
   "metadata": {},
   "source": [
    "### Q6: Scrape data for first 100 sneakers you find when you visit flipkart.com and search for “sneakers” in the search field.\n",
    "You have to scrape 4 attributes of each sneaker:\n",
    "1. Brand\n",
    "2. Product Description\n",
    "3. Price"
   ]
  },
  {
   "cell_type": "code",
   "execution_count": null,
   "id": "e97c3de7",
   "metadata": {},
   "outputs": [],
   "source": []
  },
  {
   "cell_type": "code",
   "execution_count": null,
   "id": "727722ac",
   "metadata": {},
   "outputs": [],
   "source": []
  },
  {
   "cell_type": "code",
   "execution_count": null,
   "id": "e827e494",
   "metadata": {},
   "outputs": [],
   "source": []
  },
  {
   "cell_type": "code",
   "execution_count": null,
   "id": "10148be1",
   "metadata": {},
   "outputs": [],
   "source": []
  },
  {
   "cell_type": "code",
   "execution_count": null,
   "id": "12508bd4",
   "metadata": {},
   "outputs": [],
   "source": []
  }
 ],
 "metadata": {
  "kernelspec": {
   "display_name": "Python 3 (ipykernel)",
   "language": "python",
   "name": "python3"
  },
  "language_info": {
   "codemirror_mode": {
    "name": "ipython",
    "version": 3
   },
   "file_extension": ".py",
   "mimetype": "text/x-python",
   "name": "python",
   "nbconvert_exporter": "python",
   "pygments_lexer": "ipython3",
   "version": "3.9.7"
  }
 },
 "nbformat": 4,
 "nbformat_minor": 5
}
