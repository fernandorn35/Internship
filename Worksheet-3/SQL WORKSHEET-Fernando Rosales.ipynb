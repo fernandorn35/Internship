{
 "cells": [
  {
   "cell_type": "code",
   "execution_count": 1,
   "id": "c70847d9",
   "metadata": {},
   "outputs": [],
   "source": [
    "import sqlite3"
   ]
  },
  {
   "cell_type": "code",
   "execution_count": 2,
   "id": "ec162169",
   "metadata": {},
   "outputs": [],
   "source": [
    "conn = sqlite3.connect('store.db')\n",
    "c = conn.cursor()"
   ]
  },
  {
   "cell_type": "code",
   "execution_count": 5,
   "id": "49083f79",
   "metadata": {},
   "outputs": [],
   "source": [
    "c.execute('CREATE TABLE IF NOT EXISTS customers (productCode REAL, productName TEXT, productLine TEXT, productScale TEXT,\\\n",
    "productVendor TEXT, productDescription TEXT, quantityInStock REAL, buyPrice Username INTEGER, MSRP INTEGER)')\n",
    "conn.commit()"
   ]
  },
  {
   "cell_type": "code",
   "execution_count": 15,
   "id": "b83667a1",
   "metadata": {},
   "outputs": [],
   "source": [
    "c.execute(\"ALTER TABLE customers RENAME TO products\")\n",
    "conn.commit()"
   ]
  },
  {
   "cell_type": "code",
   "execution_count": 16,
   "id": "f88e1bca",
   "metadata": {},
   "outputs": [],
   "source": [
    "c.execute(\"INSERT INTO products VALUES (789101, 'Test Name1', 'Test Line1', 'Test product scale1', 'Test product vendor1',\\\n",
    "'Test Product Description1', 5, 16.5, 15.89)\")\n",
    "conn.commit()"
   ]
  },
  {
   "cell_type": "code",
   "execution_count": 17,
   "id": "e9c2662a",
   "metadata": {},
   "outputs": [
    {
     "data": {
      "text/plain": [
       "<sqlite3.Cursor at 0x2627cf82ea0>"
      ]
     },
     "execution_count": 17,
     "metadata": {},
     "output_type": "execute_result"
    }
   ],
   "source": [
    "c.execute(\"SELECT * FROM products\")"
   ]
  },
  {
   "cell_type": "markdown",
   "id": "67de384b",
   "metadata": {},
   "source": [
    "1. Write SQL query to create table Customers."
   ]
  },
  {
   "cell_type": "code",
   "execution_count": 20,
   "id": "c7554fc9",
   "metadata": {},
   "outputs": [],
   "source": [
    "c.execute(\"\"\"CREATE TABLE IF NOT EXISTS customers (\n",
    "        customerNumber REAL,\n",
    "        customerName REAL,\n",
    "        contactLastName TEXT,\n",
    "        contactFirstName TEXT,\n",
    "        phone REAL,\n",
    "        addressLine1 TEXT,\n",
    "        addressLine2 TEXT,\n",
    "        city TEXT,\n",
    "        state TEXT,\n",
    "        postalCode TEXT,\n",
    "        country TEXT,\n",
    "        salesRepEmployeeNumber REAL,\n",
    "        creditLimit INTEGER)\"\"\")\n",
    "conn.commit()"
   ]
  },
  {
   "cell_type": "markdown",
   "id": "3195a6f9",
   "metadata": {},
   "source": [
    "2. Write SQL query to create table Orders."
   ]
  },
  {
   "cell_type": "code",
   "execution_count": 22,
   "id": "1c06614a",
   "metadata": {},
   "outputs": [],
   "source": [
    "c.execute(\"\"\"CREATE TABLE IF NOT EXISTS orders (\n",
    "        orderNumber REAL,\n",
    "        orderDate_YY_MM_DD TEXT,\n",
    "        requiredDate_YY_MM_DD TEXT\n",
    "        shippedDate_YY_MM_DD TEXT,\n",
    "        status TEXT,\n",
    "        comments TEXT,\n",
    "        customerNumber REAL)\"\"\")\n",
    "conn.commit()"
   ]
  },
  {
   "cell_type": "code",
   "execution_count": 26,
   "id": "f148af98",
   "metadata": {},
   "outputs": [
    {
     "name": "stdout",
     "output_type": "stream",
     "text": [
      "<sqlite3.Cursor object at 0x000002627CF82EA0>\n"
     ]
    }
   ],
   "source": [
    "c.execute(\"pragma table_info(orders)\")"
   ]
  },
  {
   "cell_type": "code",
   "execution_count": 25,
   "id": "55c986fe",
   "metadata": {},
   "outputs": [
    {
     "ename": "NameError",
     "evalue": "name 'pragma' is not defined",
     "output_type": "error",
     "traceback": [
      "\u001b[1;31m---------------------------------------------------------------------------\u001b[0m",
      "\u001b[1;31mNameError\u001b[0m                                 Traceback (most recent call last)",
      "\u001b[1;32m~\\AppData\\Local\\Temp/ipykernel_21924/2901527627.py\u001b[0m in \u001b[0;36m<module>\u001b[1;34m\u001b[0m\n\u001b[1;32m----> 1\u001b[1;33m \u001b[0mprint\u001b[0m\u001b[1;33m(\u001b[0m\u001b[0mpragma\u001b[0m\u001b[1;33m)\u001b[0m\u001b[1;33m\u001b[0m\u001b[1;33m\u001b[0m\u001b[0m\n\u001b[0m",
      "\u001b[1;31mNameError\u001b[0m: name 'pragma' is not defined"
     ]
    }
   ],
   "source": [
    "print(pragma)"
   ]
  },
  {
   "cell_type": "code",
   "execution_count": 18,
   "id": "df2ce177",
   "metadata": {},
   "outputs": [
    {
     "data": {
      "text/plain": [
       "(123456.0,\n",
       " 'Test Name',\n",
       " 'Test Line',\n",
       " 'Test product scale',\n",
       " 'Test product vendor',\n",
       " 'Test Product Description',\n",
       " 4.0,\n",
       " 15.5,\n",
       " 14.89)"
      ]
     },
     "execution_count": 18,
     "metadata": {},
     "output_type": "execute_result"
    }
   ],
   "source": [
    "c.fetchone()"
   ]
  },
  {
   "cell_type": "code",
   "execution_count": 19,
   "id": "e7ac7330",
   "metadata": {},
   "outputs": [],
   "source": [
    "c.execute('CREATE TABLE IF NOT EXISTS customers (customerNumber REAL, customerName TEXT, contactLastName TEXT, contactFirstName TEXT,\\\n",
    "phone REAL, addressLine1 TEXT, addressLine2 TEXT, city TEXT, state TEXT, postalCode REAL, country TEXT, salesRepEmployeeNumber REAL,\\\n",
    "creditLimit REAL)')\n",
    "conn.commit()"
   ]
  },
  {
   "cell_type": "code",
   "execution_count": null,
   "id": "c40b5b19",
   "metadata": {},
   "outputs": [],
   "source": []
  },
  {
   "cell_type": "code",
   "execution_count": null,
   "id": "853cafb0",
   "metadata": {},
   "outputs": [],
   "source": []
  },
  {
   "cell_type": "code",
   "execution_count": null,
   "id": "b30827aa",
   "metadata": {},
   "outputs": [],
   "source": []
  },
  {
   "cell_type": "code",
   "execution_count": null,
   "id": "e79afa36",
   "metadata": {},
   "outputs": [],
   "source": []
  },
  {
   "cell_type": "code",
   "execution_count": 7,
   "id": "61917fb5",
   "metadata": {},
   "outputs": [
    {
     "data": {
      "text/plain": [
       "<sqlite3.Cursor at 0x2627cf82ea0>"
      ]
     },
     "execution_count": 7,
     "metadata": {},
     "output_type": "execute_result"
    }
   ],
   "source": [
    "c.execute(\"SELECT * FROM customers\")"
   ]
  },
  {
   "cell_type": "code",
   "execution_count": 9,
   "id": "78ac2d3b",
   "metadata": {},
   "outputs": [
    {
     "name": "stdout",
     "output_type": "stream",
     "text": [
      "[]\n"
     ]
    }
   ],
   "source": [
    "print(c.fetchall())"
   ]
  },
  {
   "cell_type": "code",
   "execution_count": null,
   "id": "a0d41c45",
   "metadata": {},
   "outputs": [],
   "source": []
  }
 ],
 "metadata": {
  "kernelspec": {
   "display_name": "Python 3 (ipykernel)",
   "language": "python",
   "name": "python3"
  },
  "language_info": {
   "codemirror_mode": {
    "name": "ipython",
    "version": 3
   },
   "file_extension": ".py",
   "mimetype": "text/x-python",
   "name": "python",
   "nbconvert_exporter": "python",
   "pygments_lexer": "ipython3",
   "version": "3.9.7"
  }
 },
 "nbformat": 4,
 "nbformat_minor": 5
}
