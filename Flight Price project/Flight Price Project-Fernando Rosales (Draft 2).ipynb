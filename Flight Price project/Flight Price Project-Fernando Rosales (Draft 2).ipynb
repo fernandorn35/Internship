{
 "cells": [
  {
   "cell_type": "code",
   "execution_count": 1,
   "id": "4d1a0504",
   "metadata": {},
   "outputs": [],
   "source": [
    "from selenium import webdriver\n",
    "from selenium.webdriver.common.keys import Keys\n",
    "from selenium.webdriver.chrome.options import Options\n",
    "from selenium.webdriver.common.keys import Keys\n",
    "from selenium.webdriver.support.ui import WebDriverWait\n",
    "from selenium.webdriver.support import expected_conditions as EC\n",
    "from selenium.webdriver.common.by import By\n",
    "from selenium.common.exceptions import TimeoutException\n",
    "from time import sleep"
   ]
  },
  {
   "cell_type": "code",
   "execution_count": 2,
   "id": "22434f1e",
   "metadata": {},
   "outputs": [],
   "source": [
    "opts = Options()\n",
    "\n",
    "# Add headers\n",
    "user_agent =  ('Mozilla/5.0 (Windows NT 10.0; Win64; x64) AppleWebKit/537.36 (KHTML, like Gecko) Chrome/96.0.4664.45 Safari/537.36')"
   ]
  },
  {
   "cell_type": "code",
   "execution_count": 3,
   "id": "601b3704",
   "metadata": {},
   "outputs": [],
   "source": [
    "opts.add_argument(f'user-agent={user_agent}')\n",
    "opts.add_argument('--disable-blink-features=AutomationControlled')\n",
    "opts.add_experimental_option('useAutomationExtension', False)\n",
    "opts.add_experimental_option(\"excludeSwitches\", [\"enable-automation\"])"
   ]
  },
  {
   "cell_type": "code",
   "execution_count": 4,
   "id": "a3902345",
   "metadata": {},
   "outputs": [
    {
     "name": "stderr",
     "output_type": "stream",
     "text": [
      "C:\\Users\\Usuario\\AppData\\Local\\Temp\\ipykernel_15512\\2294925975.py:1: DeprecationWarning: executable_path has been deprecated, please pass in a Service object\n",
      "  driver = webdriver.Chrome('C:/Users/Usuario/Downloads/Chrome_Driver_106/chromedriver.exe', chrome_options=opts)\n",
      "C:\\Users\\Usuario\\AppData\\Local\\Temp\\ipykernel_15512\\2294925975.py:1: DeprecationWarning: use options instead of chrome_options\n",
      "  driver = webdriver.Chrome('C:/Users/Usuario/Downloads/Chrome_Driver_106/chromedriver.exe', chrome_options=opts)\n"
     ]
    }
   ],
   "source": [
    "driver = webdriver.Chrome('C:/Users/Usuario/Downloads/Chrome_Driver_106/chromedriver.exe', chrome_options=opts)\n",
    "driver.get(\"https://www.yatra.com/\")\n",
    "\n",
    "sleep(1)"
   ]
  },
  {
   "cell_type": "code",
   "execution_count": 5,
   "id": "84f54859",
   "metadata": {},
   "outputs": [],
   "source": [
    "driver.find_element(By.XPATH, \"//*[@id='BE_flight_flsearch_btn']\").click()"
   ]
  },
  {
   "cell_type": "markdown",
   "id": "17b75258",
   "metadata": {},
   "source": [
    "flights_web_elements_list = []\n",
    "flights_web_elements_list_1 = []\n",
    "flights_web_elements_list_2a = []\n",
    "flights_web_elements_list_2b = []\n",
    "flights_web_elements_list_3a = []\n",
    "flights_web_elements_list_3b = []\n",
    "flights_web_elements_list_4 = []\n",
    "flights_web_elements_list_5 = []\n",
    "\n",
    "previous_height = driver.execute_script('return document.body.scrollHeight')\n",
    "\n",
    "flights_web_elements_count = 150\n",
    "\n",
    "\n",
    "while flights_web_elements_count > len(flights_web_elements_list):\n",
    "    driver.execute_script(\"window.scrollTo(0, document.body.scrollHeight);\")\n",
    "    \n",
    "    sleep(20)\n",
    "    \n",
    "    new_height = driver.execute_script('return document.body.scrollHeight')\n",
    "    \n",
    "    if new_height == previous_height:\n",
    "        break\n",
    "    \n",
    "    previous_height = new_height\n",
    "    \n",
    "    web_elements =WebDriverWait(driver, 30).until(EC.visibility_of_all_elements_located((By.XPATH, \"//*[@class='flightItem border-shadow pr']/div/div/div/div/div[2]/span[@class='i-b text ellipsis']\")))#Airline\n",
    "    web_elements_1 =WebDriverWait(driver, 30).until(EC.visibility_of_all_elements_located((By.XPATH, \"//*[@class='flightItem border-shadow pr']/div/div/div[4]/div/div/div/label/div/div[@class='i-b tipsy fare-summary-tooltip fs-18']\")))#Price\n",
    "    web_elements_2a =WebDriverWait(driver, 30).until(EC.visibility_of_all_elements_located((By.XPATH, \"//*[@class='flightItem border-shadow pr']/div/div/div[2]/div/div/div/div/div/div/div/p[@title='New Delhi']\")))#Departure city\n",
    "    web_elements_2b =WebDriverWait(driver, 30).until(EC.visibility_of_all_elements_located((By.XPATH, \"//*[@class='flightItem border-shadow pr']/div/div/div[2]/div/div/div/div/div/div/div/div[@autom='departureTimeLabel']\")))#Departure Time\n",
    "    web_elements_3a =WebDriverWait(driver, 30).until(EC.visibility_of_all_elements_located((By.XPATH, \"//*[@class='flightItem border-shadow pr']/div/div/div[2]/div/div/div/div/div/div/div[3]/p[@title='Mumbai']\")))#Arrival City\n",
    "    web_elements_3b =WebDriverWait(driver, 30).until(EC.visibility_of_all_elements_located((By.XPATH, \"//*[@class='flightItem border-shadow pr']/div/div/div[2]/div/div/div/div/div/div/div/div[@autom='arrivalTimeLabel']\")))#Arrival Time\n",
    "    web_elements_4 =WebDriverWait(driver, 30).until(EC.visibility_of_all_elements_located((By.XPATH, \"//*[@class='flightItem border-shadow pr']/div/div/div[2]/div/div/div/div/div[2]/div/p[@autom='durationLabel']\")))#Duration\n",
    "    web_elements_5 =WebDriverWait(driver, 30).until(EC.visibility_of_all_elements_located((By.XPATH, \"//*[@class='flightItem border-shadow pr']/div/div/div[2]/div/div/div/div/div[2]/div/div[@class=' font-lightgrey fs-10 tipsy i-b fs-10']\")))#Total Stops\n",
    "    \n",
    "    \n",
    "    list_web_elements = []\n",
    "    list_web_elements_1 = []\n",
    "    list_web_elements_2a = []\n",
    "    list_web_elements_2b = []\n",
    "    list_web_elements_3a = []\n",
    "    list_web_elements_3b = []\n",
    "    list_web_elements_4 = []\n",
    "    list_web_elements_5 = []\n",
    "    \n",
    "    for webelement in web_elements:\n",
    "        list_web_elements.append(webelement.text)\n",
    "        \n",
    "    list_web_elements_1 = []\n",
    "    for webelement_1 in web_elements_1:\n",
    "        list_web_elements_1.append(webelement_1.text)\n",
    "        \n",
    "    list_web_elements_2a = []\n",
    "    for webelement_2a in web_elements_2a:\n",
    "        list_web_elements_2a.append(webelement_2a.text)\n",
    "\n",
    "    \n",
    "    list_web_elements_2b = []\n",
    "    for webelement_2b in web_elements_2b:\n",
    "        list_web_elements_2b.append(webelement_2b.text)\n",
    "    \n",
    "    \n",
    "    list_web_elements_3a = []\n",
    "    for webelement_3a in web_elements_3a:\n",
    "        list_web_elements_3a.append(webelement_3a.text)\n",
    "    \n",
    "    \n",
    "    list_web_elements_3b = []\n",
    "    for webelement_3b in web_elements_3b:\n",
    "        list_web_elements_3b.append(webelement_3b.text)\n",
    "    \n",
    "    \n",
    "    list_web_elements_4 = []\n",
    "    for webelement_4 in web_elements_4:\n",
    "        list_web_elements_4.append(webelement_4.text)\n",
    "        \n",
    "        \n",
    "    list_web_elements_5 = []\n",
    "    for webelement_5 in web_elements_5:\n",
    "        list_web_elements_5.append(webelement_5.text)\n",
    "        \n",
    "        \n",
    "    flights_web_elements_list = list_web_elements\n",
    "    flights_web_elements_list_1 = list_web_elements_1\n",
    "    flights_web_elements_list_2a = list_web_elements_2a\n",
    "    flights_web_elements_list_2b = list_web_elements_2b\n",
    "    flights_web_elements_list_3a = list_web_elements_3a\n",
    "    flights_web_elements_list_3b = list_web_elements_3b\n",
    "    flights_web_elements_list_4 = list_web_elements_4\n",
    "    flights_web_elements_list_5 = list_web_elements_5"
   ]
  },
  {
   "cell_type": "code",
   "execution_count": 6,
   "id": "18ffa63a",
   "metadata": {},
   "outputs": [],
   "source": [
    "flights_web_elements_list = []\n",
    "flights_web_elements_list_1 = []\n",
    "flights_web_elements_list_2a = []\n",
    "flights_web_elements_list_2b = []\n",
    "flights_web_elements_list_3a = []\n",
    "flights_web_elements_list_3b = []\n",
    "flights_web_elements_list_4 = []\n",
    "flights_web_elements_list_5 = []\n",
    "\n",
    "\n",
    "previous_height = driver.execute_script('return document.body.scrollHeight')\n",
    "\n",
    "flights_web_elements_count = 20\n",
    "\n",
    "\n",
    "while flights_web_elements_count > len(flights_web_elements_list):\n",
    "    driver.execute_script(\"window.scrollTo(0, document.body.scrollHeight);\")\n",
    "    \n",
    "    sleep(3)\n",
    "    \n",
    "    new_height = driver.execute_script('return document.body.scrollHeight')\n",
    "    \n",
    "    if new_height == previous_height:\n",
    "        break\n",
    "    \n",
    "    previous_height = new_height\n",
    "    \n",
    "    try:\n",
    "        web_elements =WebDriverWait(driver, 10).until(EC.visibility_of_all_elements_located((By.XPATH, \"//*[@class='flightItem border-shadow pr']/div/div/div/div/div[2]/span[@class='i-b text ellipsis']\")))#Airline\n",
    "        web_elements_1 =WebDriverWait(driver, 10).until(EC.visibility_of_all_elements_located((By.XPATH, \"//*[@class='flightItem border-shadow pr']/div/div/div[4]/div/div/div/label/div/div[@class='i-b tipsy fare-summary-tooltip fs-18']\")))#Price\n",
    "        web_elements_2a =WebDriverWait(driver, 10).until(EC.visibility_of_all_elements_located((By.XPATH, \"//*[@class='flightItem border-shadow pr']/div/div/div[2]/div/div/div/div/div/div/div/p[@title='New Delhi']\")))#Departure city\n",
    "        web_elements_2b =WebDriverWait(driver, 10).until(EC.visibility_of_all_elements_located((By.XPATH, \"//*[@class='flightItem border-shadow pr']/div/div/div[2]/div/div/div/div/div/div/div/div[@autom='departureTimeLabel']\")))#Departure Time\n",
    "        web_elements_3a =WebDriverWait(driver, 10).until(EC.visibility_of_all_elements_located((By.XPATH, \"//*[@class='flightItem border-shadow pr']/div/div/div[2]/div/div/div/div/div/div/div[3]/p[@title='Mumbai']\")))#Arrival City\n",
    "        web_elements_3b =WebDriverWait(driver, 10).until(EC.visibility_of_all_elements_located((By.XPATH, \"//*[@class='flightItem border-shadow pr']/div/div/div[2]/div/div/div/div/div/div/div/div[@autom='arrivalTimeLabel']\")))#Arrival Time\n",
    "        web_elements_4 =WebDriverWait(driver, 10).until(EC.visibility_of_all_elements_located((By.XPATH, \"//*[@class='flightItem border-shadow pr']/div/div/div[2]/div/div/div/div/div[2]/div/p[@autom='durationLabel']\")))#Duration\n",
    "        web_elements_5 =WebDriverWait(driver, 10).until(EC.visibility_of_all_elements_located((By.XPATH, \"//*[@class='flightItem border-shadow pr']/div/div/div[2]/div/div/div/div/div[2]/div/div[@class=' font-lightgrey fs-10 tipsy i-b fs-10']\")))#Total Stops\n",
    "    \n",
    "    \n",
    "        #list_web_elements = []\n",
    "        #list_web_elements_1 = []\n",
    "        #list_web_elements_2a = []\n",
    "        #list_web_elements_2b = []\n",
    "        #list_web_elements_3a = []\n",
    "        #list_web_elements_3b = []\n",
    "        #list_web_elements_4 = []\n",
    "        #list_web_elements_5 = []\n",
    "\n",
    "    \n",
    "        list_web_elements = []\n",
    "        for webelement in web_elements:\n",
    "            list_web_elements.append(webelement.text)\n",
    "        \n",
    "        list_web_elements_1 = []\n",
    "        for webelement_1 in web_elements_1:\n",
    "            list_web_elements_1.append(webelement_1.text)\n",
    "        \n",
    "        list_web_elements_2a = []\n",
    "        for webelement_2a in web_elements_2a:\n",
    "            list_web_elements_2a.append(webelement_2a.text)\n",
    "\n",
    "    \n",
    "        list_web_elements_2b = []\n",
    "        for webelement_2b in web_elements_2b:\n",
    "            list_web_elements_2b.append(webelement_2b.text)\n",
    "    \n",
    "    \n",
    "        list_web_elements_3a = []\n",
    "        for webelement_3a in web_elements_3a:\n",
    "            list_web_elements_3a.append(webelement_3a.text)\n",
    "    \n",
    "    \n",
    "        list_web_elements_3b = []\n",
    "        for webelement_3b in web_elements_3b:\n",
    "            list_web_elements_3b.append(webelement_3b.text)\n",
    "    \n",
    "    \n",
    "        list_web_elements_4 = []\n",
    "        for webelement_4 in web_elements_4:\n",
    "            list_web_elements_4.append(webelement_4.text)\n",
    "        \n",
    "        \n",
    "        list_web_elements_5 = []\n",
    "        for webelement_5 in web_elements_5:\n",
    "            list_web_elements_5.append(webelement_5.text)\n",
    "            \n",
    "    except TimeoutException:\n",
    "        pass"
   ]
  },
  {
   "cell_type": "code",
   "execution_count": 7,
   "id": "b8df1053",
   "metadata": {},
   "outputs": [
    {
     "ename": "NameError",
     "evalue": "name 'list_web_elements' is not defined",
     "output_type": "error",
     "traceback": [
      "\u001b[1;31m---------------------------------------------------------------------------\u001b[0m",
      "\u001b[1;31mNameError\u001b[0m                                 Traceback (most recent call last)",
      "Input \u001b[1;32mIn [7]\u001b[0m, in \u001b[0;36m<cell line: 1>\u001b[1;34m()\u001b[0m\n\u001b[1;32m----> 1\u001b[0m \u001b[43mlist_web_elements\u001b[49m\n",
      "\u001b[1;31mNameError\u001b[0m: name 'list_web_elements' is not defined"
     ]
    }
   ],
   "source": [
    "list_web_elements"
   ]
  },
  {
   "cell_type": "code",
   "execution_count": null,
   "id": "4b2939d6",
   "metadata": {},
   "outputs": [],
   "source": [
    "print(len(flights_web_elements_list))"
   ]
  },
  {
   "cell_type": "code",
   "execution_count": null,
   "id": "7776a94a",
   "metadata": {},
   "outputs": [],
   "source": [
    "data = {\n",
    "    \"airline_name\": []#,\n",
    "    #\"price\": []\n",
    "}"
   ]
  },
  {
   "cell_type": "code",
   "execution_count": null,
   "id": "1db31654",
   "metadata": {},
   "outputs": [],
   "source": [
    "for web_element in flights_web_elements_list:\n",
    "    driver = webdriver.Chrome('C:/Users/Usuario/Downloads/Chrome_Driver_106/chromedriver.exe', chrome_options=opts)\n",
    "    driver.maximize_window()\n",
    "    driver.get(web_element)\n",
    "    # Click cookies popup\n",
    "    #WebDriverWait(driver,30).until(EC.element_to_be_clickable((By.LINK_TEXT,\"Continuer sans accepter\"))).c\n",
    "    #print(\"Processing\")\n",
    "    #brand_name = WebDriverWait(driver, 10).until(EC.visibility_of_all_elements_located((By.XPATH, \"//div[@class='pc en_IN']//div[@class='a-container']//div[@class='centerColAlign centerColAlign-bbcxoverride']//div//div//h1[@class='a-size-large a-spacing-none']//span[@class='a-size-large product-title-word-break']\"))).text\n",
    "    #print(brand_name)\n",
    "    #brand_name = WebDriverWait(driver, 10).until(EC.visibility_of_all_elements_located((By.XPATH, \"//div[@class='pc en_IN']//div[@class='a-container']//div[@class='centerColAlign centerColAlign-bbcxoverride']//div//div//h1[@class='a-size-large a-spacing-none']//span[@class='a-size-large product-title-word-break']\")))\n",
    "    #price = WebDriverWait(driver, 10).until(EC.visibility_of_all_elements_located((By.XPATH, \"//div[@class='pc en_IN']//div[@class='a-container']//div[@class='centerColAlign centerColAlign-bbcxoverride']//div[@class='celwidget']//div//span[@class='a-price aok-align-center reinventPricePriceToPayMargin priceToPay']\"))).text\n",
    "    try:\n",
    "        airline_name = WebDriverWait(driver, 10).until(EC.visibility_of_element_located((By.XPATH, \"//*[@class='flightItem border-shadow pr']/div/div/div/div/div[2]/span[@class='i-b text ellipsis']\"))).text\n",
    "        #print(brand_name)\n",
    "        #brand_name = WebDriverWait(driver, 10).until(EC.visibility_of_all_elements_located((By.XPATH, \"//div[@class='pc en_IN']//div[@class='a-container']//div[@class='centerColAlign centerColAlign-bbcxoverride']//div//div//h1[@class='a-size-large a-spacing-none']//span[@class='a-size-large product-title-word-break']\").text))\n",
    "        price = WebDriverWait(driver, 10).until(EC.visibility_of_element_located((By.XPATH, \"//*[@class='flightItem border-shadow pr']/div/div[1]/div[4]/div/div/div[@class='fare-group i-b']\"))).text\n",
    "        #print(brand_name)\n",
    "        #return_exchange = \n",
    "        #expected_delivery = \n",
    "        #availabilty =\n",
    "        #product_url = link\n",
    "    #product = {\n",
    "    #        'brand_name': brand_name,\n",
    "    #        'price': price\n",
    "    #        }\n",
    "        \n",
    "    #laptop_list.append(product)\n",
    "    #print(\"Saving: \", product['brand_name', 'price'])\n",
    "        data[\"airline_name\"].append(brand_name)\n",
    "        #data[\"price\"].append(price)  \n",
    "    \n",
    "    \n",
    "    except TimeoutException: \n",
    "        continue\n",
    "    driver.quit()\n",
    "    \n",
    "#df = pd.DataFrame.from_dict(data)\n",
    "#print(df)\n",
    "#df.to_csv(\"data.csv\")"
   ]
  },
  {
   "cell_type": "code",
   "execution_count": 14,
   "id": "0de95e54",
   "metadata": {},
   "outputs": [
    {
     "data": {
      "text/plain": [
       "{'airline_name': []}"
      ]
     },
     "execution_count": 14,
     "metadata": {},
     "output_type": "execute_result"
    }
   ],
   "source": [
    "data"
   ]
  },
  {
   "cell_type": "code",
   "execution_count": null,
   "id": "c776bcb8",
   "metadata": {},
   "outputs": [],
   "source": []
  },
  {
   "cell_type": "code",
   "execution_count": null,
   "id": "d0918424",
   "metadata": {},
   "outputs": [],
   "source": []
  },
  {
   "cell_type": "code",
   "execution_count": null,
   "id": "6cf2e3c3",
   "metadata": {},
   "outputs": [],
   "source": []
  },
  {
   "cell_type": "code",
   "execution_count": null,
   "id": "83ad2fef",
   "metadata": {},
   "outputs": [],
   "source": [
    "# Set sleep time for the page to load on scroll\n",
    "SCROLL_PAUSE_TIME = 2\n",
    "\n",
    "# Get scroll height\n",
    "last_height = driver.execute_script(\"return document.body.scrollHeight\")\n",
    "\n",
    "# If you want to limit the number of scroll loads, add a limit here\n",
    "scroll_limit = 5\n",
    "\n",
    "count = 0\n",
    "while True and count < scroll_limit:\n",
    "    # Scroll down to bottom\n",
    "    driver.execute_script(\"window.scrollTo(0, document.body.scrollHeight);\")\n",
    "\n",
    "    # Wait to load page\n",
    "    sleep(SCROLL_PAUSE_TIME)\n",
    "\n",
    "    # Calculate new scroll height and compare with last scroll height\n",
    "    new_height = driver.execute_script(\"return document.body.scrollHeight\")\n",
    "    if new_height == last_height:\n",
    "        break\n",
    "    last_height = new_height\n",
    "    count += 1"
   ]
  },
  {
   "cell_type": "code",
   "execution_count": null,
   "id": "93724840",
   "metadata": {},
   "outputs": [],
   "source": []
  },
  {
   "cell_type": "code",
   "execution_count": null,
   "id": "e3b7dceb",
   "metadata": {},
   "outputs": [],
   "source": []
  },
  {
   "cell_type": "code",
   "execution_count": null,
   "id": "1bdbbb31",
   "metadata": {},
   "outputs": [],
   "source": []
  },
  {
   "cell_type": "code",
   "execution_count": null,
   "id": "cb50dc13",
   "metadata": {},
   "outputs": [],
   "source": []
  },
  {
   "cell_type": "code",
   "execution_count": null,
   "id": "719d67f4",
   "metadata": {},
   "outputs": [],
   "source": []
  },
  {
   "cell_type": "code",
   "execution_count": null,
   "id": "397fd22d",
   "metadata": {},
   "outputs": [],
   "source": []
  },
  {
   "cell_type": "code",
   "execution_count": null,
   "id": "bc8dcdc6",
   "metadata": {},
   "outputs": [],
   "source": []
  },
  {
   "cell_type": "code",
   "execution_count": null,
   "id": "c8e66b36",
   "metadata": {},
   "outputs": [],
   "source": []
  },
  {
   "cell_type": "code",
   "execution_count": 31,
   "id": "d68fbba0",
   "metadata": {},
   "outputs": [],
   "source": [
    "textElements = {\n",
    "    \"airlinename\": []#,\n",
    "    #\"price\": []\n",
    "}"
   ]
  },
  {
   "cell_type": "code",
   "execution_count": 33,
   "id": "ef0d3d4a",
   "metadata": {},
   "outputs": [
    {
     "ename": "IndentationError",
     "evalue": "expected an indented block (3541761584.py, line 26)",
     "output_type": "error",
     "traceback": [
      "\u001b[1;36m  Input \u001b[1;32mIn [33]\u001b[1;36m\u001b[0m\n\u001b[1;33m    airlinename= WebDriverWait(driver, 10).until(EC.visibility_of_all_elements_located((By.XPATH, \"//*[@class='flightItem border-shadow\\\u001b[0m\n\u001b[1;37m    ^\u001b[0m\n\u001b[1;31mIndentationError\u001b[0m\u001b[1;31m:\u001b[0m expected an indented block\n"
     ]
    }
   ],
   "source": []
  },
  {
   "cell_type": "code",
   "execution_count": null,
   "id": "2f3a1b95",
   "metadata": {},
   "outputs": [],
   "source": []
  },
  {
   "cell_type": "code",
   "execution_count": 27,
   "id": "d73a6e1c",
   "metadata": {},
   "outputs": [],
   "source": [
    "textElements = {\n",
    "    \"airlinename\": []#,\n",
    "    #\"price\": []\n",
    "}"
   ]
  },
  {
   "cell_type": "code",
   "execution_count": 28,
   "id": "0d94dc7d",
   "metadata": {},
   "outputs": [
    {
     "ename": "AttributeError",
     "evalue": "'list' object has no attribute 'text'",
     "output_type": "error",
     "traceback": [
      "\u001b[1;31m---------------------------------------------------------------------------\u001b[0m",
      "\u001b[1;31mAttributeError\u001b[0m                            Traceback (most recent call last)",
      "Input \u001b[1;32mIn [28]\u001b[0m, in \u001b[0;36m<cell line: 7>\u001b[1;34m()\u001b[0m\n\u001b[0;32m     21\u001b[0m \u001b[38;5;66;03m#textElements= []\u001b[39;00m\n\u001b[0;32m     22\u001b[0m \u001b[38;5;28;01mfor\u001b[39;00m element \u001b[38;5;129;01min\u001b[39;00m elements:\n\u001b[0;32m     23\u001b[0m     \u001b[38;5;66;03m#airlinename = WebDriverWait(driver, 10).until(EC.visibility_of_all_elements_located((By.XPATH, \"//*[@class='flightItem border-shadow pr']/div/div[2]/div[1]/div/div[2]/span']\")))\u001b[39;00m\n\u001b[1;32m---> 24\u001b[0m     airlinename \u001b[38;5;241m=\u001b[39m \u001b[43mWebDriverWait\u001b[49m\u001b[43m(\u001b[49m\u001b[43mdriver\u001b[49m\u001b[43m,\u001b[49m\u001b[43m \u001b[49m\u001b[38;5;241;43m20\u001b[39;49m\u001b[43m)\u001b[49m\u001b[38;5;241;43m.\u001b[39;49m\u001b[43muntil\u001b[49m\u001b[43m(\u001b[49m\u001b[43mEC\u001b[49m\u001b[38;5;241;43m.\u001b[39;49m\u001b[43mvisibility_of_all_elements_located\u001b[49m\u001b[43m(\u001b[49m\u001b[43m(\u001b[49m\u001b[43mBy\u001b[49m\u001b[38;5;241;43m.\u001b[39;49m\u001b[43mXPATH\u001b[49m\u001b[43m,\u001b[49m\u001b[43m \u001b[49m\u001b[38;5;124;43m\"\u001b[39;49m\u001b[38;5;124;43m//*[@class=\u001b[39;49m\u001b[38;5;124;43m'\u001b[39;49m\u001b[38;5;124;43mflightItem border-shadow pr\u001b[39;49m\u001b[38;5;124;43m'\u001b[39;49m\u001b[38;5;124;43m]/div/div/div/div/div[2]/span[@class=\u001b[39;49m\u001b[38;5;124;43m'\u001b[39;49m\u001b[38;5;124;43mi-b text ellipsis\u001b[39;49m\u001b[38;5;124;43m'\u001b[39;49m\u001b[38;5;124;43m]\u001b[39;49m\u001b[38;5;124;43m\"\u001b[39;49m\u001b[43m)\u001b[49m\u001b[43m)\u001b[49m\u001b[43m)\u001b[49m\u001b[38;5;241;43m.\u001b[39;49m\u001b[43mtext\u001b[49m\n\u001b[0;32m     25\u001b[0m     \u001b[38;5;66;03m#airlinename = element.find_elements(By.XPATH, \"//*[@class='flightItem border-shadow pr']/div/div[2]/div[1]/div/div[2]/span']\").text\u001b[39;00m\n\u001b[0;32m     26\u001b[0m     \u001b[38;5;66;03m#airlinename =  price = WebDriverWait(driver, 10).until(EC.visibility_of_all_elements_located((By.XPATH, \"//*[@class='flightItem border-shadow pr']/div/div[2]/div[1]/div/div[2]/span']\")))\u001b[39;00m\n\u001b[0;32m     28\u001b[0m     textElements[\u001b[38;5;124m\"\u001b[39m\u001b[38;5;124mairlinename\u001b[39m\u001b[38;5;124m\"\u001b[39m]\u001b[38;5;241m.\u001b[39mappend(airlinename)\n",
      "\u001b[1;31mAttributeError\u001b[0m: 'list' object has no attribute 'text'"
     ]
    }
   ],
   "source": [
    "items = []\n",
    "\n",
    "previous_height = driver.execute_script('return document.body.scrollHeight')\n",
    "\n",
    "itemTargetCount = 2\n",
    "\n",
    "while itemTargetCount > len(items):\n",
    "    driver.execute_script(\"window.scrollTo(0, document.body.scrollHeight);\")\n",
    "    \n",
    "    sleep(3)\n",
    "    \n",
    "    new_height = driver.execute_script('return document.body.scrollHeight')\n",
    "    \n",
    "    if new_height == previous_height:\n",
    "        break\n",
    "        \n",
    "    previous_height = new_height\n",
    "    \n",
    "    elements = driver.find_elements(By.XPATH, \"//*[@class='flightItem border-shadow pr']\")\n",
    "    \n",
    "    #textElements= []\n",
    "    for element in elements:\n",
    "        #airlinename = WebDriverWait(driver, 10).until(EC.visibility_of_all_elements_located((By.XPATH, \"//*[@class='flightItem border-shadow pr']/div/div[2]/div[1]/div/div[2]/span']\")))\n",
    "        airlinename = WebDriverWait(driver, 20).until(EC.visibility_of_all_elements_located((By.XPATH, \"//*[@class='flightItem border-shadow pr']/div/div/div/div/div[2]/span[@class='i-b text ellipsis']\"))).text\n",
    "        #airlinename = element.find_elements(By.XPATH, \"//*[@class='flightItem border-shadow pr']/div/div[2]/div[1]/div/div[2]/span']\").text\n",
    "        #airlinename =  price = WebDriverWait(driver, 10).until(EC.visibility_of_all_elements_located((By.XPATH, \"//*[@class='flightItem border-shadow pr']/div/div[2]/div[1]/div/div[2]/span']\")))\n",
    "        \n",
    "        textElements[\"airlinename\"].append(airlinename)\n",
    "        #data[\"price\"].append(price)  \n",
    "\n",
    "        \n",
    "        textElements.append({\n",
    "            'airlinename':airlinename\n",
    "        })\n",
    "        \n",
    "    items = textElements\n",
    "    \n",
    "print(items)\n",
    "print(len(items))"
   ]
  },
  {
   "cell_type": "code",
   "execution_count": null,
   "id": "524ec254",
   "metadata": {},
   "outputs": [],
   "source": []
  },
  {
   "cell_type": "code",
   "execution_count": null,
   "id": "068b3ee7",
   "metadata": {},
   "outputs": [],
   "source": []
  }
 ],
 "metadata": {
  "kernelspec": {
   "display_name": "Python 3 (ipykernel)",
   "language": "python",
   "name": "python3"
  },
  "language_info": {
   "codemirror_mode": {
    "name": "ipython",
    "version": 3
   },
   "file_extension": ".py",
   "mimetype": "text/x-python",
   "name": "python",
   "nbconvert_exporter": "python",
   "pygments_lexer": "ipython3",
   "version": "3.8.13"
  }
 },
 "nbformat": 4,
 "nbformat_minor": 5
}
