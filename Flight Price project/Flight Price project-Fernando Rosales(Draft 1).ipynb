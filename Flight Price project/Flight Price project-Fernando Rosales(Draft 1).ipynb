{
 "cells": [
  {
   "cell_type": "code",
   "execution_count": 1,
   "id": "0c9885cb",
   "metadata": {},
   "outputs": [],
   "source": [
    "from selenium import webdriver\n",
    "from selenium.webdriver.common.by import By\n",
    "from selenium.webdriver.support.ui import WebDriverWait\n",
    "from selenium.webdriver.support import expected_conditions as EC\n",
    "import pandas as pd\n",
    "import csv\n",
    "import re\n",
    "import time\n",
    "from selenium.webdriver.common.keys import Keys\n",
    "from selenium.webdriver.chrome.options import Options\n",
    "from selenium.common.exceptions import TimeoutException\n",
    "from selenium.common.exceptions import NoSuchElementException\n",
    "from time import sleep"
   ]
  },
  {
   "cell_type": "code",
   "execution_count": 2,
   "id": "6c22dedf",
   "metadata": {},
   "outputs": [],
   "source": [
    "opts = Options()\n",
    "\n",
    "# Add headers\n",
    "user_agent =  ('--user-agent=Mozilla/5.0 (iPhone; CPU iPhone OS 10_3 like Mac OS X) AppleWebKit/602.1.50 (KHTML, like Gecko) CriOS/56.0.2924.75 Mobile/14E5239e Safari/602.1')"
   ]
  },
  {
   "cell_type": "code",
   "execution_count": 3,
   "id": "64a1a092",
   "metadata": {},
   "outputs": [],
   "source": [
    "opts.add_argument(f'user-agent={user_agent}')\n",
    "opts.add_argument('--disable-blink-features=AutomationControlled')\n",
    "opts.add_experimental_option('useAutomationExtension', False)"
   ]
  },
  {
   "cell_type": "code",
   "execution_count": 4,
   "id": "324e3e0f",
   "metadata": {},
   "outputs": [
    {
     "name": "stdout",
     "output_type": "stream",
     "text": [
      "Enter departure airport location in IATA 3-Letter Code: LIS\n"
     ]
    }
   ],
   "source": [
    "departure_city = input(\"Enter departure airport location in IATA 3-Letter Code: \")"
   ]
  },
  {
   "cell_type": "code",
   "execution_count": 5,
   "id": "cfc789b8",
   "metadata": {},
   "outputs": [
    {
     "name": "stdout",
     "output_type": "stream",
     "text": [
      "Enter arrival airport location in IATA 3-Letter Code: BOG\n"
     ]
    }
   ],
   "source": [
    "arrival_city = input(\"Enter arrival airport location in IATA 3-Letter Code: \")"
   ]
  },
  {
   "cell_type": "code",
   "execution_count": 6,
   "id": "c172d4f0",
   "metadata": {},
   "outputs": [
    {
     "name": "stdout",
     "output_type": "stream",
     "text": [
      "Enter start date in this format YYYY-MM-DD: 2022-11-06\n"
     ]
    }
   ],
   "source": [
    "start_date = input(\"Enter start date in this format YYYY-MM-DD: \")"
   ]
  },
  {
   "cell_type": "code",
   "execution_count": 7,
   "id": "7739ecee",
   "metadata": {},
   "outputs": [
    {
     "name": "stdout",
     "output_type": "stream",
     "text": [
      "Enter end date in this format YYYY-MM-DD: 2022-11-08\n"
     ]
    }
   ],
   "source": [
    "end_date = input(\"Enter end date in this format YYYY-MM-DD: \")"
   ]
  },
  {
   "cell_type": "code",
   "execution_count": 8,
   "id": "12f4194e",
   "metadata": {},
   "outputs": [],
   "source": [
    "url = \"https://www.kayak.com/flights/\" + departure_city + \"-\" + arrival_city + \"/\" + start_date + \"/\""
   ]
  },
  {
   "cell_type": "code",
   "execution_count": 9,
   "id": "e97c59a8",
   "metadata": {},
   "outputs": [
    {
     "name": "stderr",
     "output_type": "stream",
     "text": [
      "C:\\Users\\Usuario\\AppData\\Local\\Temp\\ipykernel_11460\\318843524.py:1: DeprecationWarning: executable_path has been deprecated, please pass in a Service object\n",
      "  driver = webdriver.Chrome('C:/Users/Usuario/Downloads/Chrome_Driver_106/chromedriver.exe', chrome_options=opts)\n",
      "C:\\Users\\Usuario\\AppData\\Local\\Temp\\ipykernel_11460\\318843524.py:1: DeprecationWarning: use options instead of chrome_options\n",
      "  driver = webdriver.Chrome('C:/Users/Usuario/Downloads/Chrome_Driver_106/chromedriver.exe', chrome_options=opts)\n"
     ]
    }
   ],
   "source": [
    "driver = webdriver.Chrome('C:/Users/Usuario/Downloads/Chrome_Driver_106/chromedriver.exe', chrome_options=opts)"
   ]
  },
  {
   "cell_type": "code",
   "execution_count": 10,
   "id": "0aba9ead",
   "metadata": {},
   "outputs": [],
   "source": [
    "driver.implicitly_wait(20)\n",
    "driver.get(url)"
   ]
  },
  {
   "cell_type": "code",
   "execution_count": 11,
   "id": "a80aca75",
   "metadata": {},
   "outputs": [],
   "source": [
    "while True:\n",
    "    time.sleep(3)\n",
    "    try: \n",
    "        more_button = driver.find_element(By.XPATH, \"//*[@id='rUgo-loadMore']\")\n",
    "        more_button.click()\n",
    "    except NoSuchElementException:\n",
    "        break"
   ]
  },
  {
   "cell_type": "code",
   "execution_count": null,
   "id": "4c5d8fbb",
   "metadata": {},
   "outputs": [],
   "source": [
    "flights_web_elements_list = []\n",
    "flights_web_elements_list_1 = []\n",
    "flights_web_elements_list_2a = []\n",
    "flights_web_elements_list_2b = []\n",
    "flights_web_elements_list_3a = []\n",
    "flights_web_elements_list_3b = []\n",
    "flights_web_elements_list_4 = []\n",
    "flights_web_elements_list_5 = []\n",
    "\n",
    "\n",
    "\n",
    "web_elements =WebDriverWait(driver, 10).until(EC.visibility_of_all_elements_located((By.XPATH, \"//*[@class='flightItem border-shadow pr']/div/div/div/div/div[2]/span[@class='i-b text ellipsis']\")))#Airline\n",
    "web_elements_1 =WebDriverWait(driver, 10).until(EC.visibility_of_all_elements_located((By.XPATH, \"//*[@class='flightItem border-shadow pr']/div/div/div[4]/div/div/div/label/div/div[@class='i-b tipsy fare-summary-tooltip fs-18']\")))#Price\n",
    "web_elements_2a =WebDriverWait(driver, 10).until(EC.visibility_of_all_elements_located((By.XPATH, \"//*[@class='flightItem border-shadow pr']/div/div/div[2]/div/div/div/div/div/div/div/p[@title='New Delhi']\")))#Departure city\n",
    "web_elements_2b =WebDriverWait(driver, 10).until(EC.visibility_of_all_elements_located((By.XPATH, \"//*[@class='flightItem border-shadow pr']/div/div/div[2]/div/div/div/div/div/div/div/div[@autom='departureTimeLabel']\")))#Departure Time\n",
    "web_elements_3a =WebDriverWait(driver, 10).until(EC.visibility_of_all_elements_located((By.XPATH, \"//*[@class='flightItem border-shadow pr']/div/div/div[2]/div/div/div/div/div/div/div[3]/p[@title='Mumbai']\")))#Arrival City\n",
    "web_elements_3b =WebDriverWait(driver, 10).until(EC.visibility_of_all_elements_located((By.XPATH, \"//*[@class='flightItem border-shadow pr']/div/div/div[2]/div/div/div/div/div/div/div/div[@autom='arrivalTimeLabel']\")))#Arrival Time\n",
    "web_elements_4 =WebDriverWait(driver, 10).until(EC.visibility_of_all_elements_located((By.XPATH, \"//*[@class='flightItem border-shadow pr']/div/div/div[2]/div/div/div/div/div[2]/div/p[@autom='durationLabel']\")))#Duration\n",
    "web_elements_5 =WebDriverWait(driver, 10).until(EC.visibility_of_all_elements_located((By.XPATH, \"//*[@class='flightItem border-shadow pr']/div/div/div[2]/div/div/div/div/div[2]/div/div[@class=' font-lightgrey fs-10 tipsy i-b fs-10']\")))#Total Stops\n",
    "    \n",
    "    \n",
    "        list_web_elements = []\n",
    "        for webelement in web_elements:\n",
    "            list_web_elements.append(webelement.text)\n",
    "        \n",
    "        list_web_elements_1 = []\n",
    "        for webelement_1 in web_elements_1:\n",
    "            list_web_elements_1.append(webelement_1.text)\n",
    "        \n",
    "        list_web_elements_2a = []\n",
    "        for webelement_2a in web_elements_2a:\n",
    "            list_web_elements_2a.append(webelement_2a.text)\n",
    "\n",
    "    \n",
    "        list_web_elements_2b = []\n",
    "        for webelement_2b in web_elements_2b:\n",
    "            list_web_elements_2b.append(webelement_2b.text)\n",
    "    \n",
    "    \n",
    "        list_web_elements_3a = []\n",
    "        for webelement_3a in web_elements_3a:\n",
    "            list_web_elements_3a.append(webelement_3a.text)\n",
    "    \n",
    "    \n",
    "        list_web_elements_3b = []\n",
    "        for webelement_3b in web_elements_3b:\n",
    "            list_web_elements_3b.append(webelement_3b.text)\n",
    "    \n",
    "    \n",
    "list_web_elements_4 = []\n",
    "for webelement_4 in web_elements_4:\n",
    "    list_web_elements_4.append(webelement_4.text)\n",
    "        \n",
    "        \n",
    "list_web_elements_5 = []\n",
    "for webelement_5 in web_elements_5:\n",
    "    list_web_elements_5.append(webelement_5.text)\n",
    "            "
   ]
  },
  {
   "cell_type": "code",
   "execution_count": null,
   "id": "d5efb426",
   "metadata": {},
   "outputs": [],
   "source": []
  },
  {
   "cell_type": "code",
   "execution_count": null,
   "id": "dab5f3e8",
   "metadata": {},
   "outputs": [],
   "source": []
  },
  {
   "cell_type": "code",
   "execution_count": null,
   "id": "4f78ab6b",
   "metadata": {},
   "outputs": [],
   "source": []
  },
  {
   "cell_type": "code",
   "execution_count": null,
   "id": "822be81a",
   "metadata": {},
   "outputs": [],
   "source": []
  },
  {
   "cell_type": "code",
   "execution_count": null,
   "id": "3278252c",
   "metadata": {},
   "outputs": [],
   "source": []
  },
  {
   "cell_type": "code",
   "execution_count": null,
   "id": "63479b70",
   "metadata": {},
   "outputs": [],
   "source": []
  },
  {
   "cell_type": "code",
   "execution_count": null,
   "id": "237dbebb",
   "metadata": {},
   "outputs": [],
   "source": []
  },
  {
   "cell_type": "code",
   "execution_count": null,
   "id": "a8b9b847",
   "metadata": {},
   "outputs": [],
   "source": []
  },
  {
   "cell_type": "code",
   "execution_count": null,
   "id": "614814a3",
   "metadata": {},
   "outputs": [],
   "source": []
  },
  {
   "cell_type": "code",
   "execution_count": null,
   "id": "9b9681c2",
   "metadata": {},
   "outputs": [],
   "source": []
  },
  {
   "cell_type": "code",
   "execution_count": null,
   "id": "1a9dbb8b",
   "metadata": {},
   "outputs": [],
   "source": []
  },
  {
   "cell_type": "code",
   "execution_count": null,
   "id": "b9b4ef6e",
   "metadata": {},
   "outputs": [],
   "source": []
  },
  {
   "cell_type": "code",
   "execution_count": null,
   "id": "229c168a",
   "metadata": {},
   "outputs": [],
   "source": []
  },
  {
   "cell_type": "code",
   "execution_count": null,
   "id": "a594c01f",
   "metadata": {},
   "outputs": [],
   "source": []
  },
  {
   "cell_type": "code",
   "execution_count": null,
   "id": "cd32b777",
   "metadata": {},
   "outputs": [],
   "source": []
  },
  {
   "cell_type": "code",
   "execution_count": null,
   "id": "df6d48c3",
   "metadata": {},
   "outputs": [],
   "source": []
  },
  {
   "cell_type": "code",
   "execution_count": null,
   "id": "1d416c08",
   "metadata": {},
   "outputs": [],
   "source": []
  },
  {
   "cell_type": "code",
   "execution_count": null,
   "id": "594e678e",
   "metadata": {},
   "outputs": [],
   "source": []
  },
  {
   "cell_type": "code",
   "execution_count": null,
   "id": "32ee199f",
   "metadata": {},
   "outputs": [],
   "source": []
  },
  {
   "cell_type": "code",
   "execution_count": 25,
   "id": "d5b50179",
   "metadata": {},
   "outputs": [
    {
     "name": "stdout",
     "output_type": "stream",
     "text": [
      "\n",
      "https://www.kayak.com/flights/ZRH-MXP/2022-11-06/2022-11-09?sort=bestflight_a&fs=stops=0\n",
      "User agent: Chrome/73.0.3683.68\n"
     ]
    },
    {
     "name": "stderr",
     "output_type": "stream",
     "text": [
      "C:\\Users\\Usuario\\AppData\\Local\\Temp\\ipykernel_13856\\3721789776.py:27: DeprecationWarning: executable_path has been deprecated, please pass in a Service object\n",
      "  driver = webdriver.Chrome(\"chromedriver.exe\", options=chrome_options, desired_capabilities=chrome_options.to_capabilities())\n"
     ]
    },
    {
     "ename": "ValueError",
     "evalue": "All arrays must be of the same length",
     "output_type": "error",
     "traceback": [
      "\u001b[1;31m---------------------------------------------------------------------------\u001b[0m",
      "\u001b[1;31mValueError\u001b[0m                                Traceback (most recent call last)",
      "Input \u001b[1;32mIn [25]\u001b[0m, in \u001b[0;36m<cell line: 108>\u001b[1;34m()\u001b[0m\n\u001b[0;32m    109\u001b[0m     \u001b[38;5;28;01mfor\u001b[39;00m startdate \u001b[38;5;129;01min\u001b[39;00m startdates:   \n\u001b[0;32m    110\u001b[0m         requests \u001b[38;5;241m=\u001b[39m requests \u001b[38;5;241m+\u001b[39m \u001b[38;5;241m1\u001b[39m\n\u001b[1;32m--> 111\u001b[0m         \u001b[38;5;28;01mwhile\u001b[39;00m \u001b[43mscrape\u001b[49m\u001b[43m(\u001b[49m\u001b[38;5;124;43m'\u001b[39;49m\u001b[38;5;124;43mZRH\u001b[39;49m\u001b[38;5;124;43m'\u001b[39;49m\u001b[43m,\u001b[49m\u001b[43m \u001b[49m\u001b[43mdestination\u001b[49m\u001b[43m,\u001b[49m\u001b[43m \u001b[49m\u001b[43mstartdate\u001b[49m\u001b[43m,\u001b[49m\u001b[43m \u001b[49m\u001b[38;5;241;43m3\u001b[39;49m\u001b[43m,\u001b[49m\u001b[43m \u001b[49m\u001b[43mrequests\u001b[49m\u001b[43m)\u001b[49m \u001b[38;5;241m!=\u001b[39m \u001b[38;5;124m\"\u001b[39m\u001b[38;5;124msuccess\u001b[39m\u001b[38;5;124m\"\u001b[39m:\n\u001b[0;32m    112\u001b[0m             requests \u001b[38;5;241m=\u001b[39m requests \u001b[38;5;241m+\u001b[39m \u001b[38;5;241m1\u001b[39m\n\u001b[0;32m    114\u001b[0m \u001b[38;5;66;03m#Find the minimum price for each destination-startdate-combination\u001b[39;00m\n",
      "Input \u001b[1;32mIn [25]\u001b[0m, in \u001b[0;36mscrape\u001b[1;34m(origin, destination, startdate, days, requests)\u001b[0m\n\u001b[0;32m     76\u001b[0m \u001b[38;5;28;01mfor\u001b[39;00m div \u001b[38;5;129;01min\u001b[39;00m price_list:\n\u001b[0;32m     77\u001b[0m     price\u001b[38;5;241m.\u001b[39mappend(\u001b[38;5;28mint\u001b[39m(div\u001b[38;5;241m.\u001b[39mgetText()\u001b[38;5;241m.\u001b[39msplit(\u001b[38;5;124m'\u001b[39m\u001b[38;5;130;01m\\n\u001b[39;00m\u001b[38;5;124m'\u001b[39m)[\u001b[38;5;241m3\u001b[39m][\u001b[38;5;241m1\u001b[39m:\u001b[38;5;241m-\u001b[39m\u001b[38;5;241m1\u001b[39m]))\n\u001b[1;32m---> 80\u001b[0m df \u001b[38;5;241m=\u001b[39m \u001b[43mpd\u001b[49m\u001b[38;5;241;43m.\u001b[39;49m\u001b[43mDataFrame\u001b[49m\u001b[43m(\u001b[49m\u001b[43m{\u001b[49m\u001b[38;5;124;43m\"\u001b[39;49m\u001b[38;5;124;43morigin\u001b[39;49m\u001b[38;5;124;43m\"\u001b[39;49m\u001b[43m \u001b[49m\u001b[43m:\u001b[49m\u001b[43m \u001b[49m\u001b[43morigin\u001b[49m\u001b[43m,\u001b[49m\n\u001b[0;32m     81\u001b[0m \u001b[43m                   \u001b[49m\u001b[38;5;124;43m\"\u001b[39;49m\u001b[38;5;124;43mdestination\u001b[39;49m\u001b[38;5;124;43m\"\u001b[39;49m\u001b[43m \u001b[49m\u001b[43m:\u001b[49m\u001b[43m \u001b[49m\u001b[43mdestination\u001b[49m\u001b[43m,\u001b[49m\n\u001b[0;32m     82\u001b[0m \u001b[43m                   \u001b[49m\u001b[38;5;124;43m\"\u001b[39;49m\u001b[38;5;124;43mstartdate\u001b[39;49m\u001b[38;5;124;43m\"\u001b[39;49m\u001b[43m \u001b[49m\u001b[43m:\u001b[49m\u001b[43m \u001b[49m\u001b[43mstartdate\u001b[49m\u001b[43m,\u001b[49m\n\u001b[0;32m     83\u001b[0m \u001b[43m                   \u001b[49m\u001b[38;5;124;43m\"\u001b[39;49m\u001b[38;5;124;43menddate\u001b[39;49m\u001b[38;5;124;43m\"\u001b[39;49m\u001b[43m \u001b[49m\u001b[43m:\u001b[49m\u001b[43m \u001b[49m\u001b[43menddate\u001b[49m\u001b[43m,\u001b[49m\n\u001b[0;32m     84\u001b[0m \u001b[43m                   \u001b[49m\u001b[38;5;124;43m\"\u001b[39;49m\u001b[38;5;124;43mprice\u001b[39;49m\u001b[38;5;124;43m\"\u001b[39;49m\u001b[43m:\u001b[49m\u001b[43m \u001b[49m\u001b[43mprice\u001b[49m\u001b[43m,\u001b[49m\n\u001b[0;32m     85\u001b[0m \u001b[43m                   \u001b[49m\u001b[38;5;124;43m\"\u001b[39;49m\u001b[38;5;124;43mcurrency\u001b[39;49m\u001b[38;5;124;43m\"\u001b[39;49m\u001b[43m:\u001b[49m\u001b[43m \u001b[49m\u001b[38;5;124;43m\"\u001b[39;49m\u001b[38;5;124;43mUSD\u001b[39;49m\u001b[38;5;124;43m\"\u001b[39;49m\u001b[43m,\u001b[49m\n\u001b[0;32m     86\u001b[0m \u001b[43m                   \u001b[49m\u001b[38;5;124;43m\"\u001b[39;49m\u001b[38;5;124;43mdeptime_o\u001b[39;49m\u001b[38;5;124;43m\"\u001b[39;49m\u001b[43m:\u001b[49m\u001b[43m \u001b[49m\u001b[43m[\u001b[49m\u001b[43mm\u001b[49m\u001b[38;5;241;43m+\u001b[39;49m\u001b[38;5;28;43mstr\u001b[39;49m\u001b[43m(\u001b[49m\u001b[43mn\u001b[49m\u001b[43m)\u001b[49m\u001b[43m \u001b[49m\u001b[38;5;28;43;01mfor\u001b[39;49;00m\u001b[43m \u001b[49m\u001b[43mm\u001b[49m\u001b[43m,\u001b[49m\u001b[43mn\u001b[49m\u001b[43m \u001b[49m\u001b[38;5;129;43;01min\u001b[39;49;00m\u001b[43m \u001b[49m\u001b[38;5;28;43mzip\u001b[39;49m\u001b[43m(\u001b[49m\u001b[43mdeptime\u001b[49m\u001b[43m[\u001b[49m\u001b[43m:\u001b[49m\u001b[43m,\u001b[49m\u001b[38;5;241;43m0\u001b[39;49m\u001b[43m]\u001b[49m\u001b[43m,\u001b[49m\u001b[43mmeridiem\u001b[49m\u001b[43m[\u001b[49m\u001b[43m:\u001b[49m\u001b[43m,\u001b[49m\u001b[38;5;241;43m0\u001b[39;49m\u001b[43m]\u001b[49m\u001b[43m)\u001b[49m\u001b[43m]\u001b[49m\u001b[43m,\u001b[49m\n\u001b[0;32m     87\u001b[0m \u001b[43m                   \u001b[49m\u001b[38;5;124;43m\"\u001b[39;49m\u001b[38;5;124;43marrtime_d\u001b[39;49m\u001b[38;5;124;43m\"\u001b[39;49m\u001b[43m:\u001b[49m\u001b[43m \u001b[49m\u001b[43m[\u001b[49m\u001b[43mm\u001b[49m\u001b[38;5;241;43m+\u001b[39;49m\u001b[38;5;28;43mstr\u001b[39;49m\u001b[43m(\u001b[49m\u001b[43mn\u001b[49m\u001b[43m)\u001b[49m\u001b[43m \u001b[49m\u001b[38;5;28;43;01mfor\u001b[39;49;00m\u001b[43m \u001b[49m\u001b[43mm\u001b[49m\u001b[43m,\u001b[49m\u001b[43mn\u001b[49m\u001b[43m \u001b[49m\u001b[38;5;129;43;01min\u001b[39;49;00m\u001b[43m \u001b[49m\u001b[38;5;28;43mzip\u001b[39;49m\u001b[43m(\u001b[49m\u001b[43marrtime\u001b[49m\u001b[43m[\u001b[49m\u001b[43m:\u001b[49m\u001b[43m,\u001b[49m\u001b[38;5;241;43m0\u001b[39;49m\u001b[43m]\u001b[49m\u001b[43m,\u001b[49m\u001b[43mmeridiem\u001b[49m\u001b[43m[\u001b[49m\u001b[43m:\u001b[49m\u001b[43m,\u001b[49m\u001b[38;5;241;43m1\u001b[39;49m\u001b[43m]\u001b[49m\u001b[43m)\u001b[49m\u001b[43m]\u001b[49m\u001b[43m,\u001b[49m\n\u001b[0;32m     88\u001b[0m \u001b[43m                   \u001b[49m\u001b[38;5;124;43m\"\u001b[39;49m\u001b[38;5;124;43mdeptime_d\u001b[39;49m\u001b[38;5;124;43m\"\u001b[39;49m\u001b[43m:\u001b[49m\u001b[43m \u001b[49m\u001b[43m[\u001b[49m\u001b[43mm\u001b[49m\u001b[38;5;241;43m+\u001b[39;49m\u001b[38;5;28;43mstr\u001b[39;49m\u001b[43m(\u001b[49m\u001b[43mn\u001b[49m\u001b[43m)\u001b[49m\u001b[43m \u001b[49m\u001b[38;5;28;43;01mfor\u001b[39;49;00m\u001b[43m \u001b[49m\u001b[43mm\u001b[49m\u001b[43m,\u001b[49m\u001b[43mn\u001b[49m\u001b[43m \u001b[49m\u001b[38;5;129;43;01min\u001b[39;49;00m\u001b[43m \u001b[49m\u001b[38;5;28;43mzip\u001b[39;49m\u001b[43m(\u001b[49m\u001b[43mdeptime\u001b[49m\u001b[43m[\u001b[49m\u001b[43m:\u001b[49m\u001b[43m,\u001b[49m\u001b[38;5;241;43m1\u001b[39;49m\u001b[43m]\u001b[49m\u001b[43m,\u001b[49m\u001b[43mmeridiem\u001b[49m\u001b[43m[\u001b[49m\u001b[43m:\u001b[49m\u001b[43m,\u001b[49m\u001b[38;5;241;43m2\u001b[39;49m\u001b[43m]\u001b[49m\u001b[43m)\u001b[49m\u001b[43m]\u001b[49m\u001b[43m,\u001b[49m\n\u001b[0;32m     89\u001b[0m \u001b[43m                   \u001b[49m\u001b[38;5;124;43m\"\u001b[39;49m\u001b[38;5;124;43marrtime_o\u001b[39;49m\u001b[38;5;124;43m\"\u001b[39;49m\u001b[43m:\u001b[49m\u001b[43m \u001b[49m\u001b[43m[\u001b[49m\u001b[43mm\u001b[49m\u001b[38;5;241;43m+\u001b[39;49m\u001b[38;5;28;43mstr\u001b[39;49m\u001b[43m(\u001b[49m\u001b[43mn\u001b[49m\u001b[43m)\u001b[49m\u001b[43m \u001b[49m\u001b[38;5;28;43;01mfor\u001b[39;49;00m\u001b[43m \u001b[49m\u001b[43mm\u001b[49m\u001b[43m,\u001b[49m\u001b[43mn\u001b[49m\u001b[43m \u001b[49m\u001b[38;5;129;43;01min\u001b[39;49;00m\u001b[43m \u001b[49m\u001b[38;5;28;43mzip\u001b[39;49m\u001b[43m(\u001b[49m\u001b[43marrtime\u001b[49m\u001b[43m[\u001b[49m\u001b[43m:\u001b[49m\u001b[43m,\u001b[49m\u001b[38;5;241;43m1\u001b[39;49m\u001b[43m]\u001b[49m\u001b[43m,\u001b[49m\u001b[43mmeridiem\u001b[49m\u001b[43m[\u001b[49m\u001b[43m:\u001b[49m\u001b[43m,\u001b[49m\u001b[38;5;241;43m3\u001b[39;49m\u001b[43m]\u001b[49m\u001b[43m)\u001b[49m\u001b[43m]\u001b[49m\n\u001b[0;32m     90\u001b[0m \u001b[43m                   \u001b[49m\u001b[43m}\u001b[49m\u001b[43m)\u001b[49m\n\u001b[0;32m     92\u001b[0m results \u001b[38;5;241m=\u001b[39m pd\u001b[38;5;241m.\u001b[39mconcat([results, df], sort\u001b[38;5;241m=\u001b[39m\u001b[38;5;28;01mFalse\u001b[39;00m)\n\u001b[0;32m     94\u001b[0m driver\u001b[38;5;241m.\u001b[39mclose() \u001b[38;5;66;03m#close the browser\u001b[39;00m\n",
      "File \u001b[1;32m~\\anaconda3\\envs\\spyder2\\lib\\site-packages\\pandas\\core\\frame.py:663\u001b[0m, in \u001b[0;36mDataFrame.__init__\u001b[1;34m(self, data, index, columns, dtype, copy)\u001b[0m\n\u001b[0;32m    657\u001b[0m     mgr \u001b[38;5;241m=\u001b[39m \u001b[38;5;28mself\u001b[39m\u001b[38;5;241m.\u001b[39m_init_mgr(\n\u001b[0;32m    658\u001b[0m         data, axes\u001b[38;5;241m=\u001b[39m{\u001b[38;5;124m\"\u001b[39m\u001b[38;5;124mindex\u001b[39m\u001b[38;5;124m\"\u001b[39m: index, \u001b[38;5;124m\"\u001b[39m\u001b[38;5;124mcolumns\u001b[39m\u001b[38;5;124m\"\u001b[39m: columns}, dtype\u001b[38;5;241m=\u001b[39mdtype, copy\u001b[38;5;241m=\u001b[39mcopy\n\u001b[0;32m    659\u001b[0m     )\n\u001b[0;32m    661\u001b[0m \u001b[38;5;28;01melif\u001b[39;00m \u001b[38;5;28misinstance\u001b[39m(data, \u001b[38;5;28mdict\u001b[39m):\n\u001b[0;32m    662\u001b[0m     \u001b[38;5;66;03m# GH#38939 de facto copy defaults to False only in non-dict cases\u001b[39;00m\n\u001b[1;32m--> 663\u001b[0m     mgr \u001b[38;5;241m=\u001b[39m \u001b[43mdict_to_mgr\u001b[49m\u001b[43m(\u001b[49m\u001b[43mdata\u001b[49m\u001b[43m,\u001b[49m\u001b[43m \u001b[49m\u001b[43mindex\u001b[49m\u001b[43m,\u001b[49m\u001b[43m \u001b[49m\u001b[43mcolumns\u001b[49m\u001b[43m,\u001b[49m\u001b[43m \u001b[49m\u001b[43mdtype\u001b[49m\u001b[38;5;241;43m=\u001b[39;49m\u001b[43mdtype\u001b[49m\u001b[43m,\u001b[49m\u001b[43m \u001b[49m\u001b[43mcopy\u001b[49m\u001b[38;5;241;43m=\u001b[39;49m\u001b[43mcopy\u001b[49m\u001b[43m,\u001b[49m\u001b[43m \u001b[49m\u001b[43mtyp\u001b[49m\u001b[38;5;241;43m=\u001b[39;49m\u001b[43mmanager\u001b[49m\u001b[43m)\u001b[49m\n\u001b[0;32m    664\u001b[0m \u001b[38;5;28;01melif\u001b[39;00m \u001b[38;5;28misinstance\u001b[39m(data, ma\u001b[38;5;241m.\u001b[39mMaskedArray):\n\u001b[0;32m    665\u001b[0m     \u001b[38;5;28;01mimport\u001b[39;00m \u001b[38;5;21;01mnumpy\u001b[39;00m\u001b[38;5;21;01m.\u001b[39;00m\u001b[38;5;21;01mma\u001b[39;00m\u001b[38;5;21;01m.\u001b[39;00m\u001b[38;5;21;01mmrecords\u001b[39;00m \u001b[38;5;28;01mas\u001b[39;00m \u001b[38;5;21;01mmrecords\u001b[39;00m\n",
      "File \u001b[1;32m~\\anaconda3\\envs\\spyder2\\lib\\site-packages\\pandas\\core\\internals\\construction.py:494\u001b[0m, in \u001b[0;36mdict_to_mgr\u001b[1;34m(data, index, columns, dtype, typ, copy)\u001b[0m\n\u001b[0;32m    490\u001b[0m     \u001b[38;5;28;01melse\u001b[39;00m:\n\u001b[0;32m    491\u001b[0m         \u001b[38;5;66;03m# dtype check to exclude e.g. range objects, scalars\u001b[39;00m\n\u001b[0;32m    492\u001b[0m         arrays \u001b[38;5;241m=\u001b[39m [x\u001b[38;5;241m.\u001b[39mcopy() \u001b[38;5;28;01mif\u001b[39;00m \u001b[38;5;28mhasattr\u001b[39m(x, \u001b[38;5;124m\"\u001b[39m\u001b[38;5;124mdtype\u001b[39m\u001b[38;5;124m\"\u001b[39m) \u001b[38;5;28;01melse\u001b[39;00m x \u001b[38;5;28;01mfor\u001b[39;00m x \u001b[38;5;129;01min\u001b[39;00m arrays]\n\u001b[1;32m--> 494\u001b[0m \u001b[38;5;28;01mreturn\u001b[39;00m \u001b[43marrays_to_mgr\u001b[49m\u001b[43m(\u001b[49m\u001b[43marrays\u001b[49m\u001b[43m,\u001b[49m\u001b[43m \u001b[49m\u001b[43mcolumns\u001b[49m\u001b[43m,\u001b[49m\u001b[43m \u001b[49m\u001b[43mindex\u001b[49m\u001b[43m,\u001b[49m\u001b[43m \u001b[49m\u001b[43mdtype\u001b[49m\u001b[38;5;241;43m=\u001b[39;49m\u001b[43mdtype\u001b[49m\u001b[43m,\u001b[49m\u001b[43m \u001b[49m\u001b[43mtyp\u001b[49m\u001b[38;5;241;43m=\u001b[39;49m\u001b[43mtyp\u001b[49m\u001b[43m,\u001b[49m\u001b[43m \u001b[49m\u001b[43mconsolidate\u001b[49m\u001b[38;5;241;43m=\u001b[39;49m\u001b[43mcopy\u001b[49m\u001b[43m)\u001b[49m\n",
      "File \u001b[1;32m~\\anaconda3\\envs\\spyder2\\lib\\site-packages\\pandas\\core\\internals\\construction.py:119\u001b[0m, in \u001b[0;36marrays_to_mgr\u001b[1;34m(arrays, columns, index, dtype, verify_integrity, typ, consolidate)\u001b[0m\n\u001b[0;32m    116\u001b[0m \u001b[38;5;28;01mif\u001b[39;00m verify_integrity:\n\u001b[0;32m    117\u001b[0m     \u001b[38;5;66;03m# figure out the index, if necessary\u001b[39;00m\n\u001b[0;32m    118\u001b[0m     \u001b[38;5;28;01mif\u001b[39;00m index \u001b[38;5;129;01mis\u001b[39;00m \u001b[38;5;28;01mNone\u001b[39;00m:\n\u001b[1;32m--> 119\u001b[0m         index \u001b[38;5;241m=\u001b[39m \u001b[43m_extract_index\u001b[49m\u001b[43m(\u001b[49m\u001b[43marrays\u001b[49m\u001b[43m)\u001b[49m\n\u001b[0;32m    120\u001b[0m     \u001b[38;5;28;01melse\u001b[39;00m:\n\u001b[0;32m    121\u001b[0m         index \u001b[38;5;241m=\u001b[39m ensure_index(index)\n",
      "File \u001b[1;32m~\\anaconda3\\envs\\spyder2\\lib\\site-packages\\pandas\\core\\internals\\construction.py:667\u001b[0m, in \u001b[0;36m_extract_index\u001b[1;34m(data)\u001b[0m\n\u001b[0;32m    665\u001b[0m lengths \u001b[38;5;241m=\u001b[39m \u001b[38;5;28mlist\u001b[39m(\u001b[38;5;28mset\u001b[39m(raw_lengths))\n\u001b[0;32m    666\u001b[0m \u001b[38;5;28;01mif\u001b[39;00m \u001b[38;5;28mlen\u001b[39m(lengths) \u001b[38;5;241m>\u001b[39m \u001b[38;5;241m1\u001b[39m:\n\u001b[1;32m--> 667\u001b[0m     \u001b[38;5;28;01mraise\u001b[39;00m \u001b[38;5;167;01mValueError\u001b[39;00m(\u001b[38;5;124m\"\u001b[39m\u001b[38;5;124mAll arrays must be of the same length\u001b[39m\u001b[38;5;124m\"\u001b[39m)\n\u001b[0;32m    669\u001b[0m \u001b[38;5;28;01mif\u001b[39;00m have_dicts:\n\u001b[0;32m    670\u001b[0m     \u001b[38;5;28;01mraise\u001b[39;00m \u001b[38;5;167;01mValueError\u001b[39;00m(\n\u001b[0;32m    671\u001b[0m         \u001b[38;5;124m\"\u001b[39m\u001b[38;5;124mMixing dicts with non-Series may lead to ambiguous ordering.\u001b[39m\u001b[38;5;124m\"\u001b[39m\n\u001b[0;32m    672\u001b[0m     )\n",
      "\u001b[1;31mValueError\u001b[0m: All arrays must be of the same length"
     ]
    }
   ],
   "source": [
    "from selenium import webdriver\n",
    "from selenium.webdriver.support.ui import WebDriverWait \n",
    "from selenium.webdriver.support import expected_conditions\n",
    "from bs4 import BeautifulSoup\n",
    "import re\n",
    "import pandas as pd\n",
    "import numpy as np\n",
    "from datetime import date, timedelta, datetime\n",
    "import time\n",
    "\n",
    "def scrape(origin, destination, startdate, days, requests):\n",
    "    \n",
    "    global results\n",
    "    \n",
    "    enddate = datetime.strptime(startdate, '%Y-%m-%d').date() + timedelta(days)\n",
    "    enddate = enddate.strftime('%Y-%m-%d')\n",
    "\n",
    "    url = \"https://www.kayak.com/flights/\" + origin + \"-\" + destination + \"/\" + startdate + \"/\" + enddate + \"?sort=bestflight_a&fs=stops=0\"\n",
    "    print(\"\\n\" + url)\n",
    "\n",
    "    chrome_options = webdriver.ChromeOptions()\n",
    "    agents = [\"Firefox/66.0.3\",\"Chrome/73.0.3683.68\",\"Edge/16.16299\"]\n",
    "    print(\"User agent: \" + agents[(requests%len(agents))])\n",
    "    chrome_options.add_argument('--user-agent=' + agents[(requests%len(agents))] + '\"')    \n",
    "    chrome_options.add_experimental_option('useAutomationExtension', False)\n",
    "    \n",
    "    driver = webdriver.Chrome(\"chromedriver.exe\", options=chrome_options, desired_capabilities=chrome_options.to_capabilities())\n",
    "    driver.implicitly_wait(20)\n",
    "    driver.get(url)\n",
    "\n",
    "    #Check if Kayak thinks that we're a bot\n",
    "    time.sleep(5) \n",
    "    soup=BeautifulSoup(driver.page_source, 'lxml')\n",
    "\n",
    "    if soup.find_all('p')[0].getText() == \"Please confirm that you are a real KAYAK user.\":\n",
    "        print(\"Kayak thinks I'm a bot, which I am ... so let's wait a bit and try again\")\n",
    "        driver.close()\n",
    "        time.sleep(20)\n",
    "        return \"failure\"\n",
    "\n",
    "    time.sleep(20) #wait 20sec for the page to load\n",
    "    \n",
    "    soup=BeautifulSoup(driver.page_source, 'lxml')\n",
    "    \n",
    "    #get the arrival and departure times\n",
    "    deptimes = soup.find_all('span', attrs={'class': 'depart-time base-time'})\n",
    "    arrtimes = soup.find_all('span', attrs={'class': 'arrival-time base-time'})\n",
    "    meridies = soup.find_all('span', attrs={'class': 'time-meridiem meridiem'})\n",
    "    \n",
    "    deptime = []\n",
    "    for div in deptimes:\n",
    "        deptime.append(div.getText()[:-1])    \n",
    "        \n",
    "    arrtime = []\n",
    "    for div in arrtimes:\n",
    "        arrtime.append(div.getText()[:-1])   \n",
    "\n",
    "    meridiem = []\n",
    "    for div in meridies:\n",
    "        meridiem.append(div.getText())  \n",
    "        \n",
    "    deptime = np.asarray(deptime)\n",
    "    deptime = deptime.reshape(int(len(deptime)/2), 2)\n",
    "    \n",
    "    arrtime = np.asarray(arrtime)\n",
    "    arrtime = arrtime.reshape(int(len(arrtime)/2), 2)      \n",
    "    \n",
    "    meridiem = np.asarray(meridiem)\n",
    "    meridiem = meridiem.reshape(int(len(meridiem)/4), 4)\n",
    "        \n",
    "    #Get the price\n",
    "    regex = re.compile('Common-Booking-MultiBookProvider (.*)multi-row Theme-featured-large(.*)')\n",
    "    price_list = soup.find_all('div', attrs={'class': regex})\n",
    "    \n",
    "    price = []\n",
    "    for div in price_list:\n",
    "        price.append(int(div.getText().split('\\n')[3][1:-1]))\n",
    "\n",
    "\n",
    "    df = pd.DataFrame({\"origin\" : origin,\n",
    "                       \"destination\" : destination,\n",
    "                       \"startdate\" : startdate,\n",
    "                       \"enddate\" : enddate,\n",
    "                       \"price\": price,\n",
    "                       \"currency\": \"USD\",\n",
    "                       \"deptime_o\": [m+str(n) for m,n in zip(deptime[:,0],meridiem[:,0])],\n",
    "                       \"arrtime_d\": [m+str(n) for m,n in zip(arrtime[:,0],meridiem[:,1])],\n",
    "                       \"deptime_d\": [m+str(n) for m,n in zip(deptime[:,1],meridiem[:,2])],\n",
    "                       \"arrtime_o\": [m+str(n) for m,n in zip(arrtime[:,1],meridiem[:,3])]\n",
    "                       })\n",
    "\n",
    "    results = pd.concat([results, df], sort=False)\n",
    "\n",
    "    driver.close() #close the browser\n",
    "\n",
    "    time.sleep(15) #wait 15sec until the next request\n",
    "    \n",
    "    return \"success\"\n",
    "\n",
    "#Create an empty dataframe \n",
    "results = pd.DataFrame(columns=['origin','destination','startdate','enddate','deptime_o','arrtime_d','deptime_d','arrtime_o','currency','price'])\n",
    "\n",
    "requests = 0 \n",
    "\n",
    "destinations = ['MXP','MAD']\n",
    "startdates = ['2022-11-06','2022-11-07','2022-11-08']\n",
    "\n",
    "for destination in destinations:\n",
    "    for startdate in startdates:   \n",
    "        requests = requests + 1\n",
    "        while scrape('ZRH', destination, startdate, 3, requests) != \"success\":\n",
    "            requests = requests + 1\n",
    "            \n",
    "#Find the minimum price for each destination-startdate-combination\n",
    "results_agg = results.groupby(['destination','startdate'])['price'].min().reset_index().rename(columns={'min':'price'})\n",
    "#Once we have specified all combinations and scraped the respective data, we can nicely visualize our results using a heatmap from seaborn\n",
    "\n",
    "heatmap_results = pd.pivot_table(results_agg , values='price', \n",
    "                     index=['destination'], \n",
    "                     columns='startdate')\n",
    "                     \n",
    "import seaborn as sns\n",
    "import matplotlib.pyplot as plt\n",
    "\n",
    "sns.set(font_scale=1.5)\n",
    "plt.figure(figsize = (18,6))\n",
    "sns.heatmap(heatmap_results, annot=True, annot_kws={\"size\": 24}, fmt='.0f', cmap=\"RdYlGn_r\")"
   ]
  },
  {
   "cell_type": "code",
   "execution_count": null,
   "id": "0fe5a279",
   "metadata": {},
   "outputs": [],
   "source": []
  },
  {
   "cell_type": "code",
   "execution_count": null,
   "id": "a117662b",
   "metadata": {},
   "outputs": [],
   "source": []
  },
  {
   "cell_type": "code",
   "execution_count": null,
   "id": "f2b10768",
   "metadata": {},
   "outputs": [],
   "source": []
  },
  {
   "cell_type": "code",
   "execution_count": null,
   "id": "7460a96b",
   "metadata": {},
   "outputs": [],
   "source": []
  },
  {
   "cell_type": "code",
   "execution_count": null,
   "id": "12d9e65f",
   "metadata": {},
   "outputs": [],
   "source": []
  },
  {
   "cell_type": "code",
   "execution_count": null,
   "id": "05745114",
   "metadata": {},
   "outputs": [],
   "source": []
  },
  {
   "cell_type": "code",
   "execution_count": null,
   "id": "9e13830a",
   "metadata": {},
   "outputs": [],
   "source": []
  },
  {
   "cell_type": "code",
   "execution_count": null,
   "id": "c8d62b8f",
   "metadata": {},
   "outputs": [],
   "source": []
  },
  {
   "cell_type": "code",
   "execution_count": null,
   "id": "c9f402d1",
   "metadata": {},
   "outputs": [],
   "source": []
  },
  {
   "cell_type": "code",
   "execution_count": null,
   "id": "8cc5d164",
   "metadata": {},
   "outputs": [],
   "source": []
  },
  {
   "cell_type": "code",
   "execution_count": null,
   "id": "f6cc4710",
   "metadata": {},
   "outputs": [],
   "source": []
  },
  {
   "cell_type": "code",
   "execution_count": null,
   "id": "784213e6",
   "metadata": {},
   "outputs": [],
   "source": []
  },
  {
   "cell_type": "code",
   "execution_count": null,
   "id": "05522597",
   "metadata": {},
   "outputs": [],
   "source": []
  },
  {
   "cell_type": "code",
   "execution_count": null,
   "id": "b9e9c31b",
   "metadata": {},
   "outputs": [],
   "source": []
  },
  {
   "cell_type": "code",
   "execution_count": null,
   "id": "dce13cac",
   "metadata": {},
   "outputs": [],
   "source": []
  },
  {
   "cell_type": "code",
   "execution_count": null,
   "id": "55d4fde9",
   "metadata": {},
   "outputs": [],
   "source": []
  },
  {
   "cell_type": "code",
   "execution_count": null,
   "id": "59c62b16",
   "metadata": {},
   "outputs": [],
   "source": []
  },
  {
   "cell_type": "code",
   "execution_count": null,
   "id": "a0f0ffc6",
   "metadata": {},
   "outputs": [],
   "source": []
  },
  {
   "cell_type": "code",
   "execution_count": null,
   "id": "19da60d9",
   "metadata": {},
   "outputs": [],
   "source": []
  },
  {
   "cell_type": "code",
   "execution_count": 11,
   "id": "a5ecb3c5",
   "metadata": {},
   "outputs": [],
   "source": [
    "while True:\n",
    "    time.sleep(10)\n",
    "    try: \n",
    "        more_button = driver.find_element(By.XPATH, \"//*[@id='rUgo-loadMore']\")\n",
    "        more_button.click()\n",
    "    except NoSuchElementException:\n",
    "        break"
   ]
  },
  {
   "cell_type": "code",
   "execution_count": 11,
   "id": "e3035fce",
   "metadata": {},
   "outputs": [
    {
     "ename": "SyntaxError",
     "evalue": "invalid syntax (1945629471.py, line 1)",
     "output_type": "error",
     "traceback": [
      "\u001b[1;36m  Input \u001b[1;32mIn [11]\u001b[1;36m\u001b[0m\n\u001b[1;33m    top:\u001b[0m\n\u001b[1;37m        ^\u001b[0m\n\u001b[1;31mSyntaxError\u001b[0m\u001b[1;31m:\u001b[0m invalid syntax\n"
     ]
    }
   ],
   "source": [
    "top:\n",
    "    driver.find_element(By.XPATH, \"//*[@id='c70rM-loadMore']\").click()\n",
    "    driver.Wait(2000)\n",
    "    \n",
    "    GoTo top"
   ]
  },
  {
   "cell_type": "code",
   "execution_count": null,
   "id": "90196642",
   "metadata": {},
   "outputs": [],
   "source": []
  },
  {
   "cell_type": "code",
   "execution_count": null,
   "id": "a062d820",
   "metadata": {},
   "outputs": [],
   "source": []
  },
  {
   "cell_type": "code",
   "execution_count": null,
   "id": "f5cc0cdc",
   "metadata": {},
   "outputs": [],
   "source": []
  },
  {
   "cell_type": "code",
   "execution_count": null,
   "id": "0d78872a",
   "metadata": {},
   "outputs": [],
   "source": []
  },
  {
   "cell_type": "code",
   "execution_count": null,
   "id": "72824c96",
   "metadata": {},
   "outputs": [],
   "source": []
  },
  {
   "cell_type": "code",
   "execution_count": null,
   "id": "0410f6f6",
   "metadata": {},
   "outputs": [],
   "source": []
  },
  {
   "cell_type": "code",
   "execution_count": null,
   "id": "a80d040f",
   "metadata": {},
   "outputs": [],
   "source": []
  },
  {
   "cell_type": "code",
   "execution_count": null,
   "id": "c6d2fd18",
   "metadata": {},
   "outputs": [],
   "source": []
  },
  {
   "cell_type": "code",
   "execution_count": null,
   "id": "2c1fdf26",
   "metadata": {},
   "outputs": [],
   "source": []
  },
  {
   "cell_type": "code",
   "execution_count": null,
   "id": "eef9ac08",
   "metadata": {},
   "outputs": [],
   "source": []
  },
  {
   "cell_type": "code",
   "execution_count": 6,
   "id": "9b7e2b9d",
   "metadata": {},
   "outputs": [
    {
     "name": "stderr",
     "output_type": "stream",
     "text": [
      "C:\\Users\\Usuario\\AppData\\Local\\Temp\\ipykernel_18428\\1049388963.py:1: DeprecationWarning: executable_path has been deprecated, please pass in a Service object\n",
      "  driver = webdriver.Chrome('C:/Users/Usuario/Downloads/Chrome_Driver_106/chromedriver.exe', chrome_options=opts)\n",
      "C:\\Users\\Usuario\\AppData\\Local\\Temp\\ipykernel_18428\\1049388963.py:1: DeprecationWarning: use options instead of chrome_options\n",
      "  driver = webdriver.Chrome('C:/Users/Usuario/Downloads/Chrome_Driver_106/chromedriver.exe', chrome_options=opts)\n"
     ]
    },
    {
     "ename": "TimeoutException",
     "evalue": "Message: \nStacktrace:\nBacktrace:\n\tOrdinal0 [0x00271ED3+2236115]\n\tOrdinal0 [0x002092F1+1807089]\n\tOrdinal0 [0x001166FD+812797]\n\tOrdinal0 [0x001455DF+1005023]\n\tOrdinal0 [0x001457CB+1005515]\n\tOrdinal0 [0x00177632+1209906]\n\tOrdinal0 [0x00161AD4+1120980]\n\tOrdinal0 [0x001759E2+1202658]\n\tOrdinal0 [0x001618A6+1120422]\n\tOrdinal0 [0x0013A73D+960317]\n\tOrdinal0 [0x0013B71F+964383]\n\tGetHandleVerifier [0x0051E7E2+2743074]\n\tGetHandleVerifier [0x005108D4+2685972]\n\tGetHandleVerifier [0x00302BAA+532202]\n\tGetHandleVerifier [0x00301990+527568]\n\tOrdinal0 [0x0021080C+1837068]\n\tOrdinal0 [0x00214CD8+1854680]\n\tOrdinal0 [0x00214DC5+1854917]\n\tOrdinal0 [0x0021ED64+1895780]\n\tBaseThreadInitThunk [0x76F3FA29+25]\n\tRtlGetAppContainerNamedObjectPath [0x77D87A4E+286]\n\tRtlGetAppContainerNamedObjectPath [0x77D87A1E+238]\n\t(No symbol) [0x00000000]\n",
     "output_type": "error",
     "traceback": [
      "\u001b[1;31m---------------------------------------------------------------------------\u001b[0m",
      "\u001b[1;31mTimeoutException\u001b[0m                          Traceback (most recent call last)",
      "Input \u001b[1;32mIn [6]\u001b[0m, in \u001b[0;36m<cell line: 3>\u001b[1;34m()\u001b[0m\n\u001b[0;32m      1\u001b[0m driver \u001b[38;5;241m=\u001b[39m webdriver\u001b[38;5;241m.\u001b[39mChrome(\u001b[38;5;124m'\u001b[39m\u001b[38;5;124mC:/Users/Usuario/Downloads/Chrome_Driver_106/chromedriver.exe\u001b[39m\u001b[38;5;124m'\u001b[39m, chrome_options\u001b[38;5;241m=\u001b[39mopts)\n\u001b[0;32m      2\u001b[0m driver\u001b[38;5;241m.\u001b[39mget(\u001b[38;5;124m\"\u001b[39m\u001b[38;5;124mhttps://www.kayak.com/\u001b[39m\u001b[38;5;124m\"\u001b[39m)\n\u001b[1;32m----> 3\u001b[0m \u001b[43mWebDriverWait\u001b[49m\u001b[43m(\u001b[49m\u001b[43mdriver\u001b[49m\u001b[43m,\u001b[49m\u001b[43m \u001b[49m\u001b[38;5;241;43m20\u001b[39;49m\u001b[43m)\u001b[49m\u001b[38;5;241;43m.\u001b[39;49m\u001b[43muntil\u001b[49m\u001b[43m(\u001b[49m\u001b[43mEC\u001b[49m\u001b[38;5;241;43m.\u001b[39;49m\u001b[43melement_to_be_clickable\u001b[49m\u001b[43m(\u001b[49m\u001b[43m(\u001b[49m\u001b[43mBy\u001b[49m\u001b[38;5;241;43m.\u001b[39;49m\u001b[43mXPATH\u001b[49m\u001b[43m,\u001b[49m\u001b[43m \u001b[49m\u001b[38;5;124;43m\"\u001b[39;49m\u001b[38;5;124;43m//*[@id=\u001b[39;49m\u001b[38;5;124;43m'\u001b[39;49m\u001b[38;5;124;43mc7JK5\u001b[39;49m\u001b[38;5;124;43m'\u001b[39;49m\u001b[38;5;124;43m]/div/div/div/div[1]/div[2]/div/div[1]/div/div/div/div[1]/div[2]\u001b[39;49m\u001b[38;5;124;43m\"\u001b[39;49m\u001b[43m)\u001b[49m\u001b[43m)\u001b[49m\u001b[43m)\u001b[49m\u001b[38;5;241m.\u001b[39mclick()\n\u001b[0;32m      4\u001b[0m \u001b[38;5;66;03m#driver.find_element(By.XPATH, \"//*[@id='c7JK5']/div/div/div/div[1]/div[2]/div/div[1]/div/div/div/div[1]/div[2]\").click()\u001b[39;00m\n\u001b[0;32m      5\u001b[0m sleep(\u001b[38;5;241m1\u001b[39m)\n",
      "File \u001b[1;32m~\\anaconda3\\envs\\spyder2\\lib\\site-packages\\selenium\\webdriver\\support\\wait.py:90\u001b[0m, in \u001b[0;36mWebDriverWait.until\u001b[1;34m(self, method, message)\u001b[0m\n\u001b[0;32m     88\u001b[0m     \u001b[38;5;28;01mif\u001b[39;00m time\u001b[38;5;241m.\u001b[39mmonotonic() \u001b[38;5;241m>\u001b[39m end_time:\n\u001b[0;32m     89\u001b[0m         \u001b[38;5;28;01mbreak\u001b[39;00m\n\u001b[1;32m---> 90\u001b[0m \u001b[38;5;28;01mraise\u001b[39;00m TimeoutException(message, screen, stacktrace)\n",
      "\u001b[1;31mTimeoutException\u001b[0m: Message: \nStacktrace:\nBacktrace:\n\tOrdinal0 [0x00271ED3+2236115]\n\tOrdinal0 [0x002092F1+1807089]\n\tOrdinal0 [0x001166FD+812797]\n\tOrdinal0 [0x001455DF+1005023]\n\tOrdinal0 [0x001457CB+1005515]\n\tOrdinal0 [0x00177632+1209906]\n\tOrdinal0 [0x00161AD4+1120980]\n\tOrdinal0 [0x001759E2+1202658]\n\tOrdinal0 [0x001618A6+1120422]\n\tOrdinal0 [0x0013A73D+960317]\n\tOrdinal0 [0x0013B71F+964383]\n\tGetHandleVerifier [0x0051E7E2+2743074]\n\tGetHandleVerifier [0x005108D4+2685972]\n\tGetHandleVerifier [0x00302BAA+532202]\n\tGetHandleVerifier [0x00301990+527568]\n\tOrdinal0 [0x0021080C+1837068]\n\tOrdinal0 [0x00214CD8+1854680]\n\tOrdinal0 [0x00214DC5+1854917]\n\tOrdinal0 [0x0021ED64+1895780]\n\tBaseThreadInitThunk [0x76F3FA29+25]\n\tRtlGetAppContainerNamedObjectPath [0x77D87A4E+286]\n\tRtlGetAppContainerNamedObjectPath [0x77D87A1E+238]\n\t(No symbol) [0x00000000]\n"
     ]
    }
   ],
   "source": [
    "driver = webdriver.Chrome('C:/Users/Usuario/Downloads/Chrome_Driver_106/chromedriver.exe', chrome_options=opts)\n",
    "driver.get(\"https://www.kayak.com/\")\n",
    "WebDriverWait(driver, 20).until(EC.element_to_be_clickable((By.XPATH, \"//*[@id='c7JK5']/div/div/div/div[1]/div[2]/div/div[1]/div/div/div/div[1]/div[2]\"))).click()\n",
    "#driver.find_element(By.XPATH, \"//*[@id='c7JK5']/div/div/div/div[1]/div[2]/div/div[1]/div/div/div/div[1]/div[2]\").click()\n",
    "sleep(1)\n",
    "\n",
    "for query in list_1:\n",
    "    #WebDriverWait(driver, 20).until(EC.element_to_be_clickable((By.XPATH, \"//*[@id='c7JK5']/div/div/div/div[1]/div[2]/div/div[1]/div/div/div/div[1]/div[2]\")))\n",
    "    #WebDriverWait(driver, 20).until(EC.element_to_be_clickable((By.XPATH, \"//*[@id='c7JK5']/div/div/div/div[1]/div[2]/div/div[1]/div/div/div/div[1]/div[2]\"))).click()\n",
    "    \n",
    "    driver.find_element(By.XPATH,\"//*[@id='Jive']/div/div/div/div[1]/div[2]/div/div[1]/div/div/input\").send_keys(query[0])\n",
    "    driver.find_element(By.XPATH,\"//*[@id='Jive']/div/div/div/div[1]/div[2]/div/div[3]/div/div/input\").send_keys(query[1])\n",
    "\n",
    "driver.find_element_by_xpath(\"//*[@id='Jive']/div/div/div/div[1]/div[2]/div/div[5]/button/div[1]/div\").click()"
   ]
  },
  {
   "cell_type": "code",
   "execution_count": 4,
   "id": "07ac5c21",
   "metadata": {},
   "outputs": [
    {
     "name": "stdout",
     "output_type": "stream",
     "text": [
      "Arrival Location: SIN\n"
     ]
    }
   ],
   "source": [
    "Arrival_city = input(\"Arrival Location: \")"
   ]
  },
  {
   "cell_type": "code",
   "execution_count": 5,
   "id": "818328a6",
   "metadata": {},
   "outputs": [],
   "source": [
    "list_1 = [[Departure_city, Arrival_city]]"
   ]
  },
  {
   "cell_type": "code",
   "execution_count": null,
   "id": "ab50d84c",
   "metadata": {},
   "outputs": [],
   "source": []
  }
 ],
 "metadata": {
  "kernelspec": {
   "display_name": "Python 3 (ipykernel)",
   "language": "python",
   "name": "python3"
  },
  "language_info": {
   "codemirror_mode": {
    "name": "ipython",
    "version": 3
   },
   "file_extension": ".py",
   "mimetype": "text/x-python",
   "name": "python",
   "nbconvert_exporter": "python",
   "pygments_lexer": "ipython3",
   "version": "3.8.13"
  }
 },
 "nbformat": 4,
 "nbformat_minor": 5
}
