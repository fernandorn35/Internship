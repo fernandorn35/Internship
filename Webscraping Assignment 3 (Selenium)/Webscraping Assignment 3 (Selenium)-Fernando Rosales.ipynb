{
 "cells": [
  {
   "cell_type": "markdown",
   "id": "2b561f60",
   "metadata": {},
   "source": [
    "### 1. Write a python program which searches all the product under a particular product from www.amazon.in.\n",
    "The product to be searched will be taken as input from user. For e.g. If user input is ‘guitar’. Then search\n",
    "for guitars.\n",
    "\n",
    "### 2. In the above question, now scrape the following details of each product listed in first 3 pages of your search results and save it in a data frame and csv. \n",
    "In case if any product has less than 3 pages in search results then scrape all the products available under that product name. Details to be scraped are: \"Brand Name\", \"Name of the Product\", \"Price\", \"Return/Exchange\", \"Expected Delivery\", \"Availability\" and “Product URL”. In case, if any of the details are missing for any of the product then replace it by “-“."
   ]
  },
  {
   "cell_type": "code",
   "execution_count": 1,
   "id": "ea6727e5",
   "metadata": {},
   "outputs": [],
   "source": [
    "from selenium import webdriver\n",
    "from selenium.webdriver.common.keys import Keys\n",
    "from selenium.webdriver.chrome.options import Options\n",
    "from selenium.webdriver.common.keys import Keys\n",
    "from selenium.webdriver.support.ui import WebDriverWait\n",
    "from selenium.webdriver.support import expected_conditions as EC\n",
    "from selenium.webdriver.common.by import By\n",
    "from selenium.common.exceptions import TimeoutException\n",
    "from time import sleep"
   ]
  },
  {
   "cell_type": "code",
   "execution_count": 2,
   "id": "431995ae",
   "metadata": {},
   "outputs": [],
   "source": [
    "opts = Options()\n",
    "\n",
    "# Add headers\n",
    "user_agent =  ('Mozilla/5.0 (Windows NT 10.0; Win64; x64) AppleWebKit/537.36 (KHTML, like Gecko) Chrome/96.0.4664.45 Safari/537.36')"
   ]
  },
  {
   "cell_type": "code",
   "execution_count": 3,
   "id": "8410f405",
   "metadata": {},
   "outputs": [],
   "source": [
    "opts.add_argument(f'user-agent={user_agent}')\n",
    "opts.add_argument('--disable-blink-features=AutomationControlled')\n",
    "opts.add_experimental_option('useAutomationExtension', False)\n",
    "opts.add_experimental_option(\"excludeSwitches\", [\"enable-automation\"])"
   ]
  },
  {
   "cell_type": "code",
   "execution_count": 4,
   "id": "81625345",
   "metadata": {},
   "outputs": [
    {
     "name": "stderr",
     "output_type": "stream",
     "text": [
      "C:\\Users\\Usuario\\AppData\\Local\\Temp/ipykernel_6276/3249149288.py:1: DeprecationWarning: use options instead of chrome_options\n",
      "  driver = webdriver.Chrome('C:/Users/Usuario/Downloads/chromedriver_win32/chromedriver.exe', chrome_options=opts)\n"
     ]
    }
   ],
   "source": [
    "driver = webdriver.Chrome('C:/Users/Usuario/Downloads/chromedriver_win32/chromedriver.exe', chrome_options=opts)\n",
    "driver.get(\"https://www.amazon.in/\")\n",
    "\n",
    "sleep(1)"
   ]
  },
  {
   "cell_type": "code",
   "execution_count": 5,
   "id": "4e111f55",
   "metadata": {},
   "outputs": [],
   "source": [
    "search_bar = driver.find_element_by_xpath(\"//div[@id='nav-belt']//div[@class='nav-fill']//div[@class='nav-fill']//input[@id='twotabsearchtextbox']\")"
   ]
  },
  {
   "cell_type": "code",
   "execution_count": 6,
   "id": "68fdb0e9",
   "metadata": {},
   "outputs": [],
   "source": [
    "sleep(2)"
   ]
  },
  {
   "cell_type": "code",
   "execution_count": 7,
   "id": "b80cddc2",
   "metadata": {},
   "outputs": [],
   "source": [
    "search_bar.send_keys(\"laptop\")"
   ]
  },
  {
   "cell_type": "code",
   "execution_count": 8,
   "id": "59fdc5e8",
   "metadata": {},
   "outputs": [],
   "source": [
    "driver.find_element_by_xpath(\"//div[@id='nav-belt']//div[@class='nav-fill']//div[@class='nav-right']//div//span[@class='nav-search-submit-text nav-sprite nav-progressive-attribute']\").click()"
   ]
  },
  {
   "cell_type": "code",
   "execution_count": 9,
   "id": "93b85f64",
   "metadata": {},
   "outputs": [],
   "source": [
    "product_links_list = []\n",
    "\n",
    "product_links = WebDriverWait(driver, 10).until(EC.visibility_of_all_elements_located((By.XPATH, \"//div[@class='s-result-item s-asin sg-col-0-of-12 sg-col-16-of-20 AdHolder sg-col s-widget-spacing-small sg-col-12-of-16']//div//div//div//div//div//div//div//div[@class='sg-col sg-col-4-of-12 sg-col-8-of-16 sg-col-12-of-20 s-list-col-right']//div//div//div//h2//a[@class='a-link-normal s-underline-text s-underline-link-text s-link-style a-text-normal']\")))\n",
    "\n",
    "for i in product_links:\n",
    "    #product_links = WebDriverWait(driver, 10).until(EC.visibility_of_all_elements_located((By.XPATH, \"//div[@class='s-result-item s-asin sg-col-0-of-12 sg-col-16-of-20 AdHolder sg-col s-widget-spacing-small sg-col-12-of-16']//div//div//div//div//div//div//div//div[@class='sg-col sg-col-4-of-12 sg-col-8-of-16 sg-col-12-of-20 s-list-col-right']//div//div//div//h2//a[@class='a-link-normal s-underline-text s-underline-link-text s-link-style a-text-normal']\")))\n",
    "    product_links_list.append(i.get_attribute(\"href\"))"
   ]
  },
  {
   "cell_type": "code",
   "execution_count": 10,
   "id": "6f303c07",
   "metadata": {},
   "outputs": [],
   "source": [
    "driver.find_element_by_xpath(\"//div[@class='a-section a-spacing-none s-result-item s-flex-full-width s-widget s-widget-spacing-large']//div//div//span//a[@class='s-pagination-item s-pagination-next s-pagination-button s-pagination-separator']\").click()"
   ]
  },
  {
   "cell_type": "code",
   "execution_count": 11,
   "id": "fd5e0d68",
   "metadata": {},
   "outputs": [
    {
     "data": {
      "text/plain": [
       "6"
      ]
     },
     "execution_count": 11,
     "metadata": {},
     "output_type": "execute_result"
    }
   ],
   "source": [
    "len(product_links_list)"
   ]
  },
  {
   "cell_type": "code",
   "execution_count": 12,
   "id": "327a6261",
   "metadata": {},
   "outputs": [
    {
     "name": "stdout",
     "output_type": "stream",
     "text": [
      "https://www.amazon.in/s?k=laptop&page=2&qid=1656213407&ref=sr_pg_1\n"
     ]
    }
   ],
   "source": [
    "print(driver.current_url)"
   ]
  },
  {
   "cell_type": "code",
   "execution_count": 13,
   "id": "f987c06b",
   "metadata": {},
   "outputs": [],
   "source": [
    "product_links_list1 = []"
   ]
  },
  {
   "cell_type": "code",
   "execution_count": 14,
   "id": "0731c023",
   "metadata": {},
   "outputs": [],
   "source": [
    "for x in range(1,4):\n",
    "    driver.get(f'https://www.amazon.in/s?k=laptop&page={x}&qid=1656071559&ref=sr_pg_1')\n",
    "\n",
    "    product_links1= WebDriverWait(driver, 10).until(EC.visibility_of_all_elements_located((By.XPATH, \"//div[@class='s-result-item s-asin sg-col-0-of-12 sg-col-16-of-20 AdHolder sg-col s-widget-spacing-small sg-col-12-of-16']//div//div//div//div//div//div//div//div[@class='sg-col sg-col-4-of-12 sg-col-8-of-16 sg-col-12-of-20 s-list-col-right']//div//div//div//h2//a[@class='a-link-normal s-underline-text s-underline-link-text s-link-style a-text-normal']\")))\n",
    "\n",
    "    for i in product_links1:\n",
    "        product_links_list1.append(i.get_attribute(\"href\"))\n"
   ]
  },
  {
   "cell_type": "code",
   "execution_count": 15,
   "id": "8d45bc34",
   "metadata": {},
   "outputs": [
    {
     "name": "stdout",
     "output_type": "stream",
     "text": [
      "['https://www.amazon.in/gp/slredirect/picassoRedirect.html/ref=pa_sp_atf_aps_sr_pg1_1?ie=UTF8&adId=A07647221B5JMG1AVRRY2&url=%2FLenovo-IdeaPad-Celeron-Platinum-81VT009UIN%2Fdp%2FB09V7ZJYBN%2Fref%3Dsr_1_1_sspa%3Fkeywords%3Dlaptop%26qid%3D1656213419%26sr%3D8-1-spons%26psc%3D1&qualifier=1656213419&id=6216055958088171&widgetName=sp_atf', 'https://www.amazon.in/gp/slredirect/picassoRedirect.html/ref=pa_sp_atf_aps_sr_pg1_1?ie=UTF8&adId=A06935753PWO6CRZR9E2&url=%2FLenovo-IdeaPad-Celeron-Platinum-81WQ00MQIN%2Fdp%2FB09YJ1Q16L%2Fref%3Dsr_1_2_sspa%3Fkeywords%3Dlaptop%26qid%3D1656213419%26sr%3D8-2-spons%26psc%3D1&qualifier=1656213419&id=6216055958088171&widgetName=sp_atf', 'https://www.amazon.in/gp/slredirect/picassoRedirect.html/ref=pa_sp_mtf_aps_sr_pg1_1?ie=UTF8&adId=A0447151V9B07ZBYFE2A&url=%2FHP-Micro-Edge-Anti-Glare-Display-Graphics%2Fdp%2FB09MH9M5CV%2Fref%3Dsr_1_11_sspa%3Fkeywords%3Dlaptop%26qid%3D1656213419%26sr%3D8-11-spons%26psc%3D1&qualifier=1656213419&id=6216055958088171&widgetName=sp_mtf', 'https://www.amazon.in/gp/slredirect/picassoRedirect.html/ref=pa_sp_mtf_aps_sr_pg1_1?ie=UTF8&adId=A02744701J5I05YD09YCL&url=%2FRedmi-15-6-inch-Laptop-Windows-Charcoal%2Fdp%2FB09L53YH86%2Fref%3Dsr_1_12_sspa%3Fkeywords%3Dlaptop%26qid%3D1656213419%26sr%3D8-12-spons%26psc%3D1&qualifier=1656213419&id=6216055958088171&widgetName=sp_mtf', 'https://www.amazon.in/gp/slredirect/picassoRedirect.html/ref=pa_sp_btf_aps_sr_pg1_1?ie=UTF8&adId=A001647415OMWASK8CCCA&url=%2FLenovo-IdeaPad-Warranty-Platinum-81X700CWIN%2Fdp%2FB09MM5TSJ7%2Fref%3Dsr_1_21_sspa%3Fkeywords%3Dlaptop%26qid%3D1656213419%26sr%3D8-21-spons%26psc%3D1&qualifier=1656213419&id=6216055958088171&widgetName=sp_btf', 'https://www.amazon.in/gp/slredirect/picassoRedirect.html/ref=pa_sp_btf_aps_sr_pg1_1?ie=UTF8&adId=A07025472Y6F8DRM313EI&url=%2FLenovo-IdeaPad-Windows-Warranty-82H802FHIN%2Fdp%2FB09Q5JGSX1%2Fref%3Dsr_1_22_sspa%3Fkeywords%3Dlaptop%26qid%3D1656213419%26sr%3D8-22-spons%26psc%3D1&qualifier=1656213419&id=6216055958088171&widgetName=sp_btf', 'https://www.amazon.in/gp/slredirect/picassoRedirect.html/ref=pa_sp_atf_next_aps_sr_pg2_1?ie=UTF8&adId=A02457181IASI12QTED2Y&url=%2FLenovo-IdeaPad-Fingerprint-Graphite-82FGO1H9IN%2Fdp%2FB09M423NVT%2Fref%3Dsr_1_17_sspa%3Fkeywords%3Dlaptop%26qid%3D1656213434%26sr%3D8-17-spons%26psc%3D1&qualifier=1656213434&id=364960587609673&widgetName=sp_atf_next', 'https://www.amazon.in/gp/slredirect/picassoRedirect.html/ref=pa_sp_atf_next_aps_sr_pg2_1?ie=UTF8&adId=A085963730ZHPY4KEVIV9&url=%2FLenovo-IdeaPad-Windows-Warranty-82H802FJIN%2Fdp%2FB09Q5QLHSQ%2Fref%3Dsr_1_18_sspa%3Fkeywords%3Dlaptop%26qid%3D1656213434%26sr%3D8-18-spons%26psc%3D1&qualifier=1656213434&id=364960587609673&widgetName=sp_atf_next', 'https://www.amazon.in/gp/slredirect/picassoRedirect.html/ref=pa_sp_mtf_aps_sr_pg2_1?ie=UTF8&adId=A0847125AB8K7MCDWP8F&url=%2FFujitsu-400Nits-Graphics-Warranty-4ZR1H03552%2Fdp%2FB09Z9BP32Y%2Fref%3Dsr_1_27_sspa%3Fkeywords%3Dlaptop%26qid%3D1656213434%26sr%3D8-27-spons%26psc%3D1&qualifier=1656213434&id=364960587609673&widgetName=sp_mtf', 'https://www.amazon.in/gp/slredirect/picassoRedirect.html/ref=pa_sp_mtf_aps_sr_pg2_1?ie=UTF8&adId=A0998447CR9VZ68HJJZ1&url=%2FLenovo-IdeaPad-Graphics-Windows-82L3006YIN%2Fdp%2FB09NBMR8HZ%2Fref%3Dsr_1_28_sspa%3Fkeywords%3Dlaptop%26qid%3D1656213434%26sr%3D8-28-spons%26psc%3D1&qualifier=1656213434&id=364960587609673&widgetName=sp_mtf', 'https://www.amazon.in/gp/slredirect/picassoRedirect.html/ref=pa_sp_btf_aps_sr_pg2_1?ie=UTF8&adId=A06028451XZW3A719E10X&url=%2FMicro-Edge-Anti-Glare-Graphics-Speakers-15S-Eq2143Au%2Fdp%2FB09R1MMMTH%2Fref%3Dsr_1_37_sspa%3Fkeywords%3Dlaptop%26qid%3D1656213434%26sr%3D8-37-spons%26psc%3D1&qualifier=1656213434&id=364960587609673&widgetName=sp_btf', 'https://www.amazon.in/gp/slredirect/picassoRedirect.html/ref=pa_sp_btf_aps_sr_pg2_1?ie=UTF8&adId=A026612213HK4NCIYUL54&url=%2FRedmiBook-Windows-15-6-inch-Office-Charcoal%2Fdp%2FB09L55THRG%2Fref%3Dsr_1_38_sspa%3Fkeywords%3Dlaptop%26qid%3D1656213434%26sr%3D8-38-spons%26psc%3D1&qualifier=1656213434&id=364960587609673&widgetName=sp_btf', 'https://www.amazon.in/gp/slredirect/picassoRedirect.html/ref=pa_sp_atf_next_aps_sr_pg3_1?ie=UTF8&adId=A016494738N1UBNN0M6MM&url=%2FLenovo-IdeaPad-Warranty-Platinum-81WB018YIN%2Fdp%2FB09Q92YBWG%2Fref%3Dsr_1_33_sspa%3Fkeywords%3Dlaptop%26qid%3D1656213446%26sr%3D8-33-spons%26psc%3D1&qualifier=1656213446&id=4644207776140882&widgetName=sp_atf_next', 'https://www.amazon.in/gp/slredirect/picassoRedirect.html/ref=pa_sp_atf_next_aps_sr_pg3_1?ie=UTF8&adId=A08962851OJOF55IDV8LP&url=%2FHP-Chromebook-MediaTek-Touchscreen-11a-na0004MU%2Fdp%2FB09GKQRLF2%2Fref%3Dsr_1_34_sspa%3Fkeywords%3Dlaptop%26qid%3D1656213446%26sr%3D8-34-spons%26psc%3D1&qualifier=1656213446&id=4644207776140882&widgetName=sp_atf_next', 'https://www.amazon.in/gp/slredirect/picassoRedirect.html/ref=pa_sp_mtf_aps_sr_pg3_1?ie=UTF8&adId=A08472811CD697PH0DCL1&url=%2FFujitsu-400Nits-Graphics-Warranty-4ZR1H03553%2Fdp%2FB09Z9JRCK1%2Fref%3Dsr_1_43_sspa%3Fkeywords%3Dlaptop%26qid%3D1656213446%26sr%3D8-43-spons%26psc%3D1&qualifier=1656213446&id=4644207776140882&widgetName=sp_mtf', 'https://www.amazon.in/gp/slredirect/picassoRedirect.html/ref=pa_sp_mtf_aps_sr_pg3_1?ie=UTF8&adId=A0164547NTC2WO0KFOTC&url=%2FLenovo-IdeaPad-Windows-Warranty-82H701DMIN%2Fdp%2FB09Y5VD8N7%2Fref%3Dsr_1_44_sspa%3Fkeywords%3Dlaptop%26qid%3D1656213446%26sr%3D8-44-spons%26psc%3D1&qualifier=1656213446&id=4644207776140882&widgetName=sp_mtf', 'https://www.amazon.in/gp/slredirect/picassoRedirect.html/ref=pa_sp_btf_aps_sr_pg3_1?ie=UTF8&adId=A0509542YAHUGMQQN75C&url=%2FSamsung-Windows-Backlit-Keyboard-NP750XED-KC1IN%2Fdp%2FB09Z216R5Q%2Fref%3Dsr_1_53_sspa%3Fkeywords%3Dlaptop%26qid%3D1656213446%26sr%3D8-53-spons%26psc%3D1&qualifier=1656213446&id=4644207776140882&widgetName=sp_btf', 'https://www.amazon.in/gp/slredirect/picassoRedirect.html/ref=pa_sp_btf_aps_sr_pg3_1?ie=UTF8&adId=A08986802OTV4H35KX3NA&url=%2FDell-I3-1005G1-Office21-39-62Cms-Icc-D585033Win8%2Fdp%2FB09TNXCZ3T%2Fref%3Dsr_1_54_sspa%3Fkeywords%3Dlaptop%26qid%3D1656213446%26sr%3D8-54-spons%26psc%3D1&qualifier=1656213446&id=4644207776140882&widgetName=sp_btf']\n"
     ]
    }
   ],
   "source": [
    "print(product_links_list1)"
   ]
  },
  {
   "cell_type": "code",
   "execution_count": 16,
   "id": "2b4340b2",
   "metadata": {},
   "outputs": [],
   "source": [
    "data = {\n",
    "    \"brand_name\": [],\n",
    "    \"price\": []\n",
    "}"
   ]
  },
  {
   "cell_type": "markdown",
   "id": "4a2ba1cf",
   "metadata": {},
   "source": [
    "These resources were very valuable to come up with this solution:\n",
    "* https://www.youtube.com/watch?v=nCuPv3tf2Hg&list=RDCMUC8tgRQ7DOzAbn9L7zDL8mLg&start_radio=1&t=456s (Overall understanding on how to gather and scrape url list for Webscraping)\n",
    "* https://stackoverflow.com/questions/71142430/how-to-get-the-text-using-xpath (How to get text using XPATH, check answer by undetected Selenium )\n",
    "* https://stackoverflow.com/questions/69627784/scraper-looping-though-a-list-of-urls-using-selenium-without-getting-blocked (Webscraper looping through list of URLS without getting blocked, please check answer by user Shine J, it works perfect as a template)"
   ]
  },
  {
   "cell_type": "code",
   "execution_count": 17,
   "id": "74ef062f",
   "metadata": {},
   "outputs": [],
   "source": [
    "for link in product_links_list1:\n",
    "    driver = webdriver.Chrome(\"C:/Users/Usuario/Downloads/chromedriver_win32/chromedriver.exe\", options=opts)\n",
    "    driver.maximize_window()\n",
    "    driver.get(link)\n",
    "    # Click cookies popup\n",
    "    #WebDriverWait(driver,30).until(EC.element_to_be_clickable((By.LINK_TEXT,\"Continuer sans accepter\"))).c\n",
    "    #print(\"Processing\")\n",
    "    #brand_name = WebDriverWait(driver, 10).until(EC.visibility_of_all_elements_located((By.XPATH, \"//div[@class='pc en_IN']//div[@class='a-container']//div[@class='centerColAlign centerColAlign-bbcxoverride']//div//div//h1[@class='a-size-large a-spacing-none']//span[@class='a-size-large product-title-word-break']\"))).text\n",
    "    #print(brand_name)\n",
    "    #brand_name = WebDriverWait(driver, 10).until(EC.visibility_of_all_elements_located((By.XPATH, \"//div[@class='pc en_IN']//div[@class='a-container']//div[@class='centerColAlign centerColAlign-bbcxoverride']//div//div//h1[@class='a-size-large a-spacing-none']//span[@class='a-size-large product-title-word-break']\")))\n",
    "    #price = WebDriverWait(driver, 10).until(EC.visibility_of_all_elements_located((By.XPATH, \"//div[@class='pc en_IN']//div[@class='a-container']//div[@class='centerColAlign centerColAlign-bbcxoverride']//div[@class='celwidget']//div//span[@class='a-price aok-align-center reinventPricePriceToPayMargin priceToPay']\"))).text\n",
    "    try:\n",
    "        brand_name = WebDriverWait(driver, 10).until(EC.visibility_of_element_located((By.XPATH, \"//div[@class='pc en_IN']//div[@class='a-container']//div[@class='centerColAlign centerColAlign-bbcxoverride']//div//div//h1[@class='a-size-large a-spacing-none']//span[@class='a-size-large product-title-word-break']\"))).text\n",
    "        #print(brand_name)\n",
    "        #brand_name = WebDriverWait(driver, 10).until(EC.visibility_of_all_elements_located((By.XPATH, \"//div[@class='pc en_IN']//div[@class='a-container']//div[@class='centerColAlign centerColAlign-bbcxoverride']//div//div//h1[@class='a-size-large a-spacing-none']//span[@class='a-size-large product-title-word-break']\").text))\n",
    "        price = WebDriverWait(driver, 10).until(EC.visibility_of_element_located((By.XPATH, \"//div[@class='pc en_IN']//div[@class='a-container']//div[@class='centerColAlign centerColAlign-bbcxoverride']//div[@class='celwidget']//div//span[@class='a-price aok-align-center reinventPricePriceToPayMargin priceToPay']\"))).text\n",
    "        #print(brand_name)\n",
    "        #return_exchange = \n",
    "        #expected_delivery = \n",
    "        #availabilty =\n",
    "        #product_url = link\n",
    "    #product = {\n",
    "    #        'brand_name': brand_name,\n",
    "    #        'price': price\n",
    "    #        }\n",
    "        \n",
    "    #laptop_list.append(product)\n",
    "    #print(\"Saving: \", product['brand_name', 'price'])\n",
    "        data[\"brand_name\"].append(brand_name)\n",
    "        data[\"price\"].append(price)  \n",
    "    \n",
    "    \n",
    "    except TimeoutException: \n",
    "        continue\n",
    "    driver.quit()\n",
    "    \n",
    "#df = pd.DataFrame.from_dict(data)\n",
    "#print(df)\n",
    "#df.to_csv(\"data.csv\")"
   ]
  },
  {
   "cell_type": "code",
   "execution_count": 19,
   "id": "8b324bed",
   "metadata": {},
   "outputs": [],
   "source": [
    "import pandas as pd\n",
    "df_1 = pd.DataFrame.from_dict(data)\n",
    "df_1.to_csv(\"data1.csv\")"
   ]
  },
  {
   "cell_type": "code",
   "execution_count": null,
   "id": "f5c346a9",
   "metadata": {},
   "outputs": [],
   "source": []
  },
  {
   "cell_type": "code",
   "execution_count": null,
   "id": "5f465aa9",
   "metadata": {},
   "outputs": [],
   "source": []
  },
  {
   "cell_type": "code",
   "execution_count": null,
   "id": "b8dfec80",
   "metadata": {},
   "outputs": [],
   "source": []
  },
  {
   "cell_type": "code",
   "execution_count": null,
   "id": "144542cf",
   "metadata": {},
   "outputs": [],
   "source": []
  },
  {
   "cell_type": "markdown",
   "id": "c60f6516",
   "metadata": {},
   "source": [
    "### 3. Write a python program to access the search bar and search button on images.google.com and scrape 10 images each for keywords ‘fruits’, ‘cars’ and ‘Machine Learning’, ‘Guitar’, ‘Cakes’."
   ]
  },
  {
   "cell_type": "code",
   "execution_count": null,
   "id": "f6c1ce0a",
   "metadata": {},
   "outputs": [],
   "source": [
    "from selenium import webdriver\n",
    "from selenium.webdriver.common.keys import Keys\n",
    "from selenium.webdriver.chrome.options import Options\n",
    "from selenium.webdriver.common.keys import Keys\n",
    "from selenium.webdriver.support.ui import WebDriverWait\n",
    "from selenium.webdriver.support import expected_conditions as EC\n",
    "from selenium.webdriver.common.by import By\n",
    "from selenium.common.exceptions import TimeoutException\n",
    "from time import sleep"
   ]
  },
  {
   "cell_type": "code",
   "execution_count": null,
   "id": "66fe6b80",
   "metadata": {},
   "outputs": [],
   "source": []
  },
  {
   "cell_type": "code",
   "execution_count": 2,
   "id": "0a04ec10",
   "metadata": {},
   "outputs": [],
   "source": [
    "opts = Options()\n",
    "\n",
    "# Add headers\n",
    "user_agent =  ('Mozilla/5.0 (Windows NT 10.0; Win64; x64) AppleWebKit/537.36 (KHTML, like Gecko) Chrome/96.0.4664.45 Safari/537.36')"
   ]
  },
  {
   "cell_type": "code",
   "execution_count": 4,
   "id": "f52d527a",
   "metadata": {},
   "outputs": [],
   "source": [
    "opts.add_argument(f'user-agent={user_agent}')\n",
    "opts.add_argument('--disable-blink-features=AutomationControlled')\n",
    "opts.add_experimental_option('useAutomationExtension', False)\n",
    "opts.add_experimental_option(\"excludeSwitches\", [\"enable-automation\"])\n",
    "opts.binary_location = \"C:/Program Files/Google/Chrome/Application/chrome.exe\""
   ]
  },
  {
   "cell_type": "code",
   "execution_count": 8,
   "id": "c779b21e",
   "metadata": {},
   "outputs": [
    {
     "ename": "SyntaxError",
     "evalue": "'continue' not properly in loop (Temp/ipykernel_17600/2616793405.py, line 8)",
     "output_type": "error",
     "traceback": [
      "\u001b[1;36m  File \u001b[1;32m\"C:\\Users\\Usuario\\AppData\\Local\\Temp/ipykernel_17600/2616793405.py\"\u001b[1;36m, line \u001b[1;32m8\u001b[0m\n\u001b[1;33m    continue\u001b[0m\n\u001b[1;37m    ^\u001b[0m\n\u001b[1;31mSyntaxError\u001b[0m\u001b[1;31m:\u001b[0m 'continue' not properly in loop\n"
     ]
    }
   ],
   "source": [
    "try:\n",
    "    \n",
    "    driver = webdriver.Chrome(chrome_options=opts, executable_path=\"C:\\Users\\Usuario\\Downloads\\chromedriver_win32\\chromedriver.exe\", )\n",
    "    #driver = webdriver.Chrome('C:/Users/Usuario/Downloads/chromedriver_win32/chromedriver.exe', chrome_options=opts)\n",
    "    driver.get(\"https://www.google.com.com/\")\n",
    "    \n",
    "    \n",
    "    #for query in list_1:\n",
    "    #    driver.find_element_by_xpath(\"//div[@class='qsbWrapper']//div[@class='qsb']//div[@class='keywordSugg']//div//div[@class='suggestor-wrapper active ']//div[@class='suggestor-box flex-row flex-wrap bottom ']//input[@class='suggestor-input ']\").send_keys(query[0])\n",
    "    #    driver.find_element_by_xpath(\"//div[@class='qsbWrapper']//div[@class='qsb']//div[@class='locationSugg']//div//div[@class='suggestor-wrapper active ']//div[@class='suggestor-box flex-row flex-wrap bottom ']//input[@class='suggestor-input ']\").send_keys(query[1])\n",
    "\n",
    "#driver.find_element_by_xpath(\"//div[@class='qsbWrapper']//div[@class='qsb']//div[@class='qsbSubmit']\").click()\n",
    "\n",
    "#job_title = driver.find_elements_by_xpath(\"//div[@class='list']//div[@class='jobTupleHeader']//div[@class='info fleft']//a[@class='title fw500 ellipsis']\")\n",
    "#job_title = [    title.text for title in job_title   ]\n",
    "#print(job_title)\n",
    "\n",
    "#sleep(10)\n",
    "#driver.back()\n",
    "#driver.refresh()\n",
    "#sleep(2)\n",
    "#driver.quit()"
   ]
  },
  {
   "cell_type": "code",
   "execution_count": 5,
   "id": "7c100cb8",
   "metadata": {},
   "outputs": [],
   "source": [
    "list_1 = [['fruits', 'cars', 'Machine Learning', 'Guitar', 'Cakes']]"
   ]
  },
  {
   "cell_type": "markdown",
   "id": "24c26885",
   "metadata": {},
   "source": [
    "Checked this post when encountered the WebDriverException selenium problem:\n",
    "* https://stackoverflow.com/questions/53073411/selenium-webdriverexceptionchrome-failed-to-start-crashed-as-google-chrome-is"
   ]
  },
  {
   "cell_type": "code",
   "execution_count": 6,
   "id": "47017d8e",
   "metadata": {},
   "outputs": [],
   "source": [
    "from selenium import webdriver\n",
    "from selenium.webdriver.chrome.options import Options\n",
    "from selenium.webdriver.common.keys import Keys\n",
    "\n",
    "options = Options()\n",
    "options.binary_location = \"C:\\\\Program Files\\\\Google\\\\Chrome\\\\Application\\\\chrome.exe\"    #chrome binary location specified here\n",
    "options.add_argument(\"--start-maximized\") #open Browser in maximized mode\n",
    "options.add_argument(\"--no-sandbox\") #bypass OS security model\n",
    "options.add_argument(\"--disable-dev-shm-usage\") #overcome limited resource problems\n",
    "options.add_experimental_option(\"excludeSwitches\", [\"enable-automation\"])\n",
    "options.add_experimental_option('useAutomationExtension', False)\n",
    "driver = webdriver.Chrome(options=options, executable_path=r'C:\\Users\\Usuario\\Downloads\\chromedriver_win32\\chromedriver.exe')\n",
    "driver.get('http://google.com/')"
   ]
  },
  {
   "cell_type": "code",
   "execution_count": 7,
   "id": "03adb746",
   "metadata": {},
   "outputs": [],
   "source": [
    "for query in list_1:\n",
    "\n",
    "    driver.find_element_by_xpath(\"//div[@class='o3j99 ikrT4e om7nvf']//form[@method='GET']//div//div[@class='RNNXgb']//div[@class='a4bIc']//input[@class='gLFyf gsfi']\").send_keys(query[0])\n",
    "    driver.find_element_by_xpath(\"//div[@class='o3j99 ikrT4e om7nvf']//form[@method='GET']//div//div[@class='FPdoLc lJ9FBc']//input[@class='gNO89b']\").click()\n",
    "\n",
    "    "
   ]
  },
  {
   "cell_type": "code",
   "execution_count": null,
   "id": "ee4c4f96",
   "metadata": {},
   "outputs": [],
   "source": []
  },
  {
   "cell_type": "code",
   "execution_count": null,
   "id": "91a8784b",
   "metadata": {},
   "outputs": [],
   "source": []
  },
  {
   "cell_type": "code",
   "execution_count": null,
   "id": "b988802b",
   "metadata": {},
   "outputs": [],
   "source": []
  },
  {
   "cell_type": "code",
   "execution_count": 2,
   "id": "cada8ad8",
   "metadata": {},
   "outputs": [
    {
     "name": "stdout",
     "output_type": "stream",
     "text": [
      "What do you want to search for? ronaldo\n",
      "How many images do you want? 4\n",
      "https://www.google.com.sg/search?q=ronaldo&source=lnms&tbm=isch&sa=X&ei=0eZEVbj3IJG5uATalICQAQ&ved=0CAcQ_AUoAQ&biw=939&bih=591\n",
      "data:image/jpeg;base64,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\n",
      "data:image/jpeg;base64,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\n",
      "data:image/jpeg;base64,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\n",
      "data:image/jpeg;base64,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\n"
     ]
    }
   ],
   "source": [
    "\n",
    "\n",
    "from selenium import webdriver\n",
    "import os\n",
    "import urllib\n",
    "import time\n",
    "\n",
    "path = r'C:\\Users\\Usuario\\Downloads\\chromedriver_win32\\chromedriver.exe'\n",
    "\n",
    "url_prefix = \"https://www.google.com.sg/search?q=\"\n",
    "url_postfix = \"&source=lnms&tbm=isch&sa=X&ei=0eZEVbj3IJG5uATalICQAQ&ved=0CAcQ_AUoAQ&biw=939&bih=591\"\n",
    "\n",
    "save_folder = 'Train Images'\n",
    "\n",
    "def main():\n",
    "    if not os.path.exists(save_folder):\n",
    "        os.mkdir(save_folder)\n",
    "    download_images()\n",
    "    \n",
    "def download_images():\n",
    "    topic = input(\"What do you want to search for? \")\n",
    "    n_images = int(input('How many images do you want? '))\n",
    "    \n",
    "    search_url = url_prefix+topic+url_postfix\n",
    "    print(search_url)\n",
    "    \n",
    "    path = r'C:\\Users\\Usuario\\Downloads\\chromedriver_win32\\chromedriver.exe'\n",
    "    \n",
    "    driver = webdriver.Chrome(path)\n",
    "    driver.get(search_url)\n",
    "    \n",
    "    value = 0\n",
    "    for i in range(3):\n",
    "        driver.execute_script(\"scrollBy(\"+ str(value) +\",+1000);\")\n",
    "        value += 1000\n",
    "        time.sleep(1)\n",
    "    \n",
    "    elem1 = driver.find_element_by_id('islmp')\n",
    "    sub = elem1.find_elements_by_tag_name('img')\n",
    "    \n",
    "    count=0\n",
    "    for j,i in enumerate(sub):\n",
    "        if j < n_images:\n",
    "            src = i.get_attribute('src')                         \n",
    "            try:\n",
    "                if src != None:\n",
    "                    src  = str(src)\n",
    "                    print(src)\n",
    "                    \n",
    "                    urllib.request.urlretrieve(src, os.path.join(save_folder, topic+str(count)+'.jpg'))\n",
    "                else:\n",
    "                    raise TypeError\n",
    "            except Exception as e:              #catches type error along with other errors\n",
    "                print(f'fail with error {e}')\n",
    "    \n",
    "    driver.close()\n",
    "    \n",
    "if __name__ == \"__main__\":\n",
    "    main()"
   ]
  },
  {
   "cell_type": "code",
   "execution_count": null,
   "id": "2c42fe97",
   "metadata": {},
   "outputs": [],
   "source": []
  },
  {
   "cell_type": "code",
   "execution_count": null,
   "id": "4e7450f5",
   "metadata": {},
   "outputs": [],
   "source": []
  },
  {
   "cell_type": "code",
   "execution_count": null,
   "id": "63cc68a9",
   "metadata": {},
   "outputs": [],
   "source": []
  },
  {
   "cell_type": "code",
   "execution_count": null,
   "id": "5e0249de",
   "metadata": {},
   "outputs": [],
   "source": []
  },
  {
   "cell_type": "code",
   "execution_count": null,
   "id": "6b1b34b6",
   "metadata": {},
   "outputs": [],
   "source": []
  },
  {
   "cell_type": "code",
   "execution_count": null,
   "id": "541ad838",
   "metadata": {},
   "outputs": [],
   "source": []
  },
  {
   "cell_type": "code",
   "execution_count": null,
   "id": "b2379d7f",
   "metadata": {},
   "outputs": [],
   "source": []
  },
  {
   "cell_type": "code",
   "execution_count": null,
   "id": "8bf8b859",
   "metadata": {},
   "outputs": [],
   "source": []
  },
  {
   "cell_type": "code",
   "execution_count": null,
   "id": "58d2eb4a",
   "metadata": {},
   "outputs": [],
   "source": []
  },
  {
   "cell_type": "code",
   "execution_count": null,
   "id": "8837cb10",
   "metadata": {},
   "outputs": [],
   "source": []
  },
  {
   "cell_type": "code",
   "execution_count": null,
   "id": "073ec9cf",
   "metadata": {},
   "outputs": [],
   "source": []
  },
  {
   "cell_type": "code",
   "execution_count": 9,
   "id": "ef0b8ed9",
   "metadata": {},
   "outputs": [
    {
     "name": "stdout",
     "output_type": "stream",
     "text": [
      "data:image/jpeg;base64,/9j/4AAQSkZJRgABAQAAAQABAAD/2wCEAAoHCBYWFRgWFRUYGBgaGhoaGBgaGBgcGhoaGBwaGhgZGBocIS4lHB4rHxgYJjgmKy8xNTU1GiQ7QDs0Py40NTEBDAwMEA8QHhISHzQrJSs0NDQ0NDQ0NDQ0NzQ0NDQ0NDQ0NDQ0NDQ0NDQ0NDQ0NDQ0NDQ0NDQ0NDQ0NDQ0NDQ0NP/AABEIAP0AxwMBIgACEQEDEQH/xAAcAAACAgMBAQAAAAAAAAAAAAAEBQMGAAIHAQj/xABAEAACAQIDBQQIBQMCBQUAAAABAgADEQQSIQUxQVFhInGBkQYHEzKhscHRQlJicvAjguEUkjNjssLxFYOis9L/xAAaAQACAwEBAAAAAAAAAAAAAAADBAECBQAG/8QAKhEAAgICAgEDAwMFAAAAAAAAAAECEQMhEjEEIkFREyNhcYGhFDJCkbH/2gAMAwEAAhEDEQA/ACNt4paZfKMpzFdOAW2/xJlFxO1atRiqXVOJ1ufH6R3tbFO7uQAWbXJcg66m2usV0cx3oR0uoPkTMyFW5UO06ogpqdwZmfkL6d8b4ShkIZyXc+6lyQDzPOQLnQWChBzJFz4cPOT4fDs5yrf9RBG79T7lHdIlJs5JEtnxD5A5I3OQdBzA+8IxmJV2TC0vcXtOw5L/AOD5QfFbRSkhSiQRud1/EeCJ9WkOyAaaM7W9pU48l4W6f4lWqV/6LLsY1K4uz2soGVR+ldB4aStYPD3ZnOrMSxPebxjj6tlVRx18Ny38Bf8AukWFTl4GRG0mHjFdsb4Glujuikr9CniBqpRhyNwYXT229MgYikVH5hqO+DcG+gvNLssVBYco7Ji7Zm0qNX3HVul9fKNc4AMso0UcrEmyCAXQ/mB87/aabTS6NbgC3ilj9PjIfaZcS6jioI8Db/ukzEFNeOYHxuJXlRVR9QswVbUKdVcEWPMDd4rfyEzbOHz0c34qZseq7wf9pPiIHUBCIeI+aEjzsPjGlKsGUnSx7LjlyPduM5OnZScSlB8rMP1X8G3/AB18Y0o1LMrncbq/cws3zB8ekWbXpezq5SNNB4cO/S3iIRQq6AHuPfbTzHHnGZK0mgSfsM8brTt+qx790z0ca2IQa6Pr3WK/UTXNdLHett/G0k2SmWqjW3sAdd2uX6y0HtFZLs6KhKV9Px0845XQi4+J+EuAN/KVCupNWiw3Zyh/a6lvmLS2zQS9hSRzH09P9cft+sqxMtHp8P6y9x+cqFepYTRi0oITkrkaV8QBPIor1SxmQDzqy3Enx1N73zM1rHX3tOI5wnD7SBW1RQ/DNx/u4yIYpvym1/DlcXkWJdSL5QSdR+Yjdu0JExUr00a10M6eNpDVaCk8y1x5SDE7Rd+wWCp+SnoD32i6hRzHRL+Zt4E2jBKLfk772HhIkoxZydkCU7kX4bgNyjpzJjJ6yomd7WAAVeZ4DumrgU0ao9gq8uf5R1lXx20TXcWuFA0Xkbn47p0cbm79iXJLQ7puXYMdbxw2AYJmTfE2y94l5wCdkQU/S6Q7GNxKDiPSCrSbLbUcDeEN6SYhlyvhwynTXTUjMN+7Qg+Mte3PR1MQh/C/4WA49ekp77NxWHYL76acracr3I0047hyEZx/TktrYjl+rF6doXknPdQ9F7kgcNCQSDvIuCLi+4y37D2xX0SsM3Jxx74v2hinxK0qf+mWn7I2Rlcs1m95WzAXU7zre/WPMPs9lOu6wlPI41SCYOXbI8TVtiab8wQfI/4hlGp2Dc8W+si2ngyPZnd2vIA3PyiHauKchgiswsTZdNCdTfgBcaxWONyaSCymou2FYmsCHAOotUXwADjyA/3TMLitzrqCO0BxXp1F7+YlZpO9KsrMhy3yOAxbQjKw68Tp0h1CqtNymoF+yeAvqpHS1/KHlg4r5AfWUmOdt4NaqZlN2QXHVd/w+UrVGrawO61jH9Cuym3I6cu7xg2JRSxtYHfa19Dy6SMbpcWQ+7JMDiAVs2ttzcbcL84xpJcEg7joeO772iXCqRcH5cfpHuC7KgcXDgd4HZt4285etlWX3BYvP7J9NWoacmLBXHhaW47/ADnOvQiozsiEWWmxLE8WGdr+FyPEToy84/CVqxWap0cw9Yhy1VPQzneMxFzLz61q2Wonc30nPcMM7Q88lriLcadheDw19TMjnD0gqzJEYaOsU1cemhIG/S47JPOx4SN3pu2ZrMx3ntN8vtE+OrFmNz0sNw5ATSmgGgFzxP0HSIrGkh/lZZKVRT2VzdwUgfT4WhNIXdVBtu43bu0FlG+BbKw3Ei9tTx1hOBfNWv8AqA8yPpeAktsIhd6WVdFQaKACBw1vcnrp8ZX8Analm9IKOepkUDMVNr8MjOx+Sjxle2YO3Gcb+3QNr7iLJs5bES67MfQSoYNNZZNnPaIz7NSHVFmpAETd8Bn0sDBsNiIwTEaTouPuDmmgZNkU6YzEAnhBKou1+sIxWKubXgqNdh3yk5p6R0IvtgHpPU9xBpoB53J+cUYrZKOgOUXZcrHW5HI2MY7ca9ZYbQp9m0mMnHaJlBS0yh4zZeJXWm5bS1msSNOBYHU6679YLRwbNT/rAh0ut76kcAbfzQToFemLSq7VqhQx4WJPhDrPKfpA/wBNGPqBtm1s1gTru6kDQHvFvjC9pUOyGA7Q/mhiXDE9k8bE+IlhxLgoL7mHz4H4+UiSqWgS6FGDxdyVbQnlz4b90t+yXzlCNSAcg11fT7ASlshDam/JunIy2ehmMyVADTZ7sEVgw7NzrcE9b36GFjFNg5OlZaPQ8ZMVVQj36a1FH7Wsf+oToIlPxGG9ljsNUBsKntKbD9TLmFuhKjxEuCjSNwXFcfgXk7dnGfW7/wAamOjfSVLZqAamXX1qp/WQ9D9JQmq23SZdgBtiseANJkQm7GZJ+ozqAqVMnf8Azuh+Fok2AG/zm9Cgv+T9ob7dU0XVjx5RWU76HoxrsKqMETIDqfeMn2PTGdSfzD4a28NYrRizXO4a954fGNA+QAfiOg7z7xH84wEtaCIBx1Q/6hWXiQp7mIzfUxZi8OEqFgLWcg+ekk2hWKMjjerg99rGa4nFe0Wo9rE3e3K5v9I1ijr9joU21+49wY0Ec4WV3YWKzoOY3yyYYTPypxbQ9iaaTGuHaFIzHQQTDRvhmVR1gY7LzdCLF9mrlY5eyCL8b8f5yhOGuWCgiG7RoJVWzKD/ADhEVSk1K+Q5lHM6gjeOonNb0dGSa2QbR/44B52+No7GgiPB087+0c6g3C9eF4di8VYSX8HduyLaNewlD9IcSWBUeP2jra+0MoMR4ejcZn1vdm+g+Q8Y1hjx9TFfIya4olpnXTvHiL287xiXzUiAeGYdLfbQ+cQ4LFZu8cPp/OUPw+Iy6j3Tr3Hj89ZecWmLxdo8FQHQ6ctN3MHpy/xGexNoGnUU2zWIsLkEka2DAb4rr0lYlkOh1I49dDvHdGGCDtQdQjv2lYdhuyw0VwfzfhsL3BMvFX0Uk67OjNtg4qvhkWk6NTdXbNaxGliLHdYHl7wnQhK16I7A9gi1KhzVnUFzwW4HZXu0HhLNGYJ9vsBJrpHIvWr/AMWn3H6Tn7JOhetNf6qdzfSUVKRJnZXsCjSjh+MyNKagCZCwwtqyG1ZXwrE8bd+kJp4YDfIaaMTax7v4JJd1/DEn+B9DGnlUZm0A3DiTIaeJLuCeG4cgNfoYsq1Wv2jc8ANw/wAw3DDIpJ3mV40WsXbZq3YDv+g+khwD+8p3FbeZE2xaZyWHcPCR7NsKiqxsGut+RINvjbzjMV6aQOGpp/IVsusaVTI24y8YOrKvVwHtU00qJ8bQn0f2hfsPoy6G8Tzw5K/ddj2O8cuL/YuKOeBkLbfNIlaiE8mQXUj6Ga0zpA8YxU3Iup38fGKQS5UxpJPsKX0tpMbZT17QB+U0faaFWCsCCbi/veMAxGEoVFuUs2641B0i+psZFAKsx6ZmjTxQZ1NeyHNGuAL3g2MxWl4vwlIKCSSe83hVHCPVswKhA2tzqR+K0FwSYCU6Qm2hTJIv32m17Ko/Nqe4bvr5QjaZUZyOACjvNvsZEyZqaOPw6HuOoPneGT0hJ7k2yvVsOaTBlNxrf7Q3CYkHVeO9eR+0a4ygrUs5sOBYkWH+ZWqiBe0hJ/Vu+HLvh4vmtla4jTOUYW90/DmP5wnavV/s6i2Hp1tHcafpQ8Qq8DbeevKcNwuLznJlJY7goJJPQDW8+gvR7Zww1OkUsUdELlB2cxUHPbfr9jprcuOLT2BySstIEyYpnsICOSetM/1af930lcwtIZby1esuhmrU/H6Sr1XCrKOLlkSRVaTYJVbXSZNsLhmYzJo/Wxw1YHhJ7FuArg6e0X+5l8jmF/jJ8XRXXtoB+9bfK/xleqKrMTuUe6Og/l7wvZ+yzV191OfE933mRKEV6m6NGLk3SRL7REPYvUfhYdkeMjq0qjm7Cw5SwUcEiCyr9z3mSrRv3QLzJdfyMxwt9lXOHYQevhr6jxEuT7PQiLsVs0qbiWhnVlpYNCfZ20nVxc33b+e4+cP2xSswxFIWI99eR6jlAdoYG4LoNeK/VY2oYtVRM4uSoFS29QRozDlfyjDqUeS7R0U2nGXttMbbF2qrqDfvHIyxJTRxrqJzjGYR8O+elqh1sN1o22b6TrYBjlPIzPyYf8o7QaGS/TLTLDidipvRnTmAdPEG4ivE4TILu5I62A+E2r+kSKCSw8NflEzbepVaWJWqja07UWBbsvf8QGgvoNe7jL4cWST/AAVzZlCPdkbY4OWC+6uhbmenTrJ6OIdSQrEabuGgtu84q2Gl1Uc2PzjdaNldzxuF7hqT5mGzxjFJIJiVwTfvsWYl7ow5uPCyi3zM32LjrDK2u9WHMcfvPKy6lOag/wBwvf5/CLaVBixye9fMo68R3yYxTjTEsicZDnHUwuh1Qm4bip69ecRYy4e1rLYKLbiOB8zC8NtPg2l9CCOye8cJ7iVRhpprcC9x/aTu7paKcXTAyp7QDg8QaVRKqsVZWVlI3grY3tPqzBU19kijVcigdQFFjPlZsIXdKa+87Ko/uIUfE/CfVuEpZERfyqq+QtDx6sFPslRbC02mTJYGc19YzWdPGUrDYdqjdJcfWUt3pjvguwsIFUEidmyxxRtdsiEXJ76CNn7NVFGms9kuPxYUb55M/wClknsPyitHIMDS9rUyD3d7nmBw6DhLciWACjQaTNlbHWmuUan8TcSft0jmjhBK5sqk6XQ5gxtK2Kkw5MITCmOaOEHKFLhOkBbY1aQgOHIkLpzlkqYbpAMRh5XolSsrlbD2Nx4wfGbJVkNSn2XAuLaX6HneNqiWg9F8pK8N4+sNCcltESSemItmY45jTdbIfd5KdLqD+W505XmbV2coOYLAdo0WR3UXy5iVIG6/ay9xvGGFxDezGYX0F+Y/xHMkKrJH37Axd6YtxVBcnZifO2oJNt1r+MsToN34TuifG4UrrbTnCYZ1pgPIi6tDjYFKygnq0b4iroE4AD/9H6QHZYsg/ao+8kLE3PHf57vhA5Y88tGjjjUIpfABigcxPj4wYVQr5jwtmH1EaVMOTr4Ss4l+2xB4m3cNBGHjQn5Xod/IZtqmpfOm5rE8d/Hzk2yKCC5fUkiwvu5nlf7Rbh8UQddx3jrzE9qVyptfvlXGVUJ2uzo/q02AtbGDEOAVpMSov+PKSmnGwuf9s7iJ8s7M2xVwzrUo1GR991OjD9aneDynZ/Q31l0cWyUKimnXYWHFHYC5CneDpuPnLx0qBTTuzoEyZMlihRPTbCZ3Q8iflE9WsESWr0psCpM5vtvH3JAOgi8sMsmW31ovyUY6BtobQLG5M8iOtXuZk2IYoqNCrbsvNKnaFIs0RISiTyh6LoJwyaxtToKYqptaGUsRaMYpRXYGab6JMThbRPiKUctiARFuLYSuVRe0dBv3EGKpxNi9DeWHEjSIMem+Dj2G7Em03IYMLaixvuuuov4XEgwFRszZvdI0JtuPUcoXjaRKnnvHeIEtRmKlfc90rb3TyPTkZqYWpQcWQu9t/oFVKdrqe8HrPCVZGVhrYyYMrDLfVQNONuBkD0jFmmnTJcadHuGcCmo5gfK0OwwBuTFiKUHTnCExSKLlvAanyjWJQvl7h4zSjsJ2viBTpM19TYL1Y7vhr4SjCNsfjvbNZgVA0Tp1bne0XCkQGY8DlH7j9h8xGG72ZXl5PqTtdELT3NuPgZi8ZikjXhKMWRjtm1MK2Vj3oVaddDZqbB0vqLg7iOR1EgprcMBxt8/8yyYrY74jC18de3s3pqVCgBrqFZuhHZPiZT3omtWfQvoxtpMZhqeITQMO0vFXGjKe43jicc9Qm0GticOfdBWove10b/pWdilgZQ/WNiCiKRxNvhOSYzF5jOnetprUk/d9DORMY1jiuwMuyUtMntDDM09kvLFOrJ4s6bTEmWQ05LeeYN5kivMatIS0iczrIonbEyJql5GFvCEpy1nNUC1l0inE07x3iBFtRNZF0y8UKa2HuJXf9LldltqQeYJvuII3cZdHQWlaxlI1KpVdMvHute3W5+BjXjZeMt9ESpNOiCmjBlAW+gDG+o00vffCSl9xB7pI2FN7lmv32kToyC47Q63zL3MOHfeFyzjNpxJnL4R4Ug1TCg8ITSqhu/8Am/rJEEFycWRakhHitn3EW2IsjDjode75WlvehFmOwAYWI7jD489aYtPDe0LsdsjJhqeIDDtu9N04qyjMp7ipi1fcf+35/wCJvikK6Ne/PgQN3jBzceO7rGrTWhOS4tm6XXxHwO6WjZ22vZ4HE4Zr2rIhX96st/Nb/wC2VG8cbPJdkRUzuSFVQLkkyr1s5U9HSPUXhLVcQ/8Ay0XzZj9J2ec89T+zWp4es7+89Z07lpdi3+7POhyV1sHLvRzf1tj+iv7xOU4bDlz0nXPWjRzUl/cJzpMqCWzeRwgox7KRhbtk1BFUTIrxGLLHSZM/jJ7sLzSOhK0zNIg0zNETYo3zTdReQqZOklIhkqJN2NpqJHUeW6KbZBWaDlJPa8zJBNhooFanK+yezrkn3T8jbXwYC/RpaGSLsdgw/QjUEbwf5whMcqeyJRtaIatOA1EtJFdkFjp0N8n9rC5T9rCw4NFlfaLFmAVdP1Zr9bqYaGKUnUSE717gdfsVABuNz5a/Q+cMD6yAUi7ZzrpboBv8zN6mkJONPi+0DSabGSai8hqpNcFW4Qx6d4u9MItoruOwgYEEeMSKBTJSouZSDu0Kng6nmOI3EadRc6tCJto7PzAj+CNYc1afQvmw8trsrFWnlNr3HAjcRzli9CvSBMFiPbvT9p/TdVAI7LNaza91vGJThWUlT3jrzt1kdSlbdqDuPzB6x5bViThJLo+mvQXaOHqYWmuHqI5RF9oAe0HIu5dd4JYkyzz5G2TtSthqq1aDlHU6EbiOTD8QPIz6N9AfSxdoYfOQFqoctRRuzWuGXjlI+o4SwFqiL1g4NnoEqLldbd04tWqljYT6UxFEMpBE5F6b+jHsXNVF7BN2A4HnBZIJ+pdkW+ir7Pwo8Zk8wdblMiruy6otpabopkNOpCqURNskSnCAs0UzGeSDez2o9oI9SaYnEWgAr5jYSHstFDSmbyYwakdJLmlCx6wkZWbzLTjgSvhwZV9s4LI2YaZtCeo3fzul0KRdtXCZ6bDjY27xuh8GVwkmQyqUKqh9AyoQBZiCb8TccLwvEYW4i0f584wwOM/A+7geXQ9Os0M+F1ziS4a0BqSjayw4WzCCYnCgjdNNn1SjZW93geXfEJ7WisdMYPQgdbCx4KdxNHw0FGRZoqmJ2eG3iJMZgGXgWXjzHdzl9fCwOtgrxrFncQcoJ9FY2FseliLUy2Vy4SmRx9oGy3HEq4UEcQ/SN/U7jXpbSFLUCojo6/qQFh4gqR4mRVMA1OotaictRGV107JZTcXHeIV6sdns+1VdtCgqVX4EEi1rd9Tyj8MkZLRn5sLjtdH0HAdqYFaqMrC4ItDpkutCrVnBdu7GOGqlPwnVftMnVPSn0fXEKARqDcEb55BvAm7siyi0khdJJAhk3tJjG8yYkQXE17CR1q9oteoXNhu4yaIoztO2m7nDqVEKNJvh6FhN2Wc2cerJkWaUxC6SSqRzkYiTb2UnRJuFluJRyBSkiqpoYeyQeqknidyOb1FsxHIsPIyNxCtoLaq4/wCY3xuYMwm/jdwT/A3FaC8BtHJ2X1X4ju5jpGz0A4zLqDylaZYXs/aLUjzU71+o5GLZ/F5eqPf/AErKF9D3Z+LKEI/ucD+Xv6fKPTSiZkSomdDcH4cwesM2JitfZOf2H/t+3/iZkob/ACBdoJehI3w8aPSkLJK1RCkJMRhYt/qUai4igctVNRyYfiRxxUiWapTizFUJeGRwdo6UU0dI9FfSWljaWZey62FSmfeRvqp1sfrH8+dqeNq4PFCrRbKx1t+FhuZWHFTp852/0Y2/TxlEVE0YaOh3o3I8xyPETXj6oqS6Zm5sDhtdDoiZPZk4WOO5po9e0gepaJto7RscoOp/l5ixg5dG43XYdWxBY5R4w7B0bRNs4yxYVZ0lWiEwpRpIah1hNoJXlEjrJaJjCiIqw76xpQaXSKsKRZuFniGbAwiRRsxkg9VYclO8hrJa8u46K8tnM9q/8Z/3n5QbLJsc16rn9b/MiRzXxqopfg0YdETrIWEmeRsJcvQTszaDUmvvU+8vMcx1lirKGVXQ6GxUjhb5EGVAiNdiY/I2Rj2H/wDi3A9x3eUV8rByXKPa/kDkidH2ZU9tSV+O5hyYaH7+M8xGHtF/opiMrvTO4gOO8aN818pYcSAREuKcbEHJxlQjZYHiUjKukBrxeUaDRkUz0lSxQ/u+V/pM9FtvNgq61VuUNlqr+ZL/APUN48uMz0me7qvJSfPQfIxMRNnwl9pJ/kI4KUGmfTWHrK6q6kMrAMpG4gi4I8DPJT/VXtA1MEEbU0WZP7dGXwAa39sydKNOjFnDjJo5ftfaQpqWO/cBzPKVihiCxzNvO+D7UxZquT+EaL9T4zXB1BfKP/POLY8KjD8jU8/KdLot+y3lpwTaSm7LfdLXgn3RHMtjkHaGsGrpCEOk1qJeARIuR7GNMO8UYhbG8IwdeXRzQ9pvJlMBpPCVaEiykkM8MLyDaTBVZuQJ8pvhniv0sxOWg/UZR/dp8rxpLkkgUY3NI5wxu1z3+ZmGaq289flMdppI1ImrmRMZ6zTQmSWswzyasZsZZFZOy3ejeMzOjE9rtI3Xs6Hx0MuAqzm/o7VtVHn5X+8u9Kvcb5k51wyOKEpw2EuYBiHABJ3CTmtKv6W7RsmRTq+/9vH7QMYuckkRFborWMxGd2fmdO4bpCZqkxjNzFFRikhl6R0r1OVGvihwtSPjeoPl8pkK9TOF/p4iodzOiD/21LH/AOwTyCy/3Mxs7+4zi+IoknKov0H1O6MNn7JsCW1a3ZHAfcx7tXZwpkWHG0jwyyqWqF3Ldgez2lrwDbpWGp5KhHAm48f83lj2e2gmZ5EaZqYpcopj+huk1oPh2hQiYYDxeHuIkDlHsZacl4p2ps/MLjfLRddndkuGxF4xovKnhMSVbK2hEf4XEaQi0VaHdN5UvTnH+4gO67H5L9ZY1q6XnN9tY72tdnG6+ncug+Osd8aPJ38HY4+qyFDz5TxzIUqTGeaNjXNJHrGa3mjPI2edZVzN2aTQEvC1OnhJgRGV2EYNyr3HCWnA4+43yp4F1GZmIHAXPP8Agkf/AKmEPZJMz/Jg8mR0uispKtls2htQIpJO4SnYnEtUYu3Hd0HASHF45qpAawXlz+88BsPn/iF8fDw2+ysWrv2JlNh1kbef84T35S8+rP0XbEVhiKi2o0mulx79Rd1uaqdT1AHOPXxVkZsijG2dN9C9kf6bCUqRFmy5n/e/aYeF7eEyPrTIq3bsx3K3Z891NqpiaZddGFs68Qft1kWFlWwNUpUBXjoRzBNiJasOJeIKRm0qfuPyOU+Oo+vnDtn1JmKp3pNruBPiuo+UFwFQ6RLy407HvElca+C1YZocpirBtujNDMxjwQk9ZLzVJJORAm2psnOMy6GJ6OKam2VxaXJRAdoYFH0YePGEi6Osr219sBaLZT2m7I8d58pSzU06n5CSbVqkO68FJA87QVTo3gPCa3jx4x/U5S9iZak1etBDVM19oYayrmFGrNGqSG89WSUc2zdTrGKAtYAXkODw4dl3C55dN0sy4RU0UePGByZ/p9dhIWkK6ew82rt4CbYvZCKuix1S3TXFDSIPPOUtsu4qiroaeVlqELYdnme4bzA9m03qsqIrO50VFBLE9AJ0j1bbPo1cRXStRp1V9mrAVEVgCG3jMDbf8J1TAbDw9G/saFKnffkpopPeQNY/hlUbM+WRwk0c19FvVe11fGmw0PsVa5PR2GgHRb986ph6CoioihVUAKqiwAG4ADdNv9Ov5R5Ceigv5R5CXcnLsBPJKb2STJEaCflXyEyVKH//2Q==\n"
     ]
    },
    {
     "ename": "AttributeError",
     "evalue": "'list' object has no attribute 'click'",
     "output_type": "error",
     "traceback": [
      "\u001b[1;31m---------------------------------------------------------------------------\u001b[0m",
      "\u001b[1;31mAttributeError\u001b[0m                            Traceback (most recent call last)",
      "\u001b[1;32m~\\AppData\\Local\\Temp/ipykernel_5984/1941361645.py\u001b[0m in \u001b[0;36m<module>\u001b[1;34m\u001b[0m\n\u001b[0;32m     96\u001b[0m     \u001b[0msvg_arrows_xpath\u001b[0m \u001b[1;33m=\u001b[0m \u001b[1;34m'//div[@jscontroller]//a[contains(@jsaction, \"click:trigger\")]//*[@viewBox=\"0 0 24 24\"]'\u001b[0m\u001b[1;33m\u001b[0m\u001b[1;33m\u001b[0m\u001b[0m\n\u001b[0;32m     97\u001b[0m     \u001b[0mnext_arrow\u001b[0m \u001b[1;33m=\u001b[0m \u001b[0mdriver\u001b[0m\u001b[1;33m.\u001b[0m\u001b[0mfind_elements_by_xpath\u001b[0m\u001b[1;33m(\u001b[0m\u001b[0msvg_arrows_xpath\u001b[0m\u001b[1;33m)\u001b[0m\u001b[1;33m\u001b[0m\u001b[1;33m\u001b[0m\u001b[0m\n\u001b[1;32m---> 98\u001b[1;33m     \u001b[0mnext_arrow\u001b[0m\u001b[1;33m.\u001b[0m\u001b[0mclick\u001b[0m\u001b[1;33m(\u001b[0m\u001b[1;33m)\u001b[0m\u001b[1;33m\u001b[0m\u001b[1;33m\u001b[0m\u001b[0m\n\u001b[0m",
      "\u001b[1;31mAttributeError\u001b[0m: 'list' object has no attribute 'click'"
     ]
    }
   ],
   "source": [
    "import base64\n",
    "import os\n",
    "import requests\n",
    "import time\n",
    "\n",
    "from io import BytesIO\n",
    "from PIL import Image\n",
    "from selenium.webdriver.common.by import By\n",
    "from selenium.webdriver.support.ui import WebDriverWait\n",
    "from selenium.webdriver.support import expected_conditions as EC\n",
    "from selenium.webdriver.chrome.options import Options\n",
    "from selenium import webdriver\n",
    "\n",
    "CHROME_DRIVER_LOCATION = r'C:\\Users\\Usuario\\Downloads\\chromedriver_win32\\chromedriver.exe'\n",
    "SEARCH_TERMS = ['very', 'hot', 'chicks']\n",
    "TARGET_SAVE_LOCATION = os.path.join(r'c:\\test', '_'.join([x.capitalize() for x in SEARCH_TERMS]),  r'{}.{}')\n",
    "if not os.path.isdir(os.path.dirname(TARGET_SAVE_LOCATION)):\n",
    "    os.makedirs(os.path.dirname(TARGET_SAVE_LOCATION))\n",
    "\n",
    "def check_if_result_b64(source):\n",
    "    possible_header = source.split(',')[0]\n",
    "    if possible_header.startswith('data') and ';base64' in possible_header:\n",
    "        image_type = possible_header.replace('data:image/', '').replace(';base64', '')\n",
    "        return image_type\n",
    "    return False\n",
    "\n",
    "def get_driver():\n",
    "\n",
    "    user_agent = 'Mozilla/5.0 (Macintosh; Intel Mac OS X 10_15_3) AppleWebKit/537.36 (KHTML, like Gecko) ' \\\n",
    "                 'Chrome/80.0.3987.132 Safari/537.36'\n",
    "    options = Options()\n",
    "    #options.add_argument(\"--headless\")\n",
    "    options.add_argument(f'user-agent={user_agent}')\n",
    "    options.add_argument(\"--disable-web-security\")\n",
    "    options.add_argument(\"--allow-running-insecure-content\")\n",
    "    options.add_argument(\"--allow-cross-origin-auth-prompt\")\n",
    "\n",
    "    new_driver = webdriver.Chrome(executable_path=CHROME_DRIVER_LOCATION, options=options)\n",
    "    new_driver.get(f\"https://www.google.com/search?q={'+'.join(SEARCH_TERMS)}&source=lnms&tbm=isch&sa=X\")\n",
    "    return new_driver\n",
    "\n",
    "\n",
    "\n",
    "driver = get_driver()\n",
    "\n",
    "first_search_result = driver.find_elements_by_xpath('//a/div/img')[0]\n",
    "first_search_result.click()\n",
    "\n",
    "right_panel_base = WebDriverWait(driver, 10).until(EC.element_to_be_clickable((By.XPATH, f'''//*[@data-query=\"{' '.join(SEARCH_TERMS)}\"]''')))\n",
    "first_image = right_panel_base.find_elements_by_xpath('//*[@data-noaft=\"1\"]')[0]\n",
    "magic_class = first_image.get_attribute('class')\n",
    "image_finder_xp = f'//*[@class=\"{magic_class}\"]'\n",
    "\n",
    "\n",
    "# initial wait for the first image to be loaded\n",
    "# this part could be improved but I couldn't find a proper way of doing it\n",
    "time.sleep(3)\n",
    "\n",
    "# initial thumbnail for \"to_be_loaded image\"\n",
    "thumbnail_src = driver.find_elements_by_xpath(image_finder_xp)[-1].get_attribute(\"src\")\n",
    "\n",
    "for i in range(10):\n",
    "\n",
    "    # issue 4: All image elements share the same class. Assuming that you always click \"next\":\n",
    "    # The last element is the base64 encoded thumbnail version is of the \"next image\"\n",
    "    # [-2] element is the element currently displayed\n",
    "    target = driver.find_elements_by_xpath(image_finder_xp)[-1]\n",
    "\n",
    "    # you need to wait until image is completely loaded:\n",
    "    # first the base64 encoded thumbnail will be displayed\n",
    "    # so we check if the displayed element src match the cached thumbnail src.\n",
    "    # However sometimes the final result is the base64 content, so wait is capped\n",
    "    # at 5 seconds.\n",
    "    wait_time_start = time.time()\n",
    "    while (target.get_attribute(\"src\") == thumbnail_src) and time.time() < wait_time_start + 5:\n",
    "        time.sleep(0.2)\n",
    "    thumbnail_src = driver.find_elements_by_xpath(image_finder_xp)[-1].get_attribute(\"src\")\n",
    "    attribute_value = target.get_attribute(\"src\")\n",
    "    print(attribute_value)\n",
    "\n",
    "    # issue 1: if the image is base64, requests get won't work because the src is not an url\n",
    "    is_b64 = check_if_result_b64(attribute_value)\n",
    "    if is_b64:\n",
    "        image_format = is_b64\n",
    "        content = base64.b64decode(attribute_value.split(';base64')[1])\n",
    "    else:\n",
    "        resp = requests.get(attribute_value, stream=True)\n",
    "        temp_for_image_extension = BytesIO(resp.content)\n",
    "        image = Image.open(temp_for_image_extension)\n",
    "        image_format = image.format\n",
    "        content = resp.content\n",
    "    # issue 2: if you 'open' a file, later you have to close it. Use a \"with\" pattern instead\n",
    "    with open(TARGET_SAVE_LOCATION.format(i, image_format), 'wb') as f:\n",
    "        f.write(content)\n",
    "    # issue 3: this Xpath is bad \"\"\"//*[@id=\"Sva75c\"]/div/div/div[3]/div[2]/div/div[1]/div[1]/div/div[1]/a[2]/div\"\"\" if page layout changes, this path breaks instantly\n",
    "    svg_arrows_xpath = '//div[@jscontroller]//a[contains(@jsaction, \"click:trigger\")]//*[@viewBox=\"0 0 24 24\"]'\n",
    "    next_arrow = driver.find_elements_by_xpath(svg_arrows_xpath)\n",
    "    print(next_arrow)"
   ]
  },
  {
   "cell_type": "code",
   "execution_count": 3,
   "id": "be3bf2cd",
   "metadata": {},
   "outputs": [
    {
     "name": "stdout",
     "output_type": "stream",
     "text": [
      "//*[@class=\"n3VNCb\"]\n"
     ]
    }
   ],
   "source": [
    "print(image_finder_xp)"
   ]
  },
  {
   "cell_type": "code",
   "execution_count": 10,
   "id": "f89e57a3",
   "metadata": {},
   "outputs": [
    {
     "name": "stdout",
     "output_type": "stream",
     "text": [
      "[]\n"
     ]
    }
   ],
   "source": [
    "print(next_arrow)"
   ]
  },
  {
   "cell_type": "code",
   "execution_count": null,
   "id": "2e6a34a1",
   "metadata": {},
   "outputs": [],
   "source": []
  },
  {
   "cell_type": "code",
   "execution_count": null,
   "id": "db0591ac",
   "metadata": {},
   "outputs": [],
   "source": []
  },
  {
   "cell_type": "code",
   "execution_count": null,
   "id": "f85262f8",
   "metadata": {},
   "outputs": [],
   "source": []
  },
  {
   "cell_type": "code",
   "execution_count": null,
   "id": "768b47a8",
   "metadata": {},
   "outputs": [],
   "source": []
  },
  {
   "cell_type": "code",
   "execution_count": null,
   "id": "bd694a9d",
   "metadata": {},
   "outputs": [],
   "source": []
  },
  {
   "cell_type": "code",
   "execution_count": null,
   "id": "30064871",
   "metadata": {},
   "outputs": [],
   "source": []
  },
  {
   "cell_type": "code",
   "execution_count": null,
   "id": "526232aa",
   "metadata": {},
   "outputs": [],
   "source": []
  },
  {
   "cell_type": "code",
   "execution_count": null,
   "id": "4547f7c2",
   "metadata": {},
   "outputs": [],
   "source": []
  },
  {
   "cell_type": "code",
   "execution_count": null,
   "id": "18b44c17",
   "metadata": {},
   "outputs": [],
   "source": []
  },
  {
   "cell_type": "code",
   "execution_count": null,
   "id": "a29ed2f6",
   "metadata": {},
   "outputs": [],
   "source": []
  },
  {
   "cell_type": "code",
   "execution_count": null,
   "id": "799be48c",
   "metadata": {},
   "outputs": [],
   "source": []
  },
  {
   "cell_type": "code",
   "execution_count": null,
   "id": "6f9f5580",
   "metadata": {},
   "outputs": [],
   "source": []
  },
  {
   "cell_type": "code",
   "execution_count": null,
   "id": "156be90c",
   "metadata": {},
   "outputs": [],
   "source": []
  },
  {
   "cell_type": "code",
   "execution_count": null,
   "id": "507c3842",
   "metadata": {},
   "outputs": [],
   "source": []
  },
  {
   "cell_type": "code",
   "execution_count": null,
   "id": "37bb7069",
   "metadata": {},
   "outputs": [],
   "source": []
  },
  {
   "cell_type": "code",
   "execution_count": 2,
   "id": "6c40f7b0",
   "metadata": {},
   "outputs": [
    {
     "name": "stdout",
     "output_type": "stream",
     "text": [
      "Ouvrier / Ouvrière agricole en maraîchage-horticulture\n",
      "11 - CASTELNAUDARY\n",
      "Vous serez chargé(e) d'assurer la castration des maÏs 4 postes sont à pourvoir à partir du 15 Juillet pour 1 mois environ à temps partiel: vous interviendrez les matins\n",
      "Apprenti horticulteur H/F\n",
      "05 - MONETIER ALLEMONT\n",
      "La Maison Familiale Rurale de Ventavon recherche un apprenti horticulteur H/F pour un de ses clients sur Monetier Allemont. Vous préparerez le CAP Métiers de l'agriculture - production...\n",
      "Apprenti horticulteur H/F\n",
      "05 - MONETIER ALLEMONT\n",
      "La Maison Familiale Rurale de Ventavon recherche un apprenti horticulteur H/F pour un de ses clients sur Monetier Allemont. Vous préparerez le BAC PRO Conduite de Productions Horticoles. Ce diplôme...\n",
      "Educateur technique specialise horticulture (H/F)\n",
      "90 - GIROMAGNY\n",
      "Missions : - Travail éducatif et de formation auprès des jeunes déficients intellectuels de 16 à 20 ans - Collaboration avec les équipes pluri professionnelles, sous l'autorité du chef de...\n",
      "Ouvrier / Ouvrière agricole en maraîchage-horticulture (H/F)\n",
      "971 - ST FRANCOIS\n",
      "Missions: Défrichage, semis, plantation, récolte, entretien des cultures Le salaire peut être négocié selon la qualification et l'expérience.\n",
      "Ouvrier / Ouvrière agricole en maraîchage-horticulture\n",
      "80 - LESBOEUFS\n",
      "Exploitation agricole située à LESBOEUFS (80360) à côté de BAPAUME dans le département de la Somme recherche 1 trieur/trieuse pour les récoltes de pommes de terre. Mission : triage de pommes de...\n",
      "Ouvrier / Ouvrière agricole en maraîchage-horticulture\n",
      "84 - PERNES LES FONTAINES\n",
      "Poste réparti: - en maraîchage 3/4 jours par semaine: effeuillage, récolte des tomates/relevage,désherbage manuel, attachage des vignes - en légumerie 1 jour: nettoyage,épluchage, décontamination,...\n",
      "Professeur(e) d'horticulture (H/F)\n",
      "65 - TARBES\n",
      "Pour un lycée professionnel, formation du CAP horticole au BTS, recherche un formateur/professeur à temps partiel pour l'année 22-23.\n",
      "Ouvrier / Ouvrière agricole en maraîchage-horticulture (H/F)\n",
      "85 - AIZENAY\n",
      "Vous aurez pour tâches à réaliser : Le suivi de cultures La préparation du sol L'arrosage La récolte et la préparation des commandes Les horaires sont adaptées en cas de fortes chaleurs.\n",
      "Ouvrier / Ouvrière agricole en maraîchage-horticulture\n",
      "13 - MALLEMORT\n",
      "2 postes à pourvoir pour début contrat 10 septembre vous ramasserez les courges et les différentes variétés de curcubitacées pas de logement possible, exploitation non desservie par les bus\n",
      "Ouvrier / Ouvrière agricole en maraîchage-horticulture\n",
      "40 - LABASTIDE D ARMAGNAC\n",
      "Nous recrutons un ouvrier agricole pour la saison estivale en maraichage, pour : - Désherbage - Tondeuse / Débroussailleuse - Semis - Plantation - Récolte - Entretien des cultures... du lundi au...\n",
      "Ouvrier / Ouvrière agricole en maraîchage-horticulture\n",
      "84 - MONTEUX\n",
      "Recolte et manutention de courges diverses ,recuperation des paillages plastiques et des gaines gouttes a gouttes, 01 poste a pourvoir pour 02 mois a Monteux 84170\n",
      "Ouvrier / Ouvrière agricole en maraîchage-horticulture (H/F)\n",
      "13 - TARASCON\n",
      "Pour une entreprise de production de plants maraichers, nous recherchons du personnel pour notre saison de production de plants de fraisiers. Vous serez polyvalent sur les différentes opérations...\n",
      "Ouvrier / Ouvrière agricole en maraîchage-horticulture\n",
      "41 - CELLETTES\n",
      "Cueillette et conditionnement de fleurs et/ou légumes Entretien des cultures\n",
      "Formation en horticulture / pépinière (H/F)\n",
      "69 - ST GENIS LAVAL\n",
      "Dans le cadre d'un contrat d'apprentissage ou de professionnalisation , vous allez acquérir des compétences et la gestuelle de base dans les métiers de l'aménagement paysager. Vos missions:...\n",
      "Ouvrier / Ouvrière agricole en maraîchage-horticulture\n",
      "13 - MALLEMORT\n",
      "Recherche 5 personnes pour prise de poste à partir du 5 septembre 2022 afin d'effectuer la récolte de courgettes, salades et les choux fleurs principalement. Exploitation à 1 km en dehors du centre...\n",
      "Ouvrier / Ouvrière agricole en maraîchage-horticulture\n",
      "33 - MIOS\n",
      "L'ANEFA Gironde vous propose : Une exploitation légumière sur Lacanau de Mios (7 000 m2 de serres et 5 hectares de plein champs) recherche son agent de cultures légumières (F/H). Vous effectuerez...\n",
      "Ouvrier / Ouvrière agricole en maraîchage-horticulture (H/F)\n",
      "47 - STE LIVRADE SUR LOT\n",
      "Cherche salariés pour une durée d'1 mois. Pour désherbage et ramassage des cultures maraîchères sous serres.\n",
      "commercial en horticulture - pépinière (H/F)\n",
      "50 - HAMBYE\n",
      "Au coeur du service commercial, vous assurez le lien quotidien entre la pépinière et nos clients. Vous répondez aux différentes demandes de nos clients et assurez le suivi de leurs dossiers. Vous...\n",
      "Formateur en horticulture (H/F)\n",
      "50 - COUTANCES\n",
      "Formateur / formatrice auprès de CAPA production horticole, BAC Pro aménagements paysagers, CAP fleuriste, 4ème / 3ème de l'enseignement agricole. Vos missions : - Vous dispensez des cours de...\n",
      "CDD\n",
      "Temps partiel\n",
      "CDD\n",
      "Temps plein\n",
      "CDD\n",
      "Temps plein\n",
      "CDI\n",
      "Temps plein\n",
      "CDI\n",
      "Temps plein\n",
      "CDD\n",
      "Temps plein\n",
      "CDD\n",
      "Temps plein\n",
      "CDD\n",
      "Temps partiel\n",
      "CDD\n",
      "Temps plein\n",
      "Saisonnier\n",
      "Temps plein\n",
      "CDD\n",
      "Temps plein\n",
      "Saisonnier\n",
      "Temps plein\n",
      "Saisonnier\n",
      "Temps partiel\n",
      "CDD\n",
      "Temps plein\n",
      "CDD\n",
      "Temps plein\n",
      "Saisonnier\n",
      "Temps plein\n",
      "CDI\n",
      "Temps plein\n",
      "CDD\n",
      "Temps plein\n",
      "CDI\n",
      "Temps plein\n",
      "CDI\n",
      "Temps plein\n",
      "Ouvrier agricole ramssage melon (H/F)\n",
      "47 - BRUCH\n",
      "Votre mission: Ramassage des melons Entretenir les plantations (sortir les plastiques, ficelles..)\n",
      "Ouvrier / Ouvrière agricole en maraîchage-horticulture\n",
      "11 - CASTELNAUDARY\n",
      "Vous serez chargé(e) d'assurer la castration des maÏs 4 postes sont à pourvoir à partir du 15 Juillet pour 1 mois environ à temps partiel: vous interviendrez les matins\n",
      "Ouvrier Agricole (H/F)\n",
      "82 - TARN ET GARONNE\n",
      "Vous aurez pour mission la cueillette de fruits d'été (prunes, melons, pommes...) chez plusieurs adhérents du groupement d'employeurs. Lieux de travail : Montfermier (82), St Vincent Lespinasse (82),...\n",
      "Ouvrier agricole polyvalent / Ouvrière agricole polyvalente (H/F)\n",
      "49 - BRIOLLAY\n",
      "Notre Groupement d'Employeurs vous propose d'intervenir dans 2 exploitations agricoles sur le secteur Angers Nord comme Agent agricole polyvalent H/F. MISSIONS : Vous travaillez à mi-temps dans 2...\n",
      "Ouvrier agricole polyvalent / Ouvrière agricole polyvalente\n",
      "82 - BIOULE\n",
      "Lieu : Bioule 82800 Nous recherchons pour un de nos clients des ouvriers agricoles polyvalents H/F pour une mission de deux semaines dans le secteur agricole. La mission consistera à...\n",
      "Ouvrier agricole polyvalent / Ouvrière agricole polyvalente\n",
      "59 - HAUBOURDIN\n",
      "URGENT !! Terre intérim Douai est à la recherche pour son client basé sur le secteur de HAUBOURDIN, de 4 OUVRIERS AGRICOLE H/F. Les postes disponibles seront : 1 CASSEUR/SE : consiste à séparer la...\n",
      "Ouvrier agricole polyvalent / Ouvrière agricole polyvalente (H/F)\n",
      "49 - LOIRE AUTHION\n",
      "Notre Groupement d'Employeurs vous propose d'intervenir dans 2 exploitations agricoles sur le secteur Angers Est (La Bohalle) comme Agent agricole polyvalent H/F. MISSIONS : - Travaux de culture -...\n",
      "Ouvrier agricole polyvalent / Ouvrière agricole polyvalente (H/F)\n",
      "49 - THORIGNE D ANJOU\n",
      "ELIORESO-GE vous propose d'intervenir dans 3 exploitations agricoles sur le secteur de Champigné comme Agent de plusieurs élevages. Vous travaillez à temps partagé et vous possédez des compétences...\n",
      "Ouvrier agricole (H/F)\n",
      "2B - SORBO OCAGNANO\n",
      "Recherche ouvrier agricole en CDD , expérience en taille agrumes exigée . Logement collectif assuré 7 poste en CDD à pourvoir à partir du 1er novembre. Pour postuler envoyez votre CV par mail...\n",
      "Ouvrier agricole polyvalent / Ouvrière agricole polyvalente\n",
      "10 - COLOMBE LA FOSSE\n",
      "Le cabinet de recrutement Manpower Champagne-Ardenne est fier d'avoir été choisi par un de ses partenaires pour la recherche de son futur talent ! Nous recherchons un Ouvrier agricole polyvalent...\n",
      "Ouvrier agricole polyvalent / Ouvrière agricole polyvalente\n",
      "52 - CHAUMONT\n",
      "Pour le remplacement d'un(e) agriculteur/agricultrice, nous recrutons un(e) technicien(e) en élevage ovins. Votre mission : assurer le remplacement de l'exploitant(e) agricole lors de son absence de...\n",
      "Ouvrier agricole polyvalent / Ouvrière agricole polyvalente (H/F)\n",
      "13 - ST REMY DE PROVENCE\n",
      "cueillette et conditionnement des pommes. 3 postes à pourvoir au 5 aout 2022. Pas de possibilité de logement.\n",
      "Ouvrier agricole polyvalent / Ouvrière agricole polyvalente (H/F)\n",
      "83 - LA LONDE LES MAURES\n",
      "Au sein d'un domaine vous aurez en charge les travaux agricole Une première expérience est nécessaire, le candidat devra faire preuve d'autonomie et être impérativement véhiculé pour la bonne tenue...\n",
      "Ouvrier agricole en production bovine H/F\n",
      "87 - ST HILAIRE LA TREILLE\n",
      "Au sein d'une exploitation, nous recherchons un Ouvrier Agricole H/F. Vos principales missions seront : - l'aide à la conduite de troupeaux bovins, - l'alimentation des animaux, - la conduite...\n",
      "Ouvrier agricole (H/F)\n",
      "82 - CASTELSARRASIN\n",
      "[PFC RH recrute] - Ouvrier agricole (H/F) - Castelsarrasin - (82) - Intérim - 35H hebdomadaires et plus - Salaire de 10.85/H€ Vous êtes rigoureux(se), autonome, réactif avec un grand respect...\n",
      "Ouvrier agricole polyvalent / Ouvrière agricole polyvalente (H/F)\n",
      "69 - VAULX EN VELIN\n",
      "Sur une exploitation céréalière et maraichère en agriculture raisonnée : - Conduite des engins agricoles (préparation du sol, semis, pulvérisateur, entretien des cultures etc...) - Suivi irrigation...\n",
      "Ouvrier agricole polyvalent / Ouvrière agricole polyvalente\n",
      "30 - NIMES\n",
      "Le Service de remplacement recrute pour l'une de ses adhérentes exploitante agricole dans l'élevage de poney et accueil enfants : Un(e) ouvrier agricole Vos missions : - débroussailler - tailler...\n",
      "Ouvrier agricole polyvalent / Ouvrière agricole polyvalente\n",
      "2B - VESCOVATO\n",
      "Le salarié sera amener à appliquer diverses techniques culturales sur des vergers de clémentiniers : récolte, taille, ébourgeonnage... 2 postes à pourvoir Poste non logé Pour postuler contacter...\n",
      "Ouvrier agricole polyvalent / Ouvrière agricole polyvalente\n",
      "2B - VESCOVATO\n",
      "Le poste consiste à suivre les diverses étapes techniques de la production de divers fruits (kiwi, clémentine, pomme) : récolte, taille de arbres, ébourgeonnage... 2 postes à pourvoir Pas de...\n",
      "Ouvrier agricole polyvalent / Ouvrière agricole polyvalente\n",
      "OCCITANIE\n",
      "L'entreprise recherche un ouvrier (H/F) polyvalent Bûcheronnage débroussaillage, plantation. Vos missions : - Réaliser des opérations de coupe et d'entretien d'arbres (abattage, élagage, taille...\n",
      "Saisonnier\n",
      "Temps plein\n",
      "CDD\n",
      "Temps partiel\n",
      "Saisonnier\n",
      "Temps plein\n",
      "CDI\n",
      "Temps plein\n",
      "Intérim\n",
      "Temps plein\n",
      "Intérim\n",
      "Temps plein\n",
      "CDI\n",
      "Temps plein\n",
      "CDI\n",
      "Temps plein\n",
      "CDD\n",
      "Temps plein\n",
      "CDI\n",
      "Temps plein\n",
      "CDD\n",
      "Temps plein\n",
      "Saisonnier\n",
      "Temps plein\n",
      "Saisonnier\n",
      "Temps plein\n",
      "CDD\n",
      "Temps plein\n",
      "Intérim\n",
      "Temps plein\n",
      "CDD\n",
      "Temps plein\n",
      "CDD\n",
      "Temps plein\n",
      "CDD\n",
      "Temps plein\n",
      "CDD\n",
      "Temps plein\n",
      "CDI\n",
      "Temps plein\n",
      "                                               titre           contrat  \\\n",
      "0                    Formateur en horticulture (H/F)  CDI\\nTemps plein   \n",
      "1  Ouvrier agricole polyvalent / Ouvrière agricol...  CDI\\nTemps plein   \n",
      "\n",
      "     localisation                                        description  \n",
      "0  50 - COUTANCES  Formateur / formatrice auprès de CAPA producti...  \n",
      "1       OCCITANIE  L'entreprise recherche un ouvrier (H/F) polyva...  \n"
     ]
    }
   ],
   "source": [
    "from selenium import webdriver\n",
    "from selenium.webdriver.support.ui import WebDriverWait\n",
    "from selenium.webdriver.common.by import By\n",
    "from selenium.webdriver.support import expected_conditions as EC\n",
    "import pandas as pd\n",
    "\n",
    "options = webdriver.ChromeOptions()\n",
    "# options.add_argument(\"--incognito\")\n",
    "options.add_argument('--no-sandbox')\n",
    "options.add_argument('--disable-dev-shm-usage')\n",
    "\n",
    "\n",
    "# # Create the csv at the good place\n",
    "# csv_file = open('\\path_to_folder.csv', 'w', newline='')\n",
    "# csv_writer = csv.writer(csv_file)\n",
    "# csv_writer.writerow(['titre', 'contrat', 'localisation', 'description'])\n",
    "data = {\n",
    "    \"titre\": [],\n",
    "    \"contrat\": [],\n",
    "    \"localisation\": [],\n",
    "    \"description\": []\n",
    "}\n",
    "\n",
    "# A list of two URL's\n",
    "listurl = ['https://candidat.pole-emploi.fr/offres/emploi/horticulteur/s1m1',\n",
    "           'https://candidat.pole-emploi.fr/offres/emploi/ouvrier-agricole/s1m2']\n",
    "\n",
    "# Loop through the list\n",
    "for i in listurl:\n",
    "    driver = webdriver.Chrome(\"C:/Users/Usuario/Downloads/chromedriver_win32/chromedriver.exe\", options=options)\n",
    "    driver.maximize_window()\n",
    "    driver.get(i)\n",
    "    # Click cookies popup\n",
    "    WebDriverWait(driver,30).until(EC.element_to_be_clickable((By.LINK_TEXT,\"Continuer sans accepter\"))).click()\n",
    "\n",
    "    # Get the elements\n",
    "    try:\n",
    "        zone = WebDriverWait(driver, 10).until(\n",
    "           EC.presence_of_element_located((By.CLASS_NAME, \"zone-resultats\"))\n",
    "           )\n",
    "        offres = zone.find_elements_by_css_selector(\"div.media-body\")\n",
    "        offres2 = zone.find_elements_by_css_selector(\"div.media-right.media-middle.hidden-xs\")\n",
    "        for offre in offres:\n",
    "            titre = (offre.find_element_by_css_selector(\"h2.t4.media-heading\")).text\n",
    "            print(titre)\n",
    "            localisation = (offre.find_element_by_css_selector(\"span\")).text\n",
    "            print(localisation)\n",
    "            description =(offre.find_element_by_class_name(\"description\")).text\n",
    "            print(description)\n",
    "        for offre2 in offres2:\n",
    "            contrat = (offre2.find_element_by_class_name(\"contrat\")).text\n",
    "            print(contrat)\n",
    "        data[\"titre\"].append(titre)\n",
    "        data[\"contrat\"].append(contrat)\n",
    "        data[\"localisation\"].append(localisation)\n",
    "        data[\"description\"].append(description)\n",
    "\n",
    "    except Exception as ex:\n",
    "        print(ex)\n",
    "    driver.quit()\n",
    "        \n",
    "df = pd.DataFrame.from_dict(data)\n",
    "print(df)\n",
    "df.to_csv(\"data.csv\")"
   ]
  },
  {
   "cell_type": "code",
   "execution_count": null,
   "id": "bea9e24a",
   "metadata": {},
   "outputs": [],
   "source": []
  },
  {
   "cell_type": "code",
   "execution_count": null,
   "id": "9a71f68b",
   "metadata": {},
   "outputs": [],
   "source": []
  },
  {
   "cell_type": "code",
   "execution_count": null,
   "id": "153d8a7d",
   "metadata": {},
   "outputs": [],
   "source": []
  },
  {
   "cell_type": "code",
   "execution_count": null,
   "id": "cd183f3f",
   "metadata": {},
   "outputs": [],
   "source": []
  },
  {
   "cell_type": "code",
   "execution_count": null,
   "id": "ffe7fe73",
   "metadata": {},
   "outputs": [],
   "source": []
  },
  {
   "cell_type": "code",
   "execution_count": null,
   "id": "d5a6d6df",
   "metadata": {},
   "outputs": [],
   "source": []
  },
  {
   "cell_type": "code",
   "execution_count": null,
   "id": "0668b5cf",
   "metadata": {},
   "outputs": [],
   "source": []
  },
  {
   "cell_type": "code",
   "execution_count": null,
   "id": "fdf33228",
   "metadata": {},
   "outputs": [],
   "source": []
  },
  {
   "cell_type": "code",
   "execution_count": null,
   "id": "3c252307",
   "metadata": {},
   "outputs": [],
   "source": []
  },
  {
   "cell_type": "code",
   "execution_count": null,
   "id": "305543a1",
   "metadata": {},
   "outputs": [],
   "source": []
  },
  {
   "cell_type": "markdown",
   "id": "82aacff7",
   "metadata": {},
   "source": [
    "### 4. Write a python program to search for a smartphone(e.g.: Oneplus Nord, pixel 4A, etc.) on www.flipkart.com and scrape following details for all the search results displayed on 1st page. Details to be scraped: “Brand Name”, “Smartphone name”, “Colour”, “RAM”, “Storage(ROM)”, “Primary Camera”, “Secondary Camera”, “Display Size”, “Battery Capacity”, “Price”, “Product URL”. Incase if any of the details is missing then replace it by “- “. Save your results in a dataframe and CSV."
   ]
  },
  {
   "cell_type": "code",
   "execution_count": 3,
   "id": "e608fc18",
   "metadata": {},
   "outputs": [],
   "source": [
    "from pprint import pprint\n",
    "from selenium import webdriver\n",
    "from selenium.webdriver.common.keys import Keys\n",
    "from selenium.webdriver.support.ui import WebDriverWait\n",
    "from selenium.webdriver.support import expected_conditions as EC\n",
    "from selenium.webdriver.common.by import By\n",
    "from selenium.common.exceptions import TimeoutException"
   ]
  },
  {
   "cell_type": "code",
   "execution_count": 4,
   "id": "d9cc1fca",
   "metadata": {},
   "outputs": [],
   "source": [
    "driver = webdriver.Chrome(r\"C:/Users/Usuario/Downloads/chromedriver_win32/chromedriver.exe\")\n",
    "driver.get('https://www.flipkart.com/')"
   ]
  },
  {
   "cell_type": "code",
   "execution_count": 5,
   "id": "e543d3ca",
   "metadata": {},
   "outputs": [],
   "source": [
    "search_bar = driver.find_element_by_class_name(\"_3704LK\")"
   ]
  },
  {
   "cell_type": "code",
   "execution_count": 6,
   "id": "84fb9c98",
   "metadata": {},
   "outputs": [],
   "source": [
    "search_bar.clear()"
   ]
  },
  {
   "cell_type": "code",
   "execution_count": 7,
   "id": "cea03352",
   "metadata": {},
   "outputs": [],
   "source": [
    "search_bar.send_keys(\"Oneplus Nord\")"
   ]
  },
  {
   "cell_type": "code",
   "execution_count": 8,
   "id": "027bb2b7",
   "metadata": {},
   "outputs": [],
   "source": [
    "search_bar.send_keys(Keys.RETURN)"
   ]
  },
  {
   "cell_type": "code",
   "execution_count": null,
   "id": "8f17083a",
   "metadata": {},
   "outputs": [],
   "source": []
  },
  {
   "cell_type": "code",
   "execution_count": null,
   "id": "78a6de5d",
   "metadata": {},
   "outputs": [],
   "source": []
  },
  {
   "cell_type": "code",
   "execution_count": null,
   "id": "57721b12",
   "metadata": {},
   "outputs": [],
   "source": []
  },
  {
   "cell_type": "code",
   "execution_count": null,
   "id": "e7f15fdf",
   "metadata": {},
   "outputs": [],
   "source": []
  },
  {
   "cell_type": "code",
   "execution_count": null,
   "id": "d51791b3",
   "metadata": {},
   "outputs": [],
   "source": []
  },
  {
   "cell_type": "code",
   "execution_count": null,
   "id": "a3c804ee",
   "metadata": {},
   "outputs": [],
   "source": []
  },
  {
   "cell_type": "markdown",
   "id": "dd4e5ece",
   "metadata": {},
   "source": [
    "### 5. Write a program to scrap geospatial coordinates (latitude, longitude) of a city searched on google maps."
   ]
  },
  {
   "cell_type": "code",
   "execution_count": 3,
   "id": "7f8e51e4",
   "metadata": {},
   "outputs": [],
   "source": [
    "from selenium.webdriver.support.ui import WebDriverWait\n",
    "from selenium import webdriver\n",
    "from selenium.webdriver.common.keys import Keys\n",
    "from selenium.webdriver.chrome.options import Options\n",
    "from selenium.webdriver.common.keys import Keys\n",
    "from selenium.webdriver.support.ui import WebDriverWait\n",
    "from selenium.webdriver.support import expected_conditions as EC\n",
    "from selenium.webdriver.common.by import By\n",
    "from selenium.common.exceptions import TimeoutException\n",
    "from selenium.webdriver import ActionChains\n",
    "from time import sleep"
   ]
  },
  {
   "cell_type": "code",
   "execution_count": 9,
   "id": "75194620",
   "metadata": {},
   "outputs": [],
   "source": [
    "driver = webdriver.Chrome(r\"C:/Users/Usuario/Downloads/chromedriver_win32/chromedriver.exe\")\n",
    "wait = WebDriverWait(driver, 40)\n",
    "driver.get(\"https://www.google.com/maps\")\n",
    "wait.until(EC.element_to_be_clickable((By.ID, \"searchboxinput\"))).send_keys(\"Caracas\")\n",
    "wait.until(EC.element_to_be_clickable((By.ID, \"searchbox-searchbutton\"))).click()\n",
    "sleep(10)\n",
    "\n",
    "try:\n",
    "    ActionChains(driver).move_to_element(driver.find_element_by_xpath(\"//html/body\")).context_click().perform()\n",
    "    print(wait.until(EC.visibility_of_element_located((By.CSS_SELECTOR, \"ul[role='menu']>li div div[class*='text']:nth-of-type(1)\"))).text)\n",
    "except TimeoutException as ex:\n",
    "    driver.close()\n",
    "    \n"
   ]
  },
  {
   "cell_type": "code",
   "execution_count": 10,
   "id": "216503a0",
   "metadata": {},
   "outputs": [
    {
     "ename": "InvalidSessionIdException",
     "evalue": "Message: invalid session id\n",
     "output_type": "error",
     "traceback": [
      "\u001b[1;31m---------------------------------------------------------------------------\u001b[0m",
      "\u001b[1;31mInvalidSessionIdException\u001b[0m                 Traceback (most recent call last)",
      "\u001b[1;32m~\\AppData\\Local\\Temp/ipykernel_12468/482697661.py\u001b[0m in \u001b[0;36m<module>\u001b[1;34m\u001b[0m\n\u001b[1;32m----> 1\u001b[1;33m \u001b[0mprint\u001b[0m\u001b[1;33m(\u001b[0m\u001b[0mwait\u001b[0m\u001b[1;33m.\u001b[0m\u001b[0muntil\u001b[0m\u001b[1;33m(\u001b[0m\u001b[0mEC\u001b[0m\u001b[1;33m.\u001b[0m\u001b[0mvisibility_of_element_located\u001b[0m\u001b[1;33m(\u001b[0m\u001b[1;33m(\u001b[0m\u001b[0mBy\u001b[0m\u001b[1;33m.\u001b[0m\u001b[0mCSS_SELECTOR\u001b[0m\u001b[1;33m,\u001b[0m \u001b[1;34m\"ul[role='menu']>li div div[class*='text']:nth-of-type(1)\"\u001b[0m\u001b[1;33m)\u001b[0m\u001b[1;33m)\u001b[0m\u001b[1;33m)\u001b[0m\u001b[1;33m.\u001b[0m\u001b[0mtext\u001b[0m\u001b[1;33m)\u001b[0m\u001b[1;33m\u001b[0m\u001b[1;33m\u001b[0m\u001b[0m\n\u001b[0m",
      "\u001b[1;32m~\\anaconda3\\envs\\spyder1\\lib\\site-packages\\selenium\\webdriver\\support\\wait.py\u001b[0m in \u001b[0;36muntil\u001b[1;34m(self, method, message)\u001b[0m\n\u001b[0;32m     69\u001b[0m         \u001b[1;32mwhile\u001b[0m \u001b[1;32mTrue\u001b[0m\u001b[1;33m:\u001b[0m\u001b[1;33m\u001b[0m\u001b[1;33m\u001b[0m\u001b[0m\n\u001b[0;32m     70\u001b[0m             \u001b[1;32mtry\u001b[0m\u001b[1;33m:\u001b[0m\u001b[1;33m\u001b[0m\u001b[1;33m\u001b[0m\u001b[0m\n\u001b[1;32m---> 71\u001b[1;33m                 \u001b[0mvalue\u001b[0m \u001b[1;33m=\u001b[0m \u001b[0mmethod\u001b[0m\u001b[1;33m(\u001b[0m\u001b[0mself\u001b[0m\u001b[1;33m.\u001b[0m\u001b[0m_driver\u001b[0m\u001b[1;33m)\u001b[0m\u001b[1;33m\u001b[0m\u001b[1;33m\u001b[0m\u001b[0m\n\u001b[0m\u001b[0;32m     72\u001b[0m                 \u001b[1;32mif\u001b[0m \u001b[0mvalue\u001b[0m\u001b[1;33m:\u001b[0m\u001b[1;33m\u001b[0m\u001b[1;33m\u001b[0m\u001b[0m\n\u001b[0;32m     73\u001b[0m                     \u001b[1;32mreturn\u001b[0m \u001b[0mvalue\u001b[0m\u001b[1;33m\u001b[0m\u001b[1;33m\u001b[0m\u001b[0m\n",
      "\u001b[1;32m~\\anaconda3\\envs\\spyder1\\lib\\site-packages\\selenium\\webdriver\\support\\expected_conditions.py\u001b[0m in \u001b[0;36m__call__\u001b[1;34m(self, driver)\u001b[0m\n\u001b[0;32m    126\u001b[0m     \u001b[1;32mdef\u001b[0m \u001b[0m__call__\u001b[0m\u001b[1;33m(\u001b[0m\u001b[0mself\u001b[0m\u001b[1;33m,\u001b[0m \u001b[0mdriver\u001b[0m\u001b[1;33m)\u001b[0m\u001b[1;33m:\u001b[0m\u001b[1;33m\u001b[0m\u001b[1;33m\u001b[0m\u001b[0m\n\u001b[0;32m    127\u001b[0m         \u001b[1;32mtry\u001b[0m\u001b[1;33m:\u001b[0m\u001b[1;33m\u001b[0m\u001b[1;33m\u001b[0m\u001b[0m\n\u001b[1;32m--> 128\u001b[1;33m             \u001b[1;32mreturn\u001b[0m \u001b[0m_element_if_visible\u001b[0m\u001b[1;33m(\u001b[0m\u001b[0m_find_element\u001b[0m\u001b[1;33m(\u001b[0m\u001b[0mdriver\u001b[0m\u001b[1;33m,\u001b[0m \u001b[0mself\u001b[0m\u001b[1;33m.\u001b[0m\u001b[0mlocator\u001b[0m\u001b[1;33m)\u001b[0m\u001b[1;33m)\u001b[0m\u001b[1;33m\u001b[0m\u001b[1;33m\u001b[0m\u001b[0m\n\u001b[0m\u001b[0;32m    129\u001b[0m         \u001b[1;32mexcept\u001b[0m \u001b[0mStaleElementReferenceException\u001b[0m\u001b[1;33m:\u001b[0m\u001b[1;33m\u001b[0m\u001b[1;33m\u001b[0m\u001b[0m\n\u001b[0;32m    130\u001b[0m             \u001b[1;32mreturn\u001b[0m \u001b[1;32mFalse\u001b[0m\u001b[1;33m\u001b[0m\u001b[1;33m\u001b[0m\u001b[0m\n",
      "\u001b[1;32m~\\anaconda3\\envs\\spyder1\\lib\\site-packages\\selenium\\webdriver\\support\\expected_conditions.py\u001b[0m in \u001b[0;36m_find_element\u001b[1;34m(driver, by)\u001b[0m\n\u001b[0;32m    413\u001b[0m         \u001b[1;32mraise\u001b[0m \u001b[0me\u001b[0m\u001b[1;33m\u001b[0m\u001b[1;33m\u001b[0m\u001b[0m\n\u001b[0;32m    414\u001b[0m     \u001b[1;32mexcept\u001b[0m \u001b[0mWebDriverException\u001b[0m \u001b[1;32mas\u001b[0m \u001b[0me\u001b[0m\u001b[1;33m:\u001b[0m\u001b[1;33m\u001b[0m\u001b[1;33m\u001b[0m\u001b[0m\n\u001b[1;32m--> 415\u001b[1;33m         \u001b[1;32mraise\u001b[0m \u001b[0me\u001b[0m\u001b[1;33m\u001b[0m\u001b[1;33m\u001b[0m\u001b[0m\n\u001b[0m\u001b[0;32m    416\u001b[0m \u001b[1;33m\u001b[0m\u001b[0m\n\u001b[0;32m    417\u001b[0m \u001b[1;33m\u001b[0m\u001b[0m\n",
      "\u001b[1;32m~\\anaconda3\\envs\\spyder1\\lib\\site-packages\\selenium\\webdriver\\support\\expected_conditions.py\u001b[0m in \u001b[0;36m_find_element\u001b[1;34m(driver, by)\u001b[0m\n\u001b[0;32m    409\u001b[0m     if thrown.\"\"\"\n\u001b[0;32m    410\u001b[0m     \u001b[1;32mtry\u001b[0m\u001b[1;33m:\u001b[0m\u001b[1;33m\u001b[0m\u001b[1;33m\u001b[0m\u001b[0m\n\u001b[1;32m--> 411\u001b[1;33m         \u001b[1;32mreturn\u001b[0m \u001b[0mdriver\u001b[0m\u001b[1;33m.\u001b[0m\u001b[0mfind_element\u001b[0m\u001b[1;33m(\u001b[0m\u001b[1;33m*\u001b[0m\u001b[0mby\u001b[0m\u001b[1;33m)\u001b[0m\u001b[1;33m\u001b[0m\u001b[1;33m\u001b[0m\u001b[0m\n\u001b[0m\u001b[0;32m    412\u001b[0m     \u001b[1;32mexcept\u001b[0m \u001b[0mNoSuchElementException\u001b[0m \u001b[1;32mas\u001b[0m \u001b[0me\u001b[0m\u001b[1;33m:\u001b[0m\u001b[1;33m\u001b[0m\u001b[1;33m\u001b[0m\u001b[0m\n\u001b[0;32m    413\u001b[0m         \u001b[1;32mraise\u001b[0m \u001b[0me\u001b[0m\u001b[1;33m\u001b[0m\u001b[1;33m\u001b[0m\u001b[0m\n",
      "\u001b[1;32m~\\anaconda3\\envs\\spyder1\\lib\\site-packages\\selenium\\webdriver\\remote\\webdriver.py\u001b[0m in \u001b[0;36mfind_element\u001b[1;34m(self, by, value)\u001b[0m\n\u001b[0;32m    974\u001b[0m                 \u001b[0mby\u001b[0m \u001b[1;33m=\u001b[0m \u001b[0mBy\u001b[0m\u001b[1;33m.\u001b[0m\u001b[0mCSS_SELECTOR\u001b[0m\u001b[1;33m\u001b[0m\u001b[1;33m\u001b[0m\u001b[0m\n\u001b[0;32m    975\u001b[0m                 \u001b[0mvalue\u001b[0m \u001b[1;33m=\u001b[0m \u001b[1;34m'[name=\"%s\"]'\u001b[0m \u001b[1;33m%\u001b[0m \u001b[0mvalue\u001b[0m\u001b[1;33m\u001b[0m\u001b[1;33m\u001b[0m\u001b[0m\n\u001b[1;32m--> 976\u001b[1;33m         return self.execute(Command.FIND_ELEMENT, {\n\u001b[0m\u001b[0;32m    977\u001b[0m             \u001b[1;34m'using'\u001b[0m\u001b[1;33m:\u001b[0m \u001b[0mby\u001b[0m\u001b[1;33m,\u001b[0m\u001b[1;33m\u001b[0m\u001b[1;33m\u001b[0m\u001b[0m\n\u001b[0;32m    978\u001b[0m             'value': value})['value']\n",
      "\u001b[1;32m~\\anaconda3\\envs\\spyder1\\lib\\site-packages\\selenium\\webdriver\\remote\\webdriver.py\u001b[0m in \u001b[0;36mexecute\u001b[1;34m(self, driver_command, params)\u001b[0m\n\u001b[0;32m    319\u001b[0m         \u001b[0mresponse\u001b[0m \u001b[1;33m=\u001b[0m \u001b[0mself\u001b[0m\u001b[1;33m.\u001b[0m\u001b[0mcommand_executor\u001b[0m\u001b[1;33m.\u001b[0m\u001b[0mexecute\u001b[0m\u001b[1;33m(\u001b[0m\u001b[0mdriver_command\u001b[0m\u001b[1;33m,\u001b[0m \u001b[0mparams\u001b[0m\u001b[1;33m)\u001b[0m\u001b[1;33m\u001b[0m\u001b[1;33m\u001b[0m\u001b[0m\n\u001b[0;32m    320\u001b[0m         \u001b[1;32mif\u001b[0m \u001b[0mresponse\u001b[0m\u001b[1;33m:\u001b[0m\u001b[1;33m\u001b[0m\u001b[1;33m\u001b[0m\u001b[0m\n\u001b[1;32m--> 321\u001b[1;33m             \u001b[0mself\u001b[0m\u001b[1;33m.\u001b[0m\u001b[0merror_handler\u001b[0m\u001b[1;33m.\u001b[0m\u001b[0mcheck_response\u001b[0m\u001b[1;33m(\u001b[0m\u001b[0mresponse\u001b[0m\u001b[1;33m)\u001b[0m\u001b[1;33m\u001b[0m\u001b[1;33m\u001b[0m\u001b[0m\n\u001b[0m\u001b[0;32m    322\u001b[0m             response['value'] = self._unwrap_value(\n\u001b[0;32m    323\u001b[0m                 response.get('value', None))\n",
      "\u001b[1;32m~\\anaconda3\\envs\\spyder1\\lib\\site-packages\\selenium\\webdriver\\remote\\errorhandler.py\u001b[0m in \u001b[0;36mcheck_response\u001b[1;34m(self, response)\u001b[0m\n\u001b[0;32m    240\u001b[0m                 \u001b[0malert_text\u001b[0m \u001b[1;33m=\u001b[0m \u001b[0mvalue\u001b[0m\u001b[1;33m[\u001b[0m\u001b[1;34m'alert'\u001b[0m\u001b[1;33m]\u001b[0m\u001b[1;33m.\u001b[0m\u001b[0mget\u001b[0m\u001b[1;33m(\u001b[0m\u001b[1;34m'text'\u001b[0m\u001b[1;33m)\u001b[0m\u001b[1;33m\u001b[0m\u001b[1;33m\u001b[0m\u001b[0m\n\u001b[0;32m    241\u001b[0m             \u001b[1;32mraise\u001b[0m \u001b[0mexception_class\u001b[0m\u001b[1;33m(\u001b[0m\u001b[0mmessage\u001b[0m\u001b[1;33m,\u001b[0m \u001b[0mscreen\u001b[0m\u001b[1;33m,\u001b[0m \u001b[0mstacktrace\u001b[0m\u001b[1;33m,\u001b[0m \u001b[0malert_text\u001b[0m\u001b[1;33m)\u001b[0m\u001b[1;33m\u001b[0m\u001b[1;33m\u001b[0m\u001b[0m\n\u001b[1;32m--> 242\u001b[1;33m         \u001b[1;32mraise\u001b[0m \u001b[0mexception_class\u001b[0m\u001b[1;33m(\u001b[0m\u001b[0mmessage\u001b[0m\u001b[1;33m,\u001b[0m \u001b[0mscreen\u001b[0m\u001b[1;33m,\u001b[0m \u001b[0mstacktrace\u001b[0m\u001b[1;33m)\u001b[0m\u001b[1;33m\u001b[0m\u001b[1;33m\u001b[0m\u001b[0m\n\u001b[0m\u001b[0;32m    243\u001b[0m \u001b[1;33m\u001b[0m\u001b[0m\n\u001b[0;32m    244\u001b[0m     \u001b[1;32mdef\u001b[0m \u001b[0m_value_or_default\u001b[0m\u001b[1;33m(\u001b[0m\u001b[0mself\u001b[0m\u001b[1;33m,\u001b[0m \u001b[0mobj\u001b[0m\u001b[1;33m,\u001b[0m \u001b[0mkey\u001b[0m\u001b[1;33m,\u001b[0m \u001b[0mdefault\u001b[0m\u001b[1;33m)\u001b[0m\u001b[1;33m:\u001b[0m\u001b[1;33m\u001b[0m\u001b[1;33m\u001b[0m\u001b[0m\n",
      "\u001b[1;31mInvalidSessionIdException\u001b[0m: Message: invalid session id\n"
     ]
    }
   ],
   "source": [
    " print(wait.until(EC.visibility_of_element_located((By.CSS_SELECTOR, \"ul[role='menu']>li div div[class*='text']:nth-of-type(1)\"))).text)"
   ]
  },
  {
   "cell_type": "code",
   "execution_count": null,
   "id": "bbf92557",
   "metadata": {},
   "outputs": [],
   "source": []
  },
  {
   "cell_type": "code",
   "execution_count": null,
   "id": "3388470b",
   "metadata": {},
   "outputs": [],
   "source": []
  },
  {
   "cell_type": "code",
   "execution_count": null,
   "id": "65de741f",
   "metadata": {},
   "outputs": [],
   "source": []
  },
  {
   "cell_type": "code",
   "execution_count": null,
   "id": "f61c2cfb",
   "metadata": {},
   "outputs": [],
   "source": []
  },
  {
   "cell_type": "code",
   "execution_count": null,
   "id": "3205c617",
   "metadata": {},
   "outputs": [],
   "source": []
  },
  {
   "cell_type": "markdown",
   "id": "2fe4007b",
   "metadata": {},
   "source": [
    "### 6. Write a program to scrap details of all the funding deals for second quarter (i.e Jan 21 – March 21) from trak.in."
   ]
  },
  {
   "cell_type": "code",
   "execution_count": 1,
   "id": "df735c02",
   "metadata": {},
   "outputs": [],
   "source": [
    "from selenium import webdriver\n",
    "from selenium.webdriver.common.keys import Keys\n",
    "from selenium.webdriver.chrome.options import Options\n",
    "from selenium.webdriver.common.keys import Keys\n",
    "from selenium.webdriver.support.ui import WebDriverWait\n",
    "from selenium.webdriver.support import expected_conditions as EC\n",
    "from selenium.webdriver.common.by import By\n",
    "from selenium.common.exceptions import TimeoutException\n",
    "from time import sleep"
   ]
  },
  {
   "cell_type": "code",
   "execution_count": 2,
   "id": "b2f57e0b",
   "metadata": {},
   "outputs": [],
   "source": [
    "opts = Options()\n",
    "\n",
    "# Add headers\n",
    "user_agent =  ('Mozilla/5.0 (Windows NT 10.0; Win64; x64) AppleWebKit/537.36 (KHTML, like Gecko) Chrome/96.0.4664.45 Safari/537.36')"
   ]
  },
  {
   "cell_type": "code",
   "execution_count": 3,
   "id": "3a761330",
   "metadata": {},
   "outputs": [],
   "source": [
    "opts.add_argument(f'user-agent={user_agent}')\n",
    "opts.add_argument('--disable-blink-features=AutomationControlled')\n",
    "opts.add_experimental_option('useAutomationExtension', False)\n",
    "opts.add_experimental_option(\"excludeSwitches\", [\"enable-automation\"])"
   ]
  },
  {
   "cell_type": "code",
   "execution_count": 4,
   "id": "82bc18b8",
   "metadata": {},
   "outputs": [
    {
     "name": "stderr",
     "output_type": "stream",
     "text": [
      "C:\\Users\\Usuario\\AppData\\Local\\Temp/ipykernel_22432/731382351.py:1: DeprecationWarning: use options instead of chrome_options\n",
      "  driver = webdriver.Chrome('C:/Users/Usuario/Downloads/Chrome_Driver_102/chromedriver.exe', chrome_options=opts)\n"
     ]
    }
   ],
   "source": [
    "driver = webdriver.Chrome('C:/Users/Usuario/Downloads/Chrome_Driver_102/chromedriver.exe', chrome_options=opts)\n",
    "driver.maximize_window()\n",
    "driver.get(\"https://trak.in/\")\n",
    "\n",
    "sleep(1)"
   ]
  },
  {
   "cell_type": "code",
   "execution_count": 5,
   "id": "259fc892",
   "metadata": {},
   "outputs": [],
   "source": [
    "while True:\n",
    "    try:\n",
    "        driver.find_element_by_id(\"menu-item-51510\").click()\n",
    "        break\n",
    "    except:\n",
    "        continue"
   ]
  },
  {
   "cell_type": "code",
   "execution_count": 6,
   "id": "8f3a0a68",
   "metadata": {},
   "outputs": [
    {
     "name": "stdout",
     "output_type": "stream",
     "text": [
      "https://trak.in/india-startup-funding-investment-2015/\n"
     ]
    }
   ],
   "source": [
    "print(driver.current_url)"
   ]
  },
  {
   "cell_type": "code",
   "execution_count": 7,
   "id": "0757b8c7",
   "metadata": {},
   "outputs": [],
   "source": [
    "driver.get('https://trak.in/india-startup-funding-investment-2015/')\n",
    "\n",
    "tables = WebDriverWait(driver, 10).until(EC.visibility_of_all_elements_located((By.XPATH, \"//div[@class='dataTables_wrapper no-footer']\")))"
   ]
  },
  {
   "cell_type": "markdown",
   "id": "aa0cff5f",
   "metadata": {},
   "source": [
    "driver.get('https://trak.in/india-startup-funding-investment-2015/')\n",
    "\n",
    "tables = WebDriverWait(driver, 10).until(EC.visibility_of_all_elements_located((By.XPATH, \"//div[@class='dataTables_wrapper no-footer']//table[@aria-describedby='tablepress-57_info']\")))"
   ]
  },
  {
   "cell_type": "code",
   "execution_count": 8,
   "id": "8b2ddc01",
   "metadata": {},
   "outputs": [
    {
     "data": {
      "text/plain": [
       "45"
      ]
     },
     "execution_count": 8,
     "metadata": {},
     "output_type": "execute_result"
    }
   ],
   "source": [
    "len(tables)"
   ]
  },
  {
   "cell_type": "code",
   "execution_count": 9,
   "id": "e0c4f0c8",
   "metadata": {},
   "outputs": [
    {
     "data": {
      "text/plain": [
       "[<selenium.webdriver.remote.webelement.WebElement (session=\"461822c4810e12211924fac2a30cb33d\", element=\"3ccf7b06-4287-4a5b-b2d8-77e4982441ee\")>,\n",
       " <selenium.webdriver.remote.webelement.WebElement (session=\"461822c4810e12211924fac2a30cb33d\", element=\"6045c088-83fc-4685-8abb-f7362142632c\")>,\n",
       " <selenium.webdriver.remote.webelement.WebElement (session=\"461822c4810e12211924fac2a30cb33d\", element=\"82354e65-d3ec-41f5-a12f-74add5f110e4\")>,\n",
       " <selenium.webdriver.remote.webelement.WebElement (session=\"461822c4810e12211924fac2a30cb33d\", element=\"a22b1fcf-4f64-4db5-bcf1-ceef1ac193e1\")>,\n",
       " <selenium.webdriver.remote.webelement.WebElement (session=\"461822c4810e12211924fac2a30cb33d\", element=\"6648ce2f-7889-408f-8617-24e845055f23\")>,\n",
       " <selenium.webdriver.remote.webelement.WebElement (session=\"461822c4810e12211924fac2a30cb33d\", element=\"b0d32615-9a62-4fcf-852c-5dc260bfbd39\")>,\n",
       " <selenium.webdriver.remote.webelement.WebElement (session=\"461822c4810e12211924fac2a30cb33d\", element=\"dae8a3c0-2026-4aae-bc35-ea9fbca17e1e\")>,\n",
       " <selenium.webdriver.remote.webelement.WebElement (session=\"461822c4810e12211924fac2a30cb33d\", element=\"e2a2a53b-59a6-413b-8add-79a214d2fc25\")>,\n",
       " <selenium.webdriver.remote.webelement.WebElement (session=\"461822c4810e12211924fac2a30cb33d\", element=\"8a12e9a4-91b9-4beb-a167-50560586483c\")>,\n",
       " <selenium.webdriver.remote.webelement.WebElement (session=\"461822c4810e12211924fac2a30cb33d\", element=\"4fd6cf23-24a8-476d-9a8b-ab762037b47b\")>,\n",
       " <selenium.webdriver.remote.webelement.WebElement (session=\"461822c4810e12211924fac2a30cb33d\", element=\"45b2166b-b7c2-42c2-a2a7-8d4534bb35f7\")>,\n",
       " <selenium.webdriver.remote.webelement.WebElement (session=\"461822c4810e12211924fac2a30cb33d\", element=\"bddeffe6-c9f2-4e12-aecd-58f04ba1b559\")>,\n",
       " <selenium.webdriver.remote.webelement.WebElement (session=\"461822c4810e12211924fac2a30cb33d\", element=\"dddcc1b2-8300-4ed7-a84b-fa81e538f8b0\")>,\n",
       " <selenium.webdriver.remote.webelement.WebElement (session=\"461822c4810e12211924fac2a30cb33d\", element=\"1a2ac437-a775-41a5-842f-40476e5b6de3\")>,\n",
       " <selenium.webdriver.remote.webelement.WebElement (session=\"461822c4810e12211924fac2a30cb33d\", element=\"f6890f29-28db-4444-82cf-7ced023f4e8c\")>,\n",
       " <selenium.webdriver.remote.webelement.WebElement (session=\"461822c4810e12211924fac2a30cb33d\", element=\"2b7f6362-fceb-4cd4-98c9-95ade20fb8bd\")>,\n",
       " <selenium.webdriver.remote.webelement.WebElement (session=\"461822c4810e12211924fac2a30cb33d\", element=\"7a220297-a296-40b1-a64d-c559632c4fb7\")>,\n",
       " <selenium.webdriver.remote.webelement.WebElement (session=\"461822c4810e12211924fac2a30cb33d\", element=\"433eb5f1-b0ec-440f-a714-c659fd700330\")>,\n",
       " <selenium.webdriver.remote.webelement.WebElement (session=\"461822c4810e12211924fac2a30cb33d\", element=\"09b60605-ffc3-4c76-92c4-9335f724f466\")>,\n",
       " <selenium.webdriver.remote.webelement.WebElement (session=\"461822c4810e12211924fac2a30cb33d\", element=\"6b1c7b6a-122a-421e-9be4-b43bd626dec1\")>,\n",
       " <selenium.webdriver.remote.webelement.WebElement (session=\"461822c4810e12211924fac2a30cb33d\", element=\"5017d6c5-94a3-43cf-8b33-ef8bc1e7c5c3\")>,\n",
       " <selenium.webdriver.remote.webelement.WebElement (session=\"461822c4810e12211924fac2a30cb33d\", element=\"a855b210-1c50-4583-8b2c-d13cd4ee1e93\")>,\n",
       " <selenium.webdriver.remote.webelement.WebElement (session=\"461822c4810e12211924fac2a30cb33d\", element=\"f72c3180-86ad-4581-a658-156780932f00\")>,\n",
       " <selenium.webdriver.remote.webelement.WebElement (session=\"461822c4810e12211924fac2a30cb33d\", element=\"b5fe6307-7a8e-44cb-8f0b-5f1139ff998f\")>,\n",
       " <selenium.webdriver.remote.webelement.WebElement (session=\"461822c4810e12211924fac2a30cb33d\", element=\"ee228c9e-0780-42c3-91dd-ce6670b0f4ad\")>,\n",
       " <selenium.webdriver.remote.webelement.WebElement (session=\"461822c4810e12211924fac2a30cb33d\", element=\"49d03c31-ca2e-488e-b851-d7ccac621db0\")>,\n",
       " <selenium.webdriver.remote.webelement.WebElement (session=\"461822c4810e12211924fac2a30cb33d\", element=\"74ecb5d4-5f7a-49f2-a7b0-049b0ea49457\")>,\n",
       " <selenium.webdriver.remote.webelement.WebElement (session=\"461822c4810e12211924fac2a30cb33d\", element=\"cd592925-1629-4b0c-92cc-f73844250f37\")>,\n",
       " <selenium.webdriver.remote.webelement.WebElement (session=\"461822c4810e12211924fac2a30cb33d\", element=\"35cceef4-4ff6-4472-91f5-a6e392a580ac\")>,\n",
       " <selenium.webdriver.remote.webelement.WebElement (session=\"461822c4810e12211924fac2a30cb33d\", element=\"d6f7dfbe-5e5a-44d5-af32-0ab626ac1bf0\")>,\n",
       " <selenium.webdriver.remote.webelement.WebElement (session=\"461822c4810e12211924fac2a30cb33d\", element=\"ba55c2f3-5f2a-4274-a4ed-77a969808f95\")>,\n",
       " <selenium.webdriver.remote.webelement.WebElement (session=\"461822c4810e12211924fac2a30cb33d\", element=\"149535ad-5cf2-466f-a62a-0dc000e26529\")>,\n",
       " <selenium.webdriver.remote.webelement.WebElement (session=\"461822c4810e12211924fac2a30cb33d\", element=\"25685374-3600-47e8-8087-6cc8d808fb21\")>,\n",
       " <selenium.webdriver.remote.webelement.WebElement (session=\"461822c4810e12211924fac2a30cb33d\", element=\"3439ecbf-8a58-4f7f-8c63-5abc02e1dd73\")>,\n",
       " <selenium.webdriver.remote.webelement.WebElement (session=\"461822c4810e12211924fac2a30cb33d\", element=\"1fa79fd9-aef0-496a-95a0-5285abccfa3f\")>,\n",
       " <selenium.webdriver.remote.webelement.WebElement (session=\"461822c4810e12211924fac2a30cb33d\", element=\"906d81e7-3bd9-47d7-83a8-c4c9572dd082\")>,\n",
       " <selenium.webdriver.remote.webelement.WebElement (session=\"461822c4810e12211924fac2a30cb33d\", element=\"42c52c6a-bc90-4279-9437-acdc8863e385\")>,\n",
       " <selenium.webdriver.remote.webelement.WebElement (session=\"461822c4810e12211924fac2a30cb33d\", element=\"a53309a5-fc8a-40f5-9a94-30f162bcbe0e\")>,\n",
       " <selenium.webdriver.remote.webelement.WebElement (session=\"461822c4810e12211924fac2a30cb33d\", element=\"ea7a4bee-e16e-4691-ae8c-a897494ced43\")>,\n",
       " <selenium.webdriver.remote.webelement.WebElement (session=\"461822c4810e12211924fac2a30cb33d\", element=\"323965fe-667c-4b34-94dc-f7f0d97dae97\")>,\n",
       " <selenium.webdriver.remote.webelement.WebElement (session=\"461822c4810e12211924fac2a30cb33d\", element=\"ec09d707-22d6-44b9-8e52-6e1c3a00e516\")>,\n",
       " <selenium.webdriver.remote.webelement.WebElement (session=\"461822c4810e12211924fac2a30cb33d\", element=\"92b14a93-14a9-43c7-a868-ec8f532f6f18\")>,\n",
       " <selenium.webdriver.remote.webelement.WebElement (session=\"461822c4810e12211924fac2a30cb33d\", element=\"73d9c0eb-2db3-41d3-84ab-ae46f1a000bd\")>,\n",
       " <selenium.webdriver.remote.webelement.WebElement (session=\"461822c4810e12211924fac2a30cb33d\", element=\"d76ea58e-f333-4a58-9468-3e5b2acd4ced\")>,\n",
       " <selenium.webdriver.remote.webelement.WebElement (session=\"461822c4810e12211924fac2a30cb33d\", element=\"66ed1bc8-4527-4566-9de7-dbdf36839b37\")>]"
      ]
     },
     "execution_count": 9,
     "metadata": {},
     "output_type": "execute_result"
    }
   ],
   "source": [
    "tables"
   ]
  },
  {
   "cell_type": "markdown",
   "id": "38c355fa",
   "metadata": {},
   "source": [
    "The following solution was made up inspired on this resource: https://www.youtube.com/watch?v=JLDbAx6LAdo (Web Scraping Tutorial - HTML Tables - Python & Selenium [+ Excel File])"
   ]
  },
  {
   "cell_type": "code",
   "execution_count": 11,
   "id": "dc5ca7b1",
   "metadata": {},
   "outputs": [],
   "source": [
    "import pandas as pd"
   ]
  },
  {
   "cell_type": "code",
   "execution_count": 12,
   "id": "46c22f60",
   "metadata": {},
   "outputs": [],
   "source": [
    "sr_no = driver.find_elements_by_xpath(\"//div[@class='dataTables_scroll']//div[@class='dataTables_scrollBody']//tr//td[@class='column-1']\")\n",
    "#print(sr_no.text)\n",
    "date = driver.find_elements_by_xpath(\"//div[@class='dataTables_scroll']//div[@class='dataTables_scrollBody']//tr//td[@class='column-2']\")\n",
    "#print(date.text)\n",
    "startup_name = driver.find_elements_by_xpath(\"//div[@class='dataTables_scroll']//div[@class='dataTables_scrollBody']//tr//td[@class='column-3']\")\n",
    "#print(startup_name.text)\n",
    "industry = driver.find_elements_by_xpath(\"//div[@class='dataTables_scroll']//div[@class='dataTables_scrollBody']//tr//td[@class='column-4']\")\n",
    "#print(industry.text)\n",
    "sub_industry = driver.find_elements_by_xpath(\"//div[@class='dataTables_scroll']//div[@class='dataTables_scrollBody']//tr//td[@class='column-5']\")\n",
    "#print(sub_industry.text)\n",
    "location = driver.find_elements_by_xpath(\"//div[@class='dataTables_scroll']//div[@class='dataTables_scrollBody']//tr//td[@class='column-6']\")\n",
    "#print(location.text)\n",
    "investors_name = driver.find_elements_by_xpath(\"//div[@class='dataTables_scroll']//div[@class='dataTables_scrollBody']//tr//td[@class='column-7']\")\n",
    "#print(investors_name.text)\n",
    "investment_type = driver.find_elements_by_xpath(\"//div[@class='dataTables_scroll']//div[@class='dataTables_scrollBody']//tr//td[@class='column-8']\")\n",
    "#print(investment_type.text)\n",
    "amount = driver.find_elements_by_xpath(\"//div[@class='dataTables_scroll']//div[@class='dataTables_scrollBody']//tr//td[@class='column-9']\")\n",
    "#print(amount.text)\n",
    "\n",
    "funding_deals=[]\n",
    "\n",
    "for i in range(len(sr_no)):\n",
    "    temporary_data = {'Sr_No': sr_no[i].text,\n",
    "                      'Date': date[i].text,\n",
    "                      'Start_Up_Name': startup_name[i].text,\n",
    "                      'Industry': industry[i].text,\n",
    "                      'Sub_Industry': sub_industry[i].text,\n",
    "                      'Location': location[i].text,\n",
    "                      'Investors_Name': investors_name[i].text,\n",
    "                      'Investment_Type': investment_type[i].text,\n",
    "                      'Amount': amount[i].text}\n",
    "    funding_deals.append(temporary_data)\n",
    "    \n",
    "df_data = pd.DataFrame(funding_deals)"
   ]
  },
  {
   "cell_type": "code",
   "execution_count": 13,
   "id": "54053546",
   "metadata": {},
   "outputs": [
    {
     "data": {
      "text/html": [
       "<div>\n",
       "<style scoped>\n",
       "    .dataframe tbody tr th:only-of-type {\n",
       "        vertical-align: middle;\n",
       "    }\n",
       "\n",
       "    .dataframe tbody tr th {\n",
       "        vertical-align: top;\n",
       "    }\n",
       "\n",
       "    .dataframe thead th {\n",
       "        text-align: right;\n",
       "    }\n",
       "</style>\n",
       "<table border=\"1\" class=\"dataframe\">\n",
       "  <thead>\n",
       "    <tr style=\"text-align: right;\">\n",
       "      <th></th>\n",
       "      <th>Sr_No</th>\n",
       "      <th>Date</th>\n",
       "      <th>Start_Up_Name</th>\n",
       "      <th>Industry</th>\n",
       "      <th>Sub_Industry</th>\n",
       "      <th>Location</th>\n",
       "      <th>Investors_Name</th>\n",
       "      <th>Investment_Type</th>\n",
       "      <th>Amount</th>\n",
       "    </tr>\n",
       "  </thead>\n",
       "  <tbody>\n",
       "    <tr>\n",
       "      <th>0</th>\n",
       "      <td>1</td>\n",
       "      <td>01/04/2021</td>\n",
       "      <td>BYJU’S</td>\n",
       "      <td>Edu-tech</td>\n",
       "      <td>Online tutoring</td>\n",
       "      <td>Bengaluru</td>\n",
       "      <td>Innoven Capital</td>\n",
       "      <td>Series F</td>\n",
       "      <td>460,000,000</td>\n",
       "    </tr>\n",
       "    <tr>\n",
       "      <th>1</th>\n",
       "      <td>2</td>\n",
       "      <td>05/04/2021</td>\n",
       "      <td>Meesho</td>\n",
       "      <td>E-commerce</td>\n",
       "      <td>Online reselling platform</td>\n",
       "      <td>Bengaluru</td>\n",
       "      <td>SoftBank Vision Fund 2</td>\n",
       "      <td>Series E</td>\n",
       "      <td>300,000,000</td>\n",
       "    </tr>\n",
       "    <tr>\n",
       "      <th>2</th>\n",
       "      <td>3</td>\n",
       "      <td>14/04/2021</td>\n",
       "      <td>Swiggy</td>\n",
       "      <td>Online Food Delivery</td>\n",
       "      <td>Online Food Delivery</td>\n",
       "      <td>Bengaluru</td>\n",
       "      <td>Amansa Holdings, Carmignac, Falcon Edge Capita...</td>\n",
       "      <td>Series J</td>\n",
       "      <td>343,000,000</td>\n",
       "    </tr>\n",
       "    <tr>\n",
       "      <th>3</th>\n",
       "      <td>4</td>\n",
       "      <td>07/04/2021</td>\n",
       "      <td>Groww</td>\n",
       "      <td>FinTech</td>\n",
       "      <td>Investment platform</td>\n",
       "      <td>Bengaluru</td>\n",
       "      <td>MC Global Edtech, B Capital, Baron, others</td>\n",
       "      <td>Series D</td>\n",
       "      <td>83,000,000</td>\n",
       "    </tr>\n",
       "    <tr>\n",
       "      <th>4</th>\n",
       "      <td>5</td>\n",
       "      <td>14/04/2021</td>\n",
       "      <td>Beldara</td>\n",
       "      <td>E-commerce</td>\n",
       "      <td>Global B2B marketplace</td>\n",
       "      <td>Mumbai</td>\n",
       "      <td>Hindustan Media Ventures</td>\n",
       "      <td>Venture</td>\n",
       "      <td>7,400,000</td>\n",
       "    </tr>\n",
       "    <tr>\n",
       "      <th>...</th>\n",
       "      <td>...</td>\n",
       "      <td>...</td>\n",
       "      <td>...</td>\n",
       "      <td>...</td>\n",
       "      <td>...</td>\n",
       "      <td>...</td>\n",
       "      <td>...</td>\n",
       "      <td>...</td>\n",
       "      <td>...</td>\n",
       "    </tr>\n",
       "    <tr>\n",
       "      <th>387</th>\n",
       "      <td>6</td>\n",
       "      <td>09/07/2018</td>\n",
       "      <td>zippserv</td>\n",
       "      <td>Consumer Internet</td>\n",
       "      <td>Online Platform For Risk-Assessment Services F...</td>\n",
       "      <td>Bengaluru</td>\n",
       "      <td>Info Edge (India) Ltd</td>\n",
       "      <td>Seed/ Angel Funding</td>\n",
       "      <td>440,000</td>\n",
       "    </tr>\n",
       "    <tr>\n",
       "      <th>388</th>\n",
       "      <td>7</td>\n",
       "      <td>09/07/2018</td>\n",
       "      <td>Groww</td>\n",
       "      <td>Consumer Internet</td>\n",
       "      <td>Online Platform That Sells Direct Plans Of Mut...</td>\n",
       "      <td>Bengaluru</td>\n",
       "      <td>Insignia Ventures Partners, Lightbridge Partne...</td>\n",
       "      <td>Seed/ Angel Funding</td>\n",
       "      <td>1,100,000</td>\n",
       "    </tr>\n",
       "    <tr>\n",
       "      <th>389</th>\n",
       "      <td>8</td>\n",
       "      <td>10/07/2018</td>\n",
       "      <td>Avenue Growth</td>\n",
       "      <td>Consumer Internet</td>\n",
       "      <td>Online Platform That Connects Brands With Free...</td>\n",
       "      <td>Gurugram</td>\n",
       "      <td>Avtar Monga, chief operating office at IDFC Ba...</td>\n",
       "      <td>Seed/ Angel Funding</td>\n",
       "      <td>437,000</td>\n",
       "    </tr>\n",
       "    <tr>\n",
       "      <th>390</th>\n",
       "      <td>9</td>\n",
       "      <td>10/07/2018</td>\n",
       "      <td>iNICU</td>\n",
       "      <td>Healthcare</td>\n",
       "      <td>Med-tech Platform Providing Care For Newborns</td>\n",
       "      <td>Delhi</td>\n",
       "      <td>Venture Catalysts</td>\n",
       "      <td>Seed/ Angel Funding</td>\n",
       "      <td>N/A</td>\n",
       "    </tr>\n",
       "    <tr>\n",
       "      <th>391</th>\n",
       "      <td>10</td>\n",
       "      <td>10/07/2018</td>\n",
       "      <td>Kinara Capital</td>\n",
       "      <td>Finance</td>\n",
       "      <td>Lending Platform For Micro and Small Enterprises</td>\n",
       "      <td>Bengaluru</td>\n",
       "      <td>ResponsAbility</td>\n",
       "      <td>Private Equity</td>\n",
       "      <td>5,000,000</td>\n",
       "    </tr>\n",
       "  </tbody>\n",
       "</table>\n",
       "<p>392 rows × 9 columns</p>\n",
       "</div>"
      ],
      "text/plain": [
       "    Sr_No        Date   Start_Up_Name              Industry  \\\n",
       "0       1  01/04/2021          BYJU’S              Edu-tech   \n",
       "1       2  05/04/2021          Meesho            E-commerce   \n",
       "2       3  14/04/2021          Swiggy  Online Food Delivery   \n",
       "3       4  07/04/2021           Groww               FinTech   \n",
       "4       5  14/04/2021         Beldara            E-commerce   \n",
       "..    ...         ...             ...                   ...   \n",
       "387     6  09/07/2018        zippserv     Consumer Internet   \n",
       "388     7  09/07/2018           Groww     Consumer Internet   \n",
       "389     8  10/07/2018   Avenue Growth     Consumer Internet   \n",
       "390     9  10/07/2018           iNICU            Healthcare   \n",
       "391    10  10/07/2018  Kinara Capital               Finance   \n",
       "\n",
       "                                          Sub_Industry   Location  \\\n",
       "0                                      Online tutoring  Bengaluru   \n",
       "1                            Online reselling platform  Bengaluru   \n",
       "2                                 Online Food Delivery  Bengaluru   \n",
       "3                                  Investment platform  Bengaluru   \n",
       "4                               Global B2B marketplace     Mumbai   \n",
       "..                                                 ...        ...   \n",
       "387  Online Platform For Risk-Assessment Services F...  Bengaluru   \n",
       "388  Online Platform That Sells Direct Plans Of Mut...  Bengaluru   \n",
       "389  Online Platform That Connects Brands With Free...   Gurugram   \n",
       "390      Med-tech Platform Providing Care For Newborns      Delhi   \n",
       "391   Lending Platform For Micro and Small Enterprises  Bengaluru   \n",
       "\n",
       "                                        Investors_Name      Investment_Type  \\\n",
       "0                                      Innoven Capital             Series F   \n",
       "1                               SoftBank Vision Fund 2             Series E   \n",
       "2    Amansa Holdings, Carmignac, Falcon Edge Capita...             Series J   \n",
       "3           MC Global Edtech, B Capital, Baron, others             Series D   \n",
       "4                             Hindustan Media Ventures              Venture   \n",
       "..                                                 ...                  ...   \n",
       "387                              Info Edge (India) Ltd  Seed/ Angel Funding   \n",
       "388  Insignia Ventures Partners, Lightbridge Partne...  Seed/ Angel Funding   \n",
       "389  Avtar Monga, chief operating office at IDFC Ba...  Seed/ Angel Funding   \n",
       "390                                  Venture Catalysts  Seed/ Angel Funding   \n",
       "391                                     ResponsAbility       Private Equity   \n",
       "\n",
       "          Amount  \n",
       "0    460,000,000  \n",
       "1    300,000,000  \n",
       "2    343,000,000  \n",
       "3     83,000,000  \n",
       "4      7,400,000  \n",
       "..           ...  \n",
       "387      440,000  \n",
       "388    1,100,000  \n",
       "389      437,000  \n",
       "390          N/A  \n",
       "391    5,000,000  \n",
       "\n",
       "[392 rows x 9 columns]"
      ]
     },
     "execution_count": 13,
     "metadata": {},
     "output_type": "execute_result"
    }
   ],
   "source": [
    "df_data"
   ]
  },
  {
   "cell_type": "code",
   "execution_count": null,
   "id": "719ee3c9",
   "metadata": {},
   "outputs": [],
   "source": []
  },
  {
   "cell_type": "markdown",
   "id": "c9615380",
   "metadata": {},
   "source": [
    "### 7. Write a program to scrap all the available details of best gaming laptops from digit.in."
   ]
  },
  {
   "cell_type": "code",
   "execution_count": null,
   "id": "15d52a4f",
   "metadata": {},
   "outputs": [],
   "source": []
  },
  {
   "cell_type": "code",
   "execution_count": null,
   "id": "f0473db1",
   "metadata": {},
   "outputs": [],
   "source": []
  },
  {
   "cell_type": "code",
   "execution_count": null,
   "id": "e6d10164",
   "metadata": {},
   "outputs": [],
   "source": []
  },
  {
   "cell_type": "code",
   "execution_count": null,
   "id": "838f320f",
   "metadata": {},
   "outputs": [],
   "source": []
  },
  {
   "cell_type": "code",
   "execution_count": null,
   "id": "c8d2a776",
   "metadata": {},
   "outputs": [],
   "source": []
  },
  {
   "cell_type": "code",
   "execution_count": null,
   "id": "8de8156d",
   "metadata": {},
   "outputs": [],
   "source": []
  }
 ],
 "metadata": {
  "kernelspec": {
   "display_name": "Python 3 (ipykernel)",
   "language": "python",
   "name": "python3"
  },
  "language_info": {
   "codemirror_mode": {
    "name": "ipython",
    "version": 3
   },
   "file_extension": ".py",
   "mimetype": "text/x-python",
   "name": "python",
   "nbconvert_exporter": "python",
   "pygments_lexer": "ipython3",
   "version": "3.9.7"
  }
 },
 "nbformat": 4,
 "nbformat_minor": 5
}
