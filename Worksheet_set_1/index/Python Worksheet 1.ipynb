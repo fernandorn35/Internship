{
 "cells": [
  {
   "cell_type": "markdown",
   "id": "e466d2d0",
   "metadata": {},
   "source": [
    "# Programming questions of Python Worksheet 1"
   ]
  },
  {
   "cell_type": "markdown",
   "id": "b77ae178",
   "metadata": {},
   "source": [
    "#### 11. Write a python program to find the factorial of a number."
   ]
  },
  {
   "cell_type": "code",
   "execution_count": 1,
   "id": "7cc55c67",
   "metadata": {},
   "outputs": [
    {
     "name": "stdout",
     "output_type": "stream",
     "text": [
      "Enter a number: 99\n",
      "The factorial of 99 is 933262154439441526816992388562667004907159682643816214685929638952175999932299156089414639761565182862536979208272237582511852109168640000000000000000000000\n"
     ]
    }
   ],
   "source": [
    "# To take input from the user\n",
    "num = int(input(\"Enter a number: \"))\n",
    "\n",
    "factorial = 1\n",
    "\n",
    "# check if the number is negative, positive or zero\n",
    "if num < 0:\n",
    "   print(\"Sorry, factorial does not exist for negative numbers\")\n",
    "elif num == 0:\n",
    "   print(\"The factorial of 0 is 1\")\n",
    "else:\n",
    "   for i in range(1,num + 1):\n",
    "       factorial = factorial*i\n",
    "   print(\"The factorial of\",num,\"is\",factorial)"
   ]
  },
  {
   "cell_type": "markdown",
   "id": "52678b81",
   "metadata": {},
   "source": [
    "#### 12. Write a python program to find whether a number is prime or composite."
   ]
  },
  {
   "cell_type": "markdown",
   "id": "c1188667",
   "metadata": {},
   "source": [
    "##### Inspired on the examples available at: https://www.geeksforgeeks.org/python-program-to-check-whether-a-number-is-prime-or-not/"
   ]
  },
  {
   "cell_type": "code",
   "execution_count": 2,
   "id": "c382f4a2",
   "metadata": {},
   "outputs": [
    {
     "name": "stdout",
     "output_type": "stream",
     "text": [
      "Enter a number: 88\n",
      "88 is a composite number\n"
     ]
    }
   ],
   "source": [
    "num = int(input(\"Enter a number: \"))\n",
    "\n",
    "# If given number is greater than 1\n",
    "if num > 1:\n",
    "\n",
    "    # Iterate from 2 to n / 2\n",
    "    for i in range(2, int(num/2)+1):\n",
    "\n",
    "        # If num is divisible by any number between\n",
    "        # 2 and n / 2, it is not prime\n",
    "        if (num % i) == 0:\n",
    "            print(num, \"is a composite number\")\n",
    "            break\n",
    "    else:\n",
    "        print(num, \"is a prime number\")\n",
    "\n",
    "else:\n",
    "    print(num, \"is a composite number\")\n",
    "   \n",
    "    "
   ]
  },
  {
   "cell_type": "markdown",
   "id": "7dd3a55b",
   "metadata": {},
   "source": [
    "#### 13. Write a python program to check whether a given string is palindrome or not."
   ]
  },
  {
   "cell_type": "code",
   "execution_count": 3,
   "id": "51d7a367",
   "metadata": {},
   "outputs": [],
   "source": [
    "###Inspired in one of the examples available at https://linuxhint.com/check-for-palindrome-in-python/#:~:text=The%20reversed%20%28%29%20function%20in%20Python%20is%20used,and%20returns%20the%20inverse%20iterator%20of%20that%20series."
   ]
  },
  {
   "cell_type": "code",
   "execution_count": 4,
   "id": "5a341b25",
   "metadata": {},
   "outputs": [
    {
     "name": "stdout",
     "output_type": "stream",
     "text": [
      "Enter the string: bkj\n",
      "Not Palindrome\n"
     ]
    }
   ],
   "source": [
    "str1 = input (\"Enter the string: \")\n",
    "\n",
    "if str(str1) ==str(str1)[::-1]:\n",
    "    print(\"Palindrome\")\n",
    "else:\n",
    "    print(\"Not Palindrome\")"
   ]
  },
  {
   "cell_type": "markdown",
   "id": "03068ffc",
   "metadata": {},
   "source": [
    "#### 14. Write a Python program to get the third side of right-angled triangle from two given sides."
   ]
  },
  {
   "cell_type": "markdown",
   "id": "9f5dba33",
   "metadata": {},
   "source": [
    "#### Technical doubts:\n",
    "#### https://stackoverflow.com/questions/17056264/typeerror-unsupported-operand-types-for-or-pow-str-and-int"
   ]
  },
  {
   "cell_type": "code",
   "execution_count": 5,
   "id": "37af3a56",
   "metadata": {},
   "outputs": [
    {
     "name": "stdout",
     "output_type": "stream",
     "text": [
      "Enter the value of cathetus A:    9\n"
     ]
    }
   ],
   "source": [
    "a = input(\"Enter the value of cathetus A:    \")\n",
    "a = float(a)"
   ]
  },
  {
   "cell_type": "code",
   "execution_count": 6,
   "id": "471bbe1e",
   "metadata": {},
   "outputs": [
    {
     "name": "stdout",
     "output_type": "stream",
     "text": [
      "Enter the value of cathetus B:    0\n"
     ]
    }
   ],
   "source": [
    "b = input(\"Enter the value of cathetus B:    \")\n",
    "b = float(b)"
   ]
  },
  {
   "cell_type": "code",
   "execution_count": 7,
   "id": "ccce6ec1",
   "metadata": {},
   "outputs": [
    {
     "name": "stdout",
     "output_type": "stream",
     "text": [
      "The hypothenuse of this triangle is 9.0\n"
     ]
    }
   ],
   "source": [
    "from math import sqrt\n",
    "\n",
    "c = sqrt(a**2+b**2)\n",
    "\n",
    "print(\"The hypothenuse of this triangle is\", c)\n",
    "    \n",
    "    "
   ]
  },
  {
   "cell_type": "markdown",
   "id": "339e9934",
   "metadata": {},
   "source": [
    "#### 15. Write a python program to print the frequency of each of the characters present in a given string."
   ]
  },
  {
   "cell_type": "markdown",
   "id": "c389b51a",
   "metadata": {},
   "source": [
    "##### Inspired on the examples available at: https://www.vtupulse.com/python-programs/python-program-to-count-the-frequency-of-each-character-in-the-string/#:~:text=Python%20program%20to%20count%20the%20frequency%20of%20each,1%20else%3A%20d%20%5Bc%5D%20%3D%201%20print%20%28d%29"
   ]
  },
  {
   "cell_type": "code",
   "execution_count": 8,
   "id": "1f41440b",
   "metadata": {},
   "outputs": [
    {
     "name": "stdout",
     "output_type": "stream",
     "text": [
      "Enter the word: jjk\n",
      "{'j': 2, 'k': 1}\n"
     ]
    }
   ],
   "source": [
    "str1 = input (\"Enter the word: \")\n",
    "d = dict()\n",
    "for c in str1:\n",
    "    if c in d:\n",
    "        d[c] = d[c] + 1\n",
    "    else:\n",
    "        d[c] = 1\n",
    "print(d)"
   ]
  }
 ],
 "metadata": {
  "kernelspec": {
   "display_name": "Python 3 (ipykernel)",
   "language": "python",
   "name": "python3"
  },
  "language_info": {
   "codemirror_mode": {
    "name": "ipython",
    "version": 3
   },
   "file_extension": ".py",
   "mimetype": "text/x-python",
   "name": "python",
   "nbconvert_exporter": "python",
   "pygments_lexer": "ipython3",
   "version": "3.9.7"
  }
 },
 "nbformat": 4,
 "nbformat_minor": 5
}
