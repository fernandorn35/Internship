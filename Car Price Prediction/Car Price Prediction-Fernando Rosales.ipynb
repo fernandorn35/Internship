{
 "cells": [
  {
   "cell_type": "code",
   "execution_count": 1,
   "id": "eaa546bb",
   "metadata": {},
   "outputs": [],
   "source": [
    "from selenium import webdriver\n",
    "from selenium.webdriver.common.keys import Keys\n",
    "from selenium.webdriver.chrome.options import Options\n",
    "from selenium.webdriver.common.keys import Keys\n",
    "from selenium.webdriver.support.ui import WebDriverWait\n",
    "from selenium.webdriver.support import expected_conditions as EC\n",
    "from selenium.webdriver.common.by import By\n",
    "from selenium.common.exceptions import TimeoutException\n",
    "from time import sleep"
   ]
  },
  {
   "cell_type": "code",
   "execution_count": 2,
   "id": "521772a3",
   "metadata": {},
   "outputs": [],
   "source": [
    "opts = Options()\n",
    "\n",
    "# Add headers\n",
    "user_agent =  ('Mozilla/5.0 (Windows NT 10.0; Win64; x64) AppleWebKit/537.36 (KHTML, like Gecko) Chrome/96.0.4664.45 Safari/537.36')"
   ]
  },
  {
   "cell_type": "code",
   "execution_count": 3,
   "id": "60f18a24",
   "metadata": {},
   "outputs": [],
   "source": [
    "opts.add_argument(f'user-agent={user_agent}')\n",
    "opts.add_argument('--disable-blink-features=AutomationControlled')\n",
    "opts.add_experimental_option('useAutomationExtension', False)\n",
    "opts.add_experimental_option(\"excludeSwitches\", [\"enable-automation\"])"
   ]
  },
  {
   "cell_type": "code",
   "execution_count": 4,
   "id": "b31956e8",
   "metadata": {
    "scrolled": true
   },
   "outputs": [
    {
     "name": "stderr",
     "output_type": "stream",
     "text": [
      "C:\\Users\\Usuario\\AppData\\Local\\Temp\\ipykernel_18312\\1181538614.py:1: DeprecationWarning: use options instead of chrome_options\n",
      "  driver = webdriver.Chrome('C:/Users/Usuario/Downloads/Chrome Driver 104/chromedriver.exe', chrome_options=opts)\n"
     ]
    }
   ],
   "source": [
    "driver = webdriver.Chrome('C:/Users/Usuario/Downloads/Chrome Driver 104/chromedriver.exe', chrome_options=opts)\n",
    "driver.get(\"https://www.cardekho.com/used-cars+in+ahmedabad\")\n",
    "\n",
    "sleep(1)"
   ]
  },
  {
   "cell_type": "markdown",
   "id": "edbdbda4",
   "metadata": {},
   "source": [
    "Scraping websites with Infinte Scrolling: https://www.youtube.com/watch?v=st_FvPrir9Q"
   ]
  },
  {
   "cell_type": "code",
   "execution_count": 5,
   "id": "52bb7476",
   "metadata": {},
   "outputs": [],
   "source": [
    "ahmedabad_links_list = []\n",
    "\n",
    "previous_height = driver.execute_script('return document.body.scrollHeight')\n",
    "\n",
    "ahmedabad_links_count = 500\n",
    "\n",
    "\n",
    "while ahmedabad_links_count > len(ahmedabad_links_list):\n",
    "    driver.execute_script(\"window.scrollTo(0, document.body.scrollHeight);\")\n",
    "    \n",
    "    sleep(3)\n",
    "    \n",
    "    new_height = driver.execute_script('return document.body.scrollHeight')\n",
    "    \n",
    "    if new_height == previous_height:\n",
    "        break\n",
    "    \n",
    "    previous_height = new_height\n",
    "    \n",
    "    links =WebDriverWait(driver, 30).until(EC.visibility_of_all_elements_located((By.XPATH, \"//div[@class='app-content']//div//div//div//div//div[@class='gsc_col-md-4 gsc_col-sm-6 gsc_col-xs-12  cardnew']//div//div[@class='holder hover']//div//div//a\")))\n",
    "\n",
    "    \n",
    "    list_links = []\n",
    "    for link in links:\n",
    "        list_links.append(link.get_attribute(\"href\"))\n",
    "        \n",
    "        \n",
    "    ahmedabad_links_list = list_links"
   ]
  },
  {
   "cell_type": "code",
   "execution_count": 6,
   "id": "6c02af4c",
   "metadata": {},
   "outputs": [
    {
     "name": "stdout",
     "output_type": "stream",
     "text": [
      "['https://www.cardekho.com/buy-used-car-details/used-Honda-Jazz-V-Cvt-cars-Ahmedabad_c335050b-dda0-45a6-a135-54b26b902f88.htm', 'https://www.cardekho.com/buy-used-car-details/used-Mahindra-Marazzo-M8-cars-Ahmedabad_375eb1f4-0b51-46d8-ac9b-728295dfe473.htm', 'https://www.cardekho.com/buy-used-car-details/used-Hyundai-Grand-I10-Sportz-cars-Ahmedabad_32387e8f-830e-434f-8ebf-dce2889278f7.htm', 'https://www.cardekho.com/buy-used-car-details/used-Jeep-Compass-1.4-Limited-Plus-Bsiv-cars-Ahmedabad_3627a08e-1169-4fde-95c1-76bc20139c48.htm', 'https://www.cardekho.com/buy-used-car-details/used-Honda-City-I-Vtec-V-cars-Ahmedabad_b5ec694d-6016-4c14-9f25-faefec1b2bb9.htm', 'https://www.cardekho.com/buy-used-car-details/used-Jeep-Compass-2.0-Longitude-cars-Ahmedabad_582b0046-723c-4282-bf7e-66a07546838a.htm', 'https://www.cardekho.com/buy-used-car-details/used-Hyundai-Verna-Vtvt-1.6-Sx-Option-cars-Ahmedabad_e38916c1-8a85-4b3f-9d5f-3bce6d9b6a38.htm', 'https://www.cardekho.com/buy-used-car-details/used-Honda-Jazz-1.2-V-At-I-Vtec-cars-Ahmedabad_dec47765-af4e-43e6-8cab-4695c3b10b43.htm', 'https://www.cardekho.com/buy-used-car-details/used-Hyundai-Grand-I10-Nios-Sportz-cars-Ahmedabad_f90ba0f1-a76d-4fe6-bec4-e0402072f8be.htm', 'https://www.cardekho.com/buy-used-car-details/used-Honda-City-V-Mt-cars-Ahmedabad_8a3ef5f4-820c-4994-b188-2dd827211849.htm', 'https://www.cardekho.com/buy-used-car-details/used-Hyundai-Verna-1.6-Vtvt-At-Sx-cars-Ahmedabad_fc868672-9e82-4bf9-a672-aa67c2e2c45d.htm', 'https://www.cardekho.com/buy-used-car-details/used-Honda-Jazz-V-Cvt-cars-Ahmedabad_13b9749d-c6e8-421c-a532-8d55aef2b286.htm', 'https://www.cardekho.com/buy-used-car-details/used-Jeep-Compass-1.4-Limited-cars-Ahmedabad_9a8ddb31-be01-477b-9860-9dab34d1a5ec.htm', 'https://www.cardekho.com/buy-used-car-details/used-Honda-City-I-vtec-Cvt-Zx-cars-Ahmedabad_6f1d4020-216e-4ba5-9b01-288d03b0e309.htm', 'https://www.cardekho.com/used-car-details/used-Bmw-7-Series-730ld-M-Sport-cars-New-Delhi_b01d76bc-6e57-4404-9320-256b9fe590d0.htm', 'https://www.cardekho.com/used-car-details/used-Jeep-Wrangler-Rubicon-cars-New-Delhi_2db78b49-e179-4b63-b5e8-cfbdfbbb4910.htm', 'https://www.cardekho.com/used-car-details/used-Mahindra-Kuv-100-Mfalcon-G80-K6-Plus-cars-Ahmedabad_52a28287-a1f9-4c5b-b091-2be136df04a3.htm', 'https://www.cardekho.com/used-car-details/used-Maruti-Ciaz-Alpha-Automatic-Bsiv-cars-Ahmedabad_0e25c06e-eebd-4ea6-b86b-a9c58a668b83.htm', 'https://www.cardekho.com/used-car-details/used-Mercedes-benz-Gls-400d-4matic-cars-New-Delhi_e92cbc17-fbe0-4b7c-b3a3-2d29c343b372.htm', 'https://www.cardekho.com/used-car-details/used-Mercedes-benz-Amg-Glc-43-4matic-Coupe-cars-New-Delhi_742c6852-e46e-4fe9-8a86-c693a6054c8f.htm', 'https://www.cardekho.com/buy-used-car-details/used-Honda-Jazz-V-Cvt-cars-Ahmedabad_13b9749d-c6e8-421c-a532-8d55aef2b286.htm', 'https://www.cardekho.com/buy-used-car-details/used-Jeep-Compass-1.4-Limited-cars-Ahmedabad_9a8ddb31-be01-477b-9860-9dab34d1a5ec.htm', 'https://www.cardekho.com/buy-used-car-details/used-Honda-City-I-vtec-Cvt-Zx-cars-Ahmedabad_6f1d4020-216e-4ba5-9b01-288d03b0e309.htm', 'https://www.cardekho.com/buy-used-car-details/used-Datsun-Redigo-T-cars-Ahmedabad_4b1c924b-abef-4705-b3e2-d831ad461e59.htm', 'https://www.cardekho.com/buy-used-car-details/used-Maruti-Ciaz-Zdi-cars-Ahmedabad_0a0496fd-06d7-4590-858f-cfff20a8df48.htm', 'https://www.cardekho.com/buy-used-car-details/used-Honda-Amaze-S-I-vtech-cars-Ahmedabad_d045aa82-c5b4-4408-8feb-7469d14ec6ed.htm', 'https://www.cardekho.com/buy-used-car-details/used-Honda-Jazz-1.2-V-At-I-Vtec-cars-Ahmedabad_0ab118cc-07ec-4de6-920b-533c9b2b2b74.htm', 'https://www.cardekho.com/buy-used-car-details/used-Maruti-Ciaz-Vdi-Plus-Shvs-cars-Ahmedabad_334af32f-3703-4948-8a19-8c6614a82df5.htm', 'https://www.cardekho.com/buy-used-car-details/used-Honda-Amaze-S-I-vtech-cars-Ahmedabad_afdae9a6-24fa-4b8c-b1aa-3b4702d499bb.htm', 'https://www.cardekho.com/buy-used-car-details/used-Mahindra-Xuv500-W11-Bsiv-cars-Ahmedabad_25f45bc7-f7d0-4668-9300-3eaad1f288f5.htm', 'https://www.cardekho.com/buy-used-car-details/used-Toyota-Camry-2.5-G-cars-Ahmedabad_3f053138-edae-4362-bdd6-c766879697e5.htm', 'https://www.cardekho.com/buy-used-car-details/used-Hyundai-Verna-1.6-Vtvt-S-Option-cars-Ahmedabad_29b0c829-a0a8-4ba6-8b0a-42bc1b2038e8.htm', 'https://www.cardekho.com/buy-used-car-details/used-Honda-Brio-S-Mt-cars-Ahmedabad_a7382e8e-d9f5-4532-b8e9-510146aa8937.htm', 'https://www.cardekho.com/buy-used-car-details/used-Maruti-Ignis-1.2-Amt-Zeta-Bsiv-cars-Ahmedabad_8ea863c9-b05e-4030-8fef-49707583815a.htm', 'https://www.cardekho.com/buy-used-car-details/used-Honda-Amaze-S-I-vtech-cars-Ahmedabad_d90c50df-827c-4f9b-a207-2433e64ff520.htm', 'https://www.cardekho.com/buy-used-car-details/used-Maruti-Swift-Dzire-Amt-Zdi-cars-Ahmedabad_a3a15993-b43a-4b37-8dee-3f61d6e5d648.htm', 'https://www.cardekho.com/buy-used-car-details/used-Renault-Duster-Petrol-Rxs-Cvt-cars-Ahmedabad_58862b4c-8cd0-43d2-9336-7e6a50c2ad51.htm', 'https://www.cardekho.com/buy-used-car-details/used-Honda-City-I-Dtec-V-cars-Ahmedabad_5ff6fd7b-6982-4d7c-b535-dc0221d602c6.htm', 'https://www.cardekho.com/buy-used-car-details/used-Mahindra-Xuv500-W8-Fwd-cars-Ahmedabad_bc6bfb1d-9085-4f57-9998-b4a45131d456.htm', 'https://www.cardekho.com/buy-used-car-details/used-Datsun-Redigo-T-Option-cars-Ahmedabad_1d09edb6-7da9-4814-be0b-5535fc2fc2a6.htm', 'https://www.cardekho.com/buy-used-car-details/used-Renault-Duster-Rxz-Turbo-Cvt-cars-Ahmedabad_32472618-6773-4d9f-915b-9d72e8e873dd.htm', 'https://www.cardekho.com/buy-used-car-details/used-Hyundai-I20-Asta-1.4-Crdi-cars-Ahmedabad_813ae806-97b5-48a4-859c-452b58ecb58f.htm', 'https://www.cardekho.com/buy-used-car-details/used-Maruti-Alto-K10-Vxi-cars-Ahmedabad_c3b03848-6856-4cf4-bfb7-e35975817438.htm', 'https://www.cardekho.com/buy-used-car-details/used-Renault-Duster-Petrol-Rxl-cars-Ahmedabad_6de6dbcc-69bc-4e0e-b517-4721c6474757.htm', 'https://www.cardekho.com/buy-used-car-details/used-Mahindra-Xuv500-W6-2wd-cars-Ahmedabad_5633d724-a5da-4f66-abc9-48429989802c.htm', 'https://www.cardekho.com/buy-used-car-details/used-Hyundai-Grand-I10-1.2-Kappa-Sportz-Bsiv-cars-Ahmedabad_8366e3ed-26fc-4bb5-b6ab-c85c52106d0d.htm', 'https://www.cardekho.com/buy-used-car-details/used-Hyundai-Verna-Vtvt-1.6-Sx-cars-Ahmedabad_41aea13b-4d27-4d21-9fc0-1fb8be6656f7.htm', 'https://www.cardekho.com/buy-used-car-details/used-Honda-Jazz-Vx-Cvt-cars-Ahmedabad_0003f6ae-f5a5-4b61-aa0c-39aad1febbe7.htm', 'https://www.cardekho.com/buy-used-car-details/used-Kia-Seltos-Gtx-Plus-cars-Ahmedabad_2367fc6c-6622-4765-86ee-df618e0030c5.htm', 'https://www.cardekho.com/buy-used-car-details/used-Volkswagen-Vento-1.2-Tsi-Highline-At-cars-Ahmedabad_968d3fc5-f090-48b4-98ab-4b8710e22eea.htm', 'https://www.cardekho.com/buy-used-car-details/used-Honda-City-Zx-Cvt-cars-Ahmedabad_38d158d8-9fb2-4418-bd76-ea80c4658363.htm', 'https://www.cardekho.com/buy-used-car-details/used-Hyundai-Verna-Sx-Opt-Turbo-cars-Ahmedabad_ed792b72-8c4f-4892-92fb-e777904f2616.htm', 'https://www.cardekho.com/buy-used-car-details/used-Hyundai-Creta-1.6-Vtvt-Sx-Plus-cars-Ahmedabad_90dd23f2-9208-48db-8220-9c5e0a1b76bb.htm', 'https://www.cardekho.com/buy-used-car-details/used-Hyundai-Grand-I10-Sportz-cars-Ahmedabad_5702fbef-90e0-4ade-9b3f-1a696aeb4dcf.htm', 'https://www.cardekho.com/buy-used-car-details/used-Mahindra-Xuv500-At-W10-Fwd-cars-Ahmedabad_bed5e843-cb6a-4861-8423-17030221cd2d.htm', 'https://www.cardekho.com/buy-used-car-details/used-Hyundai-Grand-I10-1.2-Kappa-Magna-Bsiv-cars-Ahmedabad_1210cc20-3a53-4c62-8cb5-d3823aeefcb3.htm', 'https://www.cardekho.com/buy-used-car-details/used-Maruti-Ciaz-Zxi-cars-Ahmedabad_36a1232c-a821-4a03-97a6-4904188a28db.htm', 'https://www.cardekho.com/buy-used-car-details/used-Maruti-Ciaz-Vxi-Plus-cars-Ahmedabad_c29845b1-ea80-4219-ad95-931fcc3fb60c.htm', 'https://www.cardekho.com/buy-used-car-details/used-Hyundai-Tucson-Gls-At-cars-Ahmedabad_e5fa4eb8-57b9-4850-9a6c-ae68541bab06.htm', 'https://www.cardekho.com/buy-used-car-details/used-Honda-Amaze-S-I-vtech-cars-Ahmedabad_e5867c70-f728-498a-b5ce-d47152b542b1.htm', 'https://www.cardekho.com/buy-used-car-details/used-Maruti-Swift-Vxi-cars-Ahmedabad_cda3d93c-4348-45d1-b734-e5488637136d.htm', 'https://www.cardekho.com/buy-used-car-details/used-Maruti-Wagon-R-Lxi-Bs-Iv-cars-Ahmedabad_ba95a554-84bd-442a-a0a7-ad3376c3df95.htm', 'https://www.cardekho.com/buy-used-car-details/used-Maruti-Celerio-Zxi-cars-Ahmedabad_10007c59-9f36-46fa-8e52-b07656091401.htm', 'https://www.cardekho.com/buy-used-car-details/used-Maruti-Swift-Vxi-cars-Ahmedabad_28e44f14-00dc-4a96-9a3b-5ca38b2dde34.htm', 'https://www.cardekho.com/buy-used-car-details/used-Renault-Kwid-1.0-Rxt-Opt-Bsiv-cars-Ahmedabad_0a2129bf-f334-45e2-b910-96b2f3f5441b.htm', 'https://www.cardekho.com/buy-used-car-details/used-Maruti-Swift-Dzire-Vxi-1.2-cars-Ahmedabad_48bf1284-4e2e-4112-b065-8d8210e207f0.htm', 'https://www.cardekho.com/buy-used-car-details/used-Hyundai-I10-Magna-cars-Ahmedabad_3426147f-74c8-431a-93f5-2975a93cdfeb.htm', 'https://www.cardekho.com/buy-used-car-details/used-Maruti-Swift-Dzire-Amt-Vxi-cars-Ahmedabad_dfb9bccc-2154-4a13-9296-9053a55c2050.htm', 'https://www.cardekho.com/buy-used-car-details/used-Hyundai-I20-1.2-Asta-cars-Ahmedabad_c92c2874-0db6-4a4c-8c0e-18ec00943ddb.htm', 'https://www.cardekho.com/buy-used-car-details/used-Honda-City-Zx-Cvt-cars-Ahmedabad_38d158d8-9fb2-4418-bd76-ea80c4658363.htm', 'https://www.cardekho.com/buy-used-car-details/used-Mahindra-Kuv-100-Nxt-D75-K2-cars-Ahmedabad_7f310f00-8c71-4504-8b9e-699f79e90935.htm', 'https://www.cardekho.com/buy-used-car-details/used-Renault-Kwid-1.0-Rxt-Opt-Bsiv-cars-Ahmedabad_92432162-64f6-465f-b73d-6a02fe9ead4a.htm', 'https://www.cardekho.com/buy-used-car-details/used-Maruti-Alto-800-Lxi-cars-Ahmedabad_8abbf991-21c4-44d6-bdb8-2bb3f757e258.htm', 'https://www.cardekho.com/buy-used-car-details/used-Honda-City-I-Dtec-V-cars-Ahmedabad_5ff6fd7b-6982-4d7c-b535-dc0221d602c6.htm', 'https://www.cardekho.com/buy-used-car-details/used-Renault-Kwid-Rxl-cars-Ahmedabad_60f2f435-ed2f-4a5b-a382-87ba788a8bc7.htm', 'https://www.cardekho.com/buy-used-car-details/used-Renault-Kwid-Rxl-Bsvi-cars-Ahmedabad_7ed7bfe7-b3c0-446e-a9b3-7a4baedf9183.htm', 'https://www.cardekho.com/buy-used-car-details/used-Maruti-Baleno-1.2-Alpha-cars-Ahmedabad_31684dec-0513-449a-b821-97895e1b2295.htm', 'https://www.cardekho.com/buy-used-car-details/used-Hyundai-Verna-Sx-Opt-Turbo-cars-Ahmedabad_ed792b72-8c4f-4892-92fb-e777904f2616.htm', 'https://www.cardekho.com/buy-used-car-details/used-Datsun-Go-T-Bsiv-cars-Ahmedabad_92bf8e7b-60d3-4e87-bff5-3ed9e6d5c778.htm', 'https://www.cardekho.com/buy-used-car-details/used-Honda-City-I-Vtec-Cvt-Vx-cars-Ahmedabad_6bfe3b88-874c-45f9-95e2-b4fdbac92431.htm', 'https://www.cardekho.com/buy-used-car-details/used-Maruti-Ciaz-Zdi-cars-Ahmedabad_0a0496fd-06d7-4590-858f-cfff20a8df48.htm', 'https://www.cardekho.com/buy-used-car-details/used-Honda-Amaze-S-I-vtech-cars-Ahmedabad_d045aa82-c5b4-4408-8feb-7469d14ec6ed.htm', 'https://www.cardekho.com/buy-used-car-details/used-Honda-Amaze-S-I-vtech-cars-Ahmedabad_d90c50df-827c-4f9b-a207-2433e64ff520.htm', 'https://www.cardekho.com/buy-used-car-details/used-Renault-Duster-Petrol-Rxl-cars-Ahmedabad_6de6dbcc-69bc-4e0e-b517-4721c6474757.htm', 'https://www.cardekho.com/buy-used-car-details/used-Mahindra-Xuv500-W6-2wd-cars-Ahmedabad_5633d724-a5da-4f66-abc9-48429989802c.htm', 'https://www.cardekho.com/buy-used-car-details/used-Hyundai-Grand-I10-Sportz-cars-Ahmedabad_5702fbef-90e0-4ade-9b3f-1a696aeb4dcf.htm', 'https://www.cardekho.com/buy-used-car-details/used-Mahindra-Xuv500-At-W10-Fwd-cars-Ahmedabad_bed5e843-cb6a-4861-8423-17030221cd2d.htm', 'https://www.cardekho.com/buy-used-car-details/used-Maruti-Swift-Dzire-Vxi-cars-Ahmedabad_7299334c-4c37-4477-a4c2-fee816d5196c.htm', 'https://www.cardekho.com/buy-used-car-details/used-Maruti-Wagon-R-Vxi-Bs-Iv-cars-Ahmedabad_de6d4642-df25-4de2-a9f6-052bdcad8536.htm', 'https://www.cardekho.com/buy-used-car-details/used-Honda-Jazz-X-cars-Ahmedabad_48f94e6c-e4af-4024-be17-3ec1e85defde.htm', 'https://www.cardekho.com/buy-used-car-details/used-Honda-City-I-Vtec-Cvt-Sv-cars-Ahmedabad_5bd6ddf7-e284-417c-941c-b88be68ebc2d.htm', 'https://www.cardekho.com/buy-used-car-details/used-Maruti-Sx4-S-Cross-Ddis-200-Delta-cars-Ahmedabad_51572024-172d-4be7-aa38-aa23b89f4f6e.htm', 'https://www.cardekho.com/buy-used-car-details/used-Maruti-Ciaz-Zdi-cars-Ahmedabad_1519d5a0-b121-467d-bad6-b5fc4b601d34.htm', 'https://www.cardekho.com/buy-used-car-details/used-Hyundai-Eon-Magna-Plus-cars-Ahmedabad_1aebbbf4-0657-4a35-b82f-0b6246dd5bb7.htm', 'https://www.cardekho.com/buy-used-car-details/used-Hyundai-I10-Magna-cars-Ahmedabad_f0d93a8d-2a9e-4696-a78d-f3948de9fd31.htm', 'https://www.cardekho.com/buy-used-car-details/used-Hyundai-Eon-Era-Plus-cars-Ahmedabad_8ffa79f7-8841-4674-92e9-b081683b4d60.htm', 'https://www.cardekho.com/buy-used-car-details/used-Maruti-Wagon-R-Lxi-Bs-Iv-cars-Ahmedabad_93419819-f194-4b95-a9b4-4df167f77d81.htm', 'https://www.cardekho.com/buy-used-car-details/used-Hyundai-Eon-Era-Plus-cars-Ahmedabad_324077a8-8b5a-45c1-8b7b-ee5684f32de2.htm', 'https://www.cardekho.com/buy-used-car-details/used-Maruti-Ignis-1.2-Delta-Bsiv-cars-Ahmedabad_c540826c-fb0c-472a-b226-15b1948b6c02.htm', 'https://www.cardekho.com/buy-used-car-details/used-Hyundai-I20-Asta-Option-1.4-Crdi-cars-Ahmedabad_d7d78e03-48ff-4bd6-b84e-f8c0679d851f.htm', 'https://www.cardekho.com/buy-used-car-details/used-Maruti-Alto-800-Lxi-cars-Ahmedabad_86a5a224-c9c3-4dda-b90a-6baa8a13b4dd.htm', 'https://www.cardekho.com/buy-used-car-details/used-Maruti-Swift-Dzire-Amt-Zdi-cars-Ahmedabad_a3a15993-b43a-4b37-8dee-3f61d6e5d648.htm', 'https://www.cardekho.com/buy-used-car-details/used-Renault-Duster-110ps-Diesel-Rxs-Amt-cars-Ahmedabad_4dc41020-b5a0-4fd3-998e-fa7229cfeddb.htm', 'https://www.cardekho.com/buy-used-car-details/used-Volkswagen-Vento-1.5-Tdi-Highline-At-cars-Ahmedabad_3f7bf8d0-bada-4307-a3a7-7c5870a65139.htm', 'https://www.cardekho.com/used-car-details/used-Mercedes-benz-E-class-Expression-E-220-cars-New-Delhi_c1bde2e1-e5f1-4100-a231-4f413e7c06fc.htm', 'https://www.cardekho.com/used-car-details/used-Mercedes-benz-M-class-Ml-350-4matic-cars-New-Delhi_6a916399-9486-4ae0-8b6e-c107a670bac1.htm', 'https://www.cardekho.com/used-car-details/used-Mercedes-benz-C-class-220-Cdi-At-cars-New-Delhi_4d2c0b5b-3140-409f-bdf1-a3ccf0d99973.htm', 'https://www.cardekho.com/used-car-details/used-Renault-Kwid-1.0-Rxt-cars-Ahmedabad_a8c64469-e628-4262-9031-c5ef0a348d60.htm', 'https://www.cardekho.com/used-car-details/used-Mahindra-Tuv-300-T4-Plus-cars-Ahmedabad_dca40157-e9d1-4cce-8ef5-6d55400454a3.htm', 'https://www.cardekho.com/used-car-details/used-Hyundai-Eon-Magna-Plus-cars-Ahmedabad_d7efc3ab-fce5-4fa7-95d7-86d83a4de98f.htm', 'https://www.cardekho.com/used-car-details/used-Mercedes-benz-Glc-220d-4matic-Style-cars-Ahmedabad_fa2a1be9-f96c-45c6-8646-0fcd2b322099.htm', 'https://www.cardekho.com/used-car-details/used-Kia-Seltos-Gtx-Plus-At-D-cars-Ahmedabad_7703ee01-6876-46e1-a039-220582b6c2c5.htm', 'https://www.cardekho.com/used-car-details/used-Mg-Hector-Sharp-Diesel-Mt-cars-Ahmedabad_52aed5fe-b8a7-4c85-a710-b657c7724ff4.htm', 'https://www.cardekho.com/used-car-details/used-Volkswagen-Vento-Diesel-Trendline-cars-Ahmedabad_54e07265-2117-429d-9383-98a5b99f6180.htm', 'https://www.cardekho.com/used-car-details/used-Fiat-Punto-1.3-Dynamic-cars-Ahmedabad_f487357a-b7a9-42fc-839b-141261c5eaea.htm', 'https://www.cardekho.com/used-car-details/used-Mahindra-Thar-Lx-4-str-Hard-Top-Diesel-At-cars-Ahmedabad_2bae1a8e-7683-4e68-93d0-8d9e032bbaec.htm', 'https://www.cardekho.com/used-car-details/used-Kia-Seltos-Htk-Plus-At-D-cars-Ahmedabad_d31bcd56-1d14-40e3-9939-747b6d94abe3.htm', 'https://www.cardekho.com/used-car-details/used-Hyundai-Grand-I10-Crdi-Sportz-cars-Ahmedabad_28fec3f0-9062-425e-abbb-b0a035b6ecf9.htm', 'https://www.cardekho.com/used-car-details/used-Volkswagen-Polo-Diesel-Comfortline-1.2l-cars-Ahmedabad_0e78e918-62c4-4c15-8de6-5925aa22cbbb.htm', 'https://www.cardekho.com/used-car-details/used-Honda-Brio-S-Mt-cars-Ahmedabad_d3658c1e-5865-421c-a96a-1389037195e2.htm', 'https://www.cardekho.com/used-car-details/used-Bmw-X1-Sdrive-20d-Xline-cars-Ahmedabad_a2990cd2-3344-4c66-9c21-25ddabd05419.htm', 'https://www.cardekho.com/used-car-details/used-Honda-City-I-dtec-V-cars-Ahmedabad_1b678dca-777d-4cff-bc95-76715417774e.htm', 'https://www.cardekho.com/used-car-details/used-Maruti-Eeco-Smiles-5-Seater-Standard-cars-Ahmedabad_1dc1e053-2119-49c4-9936-08596810cc5b.htm', 'https://www.cardekho.com/used-car-details/used-Maruti-Ciaz-Zxi-cars-Ahmedabad_594cd82d-a22e-44b7-8381-89bbbab127d6.htm', 'https://www.cardekho.com/used-car-details/used-Mg-Hector-Sharp-Dct-cars-Ahmedabad_5ed4079d-79c2-4436-9808-1ff332f9a71e.htm', 'https://www.cardekho.com/used-car-details/used-Audi-Q3-2.0-Tdi-Quattro-Premium-Plus-cars-Ahmedabad_a55e9097-1570-4dc1-81a6-2917b92251e9.htm', 'https://www.cardekho.com/used-car-details/used-Hyundai-Venue-S-cars-Ahmedabad_75bf9250-06f7-4ecf-ae6e-f3a023889bbf.htm', 'https://www.cardekho.com/used-car-details/used-Hyundai-Creta-1.6-Crdi-At-Sx-Plus-cars-Ahmedabad_ea058549-c27b-4901-9b08-fe4e8a65d65d.htm', 'https://www.cardekho.com/used-car-details/used-Hyundai-Creta-1.4-Crdi-S-Plus-cars-Ahmedabad_89454089-e8ff-43f3-acb4-d353e8eda2a7.htm', 'https://www.cardekho.com/used-car-details/used-Mahindra-Xuv500-W9-cars-Ahmedabad_bd8d4f94-b400-4204-a326-76aaa547edeb.htm', 'https://www.cardekho.com/used-car-details/used-Hyundai-I20-Sportz-Option-1.4-Crdi-cars-Ahmedabad_5eaa1d45-9d61-4b6e-82e4-02fb6301a5db.htm', 'https://www.cardekho.com/used-car-details/used-Tata-Harrier-Xza-Plus-Dark-Edition-At-cars-Ahmedabad_b6503d3b-6a4e-49ab-a681-e7715db04374.htm', 'https://www.cardekho.com/used-car-details/used-Mahindra-Scorpio-S7-140-Bsiv-cars-Ahmedabad_36aee299-ff4e-48ea-a4bc-07f7ba9fbc85.htm', 'https://www.cardekho.com/used-car-details/used-Skoda-Superb-1.8-Tsi-cars-Ahmedabad_d7d57646-db12-471f-999d-58c0239234e7.htm', 'https://www.cardekho.com/used-car-details/used-Hyundai-Verna-Crdi-Sx-Abs-cars-Ahmedabad_83a6336c-6a79-4a8c-8b6d-102b845098ef.htm', 'https://www.cardekho.com/used-car-details/used-Maruti-Wagon-R-Pro-cars-Ahmedabad_8ebfc471-8e6e-4701-84a2-f399334cb9d8.htm', 'https://www.cardekho.com/used-car-details/used-Maruti-Alto-Lxi-cars-Ahmedabad_6f6f44ed-a304-432b-974e-1fbe3fb5ef9d.htm', 'https://www.cardekho.com/used-car-details/used-Bmw-5-Series-523i-cars-New-Delhi_d5af9563-6a2e-4286-8503-840933ae356a.htm', 'https://www.cardekho.com/used-car-details/used-Maruti-Swift-1.3-Vxi-Abs-cars-Ahmedabad_11bc32ff-a9a2-4df5-b5fd-5b3082bfebcd.htm', 'https://www.cardekho.com/used-car-details/used-Mercedes-benz-C-class-C-220-Cdi-Be-Cor-cars-Ahmedabad_64bee1b1-6724-43f4-9b03-894e9e24679f.htm', 'https://www.cardekho.com/used-car-details/used-Mg-Hector-Plus-Sharp-Dct-cars-Ahmedabad_c8fce7b7-5555-478b-8389-d00fffefd64d.htm', 'https://www.cardekho.com/used-car-details/used-Nissan-Sunny-Diesel-Xl-cars-Ahmedabad_cb89c9ad-e31b-494e-97b6-3fea396a9f2b.htm', 'https://www.cardekho.com/used-car-details/used-Renault-Fluence-E2-D-cars-Ahmedabad_46a3eeb2-29ef-437c-9f18-f3971c4ecab5.htm', 'https://www.cardekho.com/used-car-details/used-Renault-Kwid-Rxl-cars-Ahmedabad_5b8f1370-e440-4aed-a586-9d1f2447b84e.htm', 'https://www.cardekho.com/used-car-details/used-Honda-Wr-v-I-vtec-Vx-cars-Ahmedabad_3d294827-2c84-4373-b76f-9ee369b9eda6.htm', 'https://www.cardekho.com/used-car-details/used-Honda-City-I-vtec-Cvt-V-cars-Ahmedabad_fc47a7c5-8bde-41a4-8eca-6c13d8847b59.htm', 'https://www.cardekho.com/used-car-details/used-Honda-City-S-cars-Ahmedabad_e62036cb-5ad6-45ee-9f90-0a512fa0743c.htm', 'https://www.cardekho.com/used-car-details/used-Honda-Jazz-1.5-S-I-Dtec-cars-Ahmedabad_607c22b2-1cd1-41c7-8fca-330e56caf151.htm', 'https://www.cardekho.com/used-car-details/used-Honda-Amaze-Vx-At-I-vtech-cars-Ahmedabad_8cd44720-bb27-45c7-98be-35d6f840df89.htm', 'https://www.cardekho.com/used-car-details/used-Honda-Brio-S-Mt-cars-Ahmedabad_ce82445b-edab-4b25-8ce7-6b34ff6ded94.htm', 'https://www.cardekho.com/used-car-details/used-Hyundai-I20-1.2-Sportz-cars-Ahmedabad_87205ebc-ac25-4e85-99a0-5cba61ed2638.htm', 'https://www.cardekho.com/used-car-details/used-Honda-Brio-S-Mt-cars-Ahmedabad_22e4e449-eb07-43c9-a756-c435d4dde621.htm', 'https://www.cardekho.com/used-car-details/used-Hyundai-Creta-1.6-S-Automatic-cars-Ahmedabad_48ed1391-753d-40ae-9711-7b0bd30c6a91.htm', 'https://www.cardekho.com/used-car-details/used-Hyundai-I20-1.2-Spotz-cars-Ahmedabad_a4266784-d7a6-44e0-b2f7-6787f3f5eb66.htm', 'https://www.cardekho.com/used-car-details/used-Hyundai-I20-Magna-Optional-1.2-cars-Ahmedabad_250117d4-4956-40c0-8208-cdbcbf119606.htm', 'https://www.cardekho.com/used-car-details/used-Hyundai-I20-1.2-Sportz-cars-Ahmedabad_4d314a9a-c1f6-4da3-880e-20b8fdef5047.htm', 'https://www.cardekho.com/used-car-details/used-Tata-Indigo-Ls-cars-Ahmedabad_537f3d9f-3234-4883-ace7-1d805161e3aa.htm', 'https://www.cardekho.com/used-car-details/used-Hyundai-Grand-I10-Magna-At-cars-Ahmedabad_4bd7b525-1bdb-4c33-9aba-324b9b61e0b1.htm', 'https://www.cardekho.com/used-car-details/used-Jeep-Compass-1.4-Limited-cars-Ahmedabad_88a3e0bd-5313-446f-af35-f24f6e40e5cd.htm', 'https://www.cardekho.com/used-car-details/used-Honda-Wr-v-I-vtec-Vx-cars-Ahmedabad_e8ef9c16-669f-42c0-a9b9-980f463b9e56.htm', 'https://www.cardekho.com/used-car-details/used-Hyundai-Eon-Era-Plus-cars-Ahmedabad_ee9a8685-f170-43c6-8575-bdde1e8b0d3b.htm', 'https://www.cardekho.com/used-car-details/used-Maruti-Baleno-1.3-Sigma-cars-Ahmedabad_ce64a5e5-0be4-45e2-b95d-6a42ae89973d.htm', 'https://www.cardekho.com/used-car-details/used-Maruti-Baleno-1.2-Sigma-cars-Ahmedabad_8c79f6b2-578c-4590-bb08-c177d0cabb98.htm', 'https://www.cardekho.com/used-car-details/used-Maruti-Ritz-Vdi-cars-Ahmedabad_52ec0e62-e385-4f10-930a-037132f6623c.htm', 'https://www.cardekho.com/used-car-details/used-Maruti-Wagon-R-Vxi-Amt-1.2-cars-Ahmedabad_0bd5d9bc-c4d8-41e4-bd72-a5ef7cdd21de.htm', 'https://www.cardekho.com/used-car-details/used-Maruti-Alto-Lx-cars-Ahmedabad_c79705a3-762d-41a7-bf0d-41b4dd24d238.htm', 'https://www.cardekho.com/used-car-details/used-Hyundai-Venue-Sx-Diesel-cars-Ahmedabad_c92b2d5f-f170-4dac-a70f-b526c6234679.htm', 'https://www.cardekho.com/used-car-details/used-Nissan-Sunny-Diesel-Xv-cars-Ahmedabad_80bb4da7-f0c2-4709-bcbd-16a467801c0e.htm', 'https://www.cardekho.com/used-car-details/used-Audi-A6-2.0-Tdi-cars-Ahmedabad_7f7ad433-6a55-426a-9358-b0a0e370f2f1.htm', 'https://www.cardekho.com/used-car-details/used-Skoda-Kushaq-1.0-Tsi-Style-cars-Ahmedabad_5f9c1c70-1b55-484b-a230-cdc5e638a1a6.htm', 'https://www.cardekho.com/used-car-details/used-Jeep-Wrangler-4x4-cars-Ahmedabad_e0007efa-723a-48f5-b734-7214312a62a3.htm', 'https://www.cardekho.com/used-car-details/used-Ford-Figo-Diesel-Lxi-cars-Ahmedabad_cde46de7-7e55-4f2d-8d97-5e5f23b80292.htm', 'https://www.cardekho.com/used-car-details/used-Datsun-Redigo-T-Option-cars-Ahmedabad_a6ef9be5-fef2-428f-8ea8-3438ec0bd365.htm', 'https://www.cardekho.com/used-car-details/used-Mahindra-Kuv-100-Nxt-G80-K2-cars-Ahmedabad_c250621c-1d76-4cd4-9f83-74a6ba6bb7a3.htm', 'https://www.cardekho.com/used-car-details/used-Maruti-Ciaz-Rs-Zxi-Plus-cars-Ahmedabad_f75b4b36-d272-43c5-8bef-ffabc1884e31.htm', 'https://www.cardekho.com/used-car-details/used-Honda-Brio-S-Mt-cars-Ahmedabad_cf7ef3d4-b5f7-4807-8780-b73912bfc0ec.htm', 'https://www.cardekho.com/used-car-details/used-Honda-Amaze-S-I-vtech-cars-Ahmedabad_a3de7b5b-cd06-4501-844b-c1f3ac78075a.htm', 'https://www.cardekho.com/used-car-details/used-Mahindra-Xuv500-At-W6-2wd-cars-Ahmedabad_40f8df35-d734-4a53-b67b-4de5fe25e37e.htm', 'https://www.cardekho.com/used-car-details/used-Hyundai-Xcent-1.1-Crdi-Sx-Option-cars-Ahmedabad_39109662-5bab-4f1f-93af-8c5a50475094.htm', 'https://www.cardekho.com/used-car-details/used-Hyundai-Verna-1.6-Sx-cars-Ahmedabad_88741356-3895-43a9-a3cc-e3301d3f40e9.htm', 'https://www.cardekho.com/used-car-details/used-Ford-Ecosport-1.5-Diesel-Trend-Bsiv-cars-Ahmedabad_d4d17c9c-ca3c-494c-8227-8e4095fcf8f7.htm', 'https://www.cardekho.com/used-car-details/used-Volvo-Xc60-D4-Summum-cars-Ahmedabad_d1e3d6f7-5537-4adf-98a4-5b10d5672bf0.htm', 'https://www.cardekho.com/used-car-details/used-Honda-City-V-At-cars-Ahmedabad_df6ab6f0-26aa-453e-a42d-9a130475ce29.htm', 'https://www.cardekho.com/used-car-details/used-Mahindra-Kuv-100-Mfalcon-D75-K8-5str-cars-Ahmedabad_d46bdb99-5caf-4559-8c73-beb9564ab9ef.htm', 'https://www.cardekho.com/used-car-details/used-Hyundai-Elantra-Crdi-Sx-At-cars-Ahmedabad_3eb48adc-780b-4ecf-849e-cf2fd61f03e9.htm', 'https://www.cardekho.com/used-car-details/used-Hyundai-Verna-Transform-Sx-Vgt-Crdi-cars-Ahmedabad_7aed5bdc-d55a-4a07-b65d-4a238ec690f6.htm', 'https://www.cardekho.com/used-car-details/used-Audi-A3-Cabriolet-40-Tfsi-Premium-Plus-cars-Ahmedabad_6e075c62-9be7-4875-a235-37a79104e222.htm', 'https://www.cardekho.com/used-car-details/used-Hyundai-Santa-Fe-4wd-At-cars-Ahmedabad_42f9eeb6-995b-446d-b240-e75174e396b7.htm', 'https://www.cardekho.com/used-car-details/used-Maruti-Alto-Lx-Bsiii-cars-Ahmedabad_07c76c02-d77e-495b-881d-95b403d58c04.htm', 'https://www.cardekho.com/used-car-details/used-Maruti-Alto-K10-Lxi-cars-Ahmedabad_062d9077-478a-492e-bfc7-d9cafa400af4.htm', 'https://www.cardekho.com/used-car-details/used-Toyota-Innova-Crysta-2.4-Vx-Mt-8-Str-cars-Ahmedabad_a7ae89f8-8900-495c-a427-414cc1273f3b.htm', 'https://www.cardekho.com/used-car-details/used-Maruti-Wagon-R-Lxi-cars-Ahmedabad_04887fb7-7e0f-40c4-95a9-81591a404bbd.htm', 'https://www.cardekho.com/used-car-details/used-Ford-Fiesta-1.4-Tdci-Exi-cars-Ahmedabad_a3bd68e6-263d-47f1-b009-04b642c4644d.htm', 'https://www.cardekho.com/used-car-details/used-Maruti-Alto-Green-Lx-Bsiv-cars-Ahmedabad_f80722b1-7fc1-49af-aa20-9024fc8a0cd8.htm', 'https://www.cardekho.com/used-car-details/used-Nissan-Micra-Active-Xl-Option-cars-Ahmedabad_ce6e55d0-8bc5-48c5-887a-65e3f4ed8beb.htm', 'https://www.cardekho.com/used-car-details/used-Nissan-Micra-Diesel-Xv-cars-Ahmedabad_867c6ff4-ad16-4f55-87c2-51de28975eba.htm', 'https://www.cardekho.com/used-car-details/used-Hyundai-Elantra-Crdi-Sx-cars-Ahmedabad_5ccb6dc8-a2eb-4bda-be15-ad1f87045029.htm', 'https://www.cardekho.com/used-car-details/used-Maruti-Eeco-Cng-5-Seater-Ac-Bsiv-cars-Ahmedabad_a33eb457-ccbf-4a2a-8a7b-675d0634c7ae.htm', 'https://www.cardekho.com/used-car-details/used-Toyota-Innova-Crysta-2.4-Vx-Mt-8s-Bsiv-cars-Ahmedabad_8bab10a7-aafa-4039-91b0-33ac3d701011.htm', 'https://www.cardekho.com/used-car-details/used-Honda-Jazz-V-Cvt-cars-Ahmedabad_190daecb-33c0-4170-b78e-7b71b98a14eb.htm', 'https://www.cardekho.com/used-car-details/used-Honda-Brio-S-Mt-cars-Ahmedabad_ba70b51c-b32f-4c06-a7f5-bd941b984f12.htm', 'https://www.cardekho.com/used-car-details/used-Mahindra-Scorpio-Vlx-4wd-Airbag-Bsiv-cars-Ahmedabad_ac0b3b12-8d1c-46a9-be8c-055c2d33e466.htm', 'https://www.cardekho.com/used-car-details/used-Hyundai-Venue-S-cars-Ahmedabad_7d7282bb-8c07-4ff1-98d2-8cc79f8ec7b8.htm', 'https://www.cardekho.com/used-car-details/used-Hyundai-Verna-Vtvt-1.6-Sx-cars-Ahmedabad_da9de780-4bcb-44fa-8658-2443c9130169.htm', 'https://www.cardekho.com/used-car-details/used-Hyundai-I20-Sportz-1.2-cars-Ahmedabad_ad775aa7-3933-42a1-b5e2-3a69657390b0.htm', 'https://www.cardekho.com/used-car-details/used-Chevrolet-Spark-1.0-Lt-cars-Ahmedabad_1361b884-7d34-4ac0-b0fa-4ba92af5c8ed.htm', 'https://www.cardekho.com/used-car-details/used-Mahindra-Tuv-300-T6-cars-Ahmedabad_c9b3b0b3-f5df-43af-b639-f039fd655de1.htm', 'https://www.cardekho.com/used-car-details/used-Volkswagen-Polo-Diesel-Comfortline-1.2l-cars-Ahmedabad_0d4d68e6-8c2d-43aa-8ea0-38c7ccd013c7.htm', 'https://www.cardekho.com/used-car-details/used-Volkswagen-Polo-Diesel-Comfortline-1.2l-cars-Ahmedabad_5001994d-e842-4192-92a9-dcc51ad97e81.htm', 'https://www.cardekho.com/used-car-details/used-Honda-City-I-Dtec-Vx-cars-Ahmedabad_56bf4fd3-c1bb-4339-917f-ce4569de66df.htm', 'https://www.cardekho.com/used-car-details/used-Mahindra-Xylo-H8-cars-Ahmedabad_19bf3c28-eeaf-4fa0-88c1-83a83ceca180.htm', 'https://www.cardekho.com/used-car-details/used-Maruti-Alto-800-Lx-cars-Ahmedabad_08785fb6-6930-4a91-a553-eae002d4df6d.htm', 'https://www.cardekho.com/used-car-details/used-Honda-City-Zx-Cvt-cars-Ahmedabad_81a16011-7d81-4e88-ab77-6bb4e613455d.htm', 'https://www.cardekho.com/used-car-details/used-Volkswagen-Vento-1.6-Highline-cars-Ahmedabad_1e9525cb-85e4-419a-b16d-87d33372abeb.htm', 'https://www.cardekho.com/used-car-details/used-Maruti-Baleno-1.2-Cvt-Zeta-cars-Ahmedabad_05c1b593-ec0d-4dd2-8b36-495739e83bf4.htm', 'https://www.cardekho.com/used-car-details/used-Hyundai-Creta-1.6-Vtvt-Sx-Plus-cars-Ahmedabad_2ac2e353-e2e3-449e-8b99-f46f22e7e2ad.htm', 'https://www.cardekho.com/used-car-details/used-Hyundai-Creta-Sx-Opt-Diesel-At-cars-Ahmedabad_ea7ef0d6-10bf-459b-a5d3-03f7ccefeaca.htm', 'https://www.cardekho.com/used-car-details/used-Hyundai-Tucson-2.0-Dual-Vtvt-2wd-At-Gl-cars-Ahmedabad_ea4d3cce-0ff2-4782-bec0-ebc994ff03f6.htm', 'https://www.cardekho.com/used-car-details/used-Ford-Ecosport-1.5-Petrol-Titanium-Bsiv-cars-Ahmedabad_fedac465-00af-4722-a74a-817c4062c847.htm', 'https://www.cardekho.com/used-car-details/used-Volkswagen-Vento-1.0-Tsi-Highline-At-cars-Ahmedabad_0f68de72-fd9c-42e6-a127-f75c98f7f2ba.htm', 'https://www.cardekho.com/used-car-details/used-Honda-City-I-Vtec-V-cars-Ahmedabad_6464772b-10b1-4307-87f9-e990827925f9.htm', 'https://www.cardekho.com/used-car-details/used-Tata-Manza-Aura-Quadrajet-cars-Ahmedabad_c83c4e8c-040b-42be-8b54-a0349777d954.htm', 'https://www.cardekho.com/used-car-details/used-Mercedes-benz-C-class-Progressive-C-220d-cars-Ahmedabad_abd4f2c0-6551-4c18-9b13-b8d3a710e5ee.htm', 'https://www.cardekho.com/used-car-details/used-Honda-City-I-vtec-Vx-cars-Ahmedabad_5e8eb896-9dfc-45a0-a3fc-2a9cf287c43b.htm', 'https://www.cardekho.com/used-car-details/used-Honda-Amaze-V-Petrol-Bsiv-cars-Ahmedabad_b29de66e-8943-4ecd-b5a6-6749baad22d8.htm', 'https://www.cardekho.com/used-car-details/used-Maruti-Swift-Vvt-Vxi-cars-Ahmedabad_c795e0ca-b1d2-45d8-98a2-bc69d4c84f36.htm', 'https://www.cardekho.com/used-car-details/used-Hyundai-Verna-Vtvt-1.6-At-Sx-Plus-cars-Ahmedabad_d0ba7ed6-3905-425b-9b31-be2c7f936c10.htm', 'https://www.cardekho.com/used-car-details/used-Hyundai-I20-1.2-Magna-Opt-cars-Ahmedabad_ebf6e982-88eb-4de8-ad73-8c85423a7322.htm', 'https://www.cardekho.com/used-car-details/used-Maruti-Ertiga-Ldi-Option-cars-Ahmedabad_0ff63116-3a71-4f05-868b-d450fdfb2f11.htm', 'https://www.cardekho.com/used-car-details/used-Hyundai-Grand-I10-1.2-Kappa-Magna-Bsiv-cars-Ahmedabad_1bbc4520-b67d-430c-a69d-58de31cb4565.htm', 'https://www.cardekho.com/used-car-details/used-Ford-Figo-Diesel-Zxi-cars-Ahmedabad_1bfd76c3-f152-4d6e-80a9-b88127cd9b7b.htm', 'https://www.cardekho.com/used-car-details/used-Hyundai-I10-Magna-cars-Ahmedabad_9cf8601e-b923-4f26-aaf0-a0131247faba.htm', 'https://www.cardekho.com/used-car-details/used-Mahindra-Xuv500-W6-2wd-cars-Ahmedabad_4f4b2f0d-046e-465c-af23-8a639cc8e7ec.htm', 'https://www.cardekho.com/used-car-details/used-Mahindra-Xuv300-W6-cars-Ahmedabad_c1ba590e-8027-4938-8b91-27c1da0b7318.htm', 'https://www.cardekho.com/used-car-details/used-Maruti-Baleno-Zeta-cars-Ahmedabad_3556eaee-3779-4c88-bae2-f78b98ba3a32.htm', 'https://www.cardekho.com/used-car-details/used-Hyundai-I10-Magna-1.1l-cars-Ahmedabad_4a39977e-2f60-4b8e-9869-8978c92df2b3.htm', 'https://www.cardekho.com/used-car-details/used-Honda-City-I-Dtec-V-cars-Ahmedabad_0654d81c-f18e-49a6-ab58-659d596092d1.htm', 'https://www.cardekho.com/used-car-details/used-Jeep-Compass-2.0-Sport-cars-Ahmedabad_0fda03ce-2ccf-4cbe-8fb3-93199062a623.htm', 'https://www.cardekho.com/used-car-details/used-Audi-Q3-2.0-Tdi-cars-Ahmedabad_6df6fd34-eb26-465a-8f7c-89364047c266.htm', 'https://www.cardekho.com/used-car-details/used-Tata-Tigor-Xz-Diesel-cars-Ahmedabad_b79993dd-b3bd-42c5-bb57-b192ae8f913e.htm', 'https://www.cardekho.com/used-car-details/used-Honda-Wr-v-I-dtec-Vx-cars-Ahmedabad_43a8c6ce-9e18-4c28-840d-1244c186b3ac.htm', 'https://www.cardekho.com/used-car-details/used-Hyundai-Creta-1.6-Crdi-At-Sx-Plus-cars-Ahmedabad_d600f551-b304-4781-bd3d-e286c5eef9c9.htm', 'https://www.cardekho.com/used-car-details/used-Kia-Seltos-Htx-Plus-D-cars-Ahmedabad_22005373-a414-4519-be33-58e126edebde.htm', 'https://www.cardekho.com/used-car-details/used-Nissan-Micra-Diesel-Xv-cars-Ahmedabad_d240a4d9-c889-4e58-8db5-0d094424d727.htm', 'https://www.cardekho.com/used-car-details/used-Hyundai-I20-Magna-1.2-cars-Ahmedabad_4da92793-1893-45a7-aecb-32804e8f9dbf.htm', 'https://www.cardekho.com/used-car-details/used-Tata-Tiago-1.2-Revotron-Xza-cars-Ahmedabad_10112174-1bdc-46e8-a7d3-3159760f686e.htm', 'https://www.cardekho.com/used-car-details/used-Hyundai-Grand-I10-1.2-Kappa-Magna-At-cars-Ahmedabad_998c773a-e0dd-4c7b-bc4f-2103696a7beb.htm', 'https://www.cardekho.com/used-car-details/used-Jeep-Compass-1.4-Limited-cars-Ahmedabad_5bd95491-7e3a-4863-9bb2-1b504e22caaa.htm', 'https://www.cardekho.com/used-car-details/used-Honda-Amaze-E-I-vtech-cars-Ahmedabad_c3196df9-e49c-485b-b14e-f87911c658a9.htm', 'https://www.cardekho.com/used-car-details/used-Honda-Amaze-Sx-I-dtec-cars-Ahmedabad_8b59c4f8-a89b-4b62-8d98-7918dd718db3.htm', 'https://www.cardekho.com/used-car-details/used-Hyundai-I20-Magna-Optional-1.2-cars-Ahmedabad_f6fad9f4-49e2-4f45-920c-2d75cc5b7905.htm', 'https://www.cardekho.com/used-car-details/used-Chevrolet-Cruze-Ltz-cars-Ahmedabad_9e1c7a10-dd54-4ff1-96f8-b9d462f557e5.htm', 'https://www.cardekho.com/used-car-details/used-Chevrolet-Cruze-Ltz-At-cars-Ahmedabad_f5b0c5d2-3fec-4232-88df-fac0fd689b8e.htm', 'https://www.cardekho.com/used-car-details/used-Bmw-X1-Sdrive-20d-Xline-cars-Ahmedabad_84d6d56b-69c5-434c-99b6-fbec4a6d592b.htm', 'https://www.cardekho.com/used-car-details/used-Mahindra-Kuv-100-Nxt-G80-K2-cars-Ahmedabad_e2d5a753-ef8a-448b-a386-577934b553ff.htm', 'https://www.cardekho.com/used-car-details/used-Renault-Triber-Rxt-cars-Ahmedabad_820c1c5c-b8e1-414a-87c1-b0edc58162f2.htm', 'https://www.cardekho.com/used-car-details/used-Maruti-Ertiga-Vdi-cars-Ahmedabad_ca124a1f-e2db-48bf-b204-c89eed2df50f.htm', 'https://www.cardekho.com/used-car-details/used-Land-Rover-Freelander-2-Se-cars-New-Delhi_600b0ec9-c72c-4138-955f-06866c68204d.htm', 'https://www.cardekho.com/used-car-details/used-Mercedes-benz-C-class-Progressive-C-200-cars-New-Delhi_246b9df8-4e90-4051-80f1-7cf1ac02b09a.htm', 'https://www.cardekho.com/used-car-details/used-Hyundai-Grand-I10-1.2-Kappa-Sportz-Bsiv-cars-Ahmedabad_05e14933-e8d9-4fd0-811e-697875265d31.htm', 'https://www.cardekho.com/used-car-details/used-Chevrolet-Beat-Ls-cars-Ahmedabad_599bc8d5-381e-45dd-9d49-983993a4af01.htm', 'https://www.cardekho.com/used-car-details/used-Hyundai-I10-Sportz-At-cars-Ahmedabad_7e9c2cca-6a39-42f0-846d-97a5d44be4a1.htm', 'https://www.cardekho.com/used-car-details/used-Honda-City-1.5-S-At-cars-Ahmedabad_7cec84d7-170f-4e75-af49-41aafa4093b7.htm', 'https://www.cardekho.com/used-car-details/used-Honda-City-1.5-S-Mt-cars-Ahmedabad_64d50cf4-8d6f-4c49-ad09-7d1545558923.htm', 'https://www.cardekho.com/used-car-details/used-Honda-City-I-Vtec-Sv-cars-Ahmedabad_1a0ab1ca-a9a0-4184-8ddc-a5851dfc877c.htm', 'https://www.cardekho.com/used-car-details/used-Honda-City-I-Vtec-Cvt-Vx-cars-Ahmedabad_23614c29-f566-4a34-8ca4-7a2e0fc0aa71.htm', 'https://www.cardekho.com/used-car-details/used-Honda-Cr-v-2.4l-4wd-At-cars-Ahmedabad_8feb0eac-42c8-44dd-948d-0fb105ca05cc.htm', 'https://www.cardekho.com/used-car-details/used-Honda-Jazz-V-Cvt-cars-Ahmedabad_2a07cc8b-92ff-433a-8b8a-ef9157bc8f72.htm', 'https://www.cardekho.com/used-car-details/used-Hyundai-Creta-Sx-Turbo-Dualtone-cars-Ahmedabad_3180667b-1904-4b61-b7f1-cdb6a8e175ca.htm', 'https://www.cardekho.com/used-car-details/used-Toyota-Etios-V-cars-New-Delhi_2a437182-09bb-4a0e-a632-a0b69a92c72b.htm', 'https://www.cardekho.com/used-car-details/used-Jeep-Compass-1.4-Limited-cars-New-Delhi_51271be2-0c07-428c-a8ec-8f5e1ff4cbb7.htm', 'https://www.cardekho.com/used-car-details/used-Maruti-Wagon-R-Lxi-Optional-cars-Ahmedabad_274b13da-535b-4f33-8bfe-b20d48e2544f.htm', 'https://www.cardekho.com/used-car-details/used-Audi-A6-2.0-Tdi-Premium-Plus-cars-Ahmedabad_c91fa039-d532-4e10-9d53-e68bd3d4f08d.htm', 'https://www.cardekho.com/used-car-details/used-Mercedes-benz-Gls-350d-Grand-Edition-cars-Ahmedabad_e0bef1f6-83c1-440f-a882-a776d1a52173.htm', 'https://www.cardekho.com/used-car-details/used-Honda-Amaze-V-Cvt-Petrol-Bsiv-cars-Ahmedabad_2eb8f214-a7d2-41b5-b83a-b29b04128176.htm', 'https://www.cardekho.com/used-car-details/used-Toyota-Innova-Crysta-2.4-Gx-At-8-Str-cars-Ahmedabad_fc1a245a-5f11-43b1-9cf8-8770481ee128.htm', 'https://www.cardekho.com/used-car-details/used-Honda-Amaze-S-At-I-vtech-cars-Ahmedabad_107e35de-2436-4535-a573-3413a0b83349.htm', 'https://www.cardekho.com/used-car-details/used-Toyota-Innova-Crysta-2.4-Vx-Mt-8s-Bsiv-cars-Ahmedabad_4b4271cf-1b81-4735-b4db-e9ae8555732a.htm', 'https://www.cardekho.com/used-car-details/used-Maruti-Ciaz-Alpha-Automatic-Bsiv-cars-Ahmedabad_42cc7ce7-188d-40c2-8d9e-85fdf115d4eb.htm', 'https://www.cardekho.com/used-car-details/used-Hyundai-Creta-1.6-E-Plus-cars-Ahmedabad_45a67f1b-bf7c-4336-b48c-a290dcaafc73.htm', 'https://www.cardekho.com/used-car-details/used-Skoda-Superb-1.8-Tfsi-Mt-cars-Ahmedabad_74288357-0cad-429a-88d2-26bd6bbf8c16.htm', 'https://www.cardekho.com/used-car-details/used-Maruti-Ciaz-Vdi-Plus-cars-Ahmedabad_438a3b30-c9d5-4c28-aa58-1707f1258d35.htm', 'https://www.cardekho.com/used-car-details/used-Honda-Brio-Ex-Mt-cars-Ahmedabad_b038169f-01a6-4d3f-b5a9-3b659610dc8e.htm', 'https://www.cardekho.com/used-car-details/used-Bmw-5-Series-525d-Sedan-cars-Hyderabad_2fd4c4cc-6ed0-42d4-b076-5f12850cc3a0.htm', 'https://www.cardekho.com/used-car-details/used-Hyundai-Creta-1.6-Vtvt-Sx-Plus-cars-Ahmedabad_f11c06cf-42b2-41b4-901c-e2edd29adc6b.htm', 'https://www.cardekho.com/used-car-details/used-Maruti-Alto-Lxi-Bsiii-cars-Ahmedabad_05321bb6-ff74-4125-ad4b-bf1e8c6aeea2.htm', 'https://www.cardekho.com/used-car-details/used-Maruti-Xl6-Alpha-cars-Ahmedabad_ffae89a0-7771-42c0-8bca-e52f013435e3.htm', 'https://www.cardekho.com/used-car-details/used-Hyundai-Verna-1.6-Sx-Vtvt-At-cars-Ahmedabad_18aead65-b173-44b7-9e6e-243126507983.htm', 'https://www.cardekho.com/used-car-details/used-Volkswagen-Vento-1.5-Tdi-Highline-At-cars-Ahmedabad_7023fee0-1bbe-483e-9352-f523bfe01535.htm', 'https://www.cardekho.com/used-car-details/used-Jeep-Compass-2.0-Longitude-Bsiv-cars-Ahmedabad_bf5ef690-5535-4ffd-ab5f-9e72d50d059c.htm', 'https://www.cardekho.com/used-car-details/used-Tata-Harrier-Xz-Plus-cars-Ahmedabad_0f64c748-a6bf-43c1-b3a8-9a445eb8f4e0.htm', 'https://www.cardekho.com/used-car-details/used-Maruti-Ertiga-Vxi-Cng-cars-Ahmedabad_6cb124d2-973c-49cd-a4c8-0540d2e591a6.htm', 'https://www.cardekho.com/used-car-details/used-Hyundai-Elantra-Crdi-Sx-cars-Ahmedabad_d5d0d6a3-5997-4e27-90aa-8d643dfdce3b.htm', 'https://www.cardekho.com/used-car-details/used-Maruti-Swift-Dzire-Amt-Zxi-cars-Ahmedabad_5d2cd44c-cb43-47f8-bb05-cf0bbde95fd1.htm', 'https://www.cardekho.com/used-car-details/used-Maruti-Swift-Dzire-Amt-Vdi-cars-Ahmedabad_e84f4c4b-e9b5-4493-8761-e5ef2a79995f.htm', 'https://www.cardekho.com/used-car-details/used-Mahindra-Xuv500-W11-Option-cars-Ahmedabad_ed6f4cd0-35b8-4279-9698-3f7e383f8485.htm', 'https://www.cardekho.com/used-car-details/used-Mahindra-Xuv500-W11-Option-At-Bsiv-cars-Ahmedabad_54b231e8-a2db-4498-9b56-3ffa45163168.htm', 'https://www.cardekho.com/used-car-details/used-Honda-City-I-Vtec-Cvt-Sv-cars-Ahmedabad_91001240-dc0b-4d11-8fc6-179e9fe7c6db.htm', 'https://www.cardekho.com/used-car-details/used-Maruti-Baleno-1.2-Zeta-cars-Ahmedabad_695c4bff-9859-4d08-a203-e8273db6cf62.htm', 'https://www.cardekho.com/used-car-details/used-Ford-Aspire-Trend-Plus-Diesel-cars-Ahmedabad_df173147-28c0-4d19-8daa-50189f5afdbe.htm', 'https://www.cardekho.com/used-car-details/used-Toyota-Innova-Crysta-2.4-Gx-Mt-8s-Bsiv-cars-Ahmedabad_be74051a-aaf1-44be-93b7-9859f669e6e7.htm', 'https://www.cardekho.com/used-car-details/used-Maruti-Baleno-Alpha-Diesel-cars-Ahmedabad_304808ed-cebe-4ae2-b6e4-e8799273b25b.htm', 'https://www.cardekho.com/used-car-details/used-Chevrolet-Aveo-1.4-Ls-cars-Ahmedabad_8c75692f-9b06-43bb-bd00-27939fd9d1be.htm', 'https://www.cardekho.com/used-car-details/used-Ford-Figo-1.2p-Titanium-Mt-cars-Ahmedabad_12eedaa2-eaab-4835-8260-73f654db8bf4.htm', 'https://www.cardekho.com/used-car-details/used-Toyota-Fortuner-4x2-Diesel-At-cars-Ahmedabad_b48bc7ac-2d00-413f-8513-582951517f3f.htm', 'https://www.cardekho.com/used-car-details/used-Bmw-3-Series-Gt-M-Sport-Petrol-cars-Ahmedabad_6b96885d-6c2f-43a7-96be-d55753dd8391.htm', 'https://www.cardekho.com/used-car-details/used-Toyota-Fortuner-2.8-4wd-At-cars-Ahmedabad_3d472c5e-58c9-45d0-b6a0-991868d907d9.htm', 'https://www.cardekho.com/used-car-details/used-Hyundai-I10-Magna-cars-Ahmedabad_f4087acd-6e29-4b7c-a548-5883ce4d5ae6.htm', 'https://www.cardekho.com/used-car-details/used-Hyundai-I20-Active-S-Petrol-cars-Ahmedabad_c006e21f-3d62-4b23-84d9-e55bd121a7bc.htm', 'https://www.cardekho.com/used-car-details/used-Maruti-Celerio-Zdi-cars-Ahmedabad_8591b873-70bc-436f-81a3-a7cf98f29668.htm', 'https://www.cardekho.com/used-car-details/used-Toyota-Innova-2.5-Vx-(diesel)-8-Seater-Bs-Iv-cars-Ahmedabad_947b42c7-1076-4e0d-8251-84e9018099ac.htm', 'https://www.cardekho.com/used-car-details/used-Honda-City-I-Vtec-V-cars-Ahmedabad_6f49d4b1-3538-4f2b-b97d-7e9c91c5977a.htm', 'https://www.cardekho.com/used-car-details/used-Skoda-Rapid-1.5-Tdi-At-Style-Plus-cars-Ahmedabad_44de39a1-2130-48d4-bcde-e720d5180030.htm', 'https://www.cardekho.com/used-car-details/used-Bmw-3-Series-320d-Gt-Sport-Line-cars-Ahmedabad_1d6207fe-055b-4a05-ab04-246e658107ab.htm', 'https://www.cardekho.com/used-car-details/used-Honda-Amaze-S-Petrol-Bsiv-cars-Ahmedabad_fa7b09ad-f207-4f55-9ed7-44a4452f47ec.htm', 'https://www.cardekho.com/used-car-details/used-Hyundai-Verna-Crdi-1.6-Sx-Option-cars-Ahmedabad_24716306-aaf8-4c89-8363-32d53a510216.htm', 'https://www.cardekho.com/used-car-details/used-Maruti-Baleno-Zeta-cars-Ahmedabad_a5761145-e4f5-452d-86b7-56e00255182f.htm', 'https://www.cardekho.com/used-car-details/used-Honda-City-1.5-S-Mt-cars-Ahmedabad_d003e8c1-5eb8-45e7-a851-db294e6b9c24.htm', 'https://www.cardekho.com/used-car-details/used-Honda-City-1.5-S-At-cars-Ahmedabad_f4fd00c5-9e25-4db9-9668-38d6752b1c4f.htm', 'https://www.cardekho.com/used-car-details/used-Maruti-Ciaz-1.4-Delta-cars-Ahmedabad_c5aabfa0-9c9d-4773-9cb7-ce67522a445d.htm', 'https://www.cardekho.com/used-car-details/used-Maruti-Eeco-Cng-5-Seater-Ac-Bsiv-cars-Ahmedabad_d7d211cb-0228-4cf6-995d-4ed180604a0a.htm', 'https://www.cardekho.com/used-car-details/used-Hyundai-Creta-1.6-Vtvt-At-Sx-Plus-cars-Ahmedabad_4b917cb4-218b-46da-94f3-c79c79d801b7.htm', 'https://www.cardekho.com/used-car-details/used-Honda-Amaze-S-I-vtech-cars-Ahmedabad_759ab28a-a4cd-4c03-8d1c-666638421aba.htm', 'https://www.cardekho.com/used-car-details/used-Mercedes-benz-B-Class-Edition-1-cars-Ahmedabad_4649892b-7ffb-4e57-b595-343ec6279440.htm', 'https://www.cardekho.com/used-car-details/used-Hyundai-I10-Sportz-cars-Ahmedabad_b4ec2124-77b2-4f2b-9129-815db37d62c0.htm', 'https://www.cardekho.com/used-car-details/used-Mahindra-Xuv500-At-W6-2wd-cars-Ahmedabad_55de4738-8397-40e2-9ce2-24f2a25d8048.htm', 'https://www.cardekho.com/used-car-details/used-Honda-City-I-Dtec-Sv-cars-Ahmedabad_b00e9c69-7949-42ca-9f7f-fffe9441cb79.htm', 'https://www.cardekho.com/used-car-details/used-Audi-A4-2.0-Tdi-Multitronic-cars-Ahmedabad_9430fc99-6190-4ac9-8f9d-cd6f2fe5684d.htm', 'https://www.cardekho.com/used-car-details/used-Skoda-Rapid-1.6-Mpi-Elegance-cars-Ahmedabad_85846a1d-8560-421c-a1cc-c42a3da0a792.htm', 'https://www.cardekho.com/used-car-details/used-Volkswagen-Taigun-1.5-Tsi-Gt-Plus-cars-Ahmedabad_d10aade4-76c9-4b41-9f44-d0de3d26ace9.htm', 'https://www.cardekho.com/used-car-details/used-Volkswagen-Vento-Petrol-Highline-At-cars-Ahmedabad_b85837f0-7099-4f19-a930-d50be3da66e1.htm', 'https://www.cardekho.com/used-car-details/used-Honda-City-I-Dtec-Sv-cars-Ahmedabad_421cd49b-8598-4d15-bfb9-366786c67c00.htm', 'https://www.cardekho.com/used-car-details/used-Toyota-Fortuner-2.8-2wd-At-Bsiv-cars-Ahmedabad_239632f9-3b7b-49f5-9c17-97ee6f12c01f.htm', 'https://www.cardekho.com/used-car-details/used-Volkswagen-Polo-1.2-Mpi-Comfortline-cars-Ahmedabad_9ac3ccd6-391b-4844-b562-0c643861bb80.htm', 'https://www.cardekho.com/used-car-details/used-Honda-Jazz-1.2-Sv-I-Vtec-cars-Ahmedabad_d4be0aed-18d0-4bb7-8151-fda709b0ede6.htm', 'https://www.cardekho.com/used-car-details/used-Jaguar-Xf-2.2-Litre-Luxury-cars-Ahmedabad_8c591126-4312-40ba-a543-95caee7055d0.htm', 'https://www.cardekho.com/used-car-details/used-Toyota-Fortuner-4x2-Manual-cars-Ahmedabad_db07bd84-1114-4ba9-b285-27fc46495071.htm', 'https://www.cardekho.com/used-car-details/used-Mahindra-Scorpio-S11-cars-Ahmedabad_3d4f278b-5755-4691-a3c0-e28cdcf5b22d.htm', 'https://www.cardekho.com/used-car-details/used-Maruti-Wagon-R-Vxi-cars-Ahmedabad_30c79485-f52a-410f-9381-0e23bcaf741d.htm', 'https://www.cardekho.com/used-car-details/used-Hyundai-I20-Asta-1.4-Crdi-cars-Ahmedabad_9accfddc-9fbe-4478-9e3a-4fadff0d6051.htm', 'https://www.cardekho.com/used-car-details/used-Toyota-Fortuner-4x2-Manual-cars-Ahmedabad_1878a807-881e-4861-9d45-34ae278e87a4.htm', 'https://www.cardekho.com/used-car-details/used-Honda-Jazz-Vx-cars-Ahmedabad_898d4c31-1b6a-4c4d-8a66-129d009f05d4.htm', 'https://www.cardekho.com/used-car-details/used-Ford-Ecosport-1.5-Petrol-Titanium-At-cars-Ahmedabad_c98e2756-5a54-4751-8a07-407c22d3daa4.htm', 'https://www.cardekho.com/used-car-details/used-Maruti-Celerio-Vxi-cars-Ahmedabad_90f8bbc3-1bef-43a7-9958-259667c7edb1.htm', 'https://www.cardekho.com/used-car-details/used-Hyundai-Grand-I10-Sportz-cars-Ahmedabad_5f410c32-680c-4166-a77b-453e4f606c7b.htm', 'https://www.cardekho.com/used-car-details/used-Kia-Seltos-Htx-Ivt-cars-New-Delhi_089758fd-39be-4f3d-8702-312ea7441b79.htm', 'https://www.cardekho.com/used-car-details/used-Honda-Brio-S-Mt-cars-Ahmedabad_35b4e96e-ad40-426d-9abb-30b9ba342c22.htm', 'https://www.cardekho.com/used-car-details/used-Mahindra-Scorpio-S11-cars-Ahmedabad_8a353a1c-2f10-4ec0-91a2-01c4dca94edc.htm', 'https://www.cardekho.com/used-car-details/used-Jeep-Compass-2.0-Limited-cars-Ahmedabad_329e76a3-4710-40a4-a81b-2550520b6a62.htm', 'https://www.cardekho.com/used-car-details/used-Kia-Seltos-Gtx-Plus-Dct-cars-Ahmedabad_90c25b76-38c7-4ca9-8b77-f02d29919225.htm', 'https://www.cardekho.com/used-car-details/used-Toyota-Innova-Crysta-2.4-Gx-Mt-8-Str-cars-Ahmedabad_5289be81-9171-46a5-92a5-12b1aa3f8b6f.htm', 'https://www.cardekho.com/used-car-details/used-Toyota-Corolla-Altis-1.8-G-cars-Ahmedabad_dcc81f37-fac2-478f-af4f-ac2f2948770c.htm', 'https://www.cardekho.com/used-car-details/used-Maruti-Alto-800-Lxi-Optional-cars-Ahmedabad_65cea4d9-87a3-4a07-9098-44ec8d953f4b.htm', 'https://www.cardekho.com/used-car-details/used-Hyundai-Accent-Gls-cars-Ahmedabad_9e18ea1b-95f1-4c51-8db8-97d8420e229a.htm', 'https://www.cardekho.com/used-car-details/used-Jeep-Compass-2.0-Limited-Plus-4x4-Bsiv-cars-Ahmedabad_ce239d20-33b6-45a6-b274-09c2703bc141.htm', 'https://www.cardekho.com/used-car-details/used-Datsun-Redigo-T-Option-cars-Ahmedabad_8fdbe18a-faa9-465b-bee3-f9ec765af647.htm', 'https://www.cardekho.com/used-car-details/used-Ford-Figo-Diesel-Zxi-cars-Ahmedabad_3c8035c9-b245-4e47-82a7-a2ff0371549a.htm', 'https://www.cardekho.com/used-car-details/used-Toyota-Fortuner-4x2-Diesel-At-cars-Ahmedabad_1c114617-6d4d-44a3-b47d-b7ad714e7af9.htm', 'https://www.cardekho.com/used-car-details/used-Audi-A6-35-Tdi-cars-Ahmedabad_01c81a37-c9d6-48ab-b1ea-945e2a6057bf.htm', 'https://www.cardekho.com/used-car-details/used-Mercedes-benz-C-class-C-220-Cdi-Avantgarde-cars-Ahmedabad_db692704-4f32-4164-a626-01b323a54c44.htm', 'https://www.cardekho.com/used-car-details/used-Mercedes-benz-Glc-200-cars-Ahmedabad_c704f4ca-a167-4398-afe0-c576eba0227c.htm', 'https://www.cardekho.com/used-car-details/used-Mercedes-benz-Gla-220d-cars-Ahmedabad_f4b343f4-b14f-4d76-aaab-153343811c52.htm', 'https://www.cardekho.com/used-car-details/used-Fiat-Punto-Pure-1.3l-Advanced-Multi-jet-cars-Ahmedabad_0e959115-c7b5-47de-96ea-30f928211f40.htm', 'https://www.cardekho.com/used-car-details/used-Maruti-S-presso-Vxi-2019-2022-cars-Ahmedabad_3afa6078-a637-4668-892f-a24baa5ee0b0.htm', 'https://www.cardekho.com/used-car-details/used-Maruti-Esteem-Vxi-cars-Ahmedabad_408c8f2f-d835-49ee-8ba4-d5241fb83d00.htm', 'https://www.cardekho.com/used-car-details/used-Hyundai-Venue-Sx-Plus-Turbo-Dct-cars-Ahmedabad_60ac06dc-2734-4274-a435-348804da36ab.htm', 'https://www.cardekho.com/used-car-details/used-Mercedes-benz-C-class-200-Kompressor-cars-Ahmedabad_f8186930-c51a-4884-8c72-2350690827df.htm', 'https://www.cardekho.com/used-car-details/used-Hyundai-I20-Sportz-Plus-cars-Ahmedabad_d92986c3-e6ea-40a9-8ee0-3ecf919a180b.htm', 'https://www.cardekho.com/used-car-details/used-Kia-Seltos-Gtx-Plus-At-D-cars-Ahmedabad_bcf32acd-1eac-4bc7-929c-4c1e0f897291.htm', 'https://www.cardekho.com/used-car-details/used-Hyundai-I10-Era-cars-Ahmedabad_a30f4f82-0ad1-4c8c-9a31-bb120610f72f.htm', 'https://www.cardekho.com/used-car-details/used-Ford-Figo-Petrol-Zxi-cars-Ahmedabad_5964d684-b667-4707-8194-b5035c8f86b9.htm', 'https://www.cardekho.com/used-car-details/used-Honda-City-1.5-S-Mt-cars-Ahmedabad_9c990862-0e92-4d48-bfa2-2abf6204a005.htm', 'https://www.cardekho.com/used-car-details/used-Maruti-Alto-800-Vxi-cars-Ahmedabad_c265d7c5-d69c-4f58-a393-96f7db2e160b.htm', 'https://www.cardekho.com/used-car-details/used-Maruti-Alto-Lxi-Bsiii-cars-Ahmedabad_712067e1-eb51-41a4-a3d9-9a1eddf0b2a4.htm', 'https://www.cardekho.com/used-car-details/used-Bmw-5-Series-530d-M-Sport-cars-New-Delhi_898957cc-24e8-4d2e-860a-991c811b1512.htm', 'https://www.cardekho.com/used-car-details/used-Toyota-Fortuner-4x2-Manual-cars-Ahmedabad_93b55720-6725-49f9-94f2-197f9b376702.htm', 'https://www.cardekho.com/used-car-details/used-Toyota-Fortuner-2.8-4wd-Mt-cars-Ahmedabad_c97734ad-1a27-4367-a738-0ef2d20f8bf7.htm', 'https://www.cardekho.com/used-car-details/used-Hyundai-Tucson-2.0-E-vgt-2wd-At-Gl-cars-Ahmedabad_7f652144-4314-41f2-a896-b39e7ac82c69.htm', 'https://www.cardekho.com/used-car-details/used-Maruti-Vitara-Brezza-Vdi-Amt-cars-Ahmedabad_0ece7e48-370d-4ede-a7a5-5a79efc3bcc5.htm', 'https://www.cardekho.com/used-car-details/used-Maruti-Alto-800-Vxi-cars-Ahmedabad_40efd411-148c-49e5-9336-35dcac4dadef.htm', 'https://www.cardekho.com/used-car-details/used-Volkswagen-Taigun-1.0-Tsi-Highline-At-cars-Ahmedabad_4aceec00-724e-4a3c-92b2-f576ca0e0537.htm', 'https://www.cardekho.com/used-car-details/used-Honda-Jazz-V-cars-Ahmedabad_148246b1-5611-45d4-8990-0dcfea2e477f.htm', 'https://www.cardekho.com/used-car-details/used-Maruti-Sx4-S-Cross-Sigma-Ddis-200-Sh-cars-Ahmedabad_0b36139a-67c3-471f-bea3-fa8192f34f97.htm', 'https://www.cardekho.com/used-car-details/used-Maruti-Swift-Vvt-Vxi-cars-Ahmedabad_d59b8ea8-35f1-4dba-b135-bfe03a7d03b1.htm', 'https://www.cardekho.com/used-car-details/used-Maruti-Ciaz-Alpha-At-cars-Ahmedabad_1eed1649-2b93-4531-8b4f-26cc03ccb032.htm', 'https://www.cardekho.com/used-car-details/used-Hyundai-I20-Asta-Option-1.2-cars-Ahmedabad_6deef3be-6acc-4f55-92a1-9600b77bbc95.htm', 'https://www.cardekho.com/used-car-details/used-Audi-A6-2.0-Tdi-Premium-Plus-cars-Ahmedabad_52fc1707-d264-4286-bd68-7411cfdb41b4.htm', 'https://www.cardekho.com/used-car-details/used-Chevrolet-Beat-Diesel-Lt-cars-Ahmedabad_ccfca9fb-85fe-4ad2-b063-37dfce1cb809.htm', 'https://www.cardekho.com/used-car-details/used-Hyundai-Verna-Vtvt-1.6-At-Sx-Option-cars-Ahmedabad_569b91cb-8619-4342-bc8b-e83ca1e5171d.htm', 'https://www.cardekho.com/used-car-details/used-Maruti-Xl6-Alpha-At-cars-Ahmedabad_14500619-0a21-452b-a2fb-472843cc379f.htm', 'https://www.cardekho.com/used-car-details/used-Toyota-Etios-G-cars-Ahmedabad_9367b6c7-d231-4384-b109-0c75043f1135.htm', 'https://www.cardekho.com/used-car-details/used-Maruti-Wagon-R-Vxi-Bs-Iv-cars-Ahmedabad_8fdc8046-3d2c-4e3b-b826-6a61d58befc9.htm', 'https://www.cardekho.com/used-car-details/used-Honda-Jazz-Vx-Cvt-cars-Ahmedabad_ab6b4d5f-ae85-41bb-9a7e-72efe6b635e5.htm', 'https://www.cardekho.com/used-car-details/used-Toyota-Innova-Crysta-2.8-Gx-At-Bsiv-cars-Ahmedabad_6ac6f281-d425-41bf-b2b1-7c3294f6cb66.htm', 'https://www.cardekho.com/used-car-details/used-Volkswagen-Jetta-2.0l-Tdi-Trendline-cars-Ahmedabad_9ffc5aa8-da9e-45bf-8288-2008447f814b.htm', 'https://www.cardekho.com/used-car-details/used-Bmw-3-Series-320d-Prestige-cars-Ahmedabad_d74ab854-cdba-4cb2-a045-fb54c5d525bf.htm', 'https://www.cardekho.com/used-car-details/used-Mercedes-benz-C-class-220-Cdi-At-cars-Ahmedabad_d6c14755-c097-4ccd-9c8b-34071f534fbd.htm', 'https://www.cardekho.com/used-car-details/used-Hyundai-Creta-Sx-Opt-Diesel-At-cars-Ahmedabad_11eb67e5-62fa-4a88-8a2b-d3946774b194.htm', 'https://www.cardekho.com/used-car-details/used-Maruti-Ignis-Zeta-Amt-cars-Ahmedabad_4aa7be18-8958-43ee-bba0-692f44955973.htm', 'https://www.cardekho.com/used-car-details/used-Hyundai-I20-Magna-1.2-cars-Ahmedabad_cde80681-80a4-4568-9427-5201bd497560.htm', 'https://www.cardekho.com/used-car-details/used-Hyundai-Accent-Executive-cars-Ahmedabad_e6b63db8-f3ca-4d46-9a18-4fe1a1c5d960.htm', 'https://www.cardekho.com/used-car-details/used-Hyundai-I20-Asta-(o)-cars-Ahmedabad_a8bdde3f-b608-44bd-bd36-46ee72f6c2da.htm', 'https://www.cardekho.com/used-car-details/used-Toyota-Etios-Liva-G-cars-Ahmedabad_4d714572-838b-4c1f-9a0a-5d355003b940.htm', 'https://www.cardekho.com/used-car-details/used-Toyota-Innova-Crysta-2.8-Gx-At-Bsiv-cars-Ahmedabad_e462d779-938d-4622-ac87-95cc950d3c8e.htm', 'https://www.cardekho.com/used-car-details/used-Maruti-Baleno-Alpha-cars-Ahmedabad_094a8864-ed25-43f5-821c-a6283b3ae8ac.htm', 'https://www.cardekho.com/used-car-details/used-Renault-Triber-Rxl-cars-Ahmedabad_62e91d9d-02fa-45a8-b8db-356687066b80.htm', 'https://www.cardekho.com/used-car-details/used-Maruti-Swift-Vxi-cars-Ahmedabad_5ad38b31-5224-4741-8726-ec6d33a0f9b8.htm', 'https://www.cardekho.com/used-car-details/used-Tata-Nexon-Xz-Plus-cars-Ahmedabad_76699613-9185-46eb-b129-8b4bff86414a.htm', 'https://www.cardekho.com/used-car-details/used-Hyundai-Elantra-Vtvt-Sx-Option-At-cars-Ahmedabad_0343e814-c83a-4c1e-a062-2acc2eb65e7a.htm', 'https://www.cardekho.com/used-car-details/used-Tata-Nexon-Xza-Plus-Amt-Diesel-S-cars-Ahmedabad_73d4a841-9deb-4f7d-be8b-db59f9d89892.htm', 'https://www.cardekho.com/used-car-details/used-Honda-Jazz-1.5-Sv-I-Dtec-cars-Ahmedabad_5548c342-64bc-4a73-8b2c-7d84f830a2be.htm', 'https://www.cardekho.com/used-car-details/used-Maruti-Baleno-Altura-cars-Ahmedabad_a9217185-146e-47ce-af21-85dc949471cb.htm', 'https://www.cardekho.com/used-car-details/used-Honda-Amaze-Ex-I-dtech-cars-Ahmedabad_721554bb-c688-4d03-8250-81bf78de1b72.htm', 'https://www.cardekho.com/used-car-details/used-Hyundai-Creta-1.6-Vtvt-Sx-Plus-cars-New-Delhi_b1b5efd9-67ab-4016-a4eb-c157170bfa8a.htm', 'https://www.cardekho.com/used-car-details/used-Mg-Hector-Sharp-Cvt-cars-New-Delhi_6d28ad71-0650-4583-a6e7-c7da2947552e.htm', 'https://www.cardekho.com/used-car-details/used-Jeep-Compass-1.4-Limited-Plus-cars-New-Delhi_12f60b81-79c2-4832-8ab6-071f78a23133.htm', 'https://www.cardekho.com/used-car-details/used-Toyota-Fortuner-2.8-2wd-At-cars-New-Delhi_cc95019b-42db-475a-8a66-a7c3365c93a5.htm', 'https://www.cardekho.com/used-car-details/used-Ford-Endeavour-3.2-Titanium-At-4x4-cars-New-Delhi_5bcdb496-dae3-42e8-801a-2289e297360c.htm', 'https://www.cardekho.com/used-car-details/used-Tata-Harrier-Xz-Dark-Edition-Bsiv-cars-Ahmedabad_a10a7718-c0ae-494c-b463-3eb043984f78.htm', 'https://www.cardekho.com/used-car-details/used-Tata-Indica-Ev2-Lx-cars-Ahmedabad_6436e70a-47c7-4769-9fef-85a57378cb28.htm', 'https://www.cardekho.com/used-car-details/used-Hyundai-Creta-1.6-Sx-Option-cars-Ahmedabad_bba567d3-e554-4eb8-91fc-eca9b75bb09e.htm', 'https://www.cardekho.com/used-car-details/used-Maruti-Swift-1.3-Vxi-cars-Ahmedabad_6df2b128-a15c-4366-b4ea-0e8002268be4.htm', 'https://www.cardekho.com/used-car-details/used-Jeep-Compass-1.4-Sport-Dct-cars-Ahmedabad_57e57d1c-482b-40f6-80f0-9bd2d5e4ac21.htm', 'https://www.cardekho.com/used-car-details/used-Maruti-Wagon-R-Lxi-Minor-cars-Ahmedabad_1fe9a54f-3f0a-4d51-86bb-ac13b0a08fed.htm', 'https://www.cardekho.com/used-car-details/used-Hyundai-Creta-1.6-Sx-cars-Ahmedabad_f5e78d22-5e4b-4f15-a105-1b27dc3060c6.htm', 'https://www.cardekho.com/used-car-details/used-Honda-City-I-Vtec-V-cars-Ahmedabad_ac9c610f-efd6-4bb7-82fd-7ad52654e8f5.htm', 'https://www.cardekho.com/used-car-details/used-Maruti-Ciaz-1.4-S-cars-Ahmedabad_f4057953-cc2b-40c8-aa45-0850df5ef6bd.htm', 'https://www.cardekho.com/used-car-details/used-Kia-Seltos-Gtx-Plus-Dct-cars-Ahmedabad_c616ec31-41e1-4545-ae42-b5eb71989e94.htm', 'https://www.cardekho.com/used-car-details/used-Honda-Amaze-V-Cvt-Petrol-cars-Ahmedabad_a77cce8a-500f-4991-9e8f-8d6fcd8233ec.htm', 'https://www.cardekho.com/used-car-details/used-Hyundai-Verna-Vtvt-1.6-Sx-cars-Ahmedabad_e8390168-9904-4f50-b27f-5971d7d8425c.htm', 'https://www.cardekho.com/used-car-details/used-Kia-Seltos-Gtx-Plus-Dct-cars-Ahmedabad_c5eca780-67be-4f2b-a04d-8e31681b12a8.htm', 'https://www.cardekho.com/used-car-details/used-Renault-Duster-110ps-Diesel-Rxz-cars-Ahmedabad_b16238eb-8202-4863-a104-c228df4df4a8.htm', 'https://www.cardekho.com/used-car-details/used-Hyundai-I10-Magna-1.1l-cars-Ahmedabad_71d87b29-e791-45cf-9367-449aec2b30ab.htm', 'https://www.cardekho.com/used-car-details/used-Honda-Jazz-1.2-Vx-I-Vtec-cars-Ahmedabad_57a5cfc9-3c06-4fc5-ba7f-dc54a58e9974.htm', 'https://www.cardekho.com/used-car-details/used-Bmw-3-Series-330i-Sport-Line-cars-Ahmedabad_5f55dcbb-d1e1-457d-ae53-bd715a043226.htm', 'https://www.cardekho.com/used-car-details/used-Honda-Jazz-1.2-V-I-Vtec-cars-Ahmedabad_a53f505a-e1ac-4ef9-a2eb-e97d955d43b4.htm', 'https://www.cardekho.com/used-car-details/used-Jeep-Compass-1.4-Limited-cars-Ahmedabad_553c9b99-9296-4884-8be5-4ed0fd06dd10.htm', 'https://www.cardekho.com/used-car-details/used-Mercedes-benz-S-class-S-350-Cdi-cars-Ahmedabad_a1559e3f-1b12-419f-bb6e-42937147e24b.htm', 'https://www.cardekho.com/used-car-details/used-Jeep-Compass-2.0-Sport-cars-Ahmedabad_9bf690d2-3c11-4c37-aa21-33c096109371.htm', 'https://www.cardekho.com/used-car-details/used-Renault-Duster-110ps-Diesel-Rxl-cars-Ahmedabad_e1c7b89a-f8ed-41ec-856e-eb8a8ee06464.htm', 'https://www.cardekho.com/used-car-details/used-Bmw-7-Series-730ld-cars-Ahmedabad_46b44f38-0017-4ef2-a09a-d358f9184b1c.htm', 'https://www.cardekho.com/used-car-details/used-Mahindra-Kuv-100-Nxt-G80-K2-Plus-6-Str-cars-Ahmedabad_1531bb61-d24f-4ee9-ba66-cf1ef0ae5681.htm', 'https://www.cardekho.com/used-car-details/used-Kia-Seltos-Htx-Ivt-G-cars-Ahmedabad_5d3a81c1-7564-42e2-8f67-a9d85ba39cf0.htm', 'https://www.cardekho.com/used-car-details/used-Honda-Amaze-S-Cvt-I-vtec-cars-Ahmedabad_76da5c75-6d6a-4f82-a0c1-a5b281e3426e.htm', 'https://www.cardekho.com/used-car-details/used-Honda-Wr-v-Sv-cars-Ahmedabad_fb3d541f-a77a-4615-b428-f9886ca84b03.htm', 'https://www.cardekho.com/used-car-details/used-Audi-A4-2.0-Tdi-177-Bhp-Technology-Edition-cars-Ahmedabad_a569676d-16b4-42bd-ad5b-4af015cb15ef.htm', 'https://www.cardekho.com/used-car-details/used-Honda-Wr-v-I-vtec-Vx-cars-Ahmedabad_705e3ba4-48b6-46f3-ab0b-34b177909666.htm', 'https://www.cardekho.com/used-car-details/used-Hyundai-Venue-Sx-Turbo-cars-Ahmedabad_12727f9e-eab2-4dfb-8697-f66638865682.htm', 'https://www.cardekho.com/used-car-details/used-Jeep-Compass-2.0-Sport-Plus-Bsiv-cars-Ahmedabad_23b34fb2-e203-4aad-848d-2cf18c130df8.htm', 'https://www.cardekho.com/used-car-details/used-Mercedes-benz-E-class-E250-Cdi-Avantgrade-cars-Ahmedabad_e0476711-541a-4605-819d-371a3ca429fe.htm', 'https://www.cardekho.com/used-car-details/used-Maruti-Eeco-Cng-5-Seater-Ac-cars-Ahmedabad_fc17f8fc-0b4f-48f2-ba47-4b7466656fb1.htm', 'https://www.cardekho.com/used-car-details/used-Hyundai-I10-Magna-cars-Ahmedabad_7d597715-ab9e-4cce-9c5b-4043530e8ecb.htm', 'https://www.cardekho.com/used-car-details/used-Toyota-Fortuner-2.8-2wd-At-Bsiv-cars-New-Delhi_14f4fd9e-4225-40fb-9611-a1f3598a8cc1.htm', 'https://www.cardekho.com/used-car-details/used-Toyota-Fortuner-2.8-2wd-At-Bsiv-cars-New-Delhi_e2e67f72-f13b-413f-9af6-0b02478ed249.htm', 'https://www.cardekho.com/used-car-details/used-Honda-Wr-v-I-vtec-S-cars-Ahmedabad_24df372c-f9e4-4a84-bdf6-3dfc91490798.htm', 'https://www.cardekho.com/used-car-details/used-Jeep-Compass-1.4-Limited-cars-Ahmedabad_e4d28c77-3c42-4a8a-bf30-43458023dbbc.htm', 'https://www.cardekho.com/used-car-details/used-Toyota-Innova-Crysta-2.8-Gx-At-Bsiv-cars-Ahmedabad_5133595c-f964-4eda-b474-d8dfe2e0ed4e.htm', 'https://www.cardekho.com/used-car-details/used-Hyundai-Grand-I10-Sportz-cars-Ahmedabad_2d88aa6b-368a-40ec-86b9-aad538a148af.htm', 'https://www.cardekho.com/used-car-details/used-Honda-Amaze-Ex-I-vtech-cars-Ahmedabad_56b88e7b-9e96-4ce6-bb43-e15fa0d9798f.htm', 'https://www.cardekho.com/used-car-details/used-Tata-Tigor-Buzz-Petrol-cars-Ahmedabad_db8c11c9-888b-458a-81f1-eb97b1759ed8.htm', 'https://www.cardekho.com/used-car-details/used-Honda-Amaze-S-I-dtech-cars-Ahmedabad_af012a02-cd36-485a-bd69-967baa18f513.htm', 'https://www.cardekho.com/used-car-details/used-Maruti-Sx4-S-Cross-Alpha-At-cars-Ahmedabad_a303dc44-3456-4452-bb1a-ffb82fd3ec24.htm', 'https://www.cardekho.com/used-car-details/used-Honda-Jazz-1.2-V-At-I-Vtec-cars-Ahmedabad_76d29d06-23af-46bc-99ad-0a09ce1fd02a.htm', 'https://www.cardekho.com/used-car-details/used-Maruti-Xl6-Zeta-cars-Ahmedabad_d2c6db0a-d60d-4fc9-b210-79e96e8bc1c8.htm', 'https://www.cardekho.com/used-car-details/used-Toyota-Corolla-Altis-1.8-Vl-At-cars-Ahmedabad_4b2bc241-598e-44dd-91cf-193d1127d746.htm', 'https://www.cardekho.com/used-car-details/used-Bmw-X1-Sdrive-20d-M-Sport-cars-Ahmedabad_253a49c6-872a-466b-9b7e-1d9bf021b0f0.htm', 'https://www.cardekho.com/used-car-details/used-Hyundai-Grand-I10-Magna-cars-Ahmedabad_275e2697-1abc-4fc9-a0c6-179ec9079d18.htm', 'https://www.cardekho.com/used-car-details/used-Maruti-Alto-800-Vxi-cars-Ahmedabad_830e30ae-32ea-48bc-8662-ff2c18e0523a.htm', 'https://www.cardekho.com/used-car-details/used-Hyundai-Alcazar-Platinum-At-cars-Ahmedabad_9fdec332-0015-482f-b21d-0a24e0285d45.htm', 'https://www.cardekho.com/used-car-details/used-Hyundai-Grand-I10-Magna-cars-Ahmedabad_66d0fd6b-973b-4f39-8e7e-6d9ce5440270.htm', 'https://www.cardekho.com/used-car-details/used-Audi-Q3-2.0-Tdi-cars-Ahmedabad_9f5901fa-d66d-476a-9de7-5c09854e1882.htm', 'https://www.cardekho.com/used-car-details/used-Ford-Freestyle-Titanium-cars-Ahmedabad_974b57e6-1299-48b6-a8e5-a89d20fc82cd.htm', 'https://www.cardekho.com/used-car-details/used-Maruti-Vitara-Brezza-Vxi-cars-Ahmedabad_570d7ae4-274d-4ea7-b541-79e7b4c50fa4.htm', 'https://www.cardekho.com/used-car-details/used-Maruti-Ciaz-1.4-Delta-cars-Ahmedabad_89eb7361-797c-4a70-96fc-32aea13338a6.htm', 'https://www.cardekho.com/used-car-details/used-Maruti-Swift-Dzire-Amt-Vxi-cars-Ahmedabad_1934d8f0-af9e-4994-b77a-23fb6abde519.htm', 'https://www.cardekho.com/used-car-details/used-Tata-Tiago-1.2-Revotron-Xt-cars-Ahmedabad_d633b449-1d37-4fba-a547-77c4ca57250f.htm', 'https://www.cardekho.com/used-car-details/used-Hyundai-Creta-1.6-Vtvt-Base-cars-Ahmedabad_de810d90-39db-4300-aef4-403fb1169c47.htm', 'https://www.cardekho.com/used-car-details/used-Audi-Q3-35-Tdi-Quattro-Premium-Plus-cars-New-Delhi_a3190d30-a8a2-4199-8668-4501842ef176.htm', 'https://www.cardekho.com/used-car-details/used-Ford-Endeavour-3.2-Trend-At-4x4-cars-New-Delhi_2a178e30-d2de-4cc6-9420-100e56bf2350.htm', 'https://www.cardekho.com/used-car-details/used-Volvo-S60-D4-Summum-cars-Ahmedabad_e4d40f3e-69c3-4b8e-91db-7b986691397f.htm', 'https://www.cardekho.com/used-car-details/used-Bmw-5-Series-523i-cars-Ahmedabad_e19b24e2-24d2-4984-91e6-8d45defe42d3.htm', 'https://www.cardekho.com/used-car-details/used-Mercedes-benz-E-class-E250-Cdi-Avantgrade-cars-Ahmedabad_5864c743-5417-4997-b0e0-33b832d73fe4.htm', 'https://www.cardekho.com/used-car-details/used-Mercedes-benz-E-class-E350-Cdi-Avantgrade-cars-Ahmedabad_4f2bf420-1775-4dc9-b0c0-54fba2ed476b.htm', 'https://www.cardekho.com/used-car-details/used-Bmw-X1-Sdrive-20d-Xline-cars-Ahmedabad_017d0268-90ca-414e-bc35-37a7bc3983c6.htm', 'https://www.cardekho.com/used-car-details/used-Jeep-Compass-1.4-Limited-cars-Ahmedabad_90a7f5f0-8cb9-4a15-984d-bf5fc84c74b8.htm', 'https://www.cardekho.com/used-car-details/used-Mg-Astor-Savvy-Turbo-At-cars-Ahmedabad_4b45a418-29f5-4888-8c30-033057aa1baf.htm', 'https://www.cardekho.com/used-car-details/used-Mg-Hector-Sharp-Dct-cars-Ahmedabad_5991fe3d-d70e-4d3a-85c3-03580247493e.htm', 'https://www.cardekho.com/used-car-details/used-Hyundai-Alcazar-Signature-cars-Ahmedabad_c79ed73b-1563-40bb-a211-e179f480ed4a.htm', 'https://www.cardekho.com/used-car-details/used-Maruti-Xl6-Zeta-cars-Ahmedabad_fab99675-f490-41c3-96cc-223a797b385e.htm', 'https://www.cardekho.com/used-car-details/used-Ford-Ecosport-1.5-Diesel-Titanium-Bsiv-cars-Ahmedabad_4dcd1f7f-4d32-46a1-afb2-438cb7ff0ede.htm', 'https://www.cardekho.com/used-car-details/used-Tata-Indica-Tdi-Ls-cars-Ahmedabad_5d65e26e-e447-4a55-ab3d-f25fb0319cf0.htm', 'https://www.cardekho.com/used-car-details/used-Honda-Brio-S-Mt-cars-Ahmedabad_1e14778d-6485-4568-92c9-f0bae77a3dff.htm', 'https://www.cardekho.com/used-car-details/used-Mercedes-benz-C-class-C-220-Cdi-Avantgarde-cars-Ahmedabad_7481bb45-0b93-4f78-a2a8-5bd3552969e8.htm', 'https://www.cardekho.com/used-car-details/used-Bmw-5-Series-520d-Luxury-Line-cars-Ahmedabad_6967460b-7d7e-43b7-aa92-37a25607b3e4.htm', 'https://www.cardekho.com/used-car-details/used-Bmw-5-Series-520d-Luxury-Line-cars-Ahmedabad_10dae03f-0ae7-4350-aed0-8482c7fa258c.htm', 'https://www.cardekho.com/used-car-details/used-Hyundai-Santro-Xing-Gl-cars-Ahmedabad_fff75068-bb14-4d91-a948-e1c30d70e8b4.htm', 'https://www.cardekho.com/used-car-details/used-Mahindra-Xuv500-W10-1.99-Mhawk-cars-Ahmedabad_94e11f1e-9960-45ef-8a32-5e5104079406.htm', 'https://www.cardekho.com/used-car-details/used-Hyundai-Verna-1.6-Crdi-S-Option-cars-Ahmedabad_44761b2b-09f5-4db8-8567-94aa4bb29bf8.htm', 'https://www.cardekho.com/used-car-details/used-Mahindra-Tuv-300-T10-Amt-cars-Ahmedabad_387b79ed-aaf5-4fbd-9b4e-cbaa9155213b.htm', 'https://www.cardekho.com/used-car-details/used-Honda-Cr-v-2.0-2wd-cars-Ahmedabad_071dedc6-bed7-4f1c-a53a-af9c976caf35.htm', 'https://www.cardekho.com/used-car-details/used-Honda-Cr-v-2.0-At-cars-Ahmedabad_4012e1a9-a1d8-4bb2-b5d4-62c9bfa2f503.htm', 'https://www.cardekho.com/used-car-details/used-Mercedes-benz-E-class-Exclusive-E-220d-cars-Ahmedabad_32099a0d-3342-46b9-a369-fda30ee3bc5c.htm', 'https://www.cardekho.com/used-car-details/used-Maruti-Vitara-Brezza-Zdi-cars-Ahmedabad_5fd6aa49-896d-4232-8e8c-6a01605943b5.htm', 'https://www.cardekho.com/used-car-details/used-Hyundai-Grand-I10-1.2-Kappa-Magna-Bsiv-cars-Ahmedabad_a68255f4-2394-48d1-9cd9-1ff14775df36.htm', 'https://www.cardekho.com/used-car-details/used-Tata-Tiago-1.2-Revotron-Xt-cars-Ahmedabad_e29f4aa4-8695-4a9c-b0b0-db2b933487e4.htm', 'https://www.cardekho.com/used-car-details/used-Honda-City-I-Vtec-V-cars-Ahmedabad_177d62b5-8474-4bc7-a886-9912d1e45681.htm', 'https://www.cardekho.com/used-car-details/used-Volkswagen-Polo-1.2-Mpi-Comfortline-cars-Ahmedabad_70772ec4-8d85-4ada-9c76-baa2f4a1c758.htm', 'https://www.cardekho.com/used-car-details/used-Datsun-Redigo-T-Option-cars-Ahmedabad_ff89655e-c185-40bc-8a17-a0172c5f721f.htm', 'https://www.cardekho.com/used-car-details/used-Volkswagen-Vento-1.2-Tsi-Highline-Plus-At-cars-Ahmedabad_d52e9a96-81fa-4d41-838a-63dba12ad14c.htm', 'https://www.cardekho.com/used-car-details/used-Honda-Wr-v-I-vtec-Vx-cars-Ahmedabad_075ba46b-2c08-4d94-a6a7-ccdf58ddbd0b.htm', 'https://www.cardekho.com/used-car-details/used-Nissan-Micra-Xl-Option-Cvt-cars-Ahmedabad_41adaf46-fccd-43e7-adec-19f7a81dd3a8.htm', 'https://www.cardekho.com/used-car-details/used-Maruti-Sx4-S-Cross-Alpha-At-cars-Ahmedabad_f49ffe4f-e5f6-49ae-bc47-1c2292f2178e.htm', 'https://www.cardekho.com/used-car-details/used-Honda-City-I-Vtec-Cvt-Sv-cars-Ahmedabad_142f0c74-964e-4265-b0cb-60535647e170.htm', 'https://www.cardekho.com/used-car-details/used-Hyundai-Creta-1.6-Sx-Option-cars-Ahmedabad_b0de0a8b-015e-4c55-94ee-4fa89187f1ce.htm', 'https://www.cardekho.com/used-car-details/used-Honda-Brio-S-Mt-cars-Ahmedabad_8967c7cf-9ea6-417a-af13-242ef598bf34.htm', 'https://www.cardekho.com/used-car-details/used-Honda-Amaze-S-Petrol-cars-Ahmedabad_68f51d92-ffd1-48b5-8d99-a90723e6f6a4.htm', 'https://www.cardekho.com/used-car-details/used-Audi-A3-35-Tdi-Premium-Plus-cars-Ahmedabad_7ca4bcd8-022f-47f6-8a24-063a6dc7a254.htm', 'https://www.cardekho.com/used-car-details/used-Mahindra-Thar-Lx-4-str-Hard-Top-cars-Ahmedabad_8291f0c4-8ac4-4de7-9200-c7f56120cab1.htm', 'https://www.cardekho.com/used-car-details/used-Jeep-Compass-1.4-Limited-Plus-Bsiv-cars-New-Delhi_173967fc-ad91-4a97-bc35-880241eb595a.htm', 'https://www.cardekho.com/used-car-details/used-Maruti-Sx4-Vxi-Bsiii-cars-Ahmedabad_f5a2bccb-2f3c-4356-a7f3-2f780d7c8b9d.htm']\n"
     ]
    }
   ],
   "source": [
    "print(ahmedabad_links_list)"
   ]
  },
  {
   "cell_type": "code",
   "execution_count": 7,
   "id": "cc48f96a",
   "metadata": {},
   "outputs": [
    {
     "name": "stdout",
     "output_type": "stream",
     "text": [
      "520\n"
     ]
    }
   ],
   "source": [
    "print(len(ahmedabad_links_list))"
   ]
  },
  {
   "cell_type": "code",
   "execution_count": 8,
   "id": "16d88a72",
   "metadata": {},
   "outputs": [
    {
     "ename": "SyntaxError",
     "evalue": "invalid syntax (1732721736.py, line 4)",
     "output_type": "error",
     "traceback": [
      "\u001b[1;36m  Input \u001b[1;32mIn [8]\u001b[1;36m\u001b[0m\n\u001b[1;33m    for i, ahmedabad_links in enumerate(WebDriverWait(driver, 30).until(EC.visibility_of_all_elements_located((By.XPATH, \"//div[@class='app-content']//div//div//div//div//div[@class='gsc_col-md-4 gsc_col-sm-6 gsc_col-xs-12  cardnew']//div//div[@class='holder hover']//div//div//a\"))))\u001b[0m\n\u001b[1;37m                                                                                                                                                                                                                                                                                            ^\u001b[0m\n\u001b[1;31mSyntaxError\u001b[0m\u001b[1;31m:\u001b[0m invalid syntax\n"
     ]
    }
   ],
   "source": [
    "#ahmedabad_links = WebDriverWait(driver, 30).until(EC.visibility_of_all_elements_located((By.XPATH, \"//div[@class='app-content']//div//div//div//div//div[@class='gsc_col-md-4 gsc_col-sm-6 gsc_col-xs-12  cardnew']//div//div[@class='holder hover']//div//div//a\")))\n",
    "\n",
    "for r in range(1):\n",
    "    for i, ahmedabad_links in enumerate(WebDriverWait(driver, 30).until(EC.visibility_of_all_elements_located((By.XPATH, \"//div[@class='app-content']//div//div//div//div//div[@class='gsc_col-md-4 gsc_col-sm-6 gsc_col-xs-12  cardnew']//div//div[@class='holder hover']//div//div//a\"))))\n",
    "        if i>=500:\n",
    "            break\n",
    "        ahmedabad_links_list.append(i.get_attribute(\"href\"))"
   ]
  },
  {
   "cell_type": "code",
   "execution_count": 16,
   "id": "5da64286",
   "metadata": {},
   "outputs": [
    {
     "data": {
      "text/plain": [
       "80"
      ]
     },
     "execution_count": 16,
     "metadata": {},
     "output_type": "execute_result"
    }
   ],
   "source": [
    "len(ahmedabad_links_list)"
   ]
  },
  {
   "cell_type": "code",
   "execution_count": 17,
   "id": "da95ebbf",
   "metadata": {},
   "outputs": [
    {
     "data": {
      "text/plain": [
       "['https://www.cardekho.com/buy-used-car-details/used-Honda-Jazz-V-Cvt-cars-Ahmedabad_c335050b-dda0-45a6-a135-54b26b902f88.htm',\n",
       " 'https://www.cardekho.com/buy-used-car-details/used-Mahindra-Marazzo-M8-cars-Ahmedabad_375eb1f4-0b51-46d8-ac9b-728295dfe473.htm',\n",
       " 'https://www.cardekho.com/buy-used-car-details/used-Hyundai-Grand-I10-Sportz-cars-Ahmedabad_32387e8f-830e-434f-8ebf-dce2889278f7.htm',\n",
       " 'https://www.cardekho.com/buy-used-car-details/used-Jeep-Compass-1.4-Limited-Plus-Bsiv-cars-Ahmedabad_3627a08e-1169-4fde-95c1-76bc20139c48.htm',\n",
       " 'https://www.cardekho.com/buy-used-car-details/used-Honda-City-I-Vtec-V-cars-Ahmedabad_b5ec694d-6016-4c14-9f25-faefec1b2bb9.htm',\n",
       " 'https://www.cardekho.com/buy-used-car-details/used-Jeep-Compass-2.0-Longitude-cars-Ahmedabad_582b0046-723c-4282-bf7e-66a07546838a.htm',\n",
       " 'https://www.cardekho.com/buy-used-car-details/used-Hyundai-Verna-Vtvt-1.6-Sx-Option-cars-Ahmedabad_e38916c1-8a85-4b3f-9d5f-3bce6d9b6a38.htm',\n",
       " 'https://www.cardekho.com/buy-used-car-details/used-Honda-Jazz-1.2-V-At-I-Vtec-cars-Ahmedabad_dec47765-af4e-43e6-8cab-4695c3b10b43.htm',\n",
       " 'https://www.cardekho.com/buy-used-car-details/used-Hyundai-Grand-I10-Nios-Sportz-cars-Ahmedabad_f90ba0f1-a76d-4fe6-bec4-e0402072f8be.htm',\n",
       " 'https://www.cardekho.com/buy-used-car-details/used-Honda-City-V-Mt-cars-Ahmedabad_8a3ef5f4-820c-4994-b188-2dd827211849.htm',\n",
       " 'https://www.cardekho.com/buy-used-car-details/used-Hyundai-Verna-1.6-Vtvt-At-Sx-cars-Ahmedabad_fc868672-9e82-4bf9-a672-aa67c2e2c45d.htm',\n",
       " 'https://www.cardekho.com/buy-used-car-details/used-Honda-Jazz-V-Cvt-cars-Ahmedabad_13b9749d-c6e8-421c-a532-8d55aef2b286.htm',\n",
       " 'https://www.cardekho.com/buy-used-car-details/used-Jeep-Compass-1.4-Limited-cars-Ahmedabad_9a8ddb31-be01-477b-9860-9dab34d1a5ec.htm',\n",
       " 'https://www.cardekho.com/buy-used-car-details/used-Honda-City-I-vtec-Cvt-Zx-cars-Ahmedabad_6f1d4020-216e-4ba5-9b01-288d03b0e309.htm',\n",
       " 'https://www.cardekho.com/used-car-details/used-Mercedes-benz-Amg-Glc-43-4matic-Coupe-cars-New-Delhi_c26f11dc-4a03-4083-ae30-929a738c5181.htm',\n",
       " 'https://www.cardekho.com/used-car-details/used-Mercedes-benz-Amg-Glc-43-4matic-Coupe-cars-New-Delhi_742c6852-e46e-4fe9-8a86-c693a6054c8f.htm',\n",
       " 'https://www.cardekho.com/used-car-details/used-Mercedes-benz-Gls-400d-4matic-cars-New-Delhi_3edfc643-c134-4c30-99aa-3b2fab4c6441.htm',\n",
       " 'https://www.cardekho.com/used-car-details/used-Mercedes-benz-Gls-400d-4matic-cars-New-Delhi_e92cbc17-fbe0-4b7c-b3a3-2d29c343b372.htm',\n",
       " 'https://www.cardekho.com/used-car-details/used-Mercedes-benz-E-class-Expression-E-220-D-Bsiv-cars-New-Delhi_ff6a4927-c814-415f-b39d-7822f17dc233.htm',\n",
       " 'https://www.cardekho.com/used-car-details/used-Bmw-X5-Xdrive-30d-Design-Pure-Experience-5-Seater-cars-New-Delhi_56911d12-a09a-4565-8995-a6f8aa1675e5.htm',\n",
       " 'https://www.cardekho.com/buy-used-car-details/used-Datsun-Redigo-T-cars-Ahmedabad_4b1c924b-abef-4705-b3e2-d831ad461e59.htm',\n",
       " 'https://www.cardekho.com/buy-used-car-details/used-Honda-Jazz-1.2-V-At-I-Vtec-cars-Ahmedabad_0ab118cc-07ec-4de6-920b-533c9b2b2b74.htm',\n",
       " 'https://www.cardekho.com/buy-used-car-details/used-Maruti-Ciaz-Vdi-Plus-Shvs-cars-Ahmedabad_334af32f-3703-4948-8a19-8c6614a82df5.htm',\n",
       " 'https://www.cardekho.com/buy-used-car-details/used-Honda-Amaze-S-I-vtech-cars-Ahmedabad_afdae9a6-24fa-4b8c-b1aa-3b4702d499bb.htm',\n",
       " 'https://www.cardekho.com/buy-used-car-details/used-Mahindra-Xuv500-W11-Bsiv-cars-Ahmedabad_25f45bc7-f7d0-4668-9300-3eaad1f288f5.htm',\n",
       " 'https://www.cardekho.com/buy-used-car-details/used-Toyota-Camry-2.5-G-cars-Ahmedabad_3f053138-edae-4362-bdd6-c766879697e5.htm',\n",
       " 'https://www.cardekho.com/buy-used-car-details/used-Hyundai-Verna-1.6-Vtvt-S-Option-cars-Ahmedabad_29b0c829-a0a8-4ba6-8b0a-42bc1b2038e8.htm',\n",
       " 'https://www.cardekho.com/buy-used-car-details/used-Honda-Brio-S-Mt-cars-Ahmedabad_a7382e8e-d9f5-4532-b8e9-510146aa8937.htm',\n",
       " 'https://www.cardekho.com/buy-used-car-details/used-Maruti-Ignis-1.2-Amt-Zeta-Bsiv-cars-Ahmedabad_8ea863c9-b05e-4030-8fef-49707583815a.htm',\n",
       " 'https://www.cardekho.com/buy-used-car-details/used-Renault-Duster-Petrol-Rxs-Cvt-cars-Ahmedabad_58862b4c-8cd0-43d2-9336-7e6a50c2ad51.htm',\n",
       " 'https://www.cardekho.com/buy-used-car-details/used-Mahindra-Xuv500-W8-Fwd-cars-Ahmedabad_bc6bfb1d-9085-4f57-9998-b4a45131d456.htm',\n",
       " 'https://www.cardekho.com/buy-used-car-details/used-Hyundai-Creta-1.6-Crdi-Sx-cars-Ahmedabad_6f013680-b913-494f-a85c-5e1dc843d547.htm',\n",
       " 'https://www.cardekho.com/buy-used-car-details/used-Datsun-Redigo-T-Option-cars-Ahmedabad_1d09edb6-7da9-4814-be0b-5535fc2fc2a6.htm',\n",
       " 'https://www.cardekho.com/buy-used-car-details/used-Renault-Duster-Rxz-Turbo-Cvt-cars-Ahmedabad_32472618-6773-4d9f-915b-9d72e8e873dd.htm',\n",
       " 'https://www.cardekho.com/buy-used-car-details/used-Hyundai-I20-Asta-1.4-Crdi-cars-Ahmedabad_813ae806-97b5-48a4-859c-452b58ecb58f.htm',\n",
       " 'https://www.cardekho.com/buy-used-car-details/used-Maruti-Alto-K10-Vxi-cars-Ahmedabad_c3b03848-6856-4cf4-bfb7-e35975817438.htm',\n",
       " 'https://www.cardekho.com/buy-used-car-details/used-Hyundai-Grand-I10-1.2-Kappa-Sportz-Bsiv-cars-Ahmedabad_8366e3ed-26fc-4bb5-b6ab-c85c52106d0d.htm',\n",
       " 'https://www.cardekho.com/buy-used-car-details/used-Hyundai-Verna-Vtvt-1.6-Sx-cars-Ahmedabad_41aea13b-4d27-4d21-9fc0-1fb8be6656f7.htm',\n",
       " 'https://www.cardekho.com/buy-used-car-details/used-Honda-Jazz-Vx-Cvt-cars-Ahmedabad_0003f6ae-f5a5-4b61-aa0c-39aad1febbe7.htm',\n",
       " 'https://www.cardekho.com/buy-used-car-details/used-Kia-Seltos-Gtx-Plus-cars-Ahmedabad_2367fc6c-6622-4765-86ee-df618e0030c5.htm',\n",
       " 'https://www.cardekho.com/buy-used-car-details/used-Volkswagen-Vento-1.2-Tsi-Highline-At-cars-Ahmedabad_968d3fc5-f090-48b4-98ab-4b8710e22eea.htm',\n",
       " 'https://www.cardekho.com/buy-used-car-details/used-Hyundai-Creta-1.6-Vtvt-Sx-Plus-cars-Ahmedabad_90dd23f2-9208-48db-8220-9c5e0a1b76bb.htm',\n",
       " 'https://www.cardekho.com/buy-used-car-details/used-Hyundai-Grand-I10-1.2-Kappa-Magna-Bsiv-cars-Ahmedabad_1210cc20-3a53-4c62-8cb5-d3823aeefcb3.htm',\n",
       " 'https://www.cardekho.com/buy-used-car-details/used-Maruti-Ciaz-Zxi-cars-Ahmedabad_36a1232c-a821-4a03-97a6-4904188a28db.htm',\n",
       " 'https://www.cardekho.com/buy-used-car-details/used-Maruti-Ciaz-Vxi-Plus-cars-Ahmedabad_c29845b1-ea80-4219-ad95-931fcc3fb60c.htm',\n",
       " 'https://www.cardekho.com/buy-used-car-details/used-Hyundai-Tucson-Gls-At-cars-Ahmedabad_e5fa4eb8-57b9-4850-9a6c-ae68541bab06.htm',\n",
       " 'https://www.cardekho.com/buy-used-car-details/used-Honda-Amaze-S-I-vtech-cars-Ahmedabad_e5867c70-f728-498a-b5ce-d47152b542b1.htm',\n",
       " 'https://www.cardekho.com/buy-used-car-details/used-Maruti-Alto-800-Lxi-cars-Ahmedabad_932ce319-af9d-47e4-9748-f43f04ccf561.htm',\n",
       " 'https://www.cardekho.com/buy-used-car-details/used-Maruti-Wagon-R-Vxi-Amt-1.2-cars-Ahmedabad_57c5ef09-6bb9-43fa-a9c1-63f7f4a6298c.htm',\n",
       " 'https://www.cardekho.com/buy-used-car-details/used-Tata-Tiago-Xz-Plus-Diesel-cars-Ahmedabad_dfcf0f79-5ff8-4f19-8846-35835d48caa0.htm',\n",
       " 'https://www.cardekho.com/buy-used-car-details/used-Nissan-Magnite-Turbo-Xv-Premium-cars-Ahmedabad_1911f042-b102-4158-9716-ee2944f6cb11.htm',\n",
       " 'https://www.cardekho.com/buy-used-car-details/used-Maruti-Baleno-1.2-Delta-cars-Ahmedabad_95559424-c871-43d8-a509-06b2fc951011.htm',\n",
       " 'https://www.cardekho.com/buy-used-car-details/used-Mahindra-Xuv300-W6-cars-Ahmedabad_6df84b1f-7c4f-4ecb-8efe-ac832b0e8441.htm',\n",
       " 'https://www.cardekho.com/buy-used-car-details/used-Maruti-Ciaz-1.4-Delta-cars-Ahmedabad_22930b6d-9974-468d-b3fb-f0a43328c6fb.htm',\n",
       " 'https://www.cardekho.com/buy-used-car-details/used-Volkswagen-Vento-1.2-Tsi-Highline-Plus-At-cars-Ahmedabad_c7fae0f2-a981-452c-b0c1-d45412f71e97.htm',\n",
       " 'https://www.cardekho.com/buy-used-car-details/used-Renault-Duster-Petrol-Rxs-Cvt-cars-Ahmedabad_3e5ace44-6ed9-45eb-87a5-ea9060aecc02.htm',\n",
       " 'https://www.cardekho.com/buy-used-car-details/used-Maruti-Wagon-R-Lxi-Bs-Iv-cars-Ahmedabad_0afaf42a-3815-4de7-9215-8362e46ce62e.htm',\n",
       " 'https://www.cardekho.com/buy-used-car-details/used-Renault-Kwid-Rxl-cars-Ahmedabad_c852ab20-a6ba-49be-b947-0c6afb75b159.htm',\n",
       " 'https://www.cardekho.com/buy-used-car-details/used-Honda-Amaze-V-Petrol-Bsiv-cars-Ahmedabad_477348bb-d35a-48ba-b7b0-2ef3ff3c9c94.htm',\n",
       " 'https://www.cardekho.com/buy-used-car-details/used-Hyundai-I20-Sportz-1.2-cars-Ahmedabad_24881579-ded0-45c7-8c3a-b94580501fb6.htm',\n",
       " 'https://www.cardekho.com/buy-used-car-details/used-Maruti-Swift-Vxi-cars-Ahmedabad_cda3d93c-4348-45d1-b734-e5488637136d.htm',\n",
       " 'https://www.cardekho.com/buy-used-car-details/used-Maruti-Wagon-R-Lxi-Bs-Iv-cars-Ahmedabad_ba95a554-84bd-442a-a0a7-ad3376c3df95.htm',\n",
       " 'https://www.cardekho.com/buy-used-car-details/used-Maruti-Celerio-Zxi-cars-Ahmedabad_10007c59-9f36-46fa-8e52-b07656091401.htm',\n",
       " 'https://www.cardekho.com/buy-used-car-details/used-Maruti-Swift-Vxi-cars-Ahmedabad_28e44f14-00dc-4a96-9a3b-5ca38b2dde34.htm',\n",
       " 'https://www.cardekho.com/buy-used-car-details/used-Renault-Kwid-1.0-Rxt-Opt-Bsiv-cars-Ahmedabad_0a2129bf-f334-45e2-b910-96b2f3f5441b.htm',\n",
       " 'https://www.cardekho.com/buy-used-car-details/used-Maruti-Swift-Dzire-Vxi-1.2-cars-Ahmedabad_48bf1284-4e2e-4112-b065-8d8210e207f0.htm',\n",
       " 'https://www.cardekho.com/buy-used-car-details/used-Hyundai-I10-Magna-cars-Ahmedabad_3426147f-74c8-431a-93f5-2975a93cdfeb.htm',\n",
       " 'https://www.cardekho.com/buy-used-car-details/used-Maruti-Swift-Dzire-Amt-Vxi-cars-Ahmedabad_dfb9bccc-2154-4a13-9296-9053a55c2050.htm',\n",
       " 'https://www.cardekho.com/buy-used-car-details/used-Hyundai-I20-1.2-Asta-cars-Ahmedabad_c92c2874-0db6-4a4c-8c0e-18ec00943ddb.htm',\n",
       " 'https://www.cardekho.com/buy-used-car-details/used-Honda-City-Zx-Cvt-cars-Ahmedabad_38d158d8-9fb2-4418-bd76-ea80c4658363.htm',\n",
       " 'https://www.cardekho.com/buy-used-car-details/used-Mahindra-Kuv-100-Nxt-D75-K2-cars-Ahmedabad_7f310f00-8c71-4504-8b9e-699f79e90935.htm',\n",
       " 'https://www.cardekho.com/buy-used-car-details/used-Renault-Kwid-1.0-Rxt-Opt-Bsiv-cars-Ahmedabad_92432162-64f6-465f-b73d-6a02fe9ead4a.htm',\n",
       " 'https://www.cardekho.com/buy-used-car-details/used-Maruti-Alto-800-Lxi-cars-Ahmedabad_8abbf991-21c4-44d6-bdb8-2bb3f757e258.htm',\n",
       " 'https://www.cardekho.com/buy-used-car-details/used-Honda-City-I-Dtec-V-cars-Ahmedabad_5ff6fd7b-6982-4d7c-b535-dc0221d602c6.htm',\n",
       " 'https://www.cardekho.com/buy-used-car-details/used-Renault-Kwid-Rxl-cars-Ahmedabad_60f2f435-ed2f-4a5b-a382-87ba788a8bc7.htm',\n",
       " 'https://www.cardekho.com/buy-used-car-details/used-Renault-Kwid-Rxl-Bsvi-cars-Ahmedabad_7ed7bfe7-b3c0-446e-a9b3-7a4baedf9183.htm',\n",
       " 'https://www.cardekho.com/buy-used-car-details/used-Maruti-Baleno-1.2-Alpha-cars-Ahmedabad_31684dec-0513-449a-b821-97895e1b2295.htm',\n",
       " 'https://www.cardekho.com/buy-used-car-details/used-Hyundai-Verna-Sx-Opt-Turbo-cars-Ahmedabad_ed792b72-8c4f-4892-92fb-e777904f2616.htm',\n",
       " 'https://www.cardekho.com/buy-used-car-details/used-Datsun-Go-T-Bsiv-cars-Ahmedabad_92bf8e7b-60d3-4e87-bff5-3ed9e6d5c778.htm',\n",
       " 'https://www.cardekho.com/buy-used-car-details/used-Honda-City-I-Vtec-Cvt-Vx-cars-Ahmedabad_6bfe3b88-874c-45f9-95e2-b4fdbac92431.htm']"
      ]
     },
     "execution_count": 17,
     "metadata": {},
     "output_type": "execute_result"
    }
   ],
   "source": [
    "ahmedabad_links_list"
   ]
  },
  {
   "cell_type": "code",
   "execution_count": null,
   "id": "bb629bb9",
   "metadata": {},
   "outputs": [],
   "source": []
  },
  {
   "cell_type": "code",
   "execution_count": null,
   "id": "38b80aba",
   "metadata": {},
   "outputs": [],
   "source": []
  },
  {
   "cell_type": "code",
   "execution_count": null,
   "id": "cbf091da",
   "metadata": {
    "scrolled": true
   },
   "outputs": [],
   "source": [
    "car_features_list = []\n",
    "\n",
    "price = WebDriverWait(driver, 15).until(EC.visibility_of_all_elements_located((By.XPATH, \"//div[@class='s-result-item s-asin sg-col-0-of-12 sg-col-16-of-20 AdHolder sg-col s-widget-spacing-small sg-col-12-of-16']//div//div//div//div//div//div//div//div[@class='sg-col sg-col-4-of-12 sg-col-8-of-16 sg-col-12-of-20 s-list-col-right']//div//div//div//h2//a[@class='a-link-normal s-underline-text s-underline-link-text s-link-style a-text-normal']\")))\n",
    "\n",
    "for i in price:\n",
    "    try:\n",
    "        #product_links = WebDriverWait(driver, 10).until(EC.visibility_of_all_elements_located((By.XPATH, \"//div[@class='s-result-item s-asin sg-col-0-of-12 sg-col-16-of-20 AdHolder sg-col s-widget-spacing-small sg-col-12-of-16']//div//div//div//div//div//div//div//div[@class='sg-col sg-col-4-of-12 sg-col-8-of-16 sg-col-12-of-20 s-list-col-right']//div//div//div//h2//a[@class='a-link-normal s-underline-text s-underline-link-text s-link-style a-text-normal']\")))\n",
    "        car_features_list.append(i.get_attribute(\"href\"))\n",
    "    except TimeoutExecption:\n",
    "        print(\"Done\")"
   ]
  },
  {
   "cell_type": "code",
   "execution_count": null,
   "id": "91160bb6",
   "metadata": {},
   "outputs": [],
   "source": [
    "for link in product_links_list1:\n",
    "    driver = webdriver.Chrome(\"C:/Users/Usuario/Downloads/chromedriver_win32/chromedriver.exe\", options=opts)\n",
    "    driver.maximize_window()\n",
    "    driver.get(link)\n",
    "    # Click cookies popup\n",
    "    #WebDriverWait(driver,30).until(EC.element_to_be_clickable((By.LINK_TEXT,\"Continuer sans accepter\"))).c\n",
    "    #print(\"Processing\")\n",
    "    #brand_name = WebDriverWait(driver, 10).until(EC.visibility_of_all_elements_located((By.XPATH, \"//div[@class='pc en_IN']//div[@class='a-container']//div[@class='centerColAlign centerColAlign-bbcxoverride']//div//div//h1[@class='a-size-large a-spacing-none']//span[@class='a-size-large product-title-word-break']\"))).text\n",
    "    #print(brand_name)\n",
    "    #brand_name = WebDriverWait(driver, 10).until(EC.visibility_of_all_elements_located((By.XPATH, \"//div[@class='pc en_IN']//div[@class='a-container']//div[@class='centerColAlign centerColAlign-bbcxoverride']//div//div//h1[@class='a-size-large a-spacing-none']//span[@class='a-size-large product-title-word-break']\")))\n",
    "    #price = WebDriverWait(driver, 10).until(EC.visibility_of_all_elements_located((By.XPATH, \"//div[@class='pc en_IN']//div[@class='a-container']//div[@class='centerColAlign centerColAlign-bbcxoverride']//div[@class='celwidget']//div//span[@class='a-price aok-align-center reinventPricePriceToPayMargin priceToPay']\"))).text\n",
    "    try:\n",
    "        brand_name = WebDriverWait(driver, 10).until(EC.visibility_of_element_located((By.XPATH, \"//div[@class='pc en_IN']//div[@class='a-container']//div[@class='centerColAlign centerColAlign-bbcxoverride']//div//div//h1[@class='a-size-large a-spacing-none']//span[@class='a-size-large product-title-word-break']\"))).text\n",
    "        #print(brand_name)\n",
    "        #brand_name = WebDriverWait(driver, 10).until(EC.visibility_of_all_elements_located((By.XPATH, \"//div[@class='pc en_IN']//div[@class='a-container']//div[@class='centerColAlign centerColAlign-bbcxoverride']//div//div//h1[@class='a-size-large a-spacing-none']//span[@class='a-size-large product-title-word-break']\").text))\n",
    "        price = WebDriverWait(driver, 10).until(EC.visibility_of_element_located((By.XPATH, \"//div[@class='pc en_IN']//div[@class='a-container']//div[@class='centerColAlign centerColAlign-bbcxoverride']//div[@class='celwidget']//div//span[@class='a-price aok-align-center reinventPricePriceToPayMargin priceToPay']\"))).text\n",
    "        #print(brand_name)\n",
    "        #return_exchange = \n",
    "        #expected_delivery = \n",
    "        #availabilty =\n",
    "        #product_url = link\n",
    "    #product = {\n",
    "    #        'brand_name': brand_name,\n",
    "    #        'price': price\n",
    "    #        }\n",
    "        \n",
    "    #laptop_list.append(product)\n",
    "    #print(\"Saving: \", product['brand_name', 'price'])\n",
    "        data[\"brand_name\"].append(brand_name)\n",
    "        data[\"price\"].append(price)  \n",
    "    \n",
    "    \n",
    "    except TimeoutException: \n",
    "        continue\n",
    "    driver.quit()\n",
    "    \n",
    "#df = pd.DataFrame.from_dict(data)\n",
    "#print(df)\n",
    "#df.to_csv(\"data.csv\")"
   ]
  },
  {
   "cell_type": "code",
   "execution_count": 8,
   "id": "b27713a0",
   "metadata": {},
   "outputs": [
    {
     "ename": "AttributeError",
     "evalue": "'list' object has no attribute 'text'",
     "output_type": "error",
     "traceback": [
      "\u001b[1;31m---------------------------------------------------------------------------\u001b[0m",
      "\u001b[1;31mAttributeError\u001b[0m                            Traceback (most recent call last)",
      "Input \u001b[1;32mIn [8]\u001b[0m, in \u001b[0;36m<cell line: 9>\u001b[1;34m()\u001b[0m\n\u001b[0;32m      9\u001b[0m \u001b[38;5;28;01mfor\u001b[39;00m link \u001b[38;5;129;01min\u001b[39;00m links:\n\u001b[0;32m     10\u001b[0m     driver\u001b[38;5;241m.\u001b[39mget(link)\n\u001b[1;32m---> 11\u001b[0m     price \u001b[38;5;241m=\u001b[39m \u001b[43mWebDriverWait\u001b[49m\u001b[43m(\u001b[49m\u001b[43mdriver\u001b[49m\u001b[43m,\u001b[49m\u001b[43m \u001b[49m\u001b[38;5;241;43m10\u001b[39;49m\u001b[43m)\u001b[49m\u001b[38;5;241;43m.\u001b[39;49m\u001b[43muntil\u001b[49m\u001b[43m(\u001b[49m\u001b[43mEC\u001b[49m\u001b[38;5;241;43m.\u001b[39;49m\u001b[43mvisibility_of_all_elements_located\u001b[49m\u001b[43m(\u001b[49m\u001b[43m(\u001b[49m\u001b[43mBy\u001b[49m\u001b[38;5;241;43m.\u001b[39;49m\u001b[43mXPATH\u001b[49m\u001b[43m,\u001b[49m\u001b[43m \u001b[49m\u001b[38;5;124;43m\"\u001b[39;49m\u001b[38;5;124;43m//div[@class=\u001b[39;49m\u001b[38;5;124;43m'\u001b[39;49m\u001b[38;5;124;43mapp-content\u001b[39;49m\u001b[38;5;124;43m'\u001b[39;49m\u001b[38;5;124;43m]//div//div//div//div//div[@class=\u001b[39;49m\u001b[38;5;124;43m'\u001b[39;49m\u001b[38;5;124;43mgsc_col-md-4 gsc_col-sm-6 gsc_col-xs-12  cardnew\u001b[39;49m\u001b[38;5;124;43m'\u001b[39;49m\u001b[38;5;124;43m]//div//div[@class=\u001b[39;49m\u001b[38;5;124;43m'\u001b[39;49m\u001b[38;5;124;43mholder hover\u001b[39;49m\u001b[38;5;124;43m'\u001b[39;49m\u001b[38;5;124;43m]//div//div//div[@class=\u001b[39;49m\u001b[38;5;124;43m'\u001b[39;49m\u001b[38;5;124;43m price\u001b[39;49m\u001b[38;5;124;43m'\u001b[39;49m\u001b[38;5;124;43m]//span\u001b[39;49m\u001b[38;5;124;43m\"\u001b[39;49m\u001b[43m)\u001b[49m\u001b[43m)\u001b[49m\u001b[43m)\u001b[49m\u001b[38;5;241;43m.\u001b[39;49m\u001b[43mtext\u001b[49m()\n\u001b[0;32m     12\u001b[0m     \u001b[38;5;66;03m#price = driver.find_elements_by_xpath(\"//div[@class='app-content']//div//div//div//div//div[@class='gsc_col-md-4 gsc_col-sm-6 gsc_col-xs-12  cardnew']//div//div[@class='holder hover']//div//div//div[@class=' price']//span\").text\u001b[39;00m\n\u001b[0;32m     13\u001b[0m     \u001b[38;5;28mopen\u001b[39m(\u001b[38;5;124m\"\u001b[39m\u001b[38;5;124mfile.csv\u001b[39m\u001b[38;5;124m\"\u001b[39m,\u001b[38;5;124m\"\u001b[39m\u001b[38;5;124ma+\u001b[39m\u001b[38;5;124m\"\u001b[39m)\u001b[38;5;241m.\u001b[39mwrite(price)\n",
      "\u001b[1;31mAttributeError\u001b[0m: 'list' object has no attribute 'text'"
     ]
    }
   ],
   "source": [
    "links = [\"https://www.cardekho.com/used-cars+in+ahmedabad\",\"https://www.cardekho.com/used-cars+in+bangalore\", \\\n",
    "         \"https://www.cardekho.com/used-cars+in+mumbai\", \"https://www.cardekho.com/used-cars+in+jaipur\",\\\n",
    "         \"https://www.cardekho.com/used-cars+in+gurgaon\", \"https://www.cardekho.com/used-cars+in+delhi-ncr\",\\\n",
    "         \"https://www.cardekho.com/used-cars+in+chennai\", \"https://www.cardekho.com/used-cars+in+pune\",\\\n",
    "         \"https://www.cardekho.com/used-cars+in+hyderabad\", \"https://www.cardekho.com/used-cars+in+kolkata\",\\\n",
    "         \"https://www.cardekho.com/used-cars+in+agra\", \"https://www.cardekho.com/used-cars+in+lucknow\"\n",
    "        ]\n",
    "\n",
    "for link in links:\n",
    "    driver.get(link)\n",
    "    price = WebDriverWait(driver, 10).until(EC.visibility_of_all_elements_located((By.XPATH, \"//div[@class='app-content']//div//div//div//div//div[@class='gsc_col-md-4 gsc_col-sm-6 gsc_col-xs-12  cardnew']//div//div[@class='holder hover']//div//div//div[@class=' price']//span\")))\n",
    "    #price = driver.find_elements_by_xpath(\"//div[@class='app-content']//div//div//div//div//div[@class='gsc_col-md-4 gsc_col-sm-6 gsc_col-xs-12  cardnew']//div//div[@class='holder hover']//div//div//div[@class=' price']//span\").text\n",
    "    open(\"file.csv\",\"a+\").write(price)\n",
    "    time.sleep(5)"
   ]
  },
  {
   "cell_type": "code",
   "execution_count": null,
   "id": "ad163491",
   "metadata": {},
   "outputs": [],
   "source": []
  },
  {
   "cell_type": "code",
   "execution_count": null,
   "id": "038ced64",
   "metadata": {},
   "outputs": [],
   "source": []
  },
  {
   "cell_type": "code",
   "execution_count": null,
   "id": "aa00a601",
   "metadata": {},
   "outputs": [],
   "source": []
  },
  {
   "cell_type": "code",
   "execution_count": 16,
   "id": "1059cc81",
   "metadata": {},
   "outputs": [
    {
     "ename": "ElementNotInteractableException",
     "evalue": "Message: element not interactable\n  (Session info: chrome=104.0.5112.102)\n",
     "output_type": "error",
     "traceback": [
      "\u001b[1;31m---------------------------------------------------------------------------\u001b[0m",
      "\u001b[1;31mElementNotInteractableException\u001b[0m           Traceback (most recent call last)",
      "Input \u001b[1;32mIn [16]\u001b[0m, in \u001b[0;36m<cell line: 1>\u001b[1;34m()\u001b[0m\n\u001b[1;32m----> 1\u001b[0m \u001b[43mdriver\u001b[49m\u001b[38;5;241;43m.\u001b[39;49m\u001b[43mfind_element_by_xpath\u001b[49m\u001b[43m(\u001b[49m\u001b[38;5;124;43m\"\u001b[39;49m\u001b[38;5;124;43m//div[@class=\u001b[39;49m\u001b[38;5;124;43m'\u001b[39;49m\u001b[38;5;124;43mbottomArea\u001b[39;49m\u001b[38;5;124;43m'\u001b[39;49m\u001b[38;5;124;43m]//div//div//nav[@class=\u001b[39;49m\u001b[38;5;124;43m'\u001b[39;49m\u001b[38;5;124;43mgsc_col-sm-12 gsc_col-md-12\u001b[39;49m\u001b[38;5;124;43m'\u001b[39;49m\u001b[38;5;124;43m]//li[@data-slug=\u001b[39;49m\u001b[38;5;124;43m'\u001b[39;49m\u001b[38;5;124;43m/used-cars+in+new-delhi\u001b[39;49m\u001b[38;5;124;43m'\u001b[39;49m\u001b[38;5;124;43m]//ul//li//ul//li//a\u001b[39;49m\u001b[38;5;124;43m\"\u001b[39;49m\u001b[43m)\u001b[49m\u001b[38;5;241;43m.\u001b[39;49m\u001b[43mclick\u001b[49m\u001b[43m(\u001b[49m\u001b[43m)\u001b[49m\n",
      "File \u001b[1;32m~\\anaconda3\\envs\\spyder1\\lib\\site-packages\\selenium\\webdriver\\remote\\webelement.py:80\u001b[0m, in \u001b[0;36mWebElement.click\u001b[1;34m(self)\u001b[0m\n\u001b[0;32m     78\u001b[0m \u001b[38;5;28;01mdef\u001b[39;00m \u001b[38;5;21mclick\u001b[39m(\u001b[38;5;28mself\u001b[39m):\n\u001b[0;32m     79\u001b[0m     \u001b[38;5;124;03m\"\"\"Clicks the element.\"\"\"\u001b[39;00m\n\u001b[1;32m---> 80\u001b[0m     \u001b[38;5;28;43mself\u001b[39;49m\u001b[38;5;241;43m.\u001b[39;49m\u001b[43m_execute\u001b[49m\u001b[43m(\u001b[49m\u001b[43mCommand\u001b[49m\u001b[38;5;241;43m.\u001b[39;49m\u001b[43mCLICK_ELEMENT\u001b[49m\u001b[43m)\u001b[49m\n",
      "File \u001b[1;32m~\\anaconda3\\envs\\spyder1\\lib\\site-packages\\selenium\\webdriver\\remote\\webelement.py:633\u001b[0m, in \u001b[0;36mWebElement._execute\u001b[1;34m(self, command, params)\u001b[0m\n\u001b[0;32m    631\u001b[0m     params \u001b[38;5;241m=\u001b[39m {}\n\u001b[0;32m    632\u001b[0m params[\u001b[38;5;124m'\u001b[39m\u001b[38;5;124mid\u001b[39m\u001b[38;5;124m'\u001b[39m] \u001b[38;5;241m=\u001b[39m \u001b[38;5;28mself\u001b[39m\u001b[38;5;241m.\u001b[39m_id\n\u001b[1;32m--> 633\u001b[0m \u001b[38;5;28;01mreturn\u001b[39;00m \u001b[38;5;28;43mself\u001b[39;49m\u001b[38;5;241;43m.\u001b[39;49m\u001b[43m_parent\u001b[49m\u001b[38;5;241;43m.\u001b[39;49m\u001b[43mexecute\u001b[49m\u001b[43m(\u001b[49m\u001b[43mcommand\u001b[49m\u001b[43m,\u001b[49m\u001b[43m \u001b[49m\u001b[43mparams\u001b[49m\u001b[43m)\u001b[49m\n",
      "File \u001b[1;32m~\\anaconda3\\envs\\spyder1\\lib\\site-packages\\selenium\\webdriver\\remote\\webdriver.py:321\u001b[0m, in \u001b[0;36mWebDriver.execute\u001b[1;34m(self, driver_command, params)\u001b[0m\n\u001b[0;32m    319\u001b[0m response \u001b[38;5;241m=\u001b[39m \u001b[38;5;28mself\u001b[39m\u001b[38;5;241m.\u001b[39mcommand_executor\u001b[38;5;241m.\u001b[39mexecute(driver_command, params)\n\u001b[0;32m    320\u001b[0m \u001b[38;5;28;01mif\u001b[39;00m response:\n\u001b[1;32m--> 321\u001b[0m     \u001b[38;5;28;43mself\u001b[39;49m\u001b[38;5;241;43m.\u001b[39;49m\u001b[43merror_handler\u001b[49m\u001b[38;5;241;43m.\u001b[39;49m\u001b[43mcheck_response\u001b[49m\u001b[43m(\u001b[49m\u001b[43mresponse\u001b[49m\u001b[43m)\u001b[49m\n\u001b[0;32m    322\u001b[0m     response[\u001b[38;5;124m'\u001b[39m\u001b[38;5;124mvalue\u001b[39m\u001b[38;5;124m'\u001b[39m] \u001b[38;5;241m=\u001b[39m \u001b[38;5;28mself\u001b[39m\u001b[38;5;241m.\u001b[39m_unwrap_value(\n\u001b[0;32m    323\u001b[0m         response\u001b[38;5;241m.\u001b[39mget(\u001b[38;5;124m'\u001b[39m\u001b[38;5;124mvalue\u001b[39m\u001b[38;5;124m'\u001b[39m, \u001b[38;5;28;01mNone\u001b[39;00m))\n\u001b[0;32m    324\u001b[0m     \u001b[38;5;28;01mreturn\u001b[39;00m response\n",
      "File \u001b[1;32m~\\anaconda3\\envs\\spyder1\\lib\\site-packages\\selenium\\webdriver\\remote\\errorhandler.py:242\u001b[0m, in \u001b[0;36mErrorHandler.check_response\u001b[1;34m(self, response)\u001b[0m\n\u001b[0;32m    240\u001b[0m         alert_text \u001b[38;5;241m=\u001b[39m value[\u001b[38;5;124m'\u001b[39m\u001b[38;5;124malert\u001b[39m\u001b[38;5;124m'\u001b[39m]\u001b[38;5;241m.\u001b[39mget(\u001b[38;5;124m'\u001b[39m\u001b[38;5;124mtext\u001b[39m\u001b[38;5;124m'\u001b[39m)\n\u001b[0;32m    241\u001b[0m     \u001b[38;5;28;01mraise\u001b[39;00m exception_class(message, screen, stacktrace, alert_text)\n\u001b[1;32m--> 242\u001b[0m \u001b[38;5;28;01mraise\u001b[39;00m exception_class(message, screen, stacktrace)\n",
      "\u001b[1;31mElementNotInteractableException\u001b[0m: Message: element not interactable\n  (Session info: chrome=104.0.5112.102)\n"
     ]
    }
   ],
   "source": [
    "driver.find_element_by_xpath(\"//div[@class='bottomArea']//div//div//nav[@class='gsc_col-sm-12 gsc_col-md-12']//li[@data-slug='/used-cars+in+new-delhi']//ul//li//ul//li//a\").click()"
   ]
  },
  {
   "cell_type": "code",
   "execution_count": null,
   "id": "6d384f20",
   "metadata": {},
   "outputs": [],
   "source": []
  },
  {
   "cell_type": "code",
   "execution_count": null,
   "id": "9d3c2a6c",
   "metadata": {},
   "outputs": [],
   "source": []
  },
  {
   "cell_type": "code",
   "execution_count": 6,
   "id": "60ead3bb",
   "metadata": {},
   "outputs": [
    {
     "name": "stderr",
     "output_type": "stream",
     "text": [
      "C:\\Users\\Usuario\\AppData\\Local\\Temp\\ipykernel_4312\\432704924.py:1: DeprecationWarning: use options instead of chrome_options\n",
      "  driver = webdriver.Chrome('C:/Users/Usuario/Downloads/Chrome Driver 104/chromedriver.exe', chrome_options=opts)\n"
     ]
    },
    {
     "ename": "NameError",
     "evalue": "name 'list_1' is not defined",
     "output_type": "error",
     "traceback": [
      "\u001b[1;31m---------------------------------------------------------------------------\u001b[0m",
      "\u001b[1;31mNameError\u001b[0m                                 Traceback (most recent call last)",
      "Input \u001b[1;32mIn [6]\u001b[0m, in \u001b[0;36m<cell line: 3>\u001b[1;34m()\u001b[0m\n\u001b[0;32m      1\u001b[0m driver \u001b[38;5;241m=\u001b[39m webdriver\u001b[38;5;241m.\u001b[39mChrome(\u001b[38;5;124m'\u001b[39m\u001b[38;5;124mC:/Users/Usuario/Downloads/Chrome Driver 104/chromedriver.exe\u001b[39m\u001b[38;5;124m'\u001b[39m, chrome_options\u001b[38;5;241m=\u001b[39mopts)\n\u001b[0;32m      2\u001b[0m driver\u001b[38;5;241m.\u001b[39mget(\u001b[38;5;124m\"\u001b[39m\u001b[38;5;124mhttps://www.naukri.com/\u001b[39m\u001b[38;5;124m\"\u001b[39m)\n\u001b[1;32m----> 3\u001b[0m \u001b[38;5;28;01mfor\u001b[39;00m query \u001b[38;5;129;01min\u001b[39;00m \u001b[43mlist_1\u001b[49m:\n\u001b[0;32m      4\u001b[0m     driver\u001b[38;5;241m.\u001b[39mfind_element_by_xpath(\u001b[38;5;124m\"\u001b[39m\u001b[38;5;124m//div[@class=\u001b[39m\u001b[38;5;124m'\u001b[39m\u001b[38;5;124mqsbWrapper\u001b[39m\u001b[38;5;124m'\u001b[39m\u001b[38;5;124m]//div[@class=\u001b[39m\u001b[38;5;124m'\u001b[39m\u001b[38;5;124mqsb\u001b[39m\u001b[38;5;124m'\u001b[39m\u001b[38;5;124m]//div[@class=\u001b[39m\u001b[38;5;124m'\u001b[39m\u001b[38;5;124mkeywordSugg\u001b[39m\u001b[38;5;124m'\u001b[39m\u001b[38;5;124m]//div//div[@class=\u001b[39m\u001b[38;5;124m'\u001b[39m\u001b[38;5;124msuggestor-wrapper active \u001b[39m\u001b[38;5;124m'\u001b[39m\u001b[38;5;124m]//div[@class=\u001b[39m\u001b[38;5;124m'\u001b[39m\u001b[38;5;124msuggestor-box flex-row flex-wrap bottom \u001b[39m\u001b[38;5;124m'\u001b[39m\u001b[38;5;124m]//input[@class=\u001b[39m\u001b[38;5;124m'\u001b[39m\u001b[38;5;124msuggestor-input \u001b[39m\u001b[38;5;124m'\u001b[39m\u001b[38;5;124m]\u001b[39m\u001b[38;5;124m\"\u001b[39m)\u001b[38;5;241m.\u001b[39msend_keys(query[\u001b[38;5;241m0\u001b[39m])\n\u001b[0;32m      5\u001b[0m     driver\u001b[38;5;241m.\u001b[39mfind_element_by_xpath(\u001b[38;5;124m\"\u001b[39m\u001b[38;5;124m//div[@class=\u001b[39m\u001b[38;5;124m'\u001b[39m\u001b[38;5;124mqsbWrapper\u001b[39m\u001b[38;5;124m'\u001b[39m\u001b[38;5;124m]//div[@class=\u001b[39m\u001b[38;5;124m'\u001b[39m\u001b[38;5;124mqsb\u001b[39m\u001b[38;5;124m'\u001b[39m\u001b[38;5;124m]//div[@class=\u001b[39m\u001b[38;5;124m'\u001b[39m\u001b[38;5;124mlocationSugg\u001b[39m\u001b[38;5;124m'\u001b[39m\u001b[38;5;124m]//div//div[@class=\u001b[39m\u001b[38;5;124m'\u001b[39m\u001b[38;5;124msuggestor-wrapper active \u001b[39m\u001b[38;5;124m'\u001b[39m\u001b[38;5;124m]//div[@class=\u001b[39m\u001b[38;5;124m'\u001b[39m\u001b[38;5;124msuggestor-box flex-row flex-wrap bottom \u001b[39m\u001b[38;5;124m'\u001b[39m\u001b[38;5;124m]//input[@class=\u001b[39m\u001b[38;5;124m'\u001b[39m\u001b[38;5;124msuggestor-input \u001b[39m\u001b[38;5;124m'\u001b[39m\u001b[38;5;124m]\u001b[39m\u001b[38;5;124m\"\u001b[39m)\u001b[38;5;241m.\u001b[39msend_keys(query[\u001b[38;5;241m1\u001b[39m])\n",
      "\u001b[1;31mNameError\u001b[0m: name 'list_1' is not defined"
     ]
    }
   ],
   "source": [
    "driver = webdriver.Chrome('C:/Users/Usuario/Downloads/Chrome Driver 104/chromedriver.exe', chrome_options=opts)\n",
    "driver.get(\"https://www.naukri.com/\")\n",
    "for query in list_1:\n",
    "    driver.find_element_by_xpath(\"//div[@class='qsbWrapper']//div[@class='qsb']//div[@class='keywordSugg']//div//div[@class='suggestor-wrapper active ']//div[@class='suggestor-box flex-row flex-wrap bottom ']//input[@class='suggestor-input ']\").send_keys(query[0])\n",
    "    driver.find_element_by_xpath(\"//div[@class='qsbWrapper']//div[@class='qsb']//div[@class='locationSugg']//div//div[@class='suggestor-wrapper active ']//div[@class='suggestor-box flex-row flex-wrap bottom ']//input[@class='suggestor-input ']\").send_keys(query[1])\n",
    "\n",
    "driver.find_element_by_xpath(\"//div[@class='qsbWrapper']//div[@class='qsb']//div[@class='qsbSubmit']\").click()\n",
    "\n",
    "#job_title = driver.find_elements_by_xpath(\"//div[@class='list']//div[@class='jobTupleHeader']//div[@class='info fleft']//a[@class='title fw500 ellipsis']\")\n",
    "#job_title = [    title.text for title in job_title   ]\n",
    "#print(job_title)\n",
    "\n",
    "sleep(10)\n",
    "#driver.back()\n",
    "#driver.refresh()\n",
    "sleep(2)\n",
    "#driver.quit()"
   ]
  },
  {
   "cell_type": "code",
   "execution_count": null,
   "id": "93b756fe",
   "metadata": {},
   "outputs": [],
   "source": []
  }
 ],
 "metadata": {
  "kernelspec": {
   "display_name": "Python 3 (ipykernel)",
   "language": "python",
   "name": "python3"
  },
  "language_info": {
   "codemirror_mode": {
    "name": "ipython",
    "version": 3
   },
   "file_extension": ".py",
   "mimetype": "text/x-python",
   "name": "python",
   "nbconvert_exporter": "python",
   "pygments_lexer": "ipython3",
   "version": "3.9.12"
  }
 },
 "nbformat": 4,
 "nbformat_minor": 5
}
